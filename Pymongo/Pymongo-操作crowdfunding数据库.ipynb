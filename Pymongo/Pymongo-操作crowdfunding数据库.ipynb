{
 "cells": [
  {
   "cell_type": "code",
   "execution_count": 2,
   "metadata": {},
   "outputs": [],
   "source": [
    "from pymongo import MongoClient\n",
    "client = MongoClient('localhost', 27017)\n",
    "db = client.moniter_crowdfunding\n",
    "project = db.projects"
   ]
  },
  {
   "cell_type": "code",
   "execution_count": 2,
   "metadata": {},
   "outputs": [
    {
     "data": {
      "text/plain": [
       "<pymongo.cursor.Cursor at 0x106a780f0>"
      ]
     },
     "execution_count": 2,
     "metadata": {},
     "output_type": "execute_result"
    }
   ],
   "source": [
    "project.find({})"
   ]
  },
  {
   "cell_type": "code",
   "execution_count": 15,
   "metadata": {},
   "outputs": [],
   "source": [
    "x = list(project.find({}, projection={'_id':1, 'proj_name':1}).limit(10))"
   ]
  },
  {
   "cell_type": "code",
   "execution_count": 23,
   "metadata": {},
   "outputs": [],
   "source": [
    "x = project.find_one({}, projection={'reviews':0, 'indiv_info':0})"
   ]
  },
  {
   "cell_type": "code",
   "execution_count": 129,
   "metadata": {},
   "outputs": [],
   "source": [
    "from datetime import datetime, timedelta"
   ]
  },
  {
   "cell_type": "code",
   "execution_count": 136,
   "metadata": {},
   "outputs": [
    {
     "data": {
      "text/plain": [
       "True"
      ]
     },
     "execution_count": 136,
     "metadata": {},
     "output_type": "execute_result"
    }
   ],
   "source": [
    "datetime.now() < datetime.strptime('2018-05-21 20:12:48', \"%Y-%m-%d %H:%M:%S\") - timedelta(hours=12)"
   ]
  },
  {
   "cell_type": "code",
   "execution_count": 34,
   "metadata": {},
   "outputs": [
    {
     "data": {
      "text/plain": [
       "True"
      ]
     },
     "execution_count": 34,
     "metadata": {},
     "output_type": "execute_result"
    }
   ],
   "source": [
    "datetime.now() > datetime.strptime('2018-04-21 20:12:48', \"%Y-%m-%d %H:%M:%S\")"
   ]
  },
  {
   "cell_type": "code",
   "execution_count": 72,
   "metadata": {},
   "outputs": [
    {
     "data": {
      "text/plain": [
       "datetime.datetime(2018, 4, 24, 5, 24, 46, 135619)"
      ]
     },
     "execution_count": 72,
     "metadata": {},
     "output_type": "execute_result"
    }
   ],
   "source": [
    "datetime.now() - timedelta(hours=12)"
   ]
  },
  {
   "cell_type": "code",
   "execution_count": 35,
   "metadata": {},
   "outputs": [],
   "source": [
    "import re"
   ]
  },
  {
   "cell_type": "code",
   "execution_count": 36,
   "metadata": {},
   "outputs": [],
   "source": [
    "d = re.compile('\\d+')"
   ]
  },
  {
   "cell_type": "code",
   "execution_count": 39,
   "metadata": {},
   "outputs": [],
   "source": [
    "x = '-'.join(d.findall('2018年04月15日'))"
   ]
  },
  {
   "cell_type": "code",
   "execution_count": 73,
   "metadata": {},
   "outputs": [
    {
     "data": {
      "text/plain": [
       "'2018-04-15'"
      ]
     },
     "execution_count": 73,
     "metadata": {},
     "output_type": "execute_result"
    }
   ],
   "source": [
    "x"
   ]
  },
  {
   "cell_type": "code",
   "execution_count": 76,
   "metadata": {},
   "outputs": [
    {
     "data": {
      "text/plain": [
       "datetime.datetime(2018, 4, 15, 0, 0)"
      ]
     },
     "execution_count": 76,
     "metadata": {},
     "output_type": "execute_result"
    }
   ],
   "source": [
    "datetime.strptime(x, \"%Y-%m-%d\")"
   ]
  },
  {
   "cell_type": "code",
   "execution_count": 75,
   "metadata": {},
   "outputs": [
    {
     "ename": "AttributeError",
     "evalue": "type object 'datetime.datetime' has no attribute 'datetime'",
     "output_type": "error",
     "traceback": [
      "\u001b[0;31m---------------------------------------------------------------------------\u001b[0m",
      "\u001b[0;31mAttributeError\u001b[0m                            Traceback (most recent call last)",
      "\u001b[0;32m<ipython-input-75-6b21206241e5>\u001b[0m in \u001b[0;36m<module>\u001b[0;34m()\u001b[0m\n\u001b[0;32m----> 1\u001b[0;31m \u001b[0mdatetime\u001b[0m\u001b[0;34m.\u001b[0m\u001b[0mdatetime\u001b[0m\u001b[0;34m(\u001b[0m\u001b[0;36m2018\u001b[0m\u001b[0;34m,\u001b[0m \u001b[0;36m4\u001b[0m\u001b[0;34m,\u001b[0m \u001b[0;36m15\u001b[0m\u001b[0;34m,\u001b[0m \u001b[0;36m0\u001b[0m\u001b[0;34m,\u001b[0m \u001b[0;36m0\u001b[0m\u001b[0;34m)\u001b[0m\u001b[0;34m\u001b[0m\u001b[0m\n\u001b[0m",
      "\u001b[0;31mAttributeError\u001b[0m: type object 'datetime.datetime' has no attribute 'datetime'"
     ]
    }
   ],
   "source": [
    "datetime.(2018, 4, 15, 0, 0)"
   ]
  },
  {
   "cell_type": "code",
   "execution_count": 42,
   "metadata": {},
   "outputs": [],
   "source": [
    "db = client.test"
   ]
  },
  {
   "cell_type": "code",
   "execution_count": 43,
   "metadata": {},
   "outputs": [],
   "source": [
    "col = db.collections"
   ]
  },
  {
   "cell_type": "code",
   "execution_count": 52,
   "metadata": {},
   "outputs": [
    {
     "data": {
      "text/plain": [
       "<pymongo.results.InsertOneResult at 0x106c90fc8>"
      ]
     },
     "execution_count": 52,
     "metadata": {},
     "output_type": "execute_result"
    }
   ],
   "source": [
    "col.insert_one({'_id':'1','x':[], 'y':[]})"
   ]
  },
  {
   "cell_type": "code",
   "execution_count": 49,
   "metadata": {},
   "outputs": [],
   "source": [
    "col.drop()"
   ]
  },
  {
   "cell_type": "code",
   "execution_count": 65,
   "metadata": {},
   "outputs": [
    {
     "data": {
      "text/plain": [
       "[{'_id': '1', 'x': [1], 'y': ['a']}, {'_id': '2', 'x': [1, 2], 'y': 0}]"
      ]
     },
     "execution_count": 65,
     "metadata": {},
     "output_type": "execute_result"
    }
   ],
   "source": [
    "list(col.find({}))"
   ]
  },
  {
   "cell_type": "code",
   "execution_count": 56,
   "metadata": {},
   "outputs": [
    {
     "data": {
      "text/plain": [
       "<pymongo.results.UpdateResult at 0x106e23b48>"
      ]
     },
     "execution_count": 56,
     "metadata": {},
     "output_type": "execute_result"
    }
   ],
   "source": [
    "col.update_one({'_id':'1'}, {'$push': {'x':1, 'y': 'a'}})"
   ]
  },
  {
   "cell_type": "code",
   "execution_count": 59,
   "metadata": {},
   "outputs": [
    {
     "data": {
      "text/plain": [
       "<pymongo.results.UpdateResult at 0x1070b9808>"
      ]
     },
     "execution_count": 59,
     "metadata": {},
     "output_type": "execute_result"
    }
   ],
   "source": [
    "col.update_one({'_id':'2'}, {'$push': {'x':1, 'y': 'b'}}, upsert=True)"
   ]
  },
  {
   "cell_type": "code",
   "execution_count": 110,
   "metadata": {},
   "outputs": [
    {
     "data": {
      "text/plain": [
       "<pymongo.results.UpdateResult at 0x1077ac488>"
      ]
     },
     "execution_count": 110,
     "metadata": {},
     "output_type": "execute_result"
    }
   ],
   "source": [
    "col.update_one({'_id':'2'}, {'$inc': {'y': 5}, '$push': {'x': 2}}, upsert=True)"
   ]
  },
  {
   "cell_type": "code",
   "execution_count": 111,
   "metadata": {},
   "outputs": [
    {
     "data": {
      "text/plain": [
       "[{'_id': '1', 'x': [1], 'y': ['a']}, {'_id': '2', 'x': [1, 2, 2], 'y': 7}]"
      ]
     },
     "execution_count": 111,
     "metadata": {},
     "output_type": "execute_result"
    }
   ],
   "source": [
    "list(col.find({}))"
   ]
  },
  {
   "cell_type": "code",
   "execution_count": 90,
   "metadata": {},
   "outputs": [
    {
     "data": {
      "text/plain": [
       "<pymongo.results.UpdateResult at 0x10777d148>"
      ]
     },
     "execution_count": 90,
     "metadata": {},
     "output_type": "execute_result"
    }
   ],
   "source": [
    "col.update_one({'_id':'2'}, {'$inc': {'y':1}})"
   ]
  },
  {
   "cell_type": "code",
   "execution_count": 122,
   "metadata": {},
   "outputs": [],
   "source": [
    "from pymongo import MongoClient\n",
    "client = MongoClient('localhost', 27017)\n",
    "db = client.moniter_cloudfunding\n",
    "project = db.projects\n",
    "# 如果是第一次启动，则以下集合为空集\n",
    "pid_set1 = {x['_id'] for x in list(project.find({'category': '预热中'}, projection={'_id': True}))}\n",
    "pid_set2 = {x['_id'] for x in list(project.find({'category': '众筹中'}, projection={'_id': True}))}\n",
    "pid_set3 = {x['_id'] for x in list(project.find({'category': '众筹成功'}, projection={'_id': True}))}\n",
    "pid_set4 = {x['_id'] for x in list(project.find({'category': '项目成功'}, projection={'_id': True}))}"
   ]
  },
  {
   "cell_type": "code",
   "execution_count": 127,
   "metadata": {},
   "outputs": [],
   "source": [
    "project2 = db.front_page"
   ]
  },
  {
   "cell_type": "code",
   "execution_count": 128,
   "metadata": {},
   "outputs": [
    {
     "data": {
      "text/plain": [
       "[{'_id': ObjectId('5ae32efe17c81153c897fbec'),\n",
       "  'demostr_proj': {'健康出行': {'其它图': ['98012',\n",
       "     '99804',\n",
       "     '96364',\n",
       "     '99542',\n",
       "     '99914',\n",
       "     '99645',\n",
       "     '99753',\n",
       "     '98742',\n",
       "     '99476',\n",
       "     '99797',\n",
       "     '99284',\n",
       "     '99994',\n",
       "     '98222',\n",
       "     '98492',\n",
       "     '85229',\n",
       "     '99118',\n",
       "     '98603',\n",
       "     '93056',\n",
       "     '98213',\n",
       "     '98703',\n",
       "     '98592',\n",
       "     '99842',\n",
       "     '98966',\n",
       "     '91203'],\n",
       "    '左上大图': ['99314', '98531', '98341', '99061']},\n",
       "   '惠民扶贫': {'其它图': ['98786', '99695', '98490', '97524', '98513', '98933'],\n",
       "    '左上大图': ['97344']},\n",
       "   '文化艺术': {'其它图': ['97612',\n",
       "     '98954',\n",
       "     '98845',\n",
       "     '98551',\n",
       "     '99889',\n",
       "     '99978',\n",
       "     '98654',\n",
       "     '99294',\n",
       "     '99225',\n",
       "     '98507',\n",
       "     '96041',\n",
       "     '97998',\n",
       "     '98042',\n",
       "     '98976',\n",
       "     '97267',\n",
       "     '98940',\n",
       "     '98738',\n",
       "     '99293',\n",
       "     '98959',\n",
       "     '99683',\n",
       "     '97564',\n",
       "     '99461',\n",
       "     '97731',\n",
       "     '98869',\n",
       "     '99160',\n",
       "     '99162',\n",
       "     '99144',\n",
       "     '99145',\n",
       "     '99172',\n",
       "     '99173'],\n",
       "    '左上大图': ['99715', '99134', '99254', '99484', '99174']},\n",
       "   '新奇酷玩': {'其它图': ['98977',\n",
       "     '99613',\n",
       "     '99844',\n",
       "     '99619',\n",
       "     '99271',\n",
       "     '95894',\n",
       "     '98033',\n",
       "     '97350',\n",
       "     '99974',\n",
       "     '99885',\n",
       "     '99228',\n",
       "     '99433',\n",
       "     '99650',\n",
       "     '98622',\n",
       "     '96175',\n",
       "     '99523',\n",
       "     '99031',\n",
       "     '99488',\n",
       "     '97545',\n",
       "     '97566',\n",
       "     '98420',\n",
       "     '98747',\n",
       "     '97666',\n",
       "     '99036'],\n",
       "    '左上大图': ['99329', '99890', '99592', '99304']},\n",
       "   '生活美学': {'其它图': ['97103',\n",
       "     '99002',\n",
       "     '98584',\n",
       "     '98825',\n",
       "     '99419',\n",
       "     '99316',\n",
       "     '99639',\n",
       "     '98344',\n",
       "     '98835',\n",
       "     '99256',\n",
       "     '99272',\n",
       "     '99565',\n",
       "     '81498',\n",
       "     '99108',\n",
       "     '99514',\n",
       "     '97762',\n",
       "     '98671',\n",
       "     '99429',\n",
       "     '98380',\n",
       "     '99975',\n",
       "     '98354',\n",
       "     '99837',\n",
       "     '98400',\n",
       "     '99707',\n",
       "     '100106',\n",
       "     '99089',\n",
       "     '99453',\n",
       "     '99471',\n",
       "     '96938',\n",
       "     '99515'],\n",
       "    '左上大图': ['98165', '98587', '99357', '99764', '99223']},\n",
       "   '美食市集': {'其它图': ['98996',\n",
       "     '99767',\n",
       "     '99231',\n",
       "     '99115',\n",
       "     '98147',\n",
       "     '97192',\n",
       "     '99665',\n",
       "     '99133',\n",
       "     '98707',\n",
       "     '99182',\n",
       "     '98855',\n",
       "     '96682',\n",
       "     '99241',\n",
       "     '98823',\n",
       "     '97491',\n",
       "     '91343',\n",
       "     '93705',\n",
       "     '98261'],\n",
       "    '左上大图': ['99831', '99808', '98956']}},\n",
       "  '即将上架': ['99846',\n",
       "   '99770',\n",
       "   '99679',\n",
       "   '99437',\n",
       "   '99963',\n",
       "   '100191',\n",
       "   '98989',\n",
       "   '99976',\n",
       "   '100112',\n",
       "   '99988',\n",
       "   '99921',\n",
       "   '99779',\n",
       "   '100163',\n",
       "   '99680',\n",
       "   '98553',\n",
       "   '100164',\n",
       "   '100124',\n",
       "   '100113',\n",
       "   '99981',\n",
       "   '100066',\n",
       "   '100010',\n",
       "   '99371',\n",
       "   '99706',\n",
       "   '98917',\n",
       "   '99350',\n",
       "   '100049',\n",
       "   '100051',\n",
       "   '97064',\n",
       "   '100217',\n",
       "   '100081'],\n",
       "  '即将结束': ['98245',\n",
       "   '99101',\n",
       "   '98918',\n",
       "   '98891',\n",
       "   '98326',\n",
       "   '98696',\n",
       "   '98360',\n",
       "   '98222',\n",
       "   '97545',\n",
       "   '98268',\n",
       "   '97871',\n",
       "   '98365',\n",
       "   '98442',\n",
       "   '99009',\n",
       "   '98239'],\n",
       "  '最新上架': ['97576',\n",
       "   '99985',\n",
       "   '99895',\n",
       "   '100109',\n",
       "   '99700',\n",
       "   '99293',\n",
       "   '99363',\n",
       "   '99758'],\n",
       "  '热门推荐': ['99286', '99586', '99322', '99792'],\n",
       "  '监测时间': datetime.datetime(2018, 4, 27, 22, 9, 2, 523000),\n",
       "  '轮播': {'left': ['98540', '99707', '97998', '99281'],\n",
       "   'r-b-l': ['99974', '99637', '99042', '99538'],\n",
       "   'r-b-r': ['99890', '99002', '97612', '97192'],\n",
       "   'r-t': ['2', '98692', '98954', '97491']}}]"
      ]
     },
     "execution_count": 128,
     "metadata": {},
     "output_type": "execute_result"
    }
   ],
   "source": [
    "list(project2.find({}))"
   ]
  },
  {
   "cell_type": "code",
   "execution_count": 126,
   "metadata": {},
   "outputs": [
    {
     "data": {
      "text/plain": [
       "[{'_id': '98478',\n",
       "  'category': '众筹中',\n",
       "  'change_0_1': datetime.datetime(2018, 4, 27, 20, 55, 37, 886000),\n",
       "  'change_1_2': datetime.datetime(2018, 4, 27, 21, 3, 35, 493000),\n",
       "  'company_address': None,\n",
       "  'company_hours': None,\n",
       "  'company_name': None,\n",
       "  'company_phone': None,\n",
       "  'count_inqury': 4,\n",
       "  'dyn_ind_info': [{'0': {'now_num_sup': '0'},\n",
       "    '1': {'now_num_sup': '0'},\n",
       "    '2': {'now_num_sup': '0'},\n",
       "    '3': {'now_num_sup': '0'},\n",
       "    '4': {'now_num_sup': '0'},\n",
       "    '5': {'now_num_sup': '0'}},\n",
       "   {'0': {'now_num_sup': '0'},\n",
       "    '1': {'now_num_sup': '0'},\n",
       "    '2': {'now_num_sup': '1'},\n",
       "    '3': {'now_num_sup': '0'},\n",
       "    '4': {'now_num_sup': '1'},\n",
       "    '5': {'now_num_sup': '0'}},\n",
       "   {'0': {'now_num_sup': '0'},\n",
       "    '1': {'now_num_sup': '0'},\n",
       "    '2': {'now_num_sup': '1'},\n",
       "    '3': {'now_num_sup': '0'},\n",
       "    '4': {'now_num_sup': '1'},\n",
       "    '5': {'now_num_sup': '0'}}],\n",
       "  'dyn_prj_info': [{'createTime': datetime.datetime(2018, 4, 20, 17, 12, 50),\n",
       "    'now_foucus': 85,\n",
       "    'now_fund': 50000,\n",
       "    'now_percent': 0.0,\n",
       "    'now_praise': 23,\n",
       "    'now_supporters': 0,\n",
       "    'updateTime': datetime.datetime(2018, 4, 27, 20, 40, 32)},\n",
       "   {'createTime': datetime.datetime(2018, 4, 20, 17, 12, 50),\n",
       "    'now_foucus': 85,\n",
       "    'now_fund': 685,\n",
       "    'now_percent': 1.0,\n",
       "    'now_praise': 23,\n",
       "    'now_supporters': 2,\n",
       "    'updateTime': datetime.datetime(2018, 4, 27, 20, 40, 32)},\n",
       "   {'createTime': datetime.datetime(2018, 4, 20, 17, 12, 50),\n",
       "    'now_foucus': 85,\n",
       "    'now_fund': 685,\n",
       "    'now_percent': 1.0,\n",
       "    'now_praise': 23,\n",
       "    'now_supporters': 2,\n",
       "    'updateTime': datetime.datetime(2018, 4, 27, 20, 40, 32)}],\n",
       "  'ind_info': {'0': {'deliver_info': '预计回报发送时间：项目众筹成功后30天内',\n",
       "    'lim_num': None,\n",
       "    'redound_info': '您将以京东众筹专属价118元获得市场价199元的Youlat琥珀血珀小野猫饰品1件，尽享搭配百变风格。\\n『Youlat一期众筹项目128元同款』',\n",
       "    'sup_price': '118'},\n",
       "   '1': {'deliver_info': '预计回报发送时间：项目众筹成功后15天内',\n",
       "    'lim_num': None,\n",
       "    'redound_info': '您将以京东众筹专属价260元获得市场价999元的Youlat琥珀白栀饰品1件，尽享搭配百变风格。\\n『Youlat一期众筹项目299元同款』',\n",
       "    'sup_price': '260'},\n",
       "   '2': {'deliver_info': '预计回报发送时间：项目众筹成功后30天内',\n",
       "    'lim_num': None,\n",
       "    'redound_info': '您将以京东众筹专属价320元获得市场价498元的Youlat琥珀蔷薇吊坠1件，尽享搭配百变风格。\\n『Youlat一期众筹项目399元同款』',\n",
       "    'sup_price': '320'},\n",
       "   '3': {'deliver_info': '预计回报发送时间：项目众筹成功后30天内',\n",
       "    'lim_num': None,\n",
       "    'redound_info': '您将以京东众筹专属价365元获得市场价598元的Youlat琥珀『秘密』耳环1对，尽享搭配百变风格。',\n",
       "    'sup_price': '365'},\n",
       "   '4': {'deliver_info': '预计回报发送时间：项目众筹成功后30天内',\n",
       "    'lim_num': None,\n",
       "    'redound_info': '您将以京东众筹专属价365元获得市场价598元的Youlat琥珀『秘密』吊坠1件，尽享搭配百变风格。',\n",
       "    'sup_price': '365'},\n",
       "   '5': {'deliver_info': '预计回报发送时间：项目众筹成功后30天内',\n",
       "    'lim_num': None,\n",
       "    'redound_info': '您将以京东众筹专属价520元获得市场价899元的Youlat琥珀『秘密』饰品一套（秘密耳环+秘密吊坠），尽享搭配百变风格。',\n",
       "    'sup_price': '520'}},\n",
       "  'num_page': 1,\n",
       "  'num_records': 6,\n",
       "  'proj_name': '千万年琥珀邂逅S925银',\n",
       "  'promoter_href': '/funderCenter.action?flag=2&id=98478',\n",
       "  'promoter_name': '尤拉特琥珀饰品',\n",
       "  'reviews': {'1865072': {'createTime': '2018-04-20 17:19:22',\n",
       "    'likecount': 0,\n",
       "    'replys': 1,\n",
       "    'topicContent': '像秘密吊坠这样的款式设计，在日常使用中，琥珀会不会因为撞击而有损？'},\n",
       "   '1867806': {'createTime': '2018-04-23 16:19:16',\n",
       "    'likecount': 1,\n",
       "    'replys': 2,\n",
       "    'topicContent': '对于秘密吊坠，棱棱角角碰到皮肤，会擦破皮肤吗？'},\n",
       "   '1868364': {'createTime': '2018-04-24 05:00:12',\n",
       "    'likecount': 0,\n",
       "    'replys': 1,\n",
       "    'topicContent': '问一下，这款是女款还是男款，还是说情侣款？'},\n",
       "   '1870166': {'createTime': '2018-04-24 17:35:31',\n",
       "    'likecount': 0,\n",
       "    'replys': 1,\n",
       "    'topicContent': '有棱角那个-- 样式好看-- 不是很安全-- 要买的想好了-- 被别人胸口撞一下-自己脑补吧 唉'},\n",
       "   '1870911': {'createTime': '2018-04-24 23:08:32',\n",
       "    'likecount': 1,\n",
       "    'replys': 1,\n",
       "    'topicContent': '[太阳]超漂亮的，上线立即开抢～～'},\n",
       "   '1871577': {'createTime': '2018-04-25 14:34:10',\n",
       "    'likecount': 1,\n",
       "    'replys': 1,\n",
       "    'topicContent': '是蛮好看的，请问支持后大概多久会发货呢？'}},\n",
       "  'sort_name': '原创设计',\n",
       "  'target_fund': '50000',\n",
       "  'time_span': 40}]"
      ]
     },
     "execution_count": 126,
     "metadata": {},
     "output_type": "execute_result"
    }
   ],
   "source": [
    "x = project.find({'category': '众筹中'})\n",
    "list(x)"
   ]
  },
  {
   "cell_type": "code",
   "execution_count": null,
   "metadata": {},
   "outputs": [],
   "source": []
  }
 ],
 "metadata": {
  "kernelspec": {
   "display_name": "python37",
   "language": "python",
   "name": "python37"
  },
  "language_info": {
   "codemirror_mode": {
    "name": "ipython",
    "version": 3
   },
   "file_extension": ".py",
   "mimetype": "text/x-python",
   "name": "python",
   "nbconvert_exporter": "python",
   "pygments_lexer": "ipython3",
   "version": "3.7.0"
  }
 },
 "nbformat": 4,
 "nbformat_minor": 2
}
