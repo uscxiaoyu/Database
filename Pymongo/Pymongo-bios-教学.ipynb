{
 "cells": [
  {
   "cell_type": "markdown",
   "metadata": {},
   "source": [
    "# pymongo实现与mongodb的交互"
   ]
  },
  {
   "cell_type": "code",
   "execution_count": 1,
   "metadata": {},
   "outputs": [],
   "source": [
    "from datetime import datetime  # 转换为datetime格式给mongo数据库\n",
    "from pymongo import MongoClient\n",
    "from bson import ObjectId\n",
    "client = MongoClient('localhost', 27017)"
   ]
  },
  {
   "cell_type": "markdown",
   "metadata": {},
   "source": [
    "- client.list_database_names()列出所有数据库的名称"
   ]
  },
  {
   "cell_type": "code",
   "execution_count": 13,
   "metadata": {},
   "outputs": [
    {
     "data": {
      "text/plain": [
       "('localhost', 27017)"
      ]
     },
     "execution_count": 13,
     "metadata": {},
     "output_type": "execute_result"
    }
   ],
   "source": [
    "client.address  # 数据库的服务器地址和端口号"
   ]
  },
  {
   "cell_type": "code",
   "execution_count": 3,
   "metadata": {},
   "outputs": [
    {
     "data": {
      "text/plain": [
       "['abmDiffusion',\n",
       " 'admin',\n",
       " 'config',\n",
       " 'lagou',\n",
       " 'local',\n",
       " 'mdb_test',\n",
       " 'moniter_crowdfunding',\n",
       " 'purchase',\n",
       " 'temp',\n",
       " 'test']"
      ]
     },
     "execution_count": 3,
     "metadata": {},
     "output_type": "execute_result"
    }
   ],
   "source": [
    "client.list_database_names()  # 适用于 > 3.6版本"
   ]
  },
  {
   "cell_type": "code",
   "execution_count": 12,
   "metadata": {},
   "outputs": [
    {
     "name": "stderr",
     "output_type": "stream",
     "text": [
      "/Library/Frameworks/Python.framework/Versions/3.7/lib/python3.7/site-packages/ipykernel_launcher.py:1: DeprecationWarning: database_names is deprecated. Use list_database_names instead.\n",
      "  \"\"\"Entry point for launching an IPython kernel.\n"
     ]
    },
    {
     "data": {
      "text/plain": [
       "['abmDiffusion',\n",
       " 'admin',\n",
       " 'config',\n",
       " 'lagou',\n",
       " 'local',\n",
       " 'mdb_test',\n",
       " 'moniter_crowdfunding',\n",
       " 'purchase',\n",
       " 'temp',\n",
       " 'test']"
      ]
     },
     "execution_count": 12,
     "metadata": {},
     "output_type": "execute_result"
    }
   ],
   "source": [
    "client.database_names()  # 马上要撤销了"
   ]
  },
  {
   "cell_type": "markdown",
   "metadata": {},
   "source": [
    "- client.list_databases()列出所有数据库"
   ]
  },
  {
   "cell_type": "code",
   "execution_count": 9,
   "metadata": {},
   "outputs": [
    {
     "name": "stdout",
     "output_type": "stream",
     "text": [
      "{'name': 'abmDiffusion', 'sizeOnDisk': 11501568.0, 'empty': False}\n",
      "{'name': 'admin', 'sizeOnDisk': 32768.0, 'empty': False}\n",
      "{'name': 'config', 'sizeOnDisk': 73728.0, 'empty': False}\n",
      "{'name': 'lagou', 'sizeOnDisk': 950272.0, 'empty': False}\n",
      "{'name': 'local', 'sizeOnDisk': 77824.0, 'empty': False}\n",
      "{'name': 'mdb_test', 'sizeOnDisk': 360448.0, 'empty': False}\n",
      "{'name': 'moniter_crowdfunding', 'sizeOnDisk': 147832832.0, 'empty': False}\n",
      "{'name': 'purchase', 'sizeOnDisk': 606208.0, 'empty': False}\n",
      "{'name': 'temp', 'sizeOnDisk': 73728.0, 'empty': False}\n",
      "{'name': 'test', 'sizeOnDisk': 40960.0, 'empty': False}\n"
     ]
    }
   ],
   "source": [
    "for db in client.list_databases():\n",
    "    print(db)"
   ]
  },
  {
   "cell_type": "markdown",
   "metadata": {},
   "source": [
    "- 创建数据库"
   ]
  },
  {
   "cell_type": "code",
   "execution_count": 19,
   "metadata": {},
   "outputs": [],
   "source": [
    "db = client.mdb_test  # db=client[\"mdb_test\"]"
   ]
  },
  {
   "cell_type": "code",
   "execution_count": 18,
   "metadata": {},
   "outputs": [],
   "source": [
    "client.drop_database(\"mdb_test\")"
   ]
  },
  {
   "cell_type": "markdown",
   "metadata": {},
   "source": [
    "##  1. 插入文档"
   ]
  },
  {
   "cell_type": "code",
   "execution_count": 20,
   "metadata": {},
   "outputs": [],
   "source": [
    "bios = db.create_collection(\"bios\")  # bios=db.bios"
   ]
  },
  {
   "cell_type": "markdown",
   "metadata": {},
   "source": [
    "- insert_one()插入1个文档"
   ]
  },
  {
   "cell_type": "code",
   "execution_count": 21,
   "metadata": {},
   "outputs": [
    {
     "data": {
      "text/plain": [
       "<pymongo.results.InsertOneResult at 0x10d4e1dc8>"
      ]
     },
     "execution_count": 21,
     "metadata": {},
     "output_type": "execute_result"
    }
   ],
   "source": [
    "bios.insert_one({\"_id\" : 1,\n",
    "    \"name\" : {\"first\" : \"John\", \"last\" : \"Backus\"},\n",
    "    \"birth\" : datetime.strptime(\"1924-12-03 05:00:00\", \"%Y-%m-%d %H:%M:%S\"),\n",
    "    \"death\" : datetime.strptime(\"2007-03-17 04:00:00\", \"%Y-%m-%d %H:%M:%S\"),\n",
    "    \"contribs\" : [\"Fortran\", \"ALGOL\", \"Backus-Naur Form\", \"FP\"],\n",
    "    \"awards\" : [\n",
    "        {\"award\" : \"W.W. McDowell Award\", \"year\" : 1967, \"by\" : \"IEEE Computer Society\"},\n",
    "        {\"award\" : \"National Medal of Science\", \"year\" : 1975, \"by\" : \"National Science Foundation\"},\n",
    "        {\"award\" : \"Turing Award\", \"year\" : 1977, \"by\" : \"ACM\"},\n",
    "        {\"award\" : \"Draper Prize\",\"year\" : 1993, \"by\" : \"National Academy of Engineering\"}\n",
    "    ]})"
   ]
  },
  {
   "cell_type": "markdown",
   "metadata": {},
   "source": [
    "- insert_many()插入多个文档"
   ]
  },
  {
   "cell_type": "code",
   "execution_count": 22,
   "metadata": {},
   "outputs": [],
   "source": [
    "# 定义文档列表\n",
    "x = [{\"name\" : {\"first\" : \"John\", \"last\" : \"McCarthy\"},\n",
    "    \"birth\" : datetime.strptime(\"1927-09-04 04:00:00\", \"%Y-%m-%d %H:%M:%S\"),\n",
    "    \"death\" : datetime.strptime(\"2011-12-24 05:00:00\", \"%Y-%m-%d %H:%M:%S\"),\n",
    "    \"contribs\" : [\"Lisp\", \"Artificial Intelligence\", \"ALGOL\"],\n",
    "    \"awards\" : [\n",
    "        {\"award\" : \"Turing Award\", \"year\" : 1971, \"by\" : \"ACM\"},\n",
    "        {\"award\" : \"Kyoto Prize\", \"year\" : 1988, \"by\" : \"Inamori Foundation\"},\n",
    "        {\"award\" : \"National Medal of Science\",\"year\" : 1990, \"by\" : \"National Science Foundation\"\n",
    "        }\n",
    "    ]},\n",
    "     \n",
    "    {\"_id\" : 3,\n",
    "    \"name\" : {\n",
    "        \"first\" : \"Grace\",\n",
    "        \"last\" : \"Hopper\"\n",
    "    },\n",
    "    \"title\" : \"Rear Admiral\",\n",
    "    \"birth\" : datetime.strptime(\"1906-12-09 05:00:00\", \"%Y-%m-%d %H:%M:%S\"),\n",
    "    \"death\" : datetime.strptime(\"1992-01-01 05:00:00\", \"%Y-%m-%d %H:%M:%S\"),\n",
    "    \"contribs\" : [\n",
    "        \"UNIVAC\",\n",
    "        \"compiler\",\n",
    "        \"FLOW-MATIC\",\n",
    "        \"COBOL\"\n",
    "                ],\n",
    "    \"awards\" : [\n",
    "        {\n",
    "            \"award\" : \"Computer Sciences Man of the Year\",\n",
    "            \"year\" : 1969,\n",
    "            \"by\" : \"Data Processing Management Association\"\n",
    "        },\n",
    "        {\n",
    "            \"award\" : \"Distinguished Fellow\",\n",
    "            \"year\" : 1973,\n",
    "            \"by\" : \" British Computer Society\"\n",
    "        },\n",
    "        {\n",
    "            \"award\" : \"W. W. McDowell Award\",\n",
    "            \"year\" : 1976,\n",
    "            \"by\" : \"IEEE Computer Society\"\n",
    "        },\n",
    "        {\n",
    "            \"award\" : \"National Medal of Technology\",\n",
    "            \"year\" : 1991,\n",
    "            \"by\" : \"United States\"\n",
    "        }\n",
    "        ]\n",
    "    },\n",
    "     \n",
    "    {\n",
    "    \"_id\" : 4,\n",
    "    \"name\" : {\n",
    "        \"first\" : \"Kristen\",\n",
    "        \"last\" : \"Nygaard\"\n",
    "    },\n",
    "    \"birth\" : datetime.strptime(\"1926-08-27 04:00:00\", \"%Y-%m-%d %H:%M:%S\"),\n",
    "    \"death\" : datetime.strptime(\"2002-08-10 04:00:00\", \"%Y-%m-%d %H:%M:%S\"),\n",
    "    \"contribs\" : [\n",
    "        \"OOP\",\n",
    "        \"Simula\"\n",
    "    ],\n",
    "    \"awards\" : [\n",
    "        {\n",
    "            \"award\" : \"Rosing Prize\",\n",
    "            \"year\" : 1999,\n",
    "            \"by\" : \"Norwegian Data Association\"\n",
    "        },\n",
    "        {\n",
    "            \"award\" : \"Turing Award\",\n",
    "            \"year\" : 2001,\n",
    "            \"by\" : \"ACM\"\n",
    "        },\n",
    "        {\n",
    "            \"award\" : \"IEEE John von Neumann Medal\",\n",
    "            \"year\" : 2001,\n",
    "            \"by\" : \"IEEE\"\n",
    "        }\n",
    "        ]\n",
    "    },\n",
    "     \n",
    "    {\n",
    "    \"_id\" : 5,\n",
    "    \"name\" : {\n",
    "        \"first\" : \"Ole-Johan\",\n",
    "        \"last\" : \"Dahl\"\n",
    "    },\n",
    "    \"birth\" : datetime.strptime(\"1931-10-12 04:00:00\", \"%Y-%m-%d %H:%M:%S\"),\n",
    "    \"death\" : datetime.strptime(\"2002-06-29 04:00:00\", \"%Y-%m-%d %H:%M:%S\"),\n",
    "    \"contribs\" : [\n",
    "        \"OOP\",\n",
    "        \"Simula\"\n",
    "        ],\n",
    "    \"awards\" : [\n",
    "        {\n",
    "            \"award\" : \"Rosing Prize\",\n",
    "            \"year\" : 1999,\n",
    "            \"by\" : \"Norwegian Data Association\"\n",
    "        },\n",
    "        {\n",
    "            \"award\" : \"Turing Award\",\n",
    "            \"year\" : 2001,\n",
    "            \"by\" : \"ACM\"\n",
    "        },\n",
    "        {\n",
    "            \"award\" : \"IEEE John von Neumann Medal\",\n",
    "            \"year\" : 2001,\n",
    "            \"by\" : \"IEEE\"\n",
    "        }\n",
    "        ]\n",
    "    },\n",
    "     \n",
    "    {\n",
    "    \"_id\" : 6,\n",
    "    \"name\" : {\n",
    "        \"first\" : \"Guido\",\n",
    "        \"last\" : \"van Rossum\"\n",
    "    },\n",
    "    \"birth\" : datetime.strptime(\"1956-01-31 05:00:00\", \"%Y-%m-%d %H:%M:%S\"),\n",
    "    \"contribs\" : [\"Python\"],\n",
    "    \"awards\" : [\n",
    "        {\n",
    "            \"award\" : \"Award for the Advancement of Free Software\",\n",
    "            \"year\" : 2001,\n",
    "            \"by\" : \"Free Software Foundation\"\n",
    "        },\n",
    "        {\n",
    "            \"award\" : \"NLUUG Award\",\n",
    "            \"year\" : 2003,\n",
    "            \"by\" : \"NLUUG\"\n",
    "        }\n",
    "        ]\n",
    "    },\n",
    "     \n",
    "    {\n",
    "    \"name\" : {\n",
    "        \"first\" : \"Dennis\",\n",
    "        \"last\" : \"Ritchie\"\n",
    "        },\n",
    "    \"birth\" : datetime.strptime(\"1941-09-09 04:00:00\", \"%Y-%m-%d %H:%M:%S\"),\n",
    "    \"death\" : datetime.strptime(\"2011-10-12 04:00:00\", \"%Y-%m-%d %H:%M:%S\"),\n",
    "    \"contribs\" : [\"UNIX\", \"C\"],\n",
    "    \"awards\" : [\n",
    "        {\n",
    "            \"award\" : \"Turing Award\",\n",
    "            \"year\" : 1983,\n",
    "            \"by\" : \"ACM\"\n",
    "        },\n",
    "        {\n",
    "            \"award\" : \"National Medal of Technology\",\n",
    "            \"year\" : 1998,\n",
    "            \"by\" : \"United States\"\n",
    "        },\n",
    "        {\n",
    "            \"award\" : \"Japan Prize\",\n",
    "            \"year\" : 2011,\n",
    "            \"by\" : \"The Japan Prize Foundation\"\n",
    "        }\n",
    "        ]\n",
    "    },\n",
    "     \n",
    "    {\n",
    "    \"_id\" : 8,\n",
    "    \"name\" : {\n",
    "        \"first\" : \"Yukihiro\",\n",
    "        \"aka\" : \"Matz\",\n",
    "        \"last\" : \"Matsumoto\"\n",
    "    },\n",
    "    \"birth\" : datetime.strptime(\"1965-04-14 04:00:00\", \"%Y-%m-%d %H:%M:%S\"),\n",
    "    \"contribs\" : [\"Ruby\"],\n",
    "    \"awards\" : [\n",
    "        {\n",
    "            \"award\" : \"Award for the Advancement of Free Software\",\n",
    "            \"year\" : \"2011\",\n",
    "            \"by\" : \"Free Software Foundation\"\n",
    "        }\n",
    "        ]\n",
    "    },\n",
    "\n",
    "     {\n",
    "    \"_id\" : 9,\n",
    "    \"name\" : {\n",
    "        \"first\" : \"James\",\n",
    "        \"last\" : \"Gosling\"\n",
    "            },\n",
    "    \"birth\" : datetime.strptime(\"1955-05-19 04:00:00\", \"%Y-%m-%d %H:%M:%S\"),\n",
    "    \"contribs\" : [\"Java\"],\n",
    "    \"awards\" : [\n",
    "        {\n",
    "            \"award\" : \"The Economist Innovation Award\",\n",
    "            \"year\" : 2002,\n",
    "            \"by\" : \"The Economist\"\n",
    "        },\n",
    "        {\n",
    "            \"award\" : \"Officer of the Order of Canada\",\n",
    "            \"year\" : 2007,\n",
    "            \"by\" : \"Canada\"\n",
    "        }\n",
    "        ]\n",
    "    },\n",
    "\n",
    "    {\n",
    "    \"_id\" : 10,\n",
    "    \"name\" : {\n",
    "        \"first\" : \"Martin\",\n",
    "        \"last\" : \"Odersky\"\n",
    "            },\n",
    "    \"contribs\" : [\"Scala\"]\n",
    "    }\n",
    "    ]"
   ]
  },
  {
   "cell_type": "code",
   "execution_count": 23,
   "metadata": {},
   "outputs": [
    {
     "data": {
      "text/plain": [
       "<pymongo.results.InsertManyResult at 0x10cb5e948>"
      ]
     },
     "execution_count": 23,
     "metadata": {},
     "output_type": "execute_result"
    }
   ],
   "source": [
    "bios.insert_many(x)  # 插入多个记录"
   ]
  },
  {
   "cell_type": "code",
   "execution_count": 24,
   "metadata": {},
   "outputs": [
    {
     "data": {
      "text/plain": [
       "10"
      ]
     },
     "execution_count": 24,
     "metadata": {},
     "output_type": "execute_result"
    }
   ],
   "source": [
    "bios.count_documents({})  # 查询符合条件的文件数量"
   ]
  },
  {
   "cell_type": "markdown",
   "metadata": {},
   "source": [
    "#### 2.查询文档"
   ]
  },
  {
   "cell_type": "markdown",
   "metadata": {},
   "source": [
    "- find()查询多个文档"
   ]
  },
  {
   "cell_type": "code",
   "execution_count": 25,
   "metadata": {},
   "outputs": [
    {
     "name": "stdout",
     "output_type": "stream",
     "text": [
      "{'_id': 6, 'name': {'first': 'Guido', 'last': 'van Rossum'}, 'contribs': ['Python']}\n",
      "{'_id': ObjectId('5cd12d414c6fc19e69c767e9'), 'name': {'first': 'Dennis', 'last': 'Ritchie'}, 'contribs': ['UNIX', 'C']}\n"
     ]
    }
   ],
   "source": [
    "for x in db.bios.find({\"contribs\":{\"$in\": [\"UNIX\", \"Python\"]}}, projection={\"contribs\":1, \"name\":1}):\n",
    "    print(x)"
   ]
  },
  {
   "cell_type": "markdown",
   "metadata": {},
   "source": [
    "- find_one查询1个文档"
   ]
  },
  {
   "cell_type": "code",
   "execution_count": 26,
   "metadata": {},
   "outputs": [
    {
     "data": {
      "text/plain": [
       "{'_id': 3,\n",
       " 'name': {'first': 'Grace', 'last': 'Hopper'},\n",
       " 'contribs': ['UNIVAC', 'compiler', 'FLOW-MATIC', 'COBOL']}"
      ]
     },
     "execution_count": 26,
     "metadata": {},
     "output_type": "execute_result"
    }
   ],
   "source": [
    "db.bios.find_one({\"_id\":3}, projection={\"name\":True, \"contribs\":True})"
   ]
  },
  {
   "cell_type": "markdown",
   "metadata": {},
   "source": [
    "#### 3. 更新文档"
   ]
  },
  {
   "cell_type": "markdown",
   "metadata": {},
   "source": [
    "- update_one()更新一个文档"
   ]
  },
  {
   "cell_type": "code",
   "execution_count": 28,
   "metadata": {},
   "outputs": [
    {
     "data": {
      "text/plain": [
       "<pymongo.results.UpdateResult at 0x10384d5c8>"
      ]
     },
     "execution_count": 28,
     "metadata": {},
     "output_type": "execute_result"
    }
   ],
   "source": [
    "db.bios.update_one({\"_id\":3}, {\"$set\": {\"name.first\": \"Kunter\"}})"
   ]
  },
  {
   "cell_type": "code",
   "execution_count": 32,
   "metadata": {},
   "outputs": [
    {
     "data": {
      "text/plain": [
       "{'_id': 3,\n",
       " 'name': {'first': 'Kunter', 'last': 'Hopper'},\n",
       " 'contribs': ['UNIVAC', 'compiler', 'FLOW-MATIC', 'COBOL']}"
      ]
     },
     "execution_count": 32,
     "metadata": {},
     "output_type": "execute_result"
    }
   ],
   "source": [
    "db.bios.find_one({\"_id\":3}, projection={\"name\":True, \"contribs\":True})"
   ]
  },
  {
   "cell_type": "markdown",
   "metadata": {},
   "source": [
    "- update_many()更新多个文档"
   ]
  },
  {
   "cell_type": "code",
   "execution_count": 31,
   "metadata": {},
   "outputs": [
    {
     "data": {
      "text/plain": [
       "<pymongo.results.UpdateResult at 0x102f05248>"
      ]
     },
     "execution_count": 31,
     "metadata": {},
     "output_type": "execute_result"
    }
   ],
   "source": [
    "db.bios.update_many({}, {\"$set\":{\"address\":\"Earth\"}}, upsert=True)"
   ]
  },
  {
   "cell_type": "code",
   "execution_count": 33,
   "metadata": {},
   "outputs": [
    {
     "data": {
      "text/plain": [
       "{'_id': 1,\n",
       " 'name': {'first': 'John', 'last': 'Backus'},\n",
       " 'birth': datetime.datetime(1924, 12, 3, 5, 0),\n",
       " 'death': datetime.datetime(2007, 3, 17, 4, 0),\n",
       " 'contribs': ['Fortran', 'ALGOL', 'Backus-Naur Form', 'FP'],\n",
       " 'awards': [{'award': 'W.W. McDowell Award',\n",
       "   'year': 1967,\n",
       "   'by': 'IEEE Computer Society'},\n",
       "  {'award': 'National Medal of Science',\n",
       "   'year': 1975,\n",
       "   'by': 'National Science Foundation'},\n",
       "  {'award': 'Turing Award', 'year': 1977, 'by': 'ACM'},\n",
       "  {'award': 'Draper Prize',\n",
       "   'year': 1993,\n",
       "   'by': 'National Academy of Engineering'}],\n",
       " 'address': 'Earth'}"
      ]
     },
     "execution_count": 33,
     "metadata": {},
     "output_type": "execute_result"
    }
   ],
   "source": [
    "db.bios.find_one()"
   ]
  },
  {
   "cell_type": "markdown",
   "metadata": {},
   "source": [
    "#### 4. 删除文档"
   ]
  },
  {
   "cell_type": "markdown",
   "metadata": {},
   "source": [
    "- delete_one()"
   ]
  },
  {
   "cell_type": "code",
   "execution_count": 44,
   "metadata": {},
   "outputs": [
    {
     "data": {
      "text/plain": [
       "<pymongo.results.DeleteResult at 0x10353e048>"
      ]
     },
     "execution_count": 44,
     "metadata": {},
     "output_type": "execute_result"
    }
   ],
   "source": [
    "db.bios.delete_one({\"_id\":1})"
   ]
  },
  {
   "cell_type": "markdown",
   "metadata": {},
   "source": [
    "- delete_many()"
   ]
  },
  {
   "cell_type": "code",
   "execution_count": 47,
   "metadata": {},
   "outputs": [
    {
     "data": {
      "text/plain": [
       "<pymongo.results.DeleteResult at 0x103536748>"
      ]
     },
     "execution_count": 47,
     "metadata": {},
     "output_type": "execute_result"
    }
   ],
   "source": [
    "db.bios.delete_many({})"
   ]
  },
  {
   "cell_type": "code",
   "execution_count": 48,
   "metadata": {},
   "outputs": [
    {
     "data": {
      "text/plain": [
       "[]"
      ]
     },
     "execution_count": 48,
     "metadata": {},
     "output_type": "execute_result"
    }
   ],
   "source": [
    "list(db.bios.find({}))"
   ]
  },
  {
   "cell_type": "markdown",
   "metadata": {},
   "source": [
    "#### 5. 删除集合 "
   ]
  },
  {
   "cell_type": "code",
   "execution_count": 7,
   "metadata": {},
   "outputs": [],
   "source": [
    "db.bios.drop()"
   ]
  },
  {
   "cell_type": "code",
   "execution_count": 9,
   "metadata": {},
   "outputs": [
    {
     "data": {
      "text/plain": [
       "[]"
      ]
     },
     "execution_count": 9,
     "metadata": {},
     "output_type": "execute_result"
    }
   ],
   "source": [
    "list(db.bios.find({}))"
   ]
  }
 ],
 "metadata": {
  "kernelspec": {
   "display_name": "python37",
   "language": "python",
   "name": "python37"
  },
  "language_info": {
   "codemirror_mode": {
    "name": "ipython",
    "version": 3
   },
   "file_extension": ".py",
   "mimetype": "text/x-python",
   "name": "python",
   "nbconvert_exporter": "python",
   "pygments_lexer": "ipython3",
   "version": "3.7.0"
  }
 },
 "nbformat": 4,
 "nbformat_minor": 2
}
