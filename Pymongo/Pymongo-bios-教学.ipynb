{
 "cells": [
  {
   "cell_type": "markdown",
   "metadata": {},
   "source": [
    "# pymongo实现与mongodb的交互"
   ]
  },
  {
   "cell_type": "code",
   "execution_count": 2,
   "metadata": {},
   "outputs": [],
   "source": [
    "from datetime import datetime  # 转换为datetime格式给mongo数据库\n",
    "from pymongo import MongoClient\n",
    "from bson import ObjectId\n",
    "client = MongoClient('localhost', 27017)"
   ]
  },
  {
   "cell_type": "markdown",
   "metadata": {},
   "source": [
    "- client.list_database_names()列出所有数据库的名称"
   ]
  },
  {
   "cell_type": "code",
   "execution_count": 3,
   "metadata": {},
   "outputs": [
    {
     "output_type": "execute_result",
     "data": {
      "text/plain": [
       "('localhost', 27017)"
      ]
     },
     "metadata": {},
     "execution_count": 3
    }
   ],
   "source": [
    "client.address  # 数据库的服务器地址和端口号"
   ]
  },
  {
   "cell_type": "code",
   "execution_count": 4,
   "metadata": {},
   "outputs": [
    {
     "output_type": "execute_result",
     "data": {
      "text/plain": [
       "['admin', 'config', 'local', 'mdb_test', 'work']"
      ]
     },
     "metadata": {},
     "execution_count": 4
    }
   ],
   "source": [
    "client.list_database_names()  # 适用于 > 3.6版本"
   ]
  },
  {
   "cell_type": "code",
   "execution_count": 5,
   "metadata": {},
   "outputs": [
    {
     "output_type": "execute_result",
     "data": {
      "text/plain": [
       "['admin', 'config', 'local', 'mdb_test', 'work']"
      ]
     },
     "metadata": {},
     "execution_count": 5
    }
   ],
   "source": [
    "client.database_names()  # 马上要撤销了"
   ]
  },
  {
   "cell_type": "markdown",
   "metadata": {},
   "source": [
    "- client.list_databases()列出所有数据库"
   ]
  },
  {
   "cell_type": "code",
   "execution_count": 6,
   "metadata": {},
   "outputs": [
    {
     "output_type": "stream",
     "name": "stdout",
     "text": [
      "{'name': 'admin', 'sizeOnDisk': 65536.0, 'empty': False}\n{'name': 'config', 'sizeOnDisk': 73728.0, 'empty': False}\n{'name': 'local', 'sizeOnDisk': 73728.0, 'empty': False}\n{'name': 'mdb_test', 'sizeOnDisk': 69632.0, 'empty': False}\n{'name': 'work', 'sizeOnDisk': 65536.0, 'empty': False}\n"
     ]
    }
   ],
   "source": [
    "for db in client.list_databases():\n",
    "    print(db)"
   ]
  },
  {
   "cell_type": "markdown",
   "metadata": {},
   "source": [
    "- 创建数据库"
   ]
  },
  {
   "cell_type": "code",
   "execution_count": 7,
   "metadata": {},
   "outputs": [],
   "source": [
    "db = client.mdb_test  # db=client[\"mdb_test\"]"
   ]
  },
  {
   "cell_type": "code",
   "execution_count": 8,
   "metadata": {},
   "outputs": [],
   "source": [
    "client.drop_database(\"mdb_test\")"
   ]
  },
  {
   "cell_type": "markdown",
   "metadata": {},
   "source": [
    "##  1. 插入文档"
   ]
  },
  {
   "cell_type": "code",
   "execution_count": 9,
   "metadata": {},
   "outputs": [],
   "source": [
    "bios = db.create_collection(\"bios\")  # bios=db.bios"
   ]
  },
  {
   "cell_type": "markdown",
   "metadata": {},
   "source": [
    "- insert_one()插入1个文档"
   ]
  },
  {
   "cell_type": "code",
   "execution_count": 10,
   "metadata": {},
   "outputs": [
    {
     "output_type": "execute_result",
     "data": {
      "text/plain": [
       "<pymongo.results.InsertOneResult at 0x219f58d2fc0>"
      ]
     },
     "metadata": {},
     "execution_count": 10
    }
   ],
   "source": [
    "bios.insert_one({\"_id\" : 1,\n",
    "    \"name\" : {\"first\" : \"John\", \"last\" : \"Backus\"},\n",
    "    \"birth\" : datetime.strptime(\"1924-12-03 05:00:00\", \"%Y-%m-%d %H:%M:%S\"),\n",
    "    \"death\" : datetime.strptime(\"2007-03-17 04:00:00\", \"%Y-%m-%d %H:%M:%S\"),\n",
    "    \"contribs\" : [\"Fortran\", \"ALGOL\", \"Backus-Naur Form\", \"FP\"],\n",
    "    \"awards\" : [\n",
    "        {\"award\" : \"W.W. McDowell Award\", \"year\" : 1967, \"by\" : \"IEEE Computer Society\"},\n",
    "        {\"award\" : \"National Medal of Science\", \"year\" : 1975, \"by\" : \"National Science Foundation\"},\n",
    "        {\"award\" : \"Turing Award\", \"year\" : 1977, \"by\" : \"ACM\"},\n",
    "        {\"award\" : \"Draper Prize\",\"year\" : 1993, \"by\" : \"National Academy of Engineering\"}\n",
    "    ]})"
   ]
  },
  {
   "cell_type": "markdown",
   "metadata": {},
   "source": [
    "- insert_many()插入多个文档"
   ]
  },
  {
   "cell_type": "code",
   "execution_count": 11,
   "metadata": {},
   "outputs": [],
   "source": [
    "# 定义文档列表\n",
    "x = [{\"name\" : {\"first\" : \"John\", \"last\" : \"McCarthy\"},\n",
    "    \"birth\" : datetime.strptime(\"1927-09-04 04:00:00\", \"%Y-%m-%d %H:%M:%S\"),\n",
    "    \"death\" : datetime.strptime(\"2011-12-24 05:00:00\", \"%Y-%m-%d %H:%M:%S\"),\n",
    "    \"contribs\" : [\"Lisp\", \"Artificial Intelligence\", \"ALGOL\"],\n",
    "    \"awards\" : [\n",
    "        {\"award\" : \"Turing Award\", \"year\" : 1971, \"by\" : \"ACM\"},\n",
    "        {\"award\" : \"Kyoto Prize\", \"year\" : 1988, \"by\" : \"Inamori Foundation\"},\n",
    "        {\"award\" : \"National Medal of Science\",\"year\" : 1990, \"by\" : \"National Science Foundation\"\n",
    "        }\n",
    "    ]},\n",
    "     \n",
    "    {\"_id\" : 3,\n",
    "    \"name\" : {\n",
    "        \"first\" : \"Grace\",\n",
    "        \"last\" : \"Hopper\"\n",
    "    },\n",
    "    \"title\" : \"Rear Admiral\",\n",
    "    \"birth\" : datetime.strptime(\"1906-12-09 05:00:00\", \"%Y-%m-%d %H:%M:%S\"),\n",
    "    \"death\" : datetime.strptime(\"1992-01-01 05:00:00\", \"%Y-%m-%d %H:%M:%S\"),\n",
    "    \"contribs\" : [\n",
    "        \"UNIVAC\",\n",
    "        \"compiler\",\n",
    "        \"FLOW-MATIC\",\n",
    "        \"COBOL\"\n",
    "                ],\n",
    "    \"awards\" : [\n",
    "        {\n",
    "            \"award\" : \"Computer Sciences Man of the Year\",\n",
    "            \"year\" : 1969,\n",
    "            \"by\" : \"Data Processing Management Association\"\n",
    "        },\n",
    "        {\n",
    "            \"award\" : \"Distinguished Fellow\",\n",
    "            \"year\" : 1973,\n",
    "            \"by\" : \" British Computer Society\"\n",
    "        },\n",
    "        {\n",
    "            \"award\" : \"W. W. McDowell Award\",\n",
    "            \"year\" : 1976,\n",
    "            \"by\" : \"IEEE Computer Society\"\n",
    "        },\n",
    "        {\n",
    "            \"award\" : \"National Medal of Technology\",\n",
    "            \"year\" : 1991,\n",
    "            \"by\" : \"United States\"\n",
    "        }\n",
    "        ]\n",
    "    },\n",
    "     \n",
    "    {\n",
    "    \"_id\" : 4,\n",
    "    \"name\" : {\n",
    "        \"first\" : \"Kristen\",\n",
    "        \"last\" : \"Nygaard\"\n",
    "    },\n",
    "    \"birth\" : datetime.strptime(\"1926-08-27 04:00:00\", \"%Y-%m-%d %H:%M:%S\"),\n",
    "    \"death\" : datetime.strptime(\"2002-08-10 04:00:00\", \"%Y-%m-%d %H:%M:%S\"),\n",
    "    \"contribs\" : [\n",
    "        \"OOP\",\n",
    "        \"Simula\"\n",
    "    ],\n",
    "    \"awards\" : [\n",
    "        {\n",
    "            \"award\" : \"Rosing Prize\",\n",
    "            \"year\" : 1999,\n",
    "            \"by\" : \"Norwegian Data Association\"\n",
    "        },\n",
    "        {\n",
    "            \"award\" : \"Turing Award\",\n",
    "            \"year\" : 2001,\n",
    "            \"by\" : \"ACM\"\n",
    "        },\n",
    "        {\n",
    "            \"award\" : \"IEEE John von Neumann Medal\",\n",
    "            \"year\" : 2001,\n",
    "            \"by\" : \"IEEE\"\n",
    "        }\n",
    "        ]\n",
    "    },\n",
    "     \n",
    "    {\n",
    "    \"_id\" : 5,\n",
    "    \"name\" : {\n",
    "        \"first\" : \"Ole-Johan\",\n",
    "        \"last\" : \"Dahl\"\n",
    "    },\n",
    "    \"birth\" : datetime.strptime(\"1931-10-12 04:00:00\", \"%Y-%m-%d %H:%M:%S\"),\n",
    "    \"death\" : datetime.strptime(\"2002-06-29 04:00:00\", \"%Y-%m-%d %H:%M:%S\"),\n",
    "    \"contribs\" : [\n",
    "        \"OOP\",\n",
    "        \"Simula\"\n",
    "        ],\n",
    "    \"awards\" : [\n",
    "        {\n",
    "            \"award\" : \"Rosing Prize\",\n",
    "            \"year\" : 1999,\n",
    "            \"by\" : \"Norwegian Data Association\"\n",
    "        },\n",
    "        {\n",
    "            \"award\" : \"Turing Award\",\n",
    "            \"year\" : 2001,\n",
    "            \"by\" : \"ACM\"\n",
    "        },\n",
    "        {\n",
    "            \"award\" : \"IEEE John von Neumann Medal\",\n",
    "            \"year\" : 2001,\n",
    "            \"by\" : \"IEEE\"\n",
    "        }\n",
    "        ]\n",
    "    },\n",
    "     \n",
    "    {\n",
    "    \"_id\" : 6,\n",
    "    \"name\" : {\n",
    "        \"first\" : \"Guido\",\n",
    "        \"last\" : \"van Rossum\"\n",
    "    },\n",
    "    \"birth\" : datetime.strptime(\"1956-01-31 05:00:00\", \"%Y-%m-%d %H:%M:%S\"),\n",
    "    \"contribs\" : [\"Python\"],\n",
    "    \"awards\" : [\n",
    "        {\n",
    "            \"award\" : \"Award for the Advancement of Free Software\",\n",
    "            \"year\" : 2001,\n",
    "            \"by\" : \"Free Software Foundation\"\n",
    "        },\n",
    "        {\n",
    "            \"award\" : \"NLUUG Award\",\n",
    "            \"year\" : 2003,\n",
    "            \"by\" : \"NLUUG\"\n",
    "        }\n",
    "        ]\n",
    "    },\n",
    "     \n",
    "    {\n",
    "    \"name\" : {\n",
    "        \"first\" : \"Dennis\",\n",
    "        \"last\" : \"Ritchie\"\n",
    "        },\n",
    "    \"birth\" : datetime.strptime(\"1941-09-09 04:00:00\", \"%Y-%m-%d %H:%M:%S\"),\n",
    "    \"death\" : datetime.strptime(\"2011-10-12 04:00:00\", \"%Y-%m-%d %H:%M:%S\"),\n",
    "    \"contribs\" : [\"UNIX\", \"C\"],\n",
    "    \"awards\" : [\n",
    "        {\n",
    "            \"award\" : \"Turing Award\",\n",
    "            \"year\" : 1983,\n",
    "            \"by\" : \"ACM\"\n",
    "        },\n",
    "        {\n",
    "            \"award\" : \"National Medal of Technology\",\n",
    "            \"year\" : 1998,\n",
    "            \"by\" : \"United States\"\n",
    "        },\n",
    "        {\n",
    "            \"award\" : \"Japan Prize\",\n",
    "            \"year\" : 2011,\n",
    "            \"by\" : \"The Japan Prize Foundation\"\n",
    "        }\n",
    "        ]\n",
    "    },\n",
    "     \n",
    "    {\n",
    "    \"_id\" : 8,\n",
    "    \"name\" : {\n",
    "        \"first\" : \"Yukihiro\",\n",
    "        \"aka\" : \"Matz\",\n",
    "        \"last\" : \"Matsumoto\"\n",
    "    },\n",
    "    \"birth\" : datetime.strptime(\"1965-04-14 04:00:00\", \"%Y-%m-%d %H:%M:%S\"),\n",
    "    \"contribs\" : [\"Ruby\"],\n",
    "    \"awards\" : [\n",
    "        {\n",
    "            \"award\" : \"Award for the Advancement of Free Software\",\n",
    "            \"year\" : \"2011\",\n",
    "            \"by\" : \"Free Software Foundation\"\n",
    "        }\n",
    "        ]\n",
    "    },\n",
    "\n",
    "     {\n",
    "    \"_id\" : 9,\n",
    "    \"name\" : {\n",
    "        \"first\" : \"James\",\n",
    "        \"last\" : \"Gosling\"\n",
    "            },\n",
    "    \"birth\" : datetime.strptime(\"1955-05-19 04:00:00\", \"%Y-%m-%d %H:%M:%S\"),\n",
    "    \"contribs\" : [\"Java\"],\n",
    "    \"awards\" : [\n",
    "        {\n",
    "            \"award\" : \"The Economist Innovation Award\",\n",
    "            \"year\" : 2002,\n",
    "            \"by\" : \"The Economist\"\n",
    "        },\n",
    "        {\n",
    "            \"award\" : \"Officer of the Order of Canada\",\n",
    "            \"year\" : 2007,\n",
    "            \"by\" : \"Canada\"\n",
    "        }\n",
    "        ]\n",
    "    },\n",
    "\n",
    "    {\n",
    "    \"_id\" : 10,\n",
    "    \"name\" : {\n",
    "        \"first\" : \"Martin\",\n",
    "        \"last\" : \"Odersky\"\n",
    "            },\n",
    "    \"contribs\" : [\"Scala\"]\n",
    "    }\n",
    "    ]"
   ]
  },
  {
   "cell_type": "code",
   "execution_count": 12,
   "metadata": {},
   "outputs": [
    {
     "output_type": "execute_result",
     "data": {
      "text/plain": [
       "<pymongo.results.InsertManyResult at 0x219f587ddc0>"
      ]
     },
     "metadata": {},
     "execution_count": 12
    }
   ],
   "source": [
    "bios.insert_many(x)  # 插入多个记录"
   ]
  },
  {
   "source": [
    "- db.col.count_documents({})获取符合条件的文档数量"
   ],
   "cell_type": "markdown",
   "metadata": {}
  },
  {
   "cell_type": "code",
   "execution_count": 13,
   "metadata": {},
   "outputs": [
    {
     "output_type": "execute_result",
     "data": {
      "text/plain": [
       "10"
      ]
     },
     "metadata": {},
     "execution_count": 13
    }
   ],
   "source": [
    "bios.count_documents({})  # 查询符合条件的文件数量"
   ]
  },
  {
   "cell_type": "markdown",
   "metadata": {},
   "source": [
    "#### 2.查询文档"
   ]
  },
  {
   "cell_type": "markdown",
   "metadata": {},
   "source": [
    "- find()查询多个文档"
   ]
  },
  {
   "cell_type": "code",
   "execution_count": 15,
   "metadata": {},
   "outputs": [
    {
     "output_type": "execute_result",
     "data": {
      "text/plain": [
       "[{'_id': 6,\n",
       "  'name': {'first': 'Guido', 'last': 'van Rossum'},\n",
       "  'contribs': ['Python']},\n",
       " {'_id': ObjectId('5feaae61dd288c0670132ab4'),\n",
       "  'name': {'first': 'Dennis', 'last': 'Ritchie'},\n",
       "  'contribs': ['UNIX', 'C']}]"
      ]
     },
     "metadata": {},
     "execution_count": 15
    }
   ],
   "source": [
    "list(db.bios.find({\"contribs\":{\"$in\": [\"UNIX\", \"Python\"]}}, projection={\"contribs\":1, \"name\":1}))"
   ]
  },
  {
   "cell_type": "code",
   "execution_count": 25,
   "metadata": {},
   "outputs": [
    {
     "name": "stdout",
     "output_type": "stream",
     "text": [
      "{'_id': 6, 'name': {'first': 'Guido', 'last': 'van Rossum'}, 'contribs': ['Python']}\n",
      "{'_id': ObjectId('5cd12d414c6fc19e69c767e9'), 'name': {'first': 'Dennis', 'last': 'Ritchie'}, 'contribs': ['UNIX', 'C']}\n"
     ]
    }
   ],
   "source": [
    "for x in db.bios.find({\"contribs\":{\"$in\": [\"UNIX\", \"Python\"]}}, projection={\"contribs\":1, \"name\":1}):\n",
    "    print(x)"
   ]
  },
  {
   "cell_type": "markdown",
   "metadata": {},
   "source": [
    "- find_one查询1个文档"
   ]
  },
  {
   "cell_type": "code",
   "execution_count": 16,
   "metadata": {},
   "outputs": [
    {
     "output_type": "execute_result",
     "data": {
      "text/plain": [
       "{'_id': 3,\n",
       " 'name': {'first': 'Grace', 'last': 'Hopper'},\n",
       " 'contribs': ['UNIVAC', 'compiler', 'FLOW-MATIC', 'COBOL']}"
      ]
     },
     "metadata": {},
     "execution_count": 16
    }
   ],
   "source": [
    "db.bios.find_one({\"_id\":3}, projection={\"name\":True, \"contribs\":True})"
   ]
  },
  {
   "cell_type": "markdown",
   "metadata": {},
   "source": [
    "#### 3. 更新文档"
   ]
  },
  {
   "cell_type": "markdown",
   "metadata": {},
   "source": [
    "- update_one()更新一个文档"
   ]
  },
  {
   "cell_type": "code",
   "execution_count": 17,
   "metadata": {},
   "outputs": [
    {
     "output_type": "execute_result",
     "data": {
      "text/plain": [
       "<pymongo.results.UpdateResult at 0x219f77503c0>"
      ]
     },
     "metadata": {},
     "execution_count": 17
    }
   ],
   "source": [
    "db.bios.update_one({\"_id\":3}, {\"$set\": {\"name.first\": \"Kunter\"}})"
   ]
  },
  {
   "cell_type": "code",
   "execution_count": 18,
   "metadata": {},
   "outputs": [
    {
     "output_type": "execute_result",
     "data": {
      "text/plain": [
       "{'_id': 3,\n",
       " 'name': {'first': 'Kunter', 'last': 'Hopper'},\n",
       " 'contribs': ['UNIVAC', 'compiler', 'FLOW-MATIC', 'COBOL']}"
      ]
     },
     "metadata": {},
     "execution_count": 18
    }
   ],
   "source": [
    "db.bios.find_one({\"_id\":3}, projection={\"name\":True, \"contribs\":True})"
   ]
  },
  {
   "cell_type": "markdown",
   "metadata": {},
   "source": [
    "- update_many()更新多个文档"
   ]
  },
  {
   "cell_type": "code",
   "execution_count": 19,
   "metadata": {},
   "outputs": [
    {
     "output_type": "execute_result",
     "data": {
      "text/plain": [
       "<pymongo.results.UpdateResult at 0x219f774f580>"
      ]
     },
     "metadata": {},
     "execution_count": 19
    }
   ],
   "source": [
    "db.bios.update_many({}, {\"$set\":{\"address\":\"Earth\"}}, upsert=True)"
   ]
  },
  {
   "cell_type": "code",
   "execution_count": 20,
   "metadata": {},
   "outputs": [
    {
     "output_type": "execute_result",
     "data": {
      "text/plain": [
       "{'_id': 1,\n",
       " 'name': {'first': 'John', 'last': 'Backus'},\n",
       " 'birth': datetime.datetime(1924, 12, 3, 5, 0),\n",
       " 'death': datetime.datetime(2007, 3, 17, 4, 0),\n",
       " 'contribs': ['Fortran', 'ALGOL', 'Backus-Naur Form', 'FP'],\n",
       " 'awards': [{'award': 'W.W. McDowell Award',\n",
       "   'year': 1967,\n",
       "   'by': 'IEEE Computer Society'},\n",
       "  {'award': 'National Medal of Science',\n",
       "   'year': 1975,\n",
       "   'by': 'National Science Foundation'},\n",
       "  {'award': 'Turing Award', 'year': 1977, 'by': 'ACM'},\n",
       "  {'award': 'Draper Prize',\n",
       "   'year': 1993,\n",
       "   'by': 'National Academy of Engineering'}],\n",
       " 'address': 'Earth'}"
      ]
     },
     "metadata": {},
     "execution_count": 20
    }
   ],
   "source": [
    "db.bios.find_one()"
   ]
  },
  {
   "cell_type": "markdown",
   "metadata": {},
   "source": [
    "#### 4. 删除文档"
   ]
  },
  {
   "cell_type": "markdown",
   "metadata": {},
   "source": [
    "- delete_one()"
   ]
  },
  {
   "cell_type": "code",
   "execution_count": 21,
   "metadata": {},
   "outputs": [
    {
     "output_type": "execute_result",
     "data": {
      "text/plain": [
       "<pymongo.results.DeleteResult at 0x219f774f800>"
      ]
     },
     "metadata": {},
     "execution_count": 21
    }
   ],
   "source": [
    "db.bios.delete_one({\"_id\":1})"
   ]
  },
  {
   "cell_type": "markdown",
   "metadata": {},
   "source": [
    "- delete_many()"
   ]
  },
  {
   "cell_type": "code",
   "execution_count": 22,
   "metadata": {},
   "outputs": [
    {
     "output_type": "execute_result",
     "data": {
      "text/plain": [
       "<pymongo.results.DeleteResult at 0x219f7757e80>"
      ]
     },
     "metadata": {},
     "execution_count": 22
    }
   ],
   "source": [
    "db.bios.delete_many({})"
   ]
  },
  {
   "cell_type": "code",
   "execution_count": 23,
   "metadata": {},
   "outputs": [
    {
     "output_type": "execute_result",
     "data": {
      "text/plain": [
       "[]"
      ]
     },
     "metadata": {},
     "execution_count": 23
    }
   ],
   "source": [
    "list(db.bios.find({}))"
   ]
  },
  {
   "cell_type": "markdown",
   "metadata": {},
   "source": [
    "#### 5. 删除集合 "
   ]
  },
  {
   "cell_type": "code",
   "execution_count": 24,
   "metadata": {},
   "outputs": [],
   "source": [
    "db.bios.drop()"
   ]
  },
  {
   "cell_type": "code",
   "execution_count": 25,
   "metadata": {},
   "outputs": [
    {
     "output_type": "execute_result",
     "data": {
      "text/plain": [
       "[]"
      ]
     },
     "metadata": {},
     "execution_count": 25
    }
   ],
   "source": [
    "list(db.bios.find({}))"
   ]
  },
  {
   "cell_type": "code",
   "execution_count": null,
   "metadata": {},
   "outputs": [],
   "source": []
  }
 ],
 "metadata": {
  "kernelspec": {
   "name": "python3",
   "display_name": "Python 3.8.5 64-bit (conda)",
   "metadata": {
    "interpreter": {
     "hash": "ecf5722fdaf1897a315d257d89d94520bfcaa453217d5becf09b39e73618b0de"
    }
   }
  },
  "language_info": {
   "codemirror_mode": {
    "name": "ipython",
    "version": 3
   },
   "file_extension": ".py",
   "mimetype": "text/x-python",
   "name": "python",
   "nbconvert_exporter": "python",
   "pygments_lexer": "ipython3",
   "version": "3.8.5-final"
  }
 },
 "nbformat": 4,
 "nbformat_minor": 2
}