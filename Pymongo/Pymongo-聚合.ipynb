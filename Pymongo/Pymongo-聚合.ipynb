{
 "cells": [
  {
   "cell_type": "markdown",
   "metadata": {},
   "source": [
    "# 聚合\n",
    "\n",
    "基本语法:\n",
    "\n",
    "```\n",
    "db.colllection.aggregate([\n",
    "    {'$match': {expressions}},\n",
    "    {'$group': {'new_field1': 'field1', 'new_field2': 'field2', ....}},\n",
    "    {'$project': {}},\n",
    "    {'$limit': 5},\n",
    "    {'$sort': {'new_field1': 1, 'new_field2': -1}\n",
    "    ])\n",
    "```\n",
    "\n",
    "- `$match` 阶段为第一阶段匹配，相当于sql中的`where子句`\n",
    "- `$group` 阶段为分组，相当于sql中的`group by子句`"
   ]
  },
  {
   "cell_type": "code",
   "execution_count": 2,
   "metadata": {},
   "outputs": [],
   "source": [
    "from pymongo import MongoClient\n",
    "from datetime import datetime\n",
    "from bson import ObjectId"
   ]
  },
  {
   "cell_type": "code",
   "execution_count": 3,
   "metadata": {},
   "outputs": [],
   "source": [
    "client = MongoClient('localhost', 27017)"
   ]
  },
  {
   "cell_type": "code",
   "execution_count": 4,
   "metadata": {},
   "outputs": [],
   "source": [
    "db = client['purchase']"
   ]
  },
  {
   "cell_type": "code",
   "execution_count": 5,
   "metadata": {},
   "outputs": [
    {
     "data": {
      "text/plain": [
       "['student', 'scores', 'subsort', 'sort', 'product']"
      ]
     },
     "execution_count": 5,
     "metadata": {},
     "output_type": "execute_result"
    }
   ],
   "source": [
    "db.list_collection_names()"
   ]
  },
  {
   "cell_type": "code",
   "execution_count": 6,
   "metadata": {},
   "outputs": [],
   "source": [
    "product = db.product\n",
    "sort = db.sort\n",
    "subsort = db.subsort"
   ]
  },
  {
   "cell_type": "code",
   "execution_count": 8,
   "metadata": {},
   "outputs": [
    {
     "data": {
      "text/plain": [
       "[{'_id': '北京', 'count': 226},\n",
       " {'_id': '河北', 'count': 100},\n",
       " {'_id': '宁波', 'count': 84},\n",
       " {'_id': '广东', 'count': 81},\n",
       " {'_id': '国产', 'count': 71},\n",
       " {'_id': '上海', 'count': 55},\n",
       " {'_id': '深圳', 'count': 47},\n",
       " {'_id': '广州', 'count': 41},\n",
       " {'_id': '日本', 'count': 41},\n",
       " {'_id': '马来西亚', 'count': 34}]"
      ]
     },
     "execution_count": 8,
     "metadata": {},
     "output_type": "execute_result"
    }
   ],
   "source": [
    "agg = product.aggregate([\n",
    "    {'$match': {'Price': {'$gt': 100}, 'Product_Place': {'$type': 'string'}}},\n",
    "    {'$group': {'_id': '$Product_Place', 'avg_price': {'$avg': '$Price'}, 'count': {'$sum':1}}},\n",
    "    {'$sort': {'count': -1}},\n",
    "    {'$project': {'count': 1}},\n",
    "    {'$limit': 10}\n",
    "])\n",
    "list(agg)"
   ]
  },
  {
   "cell_type": "code",
   "execution_count": 9,
   "metadata": {},
   "outputs": [
    {
     "data": {
      "text/plain": [
       "['天津',\n",
       " '江苏常熟',\n",
       " '日本',\n",
       " None,\n",
       " '国产',\n",
       " '日本/深圳',\n",
       " '马来西亚',\n",
       " '北京',\n",
       " '广州',\n",
       " '浙江',\n",
       " '上海',\n",
       " '深圳',\n",
       " '大连',\n",
       " '广东',\n",
       " '泰国',\n",
       " '山东',\n",
       " '杭州',\n",
       " '敖江',\n",
       " '河北',\n",
       " '香港',\n",
       " '宁波',\n",
       " '顺德',\n",
       " '中国',\n",
       " '法国',\n",
       " '常熟',\n",
       " '波多黎哥/爱尔兰/新加坡',\n",
       " '不定',\n",
       " '美国',\n",
       " '马来西亚/日本/美国/墨西哥',\n",
       " '菲律宾',\n",
       " '韩国',\n",
       " '汕头',\n",
       " '珠海',\n",
       " '惠州',\n",
       " '济南',\n",
       " '巴西',\n",
       " '台湾',\n",
       " '德国',\n",
       " '南韩',\n",
       " '安徽',\n",
       " '厦门',\n",
       " '英国',\n",
       " '福建',\n",
       " '江苏']"
      ]
     },
     "execution_count": 9,
     "metadata": {},
     "output_type": "execute_result"
    }
   ],
   "source": [
    "product.distinct('Product_Place', {'Price': {'$gt': 100}})"
   ]
  },
  {
   "cell_type": "markdown",
   "metadata": {},
   "source": [
    "### `$lookup`实现左连接查询\n",
    "\n",
    "```python\n",
    "db.collection.aggregate{\n",
    "   '$lookup':\n",
    "     {\n",
    "       from: <collection to join>,\n",
    "       localField: <field from the input documents>,\n",
    "       foreignField: <field from the documents of the \"from\" collection>,\n",
    "       as: <output array field>\n",
    "     }\n",
    "}\n",
    "```\n"
   ]
  },
  {
   "cell_type": "code",
   "execution_count": 10,
   "metadata": {},
   "outputs": [
    {
     "data": {
      "text/plain": [
       "{'_id': ObjectId('5bc8a96e8c93482510fe2dab'),\n",
       " 'SubSort_ID': '1101',\n",
       " 'SubSort_name': '复印机',\n",
       " 'Sort_ID': '11'}"
      ]
     },
     "execution_count": 10,
     "metadata": {},
     "output_type": "execute_result"
    }
   ],
   "source": [
    "subsort.find_one()"
   ]
  },
  {
   "cell_type": "code",
   "execution_count": 11,
   "metadata": {},
   "outputs": [
    {
     "data": {
      "text/plain": [
       "{'_id': ObjectId('5bc8a95a8c93482510fe2d8d'),\n",
       " 'Sort_ID': '11',\n",
       " 'Sort_name': '办公机器设备'}"
      ]
     },
     "execution_count": 11,
     "metadata": {},
     "output_type": "execute_result"
    }
   ],
   "source": [
    "sort.find_one()"
   ]
  },
  {
   "cell_type": "code",
   "execution_count": 12,
   "metadata": {},
   "outputs": [],
   "source": [
    "sort_subsort = subsort.aggregate([\n",
    "    {'$lookup':{\n",
    "    'from': \"sort\",\n",
    "    'localField': 'Sort_ID',\n",
    "    'foreignField': 'Sort_ID',\n",
    "    'as': 'sort_info'}},\n",
    "    {'$unwind': '$sort_info'},\n",
    "    {'$project': {\n",
    "         'SubSort_ID': True,\n",
    "         'SubSort_name': True,\n",
    "         'Sort_ID':True,\n",
    "         'sort_info.Sort_ID': True,\n",
    "         'sort_info.Sort_name': True,\n",
    "         '_id': False\n",
    "     }},\n",
    "     {'$limit': 10}])"
   ]
  },
  {
   "cell_type": "code",
   "execution_count": 13,
   "metadata": {},
   "outputs": [
    {
     "name": "stdout",
     "output_type": "stream",
     "text": [
      "{'SubSort_ID': '1101', 'SubSort_name': '复印机', 'Sort_ID': '11', 'sort_info': {'Sort_ID': '11', 'Sort_name': '办公机器设备'}}\n",
      "{'SubSort_ID': '1102', 'SubSort_name': '一体机', 'Sort_ID': '11', 'sort_info': {'Sort_ID': '11', 'Sort_name': '办公机器设备'}}\n",
      "{'SubSort_ID': '1103', 'SubSort_name': '复合机', 'Sort_ID': '11', 'sort_info': {'Sort_ID': '11', 'Sort_name': '办公机器设备'}}\n",
      "{'SubSort_ID': '1104', 'SubSort_name': '塑封机', 'Sort_ID': '11', 'sort_info': {'Sort_ID': '11', 'Sort_name': '办公机器设备'}}\n",
      "{'SubSort_ID': '1105', 'SubSort_name': '装裱机', 'Sort_ID': '11', 'sort_info': {'Sort_ID': '11', 'Sort_name': '办公机器设备'}}\n",
      "{'SubSort_ID': '1106', 'SubSort_name': '装订机', 'Sort_ID': '11', 'sort_info': {'Sort_ID': '11', 'Sort_name': '办公机器设备'}}\n",
      "{'SubSort_ID': '1107', 'SubSort_name': '碎纸机', 'Sort_ID': '11', 'sort_info': {'Sort_ID': '11', 'Sort_name': '办公机器设备'}}\n",
      "{'SubSort_ID': '1108', 'SubSort_name': '交换机', 'Sort_ID': '11', 'sort_info': {'Sort_ID': '11', 'Sort_name': '办公机器设备'}}\n",
      "{'SubSort_ID': '1109', 'SubSort_name': '电话机', 'Sort_ID': '11', 'sort_info': {'Sort_ID': '11', 'Sort_name': '办公机器设备'}}\n",
      "{'SubSort_ID': '1110', 'SubSort_name': '子母机', 'Sort_ID': '11', 'sort_info': {'Sort_ID': '11', 'Sort_name': '办公机器设备'}}\n"
     ]
    }
   ],
   "source": [
    "for s in sort_subsort:\n",
    "    print(s)"
   ]
  },
  {
   "cell_type": "code",
   "execution_count": null,
   "metadata": {},
   "outputs": [],
   "source": []
  }
 ],
 "metadata": {
  "kernelspec": {
   "display_name": "Python 3",
   "language": "python",
   "name": "python3"
  },
  "language_info": {
   "codemirror_mode": {
    "name": "ipython",
    "version": 3
   },
   "file_extension": ".py",
   "mimetype": "text/x-python",
   "name": "python",
   "nbconvert_exporter": "python",
   "pygments_lexer": "ipython3",
   "version": "3.7.0"
  }
 },
 "nbformat": 4,
 "nbformat_minor": 2
}
