{
 "cells": [
  {
   "cell_type": "markdown",
   "metadata": {},
   "source": [
    "# MongoDB更新与删除"
   ]
  },
  {
   "cell_type": "code",
   "execution_count": 1,
   "metadata": {},
   "outputs": [],
   "source": [
    "from pymongo import MongoClient\n",
    "from datetime import datetime\n",
    "from bson import ObjectId"
   ]
  },
  {
   "cell_type": "code",
   "execution_count": 2,
   "metadata": {},
   "outputs": [],
   "source": [
    "client = MongoClient('localhost', 27017)"
   ]
  },
  {
   "cell_type": "code",
   "execution_count": 109,
   "metadata": {},
   "outputs": [
    {
     "name": "stdout",
     "output_type": "stream",
     "text": [
      "name                     sizeOnDisk               empty                    \n",
      "abmDiffusion             11501568                 0                        \n",
      "admin                    32768                    0                        \n",
      "config                   110592                   0                        \n",
      "lagou                    950272                   0                        \n",
      "local                    77824                    0                        \n",
      "mdb_test                 421888                   0                        \n",
      "moniter_crowdfunding     147832832                0                        \n",
      "purchase                 606208                   0                        \n",
      "temp                     73728                    0                        \n",
      "test                     40960                    0                        \n"
     ]
    }
   ],
   "source": [
    "for i, db in enumerate(client.list_databases()):\n",
    "    if i == 0:\n",
    "        for key in db:\n",
    "            print(f\"{key:<25s}\", end='')\n",
    "        print()\n",
    "    for key in db:\n",
    "        if isinstance(db[key], float):\n",
    "            print(f\"{db[key]:<25.0f}\", end='')\n",
    "        elif isinstance(db[key], bool):\n",
    "            print(f\"{db[key]:<25}\", end='')\n",
    "        else:\n",
    "            print(f\"{str(db[key]):<25}\", end='')\n",
    "    print()\n",
    "        "
   ]
  },
  {
   "cell_type": "markdown",
   "metadata": {},
   "source": [
    "## 一、更新文档"
   ]
  },
  {
   "cell_type": "markdown",
   "metadata": {},
   "source": [
    "`db.collection.update_one()`或`db.collection.update_many()` 方法用于更新已存在的文档。语法格式如下：\n",
    "```javascript\n",
    "db.<collection_name>.update_one(\n",
    "   <query>,\n",
    "   <update>,\n",
    "   {\n",
    "     upsert: <boolean>,\n",
    "     multi: <boolean>,\n",
    "     writeConcern: <document>\n",
    "   }\n",
    ")\n",
    "```\n",
    ">参数说明：\n",
    "- `query: update`的查询条件，类似`sql update`查询内`where`子句。\n",
    "- `update: update`的对象和一些更新的操作符（如`$,$inc`...）等，也可以理解为`sql update`查询内`set`子句\n",
    "- `upsert`: 可选, 即如果不存在`update`的记录，是否插入`objNew`,　**`True`为插入，默认是`False`，不插入**。\n",
    "- `multi`: 可选，默认是`False`, 只更新找到的第1条记录, 如果这个参数为`True`,就把按条件查出来多条记录全部更新。\n",
    "- `writeConcern` :可选，抛出异常的级别。"
   ]
  },
  {
   "cell_type": "code",
   "execution_count": 111,
   "metadata": {},
   "outputs": [],
   "source": [
    "db = client.mdb_test"
   ]
  },
  {
   "cell_type": "code",
   "execution_count": 112,
   "metadata": {},
   "outputs": [
    {
     "data": {
      "text/plain": [
       "['bios', 'collec_test', 'tags', 'users', 'scores', 'products', 'student']"
      ]
     },
     "execution_count": 112,
     "metadata": {},
     "output_type": "execute_result"
    }
   ],
   "source": [
    "db.list_collection_names()"
   ]
  },
  {
   "cell_type": "code",
   "execution_count": 113,
   "metadata": {},
   "outputs": [
    {
     "name": "stdout",
     "output_type": "stream",
     "text": [
      "{'_id': ObjectId('5cd9273cf5d4321faa2849ec'), 'student_id': 2015210315, 'student_name': '张三丰', 'gender': '男'}\n",
      "{'_id': ObjectId('5cd92796f5d4321faa2849ed'), 'student_id': 2015210316, 'student_name': '李想', 'gender': '女'}\n",
      "{'_id': 2015210317, 'student_name': '郭涛', 'gender': '男'}\n",
      "{'_id': ObjectId('5cd9294af5d4321faa2849ee'), 'student_id': 2015210318, 'student_name': 'Joshi', 'gender': '男'}\n",
      "{'_id': ObjectId('5cd9294af5d4321faa2849ef'), 'student_id': 2015210319, 'student_name': 'Kevin', 'gender': '男'}\n",
      "{'_id': ObjectId('5cd9294af5d4321faa2849f0'), 'student_id': 2015210320, 'student_name': 'Lily', 'gender': '女'}\n",
      "{'_id': ObjectId('5cd9352af5d4321faa2849f1'), 'student_id': 2015210321, 'student_name': 'Steven', 'gender': '男', 'score': [70, 89]}\n",
      "{'_id': ObjectId('5cd9352af5d4321faa2849f2'), 'student_id': 2015210322, 'student_name': 'Tony', 'gender': '男', 'score': [65, 89]}\n",
      "{'_id': ObjectId('5cd9928af5d4321faa2849f3'), 'student_id': 2015210323, 'student_name': 'Tom', 'gender': '男', 'score': [65, 89, 73, 78, 99]}\n",
      "{'_id': ObjectId('5cd9928af5d4321faa2849f4'), 'student_id': 2015210324, 'student_name': 'Shelly', 'gender': '女', 'score': [55, 99, 43, 75, 87]}\n",
      "{'_id': ObjectId('5ce24edc63dd06c18464d2cc'), 'student_name': '张山峰', 'gender': '男'}\n"
     ]
    }
   ],
   "source": [
    "for x in db.student.find():\n",
    "    print(x)"
   ]
  },
  {
   "cell_type": "markdown",
   "metadata": {},
   "source": [
    "### 域更新操作符\n",
    "\n",
    "以下是一些常用的更新操作符.\n",
    "\n",
    "| 名称     | 描述     |\n",
    "| ---- | ---- |\n",
    "| `$currentDate`       | 将目标`field`的值设置为当前日期; 如果目标`field`不存在, 将目标域加入`document`      |\n",
    "| `$inc`  | 将目标`field`的值增加特定的量  |\n",
    "| `$min`   | 当目标值小于`field`值时, 更新为目标值; 否则保留原有`field`值不变  |\n",
    "| `$max`   | 当目标值大于`field`值时, 更新为目标值; 否则保留原有`field`值不变  |\n",
    "| `$mul`   | 将`field`的值乘以目标值  |\n",
    "| `$rename`   | 重命名`field`  |\n",
    "| `$set`   | 为`field`设为目标值  |\n",
    "| `$setOnInsert`   | 为更新时新插入文档的`field`设置目标值, 如果更新前文档已存在, 则不操作  |\n",
    "| `$unset`   | 删除文档中的特定`field`; 如果目标`field`不存在, 则不进行任何操作  |\n"
   ]
  },
  {
   "cell_type": "markdown",
   "metadata": {},
   "source": [
    "### 1. `$set`更新符\n",
    "\n",
    "将符合条件的文档的某个域对应的值更新"
   ]
  },
  {
   "cell_type": "code",
   "execution_count": 40,
   "metadata": {},
   "outputs": [
    {
     "data": {
      "text/plain": [
       "<pymongo.results.UpdateResult at 0x10455d648>"
      ]
     },
     "execution_count": 40,
     "metadata": {},
     "output_type": "execute_result"
    }
   ],
   "source": [
    "db.student.update_one({\"student_name\": '李想'}, {'$set': {\"gender\": '女'}})  # 将student_name为李想的文档的gender更新为女"
   ]
  },
  {
   "cell_type": "code",
   "execution_count": 41,
   "metadata": {},
   "outputs": [
    {
     "data": {
      "text/plain": [
       "{'_id': ObjectId('5cd92796f5d4321faa2849ed'),\n",
       " 'student_id': 2015210316,\n",
       " 'student_name': '李想',\n",
       " 'gender': '女'}"
      ]
     },
     "execution_count": 41,
     "metadata": {},
     "output_type": "execute_result"
    }
   ],
   "source": [
    "x = db.student.find_one({\"student_name\": '李想'})\n",
    "x"
   ]
  },
  {
   "cell_type": "markdown",
   "metadata": {},
   "source": [
    "- 如果更新的时候`<query>`未匹配任何记录, 则可通过指定`{\"upsert\":True}`将该记录插入进目标`collection`."
   ]
  },
  {
   "cell_type": "code",
   "execution_count": 46,
   "metadata": {},
   "outputs": [],
   "source": [
    "db.student.update_one({\"student_name\": '张山峰'}, {'$set': {\"gender\": '男'}}) \n",
    "db.student.find_one({\"student_name\": '张山峰'})"
   ]
  },
  {
   "cell_type": "markdown",
   "metadata": {},
   "source": [
    "> 以上尝试将student_name为张山峰的文档的gender更新为男，然而由于student中没有名字为张山峰的学生，因此不更新任何文档（不会报错）。如果加入`{'upsert': True}`则可将`{\"_id\": ...., \"student_name\": '张山峰', \"gender\": '男'}`加入`student`中。"
   ]
  },
  {
   "cell_type": "code",
   "execution_count": 49,
   "metadata": {},
   "outputs": [
    {
     "data": {
      "text/plain": [
       "<pymongo.results.UpdateResult at 0x1046c7388>"
      ]
     },
     "execution_count": 49,
     "metadata": {},
     "output_type": "execute_result"
    }
   ],
   "source": [
    "db.student.update_one({\"student_name\": '张山峰'},  {'$set': {\"gender\": '男'}}, upsert=True)"
   ]
  },
  {
   "cell_type": "code",
   "execution_count": 50,
   "metadata": {},
   "outputs": [
    {
     "data": {
      "text/plain": [
       "{'_id': ObjectId('5ce24edc63dd06c18464d2cc'),\n",
       " 'student_name': '张山峰',\n",
       " 'gender': '男'}"
      ]
     },
     "execution_count": 50,
     "metadata": {},
     "output_type": "execute_result"
    }
   ],
   "source": [
    "db.student.find_one({\"student_name\": '张山峰'})"
   ]
  },
  {
   "cell_type": "markdown",
   "metadata": {},
   "source": [
    "- `$setOnInsert` 在`update=True`时，设置除`$set`之外的其它域值对。\n",
    "\n",
    "```python\n",
    "db.collection.update(\n",
    "   <query>,\n",
    "   {'$set': {<field2>: <value2>}\n",
    "    '$setOnInsert': { <field2>: <value2>, ... } },\n",
    "  upsert=True}\n",
    ")\n",
    "```"
   ]
  },
  {
   "cell_type": "code",
   "execution_count": 142,
   "metadata": {},
   "outputs": [
    {
     "data": {
      "text/plain": [
       "<pymongo.results.UpdateResult at 0x105073408>"
      ]
     },
     "execution_count": 142,
     "metadata": {},
     "output_type": "execute_result"
    }
   ],
   "source": [
    "db.student.update_one({\"student_name\": '张勇'},  {'$set': {\"gender\": '男'}, '$setOnInsert': {\"student_id\": 2015210999}}, upsert=True)"
   ]
  },
  {
   "cell_type": "markdown",
   "metadata": {},
   "source": [
    "#### 2. `$currentDate`更新符"
   ]
  },
  {
   "cell_type": "code",
   "execution_count": 57,
   "metadata": {},
   "outputs": [],
   "source": [
    "from datetime import datetime"
   ]
  },
  {
   "cell_type": "markdown",
   "metadata": {},
   "source": [
    "示例: 往集合`users`插入一个document: `{ _id: 1, status: \"a\", lastModified: ISODate(\"2013-10-02T01:11:18.965Z\") }`, 然后利用`$currentDate`操作符更新`lastModified`的值"
   ]
  },
  {
   "cell_type": "code",
   "execution_count": 71,
   "metadata": {},
   "outputs": [
    {
     "data": {
      "text/plain": [
       "<pymongo.results.InsertOneResult at 0x104efdf88>"
      ]
     },
     "execution_count": 71,
     "metadata": {},
     "output_type": "execute_result"
    }
   ],
   "source": [
    "db.users.insert_one({'_id': 1, 'status': \"a\", 'lastModified': datetime(2013, 10, 2, 1, 11, 18, 965)})"
   ]
  },
  {
   "cell_type": "code",
   "execution_count": 72,
   "metadata": {},
   "outputs": [
    {
     "data": {
      "text/plain": [
       "{'_id': 1,\n",
       " 'status': 'a',\n",
       " 'lastModified': datetime.datetime(2013, 10, 2, 1, 11, 18)}"
      ]
     },
     "execution_count": 72,
     "metadata": {},
     "output_type": "execute_result"
    }
   ],
   "source": [
    "db.users.find_one()"
   ]
  },
  {
   "cell_type": "code",
   "execution_count": 73,
   "metadata": {},
   "outputs": [
    {
     "data": {
      "text/plain": [
       "<pymongo.results.UpdateResult at 0x104c4fec8>"
      ]
     },
     "execution_count": 73,
     "metadata": {},
     "output_type": "execute_result"
    }
   ],
   "source": [
    "db.users.update_one(\n",
    "    {'_id': 1},\n",
    "    {\n",
    "        '$currentDate': {\n",
    "            'lastModified': True,\n",
    "            'cancellation.date': {'$type': 'timestamp'}\n",
    "        },\n",
    "        '$set': {\n",
    "            'status': 'D',\n",
    "            'cancellation.reason': \"user request\"}\n",
    "    },\n",
    ")"
   ]
  },
  {
   "cell_type": "code",
   "execution_count": 75,
   "metadata": {},
   "outputs": [
    {
     "data": {
      "text/plain": [
       "{'_id': 1,\n",
       " 'status': 'D',\n",
       " 'lastModified': datetime.datetime(2019, 5, 20, 7, 36, 6, 760000),\n",
       " 'cancellation': {'date': Timestamp(1558337766, 1), 'reason': 'user request'}}"
      ]
     },
     "execution_count": 75,
     "metadata": {},
     "output_type": "execute_result"
    }
   ],
   "source": [
    "db.users.find_one()"
   ]
  },
  {
   "cell_type": "code",
   "execution_count": 69,
   "metadata": {},
   "outputs": [
    {
     "data": {
      "text/plain": [
       "<pymongo.results.DeleteResult at 0x1050736c8>"
      ]
     },
     "execution_count": 69,
     "metadata": {},
     "output_type": "execute_result"
    }
   ],
   "source": [
    "db.users.delete_one({\"_id\": 1})"
   ]
  },
  {
   "cell_type": "markdown",
   "metadata": {},
   "source": [
    "#### 3. `$inc`更新符\n",
    "语法格式如下:`{ '$inc': { <field1>: <amount1>, <field2>: <amount2>, ... } }`. `$inc`操作符接收一个正数或者负数. 如果目标`field`不存在, 则插入该`field`和`$inc`目标值."
   ]
  },
  {
   "cell_type": "markdown",
   "metadata": {},
   "source": [
    "示例: 往集合`products`插入一个document: `{'_id': 1, 'sku': \"abc123\", 'quantity': 10, 'metrics': {'orders': 2, 'ratings': 3.5}}`, 然后利用`$inc`操作符更新`quantity`和`metrics.orders`的值."
   ]
  },
  {
   "cell_type": "code",
   "execution_count": 81,
   "metadata": {},
   "outputs": [
    {
     "data": {
      "text/plain": [
       "<pymongo.results.InsertOneResult at 0x1046dd308>"
      ]
     },
     "execution_count": 81,
     "metadata": {},
     "output_type": "execute_result"
    }
   ],
   "source": [
    "db.products.insert_one({'_id': 1, 'sku': \"abc123\", 'quantity': 10, 'metrics': {'orders': 2, 'ratings': 3.5}})"
   ]
  },
  {
   "cell_type": "code",
   "execution_count": 84,
   "metadata": {},
   "outputs": [
    {
     "data": {
      "text/plain": [
       "{'_id': 1,\n",
       " 'sku': 'abc123',\n",
       " 'quantity': 8,\n",
       " 'metrics': {'orders': 3, 'ratings': 3.5}}"
      ]
     },
     "execution_count": 84,
     "metadata": {},
     "output_type": "execute_result"
    }
   ],
   "source": [
    "db.products.find_one()"
   ]
  },
  {
   "cell_type": "code",
   "execution_count": 83,
   "metadata": {},
   "outputs": [
    {
     "data": {
      "text/plain": [
       "<pymongo.results.UpdateResult at 0x105073f08>"
      ]
     },
     "execution_count": 83,
     "metadata": {},
     "output_type": "execute_result"
    }
   ],
   "source": [
    "db.products.update_one(\n",
    "    {\"sku\": \"abc123\"},\n",
    "    {\n",
    "        \"$inc\": {\n",
    "            \"quantity\": -2, \"metrics.orders\": 1\n",
    "        }\n",
    "    }\n",
    ")"
   ]
  },
  {
   "cell_type": "code",
   "execution_count": 80,
   "metadata": {},
   "outputs": [
    {
     "data": {
      "text/plain": [
       "<pymongo.results.DeleteResult at 0x105073f48>"
      ]
     },
     "execution_count": 80,
     "metadata": {},
     "output_type": "execute_result"
    }
   ],
   "source": [
    "db.products.delete_one({\"_id\":1})"
   ]
  },
  {
   "cell_type": "markdown",
   "metadata": {},
   "source": [
    "#### 4. `$max`和`$min`更新符\n",
    "\n",
    "语法格式: `{ $min: { <field1>: <value1>, ... } }` 或者 `{ $max: { <field1>: <value1>, ... } }`. 这两个操作符可用于数值和日期比较."
   ]
  },
  {
   "cell_type": "markdown",
   "metadata": {},
   "source": [
    "- 更新数值\n",
    "\n",
    "往scores集合中插入一条记录`{ _id: 1, highScore: 800, lowScore: 200 }`, 然后利用`$max`和`$min`对其`lowerScore`和`higherScore`进行更新操作."
   ]
  },
  {
   "cell_type": "code",
   "execution_count": 85,
   "metadata": {},
   "outputs": [
    {
     "data": {
      "text/plain": [
       "<pymongo.results.InsertOneResult at 0x104be6908>"
      ]
     },
     "execution_count": 85,
     "metadata": {},
     "output_type": "execute_result"
    }
   ],
   "source": [
    "db.scores.insert_one({'_id': 1, 'highScore': 800, 'lowScore': 200 })"
   ]
  },
  {
   "cell_type": "code",
   "execution_count": 86,
   "metadata": {},
   "outputs": [
    {
     "data": {
      "text/plain": [
       "<pymongo.results.UpdateResult at 0x105062388>"
      ]
     },
     "execution_count": 86,
     "metadata": {},
     "output_type": "execute_result"
    }
   ],
   "source": [
    "db.scores.update_one({'_id': 1}, \n",
    "                     {\"$min\": {'highScore': 900}, \n",
    "                      \"$max\": {'lowScore': 250}\n",
    "                     })"
   ]
  },
  {
   "cell_type": "code",
   "execution_count": 87,
   "metadata": {},
   "outputs": [
    {
     "data": {
      "text/plain": [
       "{'_id': 1, 'highScore': 800, 'lowScore': 250}"
      ]
     },
     "execution_count": 87,
     "metadata": {},
     "output_type": "execute_result"
    }
   ],
   "source": [
    "db.scores.find_one()"
   ]
  },
  {
   "cell_type": "markdown",
   "metadata": {},
   "source": [
    "- 更新时间\n",
    "\n",
    "往tags集合中插入一个文档`{ _id: 1, desc: \"crafts\", dateEntered: ISODate(\"2013-10-01T05:00:00Z\"), dateExpired: ISODate(\"2013-10-01T16:38:16Z\") }`, 然后利用`$max`和`$min`对其进行更新操作."
   ]
  },
  {
   "cell_type": "code",
   "execution_count": 95,
   "metadata": {},
   "outputs": [
    {
     "data": {
      "text/plain": [
       "<pymongo.results.InsertOneResult at 0x105073488>"
      ]
     },
     "execution_count": 95,
     "metadata": {},
     "output_type": "execute_result"
    }
   ],
   "source": [
    "db.tags.insert_one({\n",
    "  '_id': 1,\n",
    "  'desc': \"crafts\",\n",
    "  'dateEntered': datetime(2013, 10, 1, 5),\n",
    "  'dateExpired': datetime(2015, 10, 1, 16, 38, 16)\n",
    "})"
   ]
  },
  {
   "cell_type": "code",
   "execution_count": 96,
   "metadata": {},
   "outputs": [
    {
     "data": {
      "text/plain": [
       "<pymongo.results.UpdateResult at 0x104110e08>"
      ]
     },
     "execution_count": 96,
     "metadata": {},
     "output_type": "execute_result"
    }
   ],
   "source": [
    "db.tags.update_one(\n",
    "   {'_id': 1 },\n",
    "   {\"$min\": {'dateEntered': datetime(2013, 9, 25)},\n",
    "    '$max': {'dateExpired': datetime(2016, 10, 1)}})"
   ]
  },
  {
   "cell_type": "code",
   "execution_count": 97,
   "metadata": {},
   "outputs": [
    {
     "data": {
      "text/plain": [
       "{'_id': 1,\n",
       " 'desc': 'crafts',\n",
       " 'dateEntered': datetime.datetime(2013, 9, 25, 0, 0),\n",
       " 'dateExpired': datetime.datetime(2016, 10, 1, 0, 0)}"
      ]
     },
     "execution_count": 97,
     "metadata": {},
     "output_type": "execute_result"
    }
   ],
   "source": [
    "db.tags.find_one()"
   ]
  },
  {
   "cell_type": "code",
   "execution_count": 94,
   "metadata": {},
   "outputs": [
    {
     "data": {
      "text/plain": [
       "<pymongo.results.DeleteResult at 0x105062ec8>"
      ]
     },
     "execution_count": 94,
     "metadata": {},
     "output_type": "execute_result"
    }
   ],
   "source": [
    "db.tags.delete_one({})"
   ]
  },
  {
   "cell_type": "markdown",
   "metadata": {},
   "source": [
    "#### 5. `$mul`更新符\n",
    "\n",
    "语法格式: `{ '$mul': { <field1>: <number1>, ... } }`. `field`必须包含一个数值."
   ]
  },
  {
   "cell_type": "markdown",
   "metadata": {},
   "source": [
    "**示例: 往products集合中插入一个文档`{ \"_id\" : 2, \"item\" : \"ABC\", \"price\" : NumberDecimal(\"10.99\"), \"qty\" : 25 }`, 然后利用`$mul`进行操作.**"
   ]
  },
  {
   "cell_type": "code",
   "execution_count": 98,
   "metadata": {},
   "outputs": [
    {
     "data": {
      "text/plain": [
       "<pymongo.results.InsertOneResult at 0x104bf4188>"
      ]
     },
     "execution_count": 98,
     "metadata": {},
     "output_type": "execute_result"
    }
   ],
   "source": [
    "db.products.insert_one({ \n",
    "    \"_id\" : 2, \n",
    "    \"item\" : \"ABC\", \n",
    "    \"price\" : 10.99, \n",
    "    \"qty\" : 25 })"
   ]
  },
  {
   "cell_type": "code",
   "execution_count": 99,
   "metadata": {},
   "outputs": [
    {
     "data": {
      "text/plain": [
       "<pymongo.results.UpdateResult at 0x104c4f188>"
      ]
     },
     "execution_count": 99,
     "metadata": {},
     "output_type": "execute_result"
    }
   ],
   "source": [
    "db.products.update_one({'_id': 2},\n",
    "                      {\n",
    "                          '$mul': {'price': 1.5, \n",
    "                                   'qty': 2}\n",
    "                      })"
   ]
  },
  {
   "cell_type": "code",
   "execution_count": 101,
   "metadata": {},
   "outputs": [
    {
     "data": {
      "text/plain": [
       "{'_id': 2, 'item': 'ABC', 'price': 16.485, 'qty': 50}"
      ]
     },
     "execution_count": 101,
     "metadata": {},
     "output_type": "execute_result"
    }
   ],
   "source": [
    "db.products.find_one({'_id': 2})"
   ]
  },
  {
   "cell_type": "markdown",
   "metadata": {},
   "source": [
    "#### 6. `$unset`更新符\n",
    "语法格式: `{'$unset': { <field1>: \"\", <field2>: \"\", ... } }`. 注意, field可以对应任意值. 如果目标field不存在, 则不进行任何操作."
   ]
  },
  {
   "cell_type": "markdown",
   "metadata": {},
   "source": [
    "**示例: 删除products集合中_id为1的文档中的metrics域.**"
   ]
  },
  {
   "cell_type": "code",
   "execution_count": 102,
   "metadata": {},
   "outputs": [
    {
     "name": "stdout",
     "output_type": "stream",
     "text": [
      "{'_id': 1, 'sku': 'abc123', 'quantity': 8, 'metrics': {'orders': 3, 'ratings': 3.5}}\n",
      "{'_id': 2, 'item': 'ABC', 'price': 16.485, 'qty': 50}\n"
     ]
    }
   ],
   "source": [
    "for x in db.products.find({}):\n",
    "    print(x)"
   ]
  },
  {
   "cell_type": "code",
   "execution_count": 103,
   "metadata": {},
   "outputs": [
    {
     "data": {
      "text/plain": [
       "<pymongo.results.UpdateResult at 0x104c4ff48>"
      ]
     },
     "execution_count": 103,
     "metadata": {},
     "output_type": "execute_result"
    }
   ],
   "source": [
    "db.products.update_one({'_id':1}, \n",
    "                       {'$unset':{'metrics':0}})"
   ]
  },
  {
   "cell_type": "code",
   "execution_count": 104,
   "metadata": {},
   "outputs": [
    {
     "name": "stdout",
     "output_type": "stream",
     "text": [
      "{'_id': 1, 'sku': 'abc123', 'quantity': 8}\n",
      "{'_id': 2, 'item': 'ABC', 'price': 16.485, 'qty': 50}\n"
     ]
    }
   ],
   "source": [
    "for x in db.products.find({}):\n",
    "    print(x)"
   ]
  },
  {
   "cell_type": "markdown",
   "metadata": {},
   "source": [
    "#### 7. `$rename`更新符\n",
    "语法格式: `{'$rename': { <field1>: <newName1>, <field2>: <newName2>, ... } }`. 注意, 新的名称必须与原名称不同. 在逻辑上, `$rename`等价于通过`$unset`操作符删除掉原有域, 然后再插入一个有`newName`和原值的文档. 如果目标`field`不存在, 则不进行任何操作."
   ]
  },
  {
   "cell_type": "markdown",
   "metadata": {},
   "source": [
    "**示例: 往products集合中插入一个文档`{\"_id\" : 4, \"item\" : \"apple\", \"price\" : 16, \"qty\" : 45}`, 然后将item重命名为`product_name`。**"
   ]
  },
  {
   "cell_type": "code",
   "execution_count": 105,
   "metadata": {},
   "outputs": [
    {
     "data": {
      "text/plain": [
       "<pymongo.results.InsertOneResult at 0x104effb48>"
      ]
     },
     "execution_count": 105,
     "metadata": {},
     "output_type": "execute_result"
    }
   ],
   "source": [
    "db.products.insert_one({\"_id\" : 4, \"item\" : \"apple\", \"price\" : 16, \"qty\" : 45})"
   ]
  },
  {
   "cell_type": "code",
   "execution_count": 106,
   "metadata": {},
   "outputs": [
    {
     "name": "stdout",
     "output_type": "stream",
     "text": [
      "{'_id': 1, 'sku': 'abc123', 'quantity': 8}\n",
      "{'_id': 2, 'item': 'ABC', 'price': 16.485, 'qty': 50}\n",
      "{'_id': 4, 'item': 'apple', 'price': 16, 'qty': 45}\n"
     ]
    }
   ],
   "source": [
    "for x in db.products.find({}):\n",
    "    print(x)"
   ]
  },
  {
   "cell_type": "code",
   "execution_count": 107,
   "metadata": {},
   "outputs": [
    {
     "data": {
      "text/plain": [
       "<pymongo.results.UpdateResult at 0x1050627c8>"
      ]
     },
     "execution_count": 107,
     "metadata": {},
     "output_type": "execute_result"
    }
   ],
   "source": [
    "db.products.update_one({'_id': 4}, {'$rename':{'item': \"product_name\"}})"
   ]
  },
  {
   "cell_type": "code",
   "execution_count": 108,
   "metadata": {},
   "outputs": [
    {
     "data": {
      "text/plain": [
       "{'_id': 4, 'price': 16, 'qty': 45, 'product_name': 'apple'}"
      ]
     },
     "execution_count": 108,
     "metadata": {},
     "output_type": "execute_result"
    }
   ],
   "source": [
    "db.products.find_one({'_id': 4})"
   ]
  },
  {
   "cell_type": "markdown",
   "metadata": {},
   "source": [
    "### 其它更新方法"
   ]
  },
  {
   "cell_type": "markdown",
   "metadata": {},
   "source": [
    "- `update_many(filter, update, upsert=False, array_filters=None, bypass_document_validation=False, collation=None, session=None)`。除了`update_one()`之外，也可以使用`update_many()`更新满足`filter`条件的1到多个文档。\n",
    "- `find_one_and_update(filter, update, projection=None, sort=None, upsert=False, return_document=False, array_filters=None, session=None, **kwargs) `。`find_one_and_update`可用于查询与更新满足`filter`条件的文档。"
   ]
  },
  {
   "cell_type": "markdown",
   "metadata": {},
   "source": [
    "## 二、删除文档\n",
    "\n",
    "MongoDB中的集合有`delete_one(), delte_many(), find_one_and_delete()`等方法删除符合查询条件的文档。"
   ]
  },
  {
   "cell_type": "markdown",
   "metadata": {},
   "source": [
    "### 1. `delte_one()`删除符合`filter`条件的文档\n",
    "\n",
    "语法:\n",
    "```python\n",
    "db.collection.delete_one(\n",
    "   <filter>,\n",
    "   {\n",
    "      writeConcern: <document>,\n",
    "      collation: <document>\n",
    "   }\n",
    "```\n",
    "- `<filter>`是必选参数，为文档类型，通过查询操作符指定操作类型，然后删除满足条件的第1个文档。"
   ]
  },
  {
   "cell_type": "markdown",
   "metadata": {},
   "source": [
    "**示例: 删除products表中第1条文档，删除products中item为ABC的文档。**"
   ]
  },
  {
   "cell_type": "code",
   "execution_count": 114,
   "metadata": {},
   "outputs": [
    {
     "data": {
      "text/plain": [
       "[{'_id': 1, 'sku': 'abc123', 'quantity': 8},\n",
       " {'_id': 2, 'item': 'ABC', 'price': 16.485, 'qty': 50},\n",
       " {'_id': 4, 'price': 16, 'qty': 45, 'product_name': 'apple'}]"
      ]
     },
     "execution_count": 114,
     "metadata": {},
     "output_type": "execute_result"
    }
   ],
   "source": [
    "list(db.products.find())"
   ]
  },
  {
   "cell_type": "code",
   "execution_count": 117,
   "metadata": {},
   "outputs": [
    {
     "data": {
      "text/plain": [
       "<pymongo.results.DeleteResult at 0x105073b08>"
      ]
     },
     "execution_count": 117,
     "metadata": {},
     "output_type": "execute_result"
    }
   ],
   "source": [
    "db.products.delete_one({})"
   ]
  },
  {
   "cell_type": "code",
   "execution_count": 120,
   "metadata": {},
   "outputs": [
    {
     "data": {
      "text/plain": [
       "[{'_id': 2, 'item': 'ABC', 'price': 16.485, 'qty': 50},\n",
       " {'_id': 4, 'price': 16, 'qty': 45, 'product_name': 'apple'},\n",
       " {'_id': 3, 'item': 'ABC', 'price': 16.485, 'qty': 50}]"
      ]
     },
     "execution_count": 120,
     "metadata": {},
     "output_type": "execute_result"
    }
   ],
   "source": [
    "list(db.products.find())"
   ]
  },
  {
   "cell_type": "code",
   "execution_count": 119,
   "metadata": {},
   "outputs": [
    {
     "data": {
      "text/plain": [
       "<pymongo.results.InsertOneResult at 0x105251888>"
      ]
     },
     "execution_count": 119,
     "metadata": {},
     "output_type": "execute_result"
    }
   ],
   "source": [
    "db.products.insert_one({'_id': 3, 'item': 'ABC', 'price': 16.485, 'qty': 50})  # 先插入1条item为ABC的文档"
   ]
  },
  {
   "cell_type": "code",
   "execution_count": 121,
   "metadata": {},
   "outputs": [
    {
     "data": {
      "text/plain": [
       "<pymongo.results.DeleteResult at 0x104c4f548>"
      ]
     },
     "execution_count": 121,
     "metadata": {},
     "output_type": "execute_result"
    }
   ],
   "source": [
    "db.products.delete_one({'item': 'ABC'})"
   ]
  },
  {
   "cell_type": "code",
   "execution_count": 122,
   "metadata": {},
   "outputs": [
    {
     "data": {
      "text/plain": [
       "[{'_id': 4, 'price': 16, 'qty': 45, 'product_name': 'apple'},\n",
       " {'_id': 3, 'item': 'ABC', 'price': 16.485, 'qty': 50}]"
      ]
     },
     "execution_count": 122,
     "metadata": {},
     "output_type": "execute_result"
    }
   ],
   "source": [
    "list(db.products.find())  # 删除了1条item为ABC的文档"
   ]
  },
  {
   "cell_type": "markdown",
   "metadata": {},
   "source": [
    "### 2. `delete_many()`删除多个文档\n",
    "\n",
    "语法:\n",
    "\n",
    "```python\n",
    "db.collection.delete_many(\n",
    "   <filter>,\n",
    "   {\n",
    "      writeConcern: <document>,\n",
    "      collation: <document>\n",
    "   }\n",
    ")\n",
    "```\n",
    "\n",
    "- `<filter>`为文档类型，通过查询操作符指定操作类型，然后删除满足条件的所有文档。该参数必须有值，即使是{}。如果要删除所有文档，则需传递一个空文档{}。"
   ]
  },
  {
   "cell_type": "markdown",
   "metadata": {},
   "source": [
    "**示例: 删除products表所有item为\"ABC\"的记录。**"
   ]
  },
  {
   "cell_type": "code",
   "execution_count": 123,
   "metadata": {},
   "outputs": [
    {
     "data": {
      "text/plain": [
       "<pymongo.results.InsertOneResult at 0x10455dc88>"
      ]
     },
     "execution_count": 123,
     "metadata": {},
     "output_type": "execute_result"
    }
   ],
   "source": [
    "db.products.insert_one({'_id': 2, 'item': 'ABC', 'price': 16.485, 'qty': 50})  # 重新插入一条文档"
   ]
  },
  {
   "cell_type": "code",
   "execution_count": 124,
   "metadata": {},
   "outputs": [
    {
     "data": {
      "text/plain": [
       "[{'_id': 4, 'price': 16, 'qty': 45, 'product_name': 'apple'},\n",
       " {'_id': 3, 'item': 'ABC', 'price': 16.485, 'qty': 50},\n",
       " {'_id': 2, 'item': 'ABC', 'price': 16.485, 'qty': 50}]"
      ]
     },
     "execution_count": 124,
     "metadata": {},
     "output_type": "execute_result"
    }
   ],
   "source": [
    "list(db.products.find())"
   ]
  },
  {
   "cell_type": "code",
   "execution_count": 125,
   "metadata": {},
   "outputs": [
    {
     "data": {
      "text/plain": [
       "<pymongo.results.DeleteResult at 0x104be6a88>"
      ]
     },
     "execution_count": 125,
     "metadata": {},
     "output_type": "execute_result"
    }
   ],
   "source": [
    "db.products.delete_many({'item': 'ABC'})"
   ]
  },
  {
   "cell_type": "code",
   "execution_count": 126,
   "metadata": {},
   "outputs": [
    {
     "data": {
      "text/plain": [
       "[{'_id': 4, 'price': 16, 'qty': 45, 'product_name': 'apple'}]"
      ]
     },
     "execution_count": 126,
     "metadata": {},
     "output_type": "execute_result"
    }
   ],
   "source": [
    "list(db.products.find())"
   ]
  },
  {
   "cell_type": "markdown",
   "metadata": {},
   "source": [
    "### 3. `find_one_and_modify()`找到满足查询条件的第一条记录，然后将其删除，返回被删除的文档。\n",
    "\n",
    "语法:\n",
    "\n",
    "```python\n",
    "db.collection.find_one_and_delete(\n",
    "   <filter>,\n",
    "   projection = {field: value, ...},\n",
    "   sort = [(field1, 1), ...]\n",
    ")\n",
    "```\n",
    "\n",
    "- `<filter>`是必选参数，文档类型，通过查询操作符指定操作类型，然后删除满足条件的第1条文档。该参数必须有值，即使是{}。\n",
    "- `projection`为可选参数，文档类型，指定返回的文档包含哪些域。\n",
    "- `sort`为可选参数，文档类型，指定了由filter指定的集合的排序。"
   ]
  },
  {
   "cell_type": "markdown",
   "metadata": {},
   "source": [
    "**示例: 删除student集合中gender为男的第1条记录，其中，filter按照student_name降序排序，返回的文档包含student_id, student_name和gender。**"
   ]
  },
  {
   "cell_type": "code",
   "execution_count": 127,
   "metadata": {},
   "outputs": [
    {
     "name": "stdout",
     "output_type": "stream",
     "text": [
      "{'_id': ObjectId('5cd9273cf5d4321faa2849ec'), 'student_id': 2015210315, 'student_name': '张三丰', 'gender': '男'}\n",
      "{'_id': ObjectId('5cd92796f5d4321faa2849ed'), 'student_id': 2015210316, 'student_name': '李想', 'gender': '女'}\n",
      "{'_id': 2015210317, 'student_name': '郭涛', 'gender': '男'}\n",
      "{'_id': ObjectId('5cd9294af5d4321faa2849ee'), 'student_id': 2015210318, 'student_name': 'Joshi', 'gender': '男'}\n",
      "{'_id': ObjectId('5cd9294af5d4321faa2849ef'), 'student_id': 2015210319, 'student_name': 'Kevin', 'gender': '男'}\n",
      "{'_id': ObjectId('5cd9294af5d4321faa2849f0'), 'student_id': 2015210320, 'student_name': 'Lily', 'gender': '女'}\n",
      "{'_id': ObjectId('5cd9352af5d4321faa2849f1'), 'student_id': 2015210321, 'student_name': 'Steven', 'gender': '男', 'score': [70, 89]}\n",
      "{'_id': ObjectId('5cd9352af5d4321faa2849f2'), 'student_id': 2015210322, 'student_name': 'Tony', 'gender': '男', 'score': [65, 89]}\n",
      "{'_id': ObjectId('5cd9928af5d4321faa2849f3'), 'student_id': 2015210323, 'student_name': 'Tom', 'gender': '男', 'score': [65, 89, 73, 78, 99]}\n",
      "{'_id': ObjectId('5cd9928af5d4321faa2849f4'), 'student_id': 2015210324, 'student_name': 'Shelly', 'gender': '女', 'score': [55, 99, 43, 75, 87]}\n",
      "{'_id': ObjectId('5ce24edc63dd06c18464d2cc'), 'student_name': '张山峰', 'gender': '男'}\n"
     ]
    }
   ],
   "source": [
    "for x in db.student.find():\n",
    "    print(x)"
   ]
  },
  {
   "cell_type": "code",
   "execution_count": 133,
   "metadata": {},
   "outputs": [
    {
     "data": {
      "text/plain": [
       "{'student_id': 2015210319, 'student_name': 'Kevin', 'gender': '男'}"
      ]
     },
     "execution_count": 133,
     "metadata": {},
     "output_type": "execute_result"
    }
   ],
   "source": [
    "db.student.find_one_and_delete({'gender':\"男\"}, sort=[('student_name', 1)], projection={'_id':False})"
   ]
  }
 ],
 "metadata": {
  "kernelspec": {
   "display_name": "Python 3",
   "language": "python",
   "name": "python3"
  },
  "language_info": {
   "codemirror_mode": {
    "name": "ipython",
    "version": 3
   },
   "file_extension": ".py",
   "mimetype": "text/x-python",
   "name": "python",
   "nbconvert_exporter": "python",
   "pygments_lexer": "ipython3",
   "version": "3.7.0"
  }
 },
 "nbformat": 4,
 "nbformat_minor": 2
}
