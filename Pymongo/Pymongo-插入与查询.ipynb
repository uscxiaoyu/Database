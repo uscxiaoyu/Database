{
 "cells": [
  {
   "cell_type": "code",
   "execution_count": 2,
   "metadata": {},
   "outputs": [],
   "source": [
    "from pymongo import MongoClient\n",
    "from datetime import datetime\n",
    "from bson import ObjectId"
   ]
  },
  {
   "cell_type": "code",
   "execution_count": 3,
   "metadata": {},
   "outputs": [],
   "source": [
    "client = MongoClient('localhost', 27017)"
   ]
  },
  {
   "cell_type": "markdown",
   "metadata": {},
   "source": [
    "## 列出所有数据库"
   ]
  },
  {
   "cell_type": "code",
   "execution_count": 4,
   "metadata": {},
   "outputs": [
    {
     "data": {
      "text/plain": [
       "['abmDiffusion',\n",
       " 'admin',\n",
       " 'config',\n",
       " 'lagou',\n",
       " 'local',\n",
       " 'mdb_test',\n",
       " 'moniter_crowdfunding',\n",
       " 'purchase',\n",
       " 'temp',\n",
       " 'test']"
      ]
     },
     "execution_count": 4,
     "metadata": {},
     "output_type": "execute_result"
    }
   ],
   "source": [
    "client.list_database_names()"
   ]
  },
  {
   "cell_type": "code",
   "execution_count": 6,
   "metadata": {},
   "outputs": [
    {
     "name": "stdout",
     "output_type": "stream",
     "text": [
      "{'name': 'abmDiffusion', 'sizeOnDisk': 11501568.0, 'empty': False}\n",
      "{'name': 'admin', 'sizeOnDisk': 32768.0, 'empty': False}\n",
      "{'name': 'config', 'sizeOnDisk': 73728.0, 'empty': False}\n",
      "{'name': 'lagou', 'sizeOnDisk': 950272.0, 'empty': False}\n",
      "{'name': 'local', 'sizeOnDisk': 77824.0, 'empty': False}\n",
      "{'name': 'mdb_test', 'sizeOnDisk': 32768.0, 'empty': False}\n",
      "{'name': 'moniter_crowdfunding', 'sizeOnDisk': 147832832.0, 'empty': False}\n",
      "{'name': 'purchase', 'sizeOnDisk': 606208.0, 'empty': False}\n",
      "{'name': 'temp', 'sizeOnDisk': 73728.0, 'empty': False}\n",
      "{'name': 'test', 'sizeOnDisk': 40960.0, 'empty': False}\n"
     ]
    }
   ],
   "source": [
    "for db in client.list_databases():\n",
    "    print(db)"
   ]
  },
  {
   "cell_type": "markdown",
   "metadata": {},
   "source": [
    "## 创建数据库\n",
    "\n",
    "\n",
    "Pymongodb 创建数据库的语法格式如下：\n",
    "```javascrip\n",
    "pymongo.MongoClient().<db_name>\n",
    "```\n",
    "如果数据库`db_name`存在，则返回该数据库；如果不存在，则创建并返回。"
   ]
  },
  {
   "cell_type": "code",
   "execution_count": 7,
   "metadata": {},
   "outputs": [],
   "source": [
    "db = client['mdb_test']  # db=client.mdb_test"
   ]
  },
  {
   "cell_type": "markdown",
   "metadata": {},
   "source": [
    "## 删除数据库"
   ]
  },
  {
   "cell_type": "code",
   "execution_count": null,
   "metadata": {},
   "outputs": [],
   "source": [
    "client.drop_database(mdb_test)"
   ]
  },
  {
   "cell_type": "markdown",
   "metadata": {},
   "source": [
    "# 一、 插入操作"
   ]
  },
  {
   "cell_type": "code",
   "execution_count": null,
   "metadata": {},
   "outputs": [],
   "source": [
    "db.drop_collection('student')"
   ]
  },
  {
   "cell_type": "code",
   "execution_count": 52,
   "metadata": {},
   "outputs": [],
   "source": [
    "col = db.create_collection('student')  # 创建集合col"
   ]
  },
  {
   "cell_type": "markdown",
   "metadata": {},
   "source": [
    "### 1.`db.collection.insert()`插入1个或多个文档\n",
    "> 注意: 在MongoDB 3.6以上版本中已不建议使用，如要插入1个文档，请使用`insert_one()`；如果要插入多个文档，请使用`insert_many()`。"
   ]
  },
  {
   "cell_type": "code",
   "execution_count": 54,
   "metadata": {},
   "outputs": [
    {
     "name": "stderr",
     "output_type": "stream",
     "text": [
      "/Library/Frameworks/Python.framework/Versions/3.7/lib/python3.7/site-packages/ipykernel_launcher.py:2: DeprecationWarning: insert is deprecated. Use insert_one or insert_many instead.\n",
      "  \n"
     ]
    },
    {
     "data": {
      "text/plain": [
       "ObjectId('5cd9273cf5d4321faa2849ec')"
      ]
     },
     "execution_count": 54,
     "metadata": {},
     "output_type": "execute_result"
    }
   ],
   "source": [
    "a = {'student_id':2015210315, 'student_name':'张三丰', 'gender':'男'}\n",
    "col.insert(a)  # col中插入文档a"
   ]
  },
  {
   "cell_type": "markdown",
   "metadata": {},
   "source": [
    "### 2.`db.collection.insert_one()`插入1个文档"
   ]
  },
  {
   "cell_type": "code",
   "execution_count": 55,
   "metadata": {},
   "outputs": [],
   "source": [
    "b = {'student_id': 2015210316, 'student_name': '李想', 'gender': '男'}"
   ]
  },
  {
   "cell_type": "code",
   "execution_count": 56,
   "metadata": {},
   "outputs": [
    {
     "data": {
      "text/plain": [
       "<pymongo.results.InsertOneResult at 0x106145048>"
      ]
     },
     "execution_count": 56,
     "metadata": {},
     "output_type": "execute_result"
    }
   ],
   "source": [
    "col.insert_one(b)  # col中插入文档b"
   ]
  },
  {
   "cell_type": "code",
   "execution_count": 57,
   "metadata": {},
   "outputs": [],
   "source": [
    "c = {'_id': 2015210317, 'student_name':'郭涛', 'gender':'男'}  # 指定主键值_id"
   ]
  },
  {
   "cell_type": "code",
   "execution_count": 59,
   "metadata": {},
   "outputs": [
    {
     "data": {
      "text/plain": [
       "<pymongo.results.InsertOneResult at 0x106145348>"
      ]
     },
     "execution_count": 59,
     "metadata": {},
     "output_type": "execute_result"
    }
   ],
   "source": [
    "col.insert_one(c)"
   ]
  },
  {
   "cell_type": "markdown",
   "metadata": {},
   "source": [
    "### 3.`db.collection.insert_many()`插入多个文档"
   ]
  },
  {
   "cell_type": "code",
   "execution_count": 60,
   "metadata": {},
   "outputs": [],
   "source": [
    "a_list = [{'student_id': 2015210318, 'student_name': 'Joshi', 'gender': '男'}, \n",
    "          {'student_id': 2015210319, 'student_name': 'Kevin', 'gender': '男'}, \n",
    "          {'student_id': 2015210320, 'student_name': 'Lily', 'gender': '女'}]  # 定义一个包含3个字典(document)的列表(array)"
   ]
  },
  {
   "cell_type": "code",
   "execution_count": 61,
   "metadata": {},
   "outputs": [
    {
     "data": {
      "text/plain": [
       "<pymongo.results.InsertManyResult at 0x106188b88>"
      ]
     },
     "execution_count": 61,
     "metadata": {},
     "output_type": "execute_result"
    }
   ],
   "source": [
    "col.insert_many(a_list)"
   ]
  },
  {
   "cell_type": "markdown",
   "metadata": {},
   "source": [
    "# 二、查询\n",
    "\n",
    "`Pymongo`中提供了`find()`, `find_one()`和`find_many()`等方法"
   ]
  },
  {
   "cell_type": "markdown",
   "metadata": {},
   "source": [
    "## `db.collection.find(<query>, <projection>, ...)` \n",
    "\n",
    "查询满足`query`条件的所有文档，返回指向结果集合第一个文档的游标"
   ]
  },
  {
   "cell_type": "code",
   "execution_count": 62,
   "metadata": {},
   "outputs": [],
   "source": [
    "res = col.find()"
   ]
  },
  {
   "cell_type": "code",
   "execution_count": 51,
   "metadata": {},
   "outputs": [
    {
     "name": "stdout",
     "output_type": "stream",
     "text": [
      "读取完毕 \n"
     ]
    }
   ],
   "source": [
    "try:\n",
    "    print(res.next())  # 逐一读取cursor指向的查询结果集合\n",
    "except StopIteration as s:\n",
    "    \n",
    "    print('读取完毕',s)"
   ]
  },
  {
   "cell_type": "code",
   "execution_count": 63,
   "metadata": {},
   "outputs": [
    {
     "name": "stdout",
     "output_type": "stream",
     "text": [
      "{'_id': ObjectId('5cd9273cf5d4321faa2849ec'), 'student_id': 2015210315, 'student_name': '张三丰', 'gender': '男'}\n",
      "{'_id': ObjectId('5cd92796f5d4321faa2849ed'), 'student_id': 2015210316, 'student_name': '李想', 'gender': '男'}\n",
      "{'_id': 2015210317, 'student_name': '郭涛', 'gender': '男'}\n",
      "{'_id': ObjectId('5cd9294af5d4321faa2849ee'), 'student_id': 2015210318, 'student_name': 'Joshi', 'gender': '男'}\n",
      "{'_id': ObjectId('5cd9294af5d4321faa2849ef'), 'student_id': 2015210319, 'student_name': 'Kevin', 'gender': '男'}\n",
      "{'_id': ObjectId('5cd9294af5d4321faa2849f0'), 'student_id': 2015210320, 'student_name': 'Lily', 'gender': '女'}\n"
     ]
    }
   ],
   "source": [
    "for r in res:\n",
    "    print(r)  # 利用循环逐一读取所有结果"
   ]
  },
  {
   "cell_type": "markdown",
   "metadata": {},
   "source": [
    "可以直接使用`python`提供的对象保存结果集"
   ]
  },
  {
   "cell_type": "code",
   "execution_count": 70,
   "metadata": {},
   "outputs": [],
   "source": [
    "res = list(col.find())  # 得到一个以字典为元素的列表"
   ]
  },
  {
   "cell_type": "code",
   "execution_count": 72,
   "metadata": {},
   "outputs": [
    {
     "data": {
      "text/plain": [
       "{'_id': ObjectId('5cd9273cf5d4321faa2849ec'),\n",
       " 'student_id': 2015210315,\n",
       " 'student_name': '张三丰',\n",
       " 'gender': '男'}"
      ]
     },
     "execution_count": 72,
     "metadata": {},
     "output_type": "execute_result"
    }
   ],
   "source": [
    "res[0]"
   ]
  },
  {
   "cell_type": "code",
   "execution_count": 73,
   "metadata": {},
   "outputs": [
    {
     "data": {
      "text/plain": [
       "ObjectId('5cd9273cf5d4321faa2849ec')"
      ]
     },
     "execution_count": 73,
     "metadata": {},
     "output_type": "execute_result"
    }
   ],
   "source": [
    "res[0]['_id']"
   ]
  },
  {
   "cell_type": "markdown",
   "metadata": {},
   "source": [
    "### 1. 选择"
   ]
  },
  {
   "cell_type": "code",
   "execution_count": 76,
   "metadata": {},
   "outputs": [
    {
     "name": "stdout",
     "output_type": "stream",
     "text": [
      "[{'_id': ObjectId('5cd9273cf5d4321faa2849ec'), 'student_id': 2015210315, 'student_name': '张三丰', 'gender': '男'}]\n"
     ]
    }
   ],
   "source": [
    "res = col.find({'student_id': 2015210315})  # 查看student集合中student_id为2015210315的文档\n",
    "print(list(res))"
   ]
  },
  {
   "cell_type": "markdown",
   "metadata": {},
   "source": [
    "#### 可以定义其它类型的大小关系或成员测试筛选条件，如下表\n",
    "\n",
    "| 操作     | 格式     |范例     |SQL     |\n",
    "| :------------- | :------------- |:------------- |:------------- |\n",
    "| 等于       | `{key:value}` | `db.collection_name.find({\"name\":\"张三\"})` | `where name = '张三'` |\n",
    "|小于 | `{key:{$lt:value}}` | `db.collection_name.find({\"height\":{$lt:173}})` | `where height < 173` |\n",
    "|小于等于 | `{key:{$lte:value}}` | `db.collection_name.find({\"height\":{$lte:173}})` | `where height <= 173` |\n",
    "|大于 | `{key:{$gt:value}}` | `db.collection_name.find({\"height\":{$gt:173}})` | `where height > 173` |\n",
    "|大于等于 | `{key:{$gte:value}}` | `db.collection_name.find({\"height\":{$gte:173}})` | `where height >= 173` |\n",
    "|不等于 | `{key:{$ne:value}}` | `db.collection_name.find({\"height\":{$ne:173}})` | `where height != 173` |\n",
    "|in：出现在array | `{ket:{$in:value}}` | `db.collection_name.find({\"奖学金\":{$in:'国家奖学金'}}` | `NA` |\n",
    "|nin：未出现在array | `{ket:{$nin:value}` | `db.collection_name.find({\"奖学金\":{$nin:'国家奖学金'}}` | `NA` |\n",
    "\n",
    ">`find()`方法的`query`参数可以传入多个域(`key`)，每个域(`key`)以逗号隔开，即对应 `SQL` 的复合子句；此外，如果在一个键上也可以定义多个条件，例如: 身高在173和180之间的文档集合，对应查询`db.student.find({height: {$lte:180, $gte:180}})`。"
   ]
  },
  {
   "cell_type": "markdown",
   "metadata": {},
   "source": [
    "- 如果文档的域的值为一个数组，且查询为复合条件，只要数组中有符合符合条件的元素，则会返回该文档。"
   ]
  },
  {
   "cell_type": "code",
   "execution_count": 81,
   "metadata": {},
   "outputs": [
    {
     "data": {
      "text/plain": [
       "<pymongo.results.InsertManyResult at 0x10589a488>"
      ]
     },
     "execution_count": 81,
     "metadata": {},
     "output_type": "execute_result"
    }
   ],
   "source": [
    "student_list = [\n",
    "    {'student_id': 2015210321, 'student_name': 'Steven', 'gender': '男', 'score': [70, 89]},\n",
    "    {'student_id': 2015210322, 'student_name': 'Tony', 'gender': '男', 'score': [65, 89]} \n",
    "    ]\n",
    "col.insert_many(student_list)"
   ]
  },
  {
   "cell_type": "code",
   "execution_count": 83,
   "metadata": {},
   "outputs": [
    {
     "name": "stdout",
     "output_type": "stream",
     "text": [
      "[{'_id': ObjectId('5cd9352af5d4321faa2849f2'), 'student_id': 2015210322, 'student_name': 'Tony', 'gender': '男', 'score': [65, 89]}]\n"
     ]
    }
   ],
   "source": [
    "res = col.find({'score': {'$lt': 70}})\n",
    "print(list(res))"
   ]
  },
  {
   "cell_type": "markdown",
   "metadata": {},
   "source": [
    "#### 逻辑操作符\n",
    "\n",
    "|操作|格式|范例|SQL|\n",
    "|--:|--:|--:|--:|\n",
    "|`$and` | `{'$and':[{expr1}, {expr2}, ... {exprN}]}` | `db.inventory.find({'$and':[{'price':1.99}, {'sale':True}]})` | `where price=1.99 AND sale=true` |\n",
    "|`$or` | `{'$or':[{expr1}, {expr2}, ... {exprN}]}` | `db.inventory.find({'$or':[{'price':1.99}, {'sale':True}]})}` | `where price=1.99 OR sale=true` |\n",
    "|`$not` | `{'$not': {expr}}` | `db.inventory.find({'price':{'$not':{'$gt':1.99}}})` | `where price < 1.99 and price is null` |\n",
    "|`$nor` | `{'$nor':[{expr1}, {expr2}, ... {exprN}]}` |`db.inventory.find( { '$nor': [ { 'price': 1.99 }, { 'sale': true } ]  } )` | `where (price != 1.99 and sale != true) or (price != 1.99 and sale is null) or (price is null and sale != true)` |"
   ]
  },
  {
   "cell_type": "code",
   "execution_count": 90,
   "metadata": {},
   "outputs": [
    {
     "name": "stdout",
     "output_type": "stream",
     "text": [
      "{'_id': ObjectId('5cd9352af5d4321faa2849f2'), 'student_id': 2015210322, 'student_name': 'Tony', 'gender': '男', 'score': [65, 89]}\n"
     ]
    }
   ],
   "source": [
    "res = col.find({'student_id': {'$in': [2015210321, 2015210322]}, 'gender': '男', 'score': {'$lte': 65}})\n",
    "for r in res:\n",
    "    print(r)"
   ]
  },
  {
   "cell_type": "code",
   "execution_count": 89,
   "metadata": {},
   "outputs": [
    {
     "name": "stdout",
     "output_type": "stream",
     "text": [
      "{'_id': ObjectId('5cd9352af5d4321faa2849f2'), 'student_id': 2015210322, 'student_name': 'Tony', 'gender': '男', 'score': [65, 89]}\n"
     ]
    }
   ],
   "source": [
    "res = col.find({'$and': [{'student_id': {'$in': [2015210321, 2015210322]}}, {'gender': '男'}, {'score': {'$lte': 65}}]})\n",
    "for r in res:\n",
    "    print(r)"
   ]
  },
  {
   "cell_type": "code",
   "execution_count": 88,
   "metadata": {},
   "outputs": [
    {
     "name": "stdout",
     "output_type": "stream",
     "text": [
      "{'_id': ObjectId('5cd9273cf5d4321faa2849ec'), 'student_id': 2015210315, 'student_name': '张三丰', 'gender': '男'}\n",
      "{'_id': ObjectId('5cd92796f5d4321faa2849ed'), 'student_id': 2015210316, 'student_name': '李想', 'gender': '男'}\n",
      "{'_id': 2015210317, 'student_name': '郭涛', 'gender': '男'}\n",
      "{'_id': ObjectId('5cd9294af5d4321faa2849ee'), 'student_id': 2015210318, 'student_name': 'Joshi', 'gender': '男'}\n",
      "{'_id': ObjectId('5cd9294af5d4321faa2849ef'), 'student_id': 2015210319, 'student_name': 'Kevin', 'gender': '男'}\n",
      "{'_id': ObjectId('5cd9352af5d4321faa2849f1'), 'student_id': 2015210321, 'student_name': 'Steven', 'gender': '男', 'score': [70, 89]}\n",
      "{'_id': ObjectId('5cd9352af5d4321faa2849f2'), 'student_id': 2015210322, 'student_name': 'Tony', 'gender': '男', 'score': [65, 89]}\n"
     ]
    }
   ],
   "source": [
    "res = col.find({'$or': [{'student_id': {'$in': [2015210321, 2015210322]}}, {'gender': '男'}, {'score': {'$lte': 65}}]})\n",
    "for r in res:\n",
    "    print(r)"
   ]
  },
  {
   "cell_type": "markdown",
   "metadata": {},
   "source": [
    "#### `$exists`: 查看文档中是否存在某个`field`\n",
    "\n",
    "```python\n",
    "db.collection.find({'filed_name': {'$exists': True | False}})\n",
    "```"
   ]
  },
  {
   "cell_type": "code",
   "execution_count": 91,
   "metadata": {},
   "outputs": [
    {
     "name": "stdout",
     "output_type": "stream",
     "text": [
      "{'_id': ObjectId('5cd9352af5d4321faa2849f1'), 'student_id': 2015210321, 'student_name': 'Steven', 'gender': '男', 'score': [70, 89]}\n",
      "{'_id': ObjectId('5cd9352af5d4321faa2849f2'), 'student_id': 2015210322, 'student_name': 'Tony', 'gender': '男', 'score': [65, 89]}\n"
     ]
    }
   ],
   "source": [
    "res = col.find({'score': {'$exists': True}})\n",
    "for r in res:\n",
    "    print(r)"
   ]
  },
  {
   "cell_type": "markdown",
   "metadata": {},
   "source": [
    "#### `$type`: 查看域对应的值是否为特定的类型\n",
    "\n",
    "```python\n",
    "db.collection.find({'filed_name': {'$type': '<BSON type>'}})\n",
    "\n",
    "db.collection.find({'filed_name': {'$type': ['<BSON type1>', '<BSON type2>', ...]}})\n",
    "```\n",
    "\n",
    "> 合法的[BSON类型](https://docs.mongodb.com/manual/reference/bson-types/)，注意使用里面的alias列作为参数值"
   ]
  },
  {
   "cell_type": "code",
   "execution_count": 105,
   "metadata": {},
   "outputs": [
    {
     "name": "stdout",
     "output_type": "stream",
     "text": [
      "{'_id': 2015210317, 'student_name': '郭涛', 'gender': '男'}\n"
     ]
    }
   ],
   "source": [
    "res = col.find({'_id': {'$type': 'int'}})\n",
    "for r in res:\n",
    "    print(r)"
   ]
  },
  {
   "cell_type": "markdown",
   "metadata": {},
   "source": [
    "#### `$regex`: 正则匹配\n",
    "\n",
    "```python\n",
    "db.collection.find({'filed_name': {'regex': }})\n",
    "```"
   ]
  },
  {
   "cell_type": "code",
   "execution_count": 161,
   "metadata": {},
   "outputs": [
    {
     "name": "stdout",
     "output_type": "stream",
     "text": [
      "{'_id': ObjectId('5cd9294af5d4321faa2849f0'), 'student_id': 2015210320, 'student_name': 'Lily', 'gender': '女'}\n"
     ]
    }
   ],
   "source": [
    "res = col.find({'student_name': {'$regex': '^[SL][a-z]*y$'}})\n",
    "for r in res:\n",
    "    print(r)"
   ]
  },
  {
   "cell_type": "markdown",
   "metadata": {},
   "source": [
    "#### `$expr`: 应用公式\n",
    "\n",
    "```python\n",
    "\n",
    "db.collection.find({'filed_name': {'$expr': {}})\n",
    "\n",
    "```"
   ]
  },
  {
   "cell_type": "code",
   "execution_count": 130,
   "metadata": {},
   "outputs": [
    {
     "name": "stdout",
     "output_type": "stream",
     "text": [
      "{'_id': ObjectId('5cd9294af5d4321faa2849f0'), 'student_id': 2015210320, 'student_name': 'Lily', 'gender': '女'}\n",
      "{'_id': ObjectId('5cd9352af5d4321faa2849f1'), 'student_id': 2015210321, 'student_name': 'Steven', 'gender': '男', 'score': [70, 89]}\n",
      "{'_id': ObjectId('5cd9352af5d4321faa2849f2'), 'student_id': 2015210322, 'student_name': 'Tony', 'gender': '男', 'score': [65, 89]}\n"
     ]
    }
   ],
   "source": [
    "res = col.find({'student_id': {'$gt': 2015210319}})\n",
    "for r in res:\n",
    "    print(r)"
   ]
  },
  {
   "cell_type": "code",
   "execution_count": 129,
   "metadata": {},
   "outputs": [
    {
     "name": "stdout",
     "output_type": "stream",
     "text": [
      "{'_id': ObjectId('5cd9294af5d4321faa2849f0'), 'student_id': 2015210320, 'student_name': 'Lily', 'gender': '女'}\n",
      "{'_id': ObjectId('5cd9352af5d4321faa2849f1'), 'student_id': 2015210321, 'student_name': 'Steven', 'gender': '男', 'score': [70, 89]}\n",
      "{'_id': ObjectId('5cd9352af5d4321faa2849f2'), 'student_id': 2015210322, 'student_name': 'Tony', 'gender': '男', 'score': [65, 89]}\n"
     ]
    }
   ],
   "source": [
    "res = col.find({'$expr': {'$gt': ['$student_id', 2015210319]}})  # \n",
    "for r in res:\n",
    "    print(r)"
   ]
  },
  {
   "cell_type": "markdown",
   "metadata": {},
   "source": [
    "#### 元组操作符"
   ]
  },
  {
   "cell_type": "markdown",
   "metadata": {},
   "source": [
    "- `$all`: 返回集合中对应域中的值包含所有给定查询值的文档\n",
    "\n",
    "```python\n",
    "db.collection.find({'<field_name>': {'$all': [value1, value2, ...]}})\n",
    "```\n",
    "> 如果某一文档的field匹配所有的[value1, value2, ...]，则返回该文档\n"
   ]
  },
  {
   "cell_type": "code",
   "execution_count": 137,
   "metadata": {},
   "outputs": [
    {
     "name": "stdout",
     "output_type": "stream",
     "text": [
      "{'_id': ObjectId('5cd9352af5d4321faa2849f1'), 'student_id': 2015210321, 'student_name': 'Steven', 'gender': '男', 'score': [70, 89]}\n",
      "{'_id': ObjectId('5cd9352af5d4321faa2849f2'), 'student_id': 2015210322, 'student_name': 'Tony', 'gender': '男', 'score': [65, 89]}\n"
     ]
    }
   ],
   "source": [
    "res = col.find({'score': {'$all': [70, 89]}})  # score元组中至包含[70, 89]的文档集合\n",
    "for r in res:\n",
    "    print(r)"
   ]
  },
  {
   "cell_type": "markdown",
   "metadata": {},
   "source": [
    "等价于"
   ]
  },
  {
   "cell_type": "code",
   "execution_count": 132,
   "metadata": {},
   "outputs": [
    {
     "name": "stdout",
     "output_type": "stream",
     "text": [
      "{'_id': ObjectId('5cd9352af5d4321faa2849f1'), 'student_id': 2015210321, 'student_name': 'Steven', 'gender': '男', 'score': [70, 89]}\n"
     ]
    }
   ],
   "source": [
    "res = col.find({'$and': [{'score': 70}, {'score': 89}]}\n",
    "for r in res:\n",
    "    print(r)"
   ]
  },
  {
   "cell_type": "markdown",
   "metadata": {},
   "source": [
    "- `$elemMatch`: 返回至少有1个元素满足`$eleMatch`指定的所有条件的元组的文档\n",
    "\n",
    "```python\n",
    "db.collection.find({'<field_name>': {'$elemMatch': {'expr1', 'expre2'}}})\n",
    "```"
   ]
  },
  {
   "cell_type": "code",
   "execution_count": 135,
   "metadata": {},
   "outputs": [
    {
     "name": "stdout",
     "output_type": "stream",
     "text": [
      "{'_id': ObjectId('5cd9352af5d4321faa2849f2'), 'student_id': 2015210322, 'student_name': 'Tony', 'gender': '男', 'score': [65, 89]}\n"
     ]
    }
   ],
   "source": [
    "res = col.find({'score': {'$elemMatch': {'$gt': 60, '$lt':70}}})  # score元组中至少有一个大于60且小于70的文档集合\n",
    "for r in res:\n",
    "    print(r)"
   ]
  },
  {
   "cell_type": "markdown",
   "metadata": {},
   "source": [
    "- `$size`: 返回集合中元组元素个数为指定值的文档集合\n",
    "\n",
    "```python\n",
    "db.collection.find({'<field_name>': {'$size': n}})\n",
    "```"
   ]
  },
  {
   "cell_type": "code",
   "execution_count": 143,
   "metadata": {},
   "outputs": [
    {
     "name": "stdout",
     "output_type": "stream",
     "text": [
      "{'_id': ObjectId('5cd9352af5d4321faa2849f1'), 'student_id': 2015210321, 'student_name': 'Steven', 'gender': '男', 'score': [70, 89]}\n",
      "{'_id': ObjectId('5cd9352af5d4321faa2849f2'), 'student_id': 2015210322, 'student_name': 'Tony', 'gender': '男', 'score': [65, 89]}\n"
     ]
    }
   ],
   "source": [
    "res = col.find({'score': {'$size': 2}})  # 返回score包含2个元素的文档集合\n",
    "for r in res:\n",
    "    print(r)"
   ]
  },
  {
   "cell_type": "markdown",
   "metadata": {},
   "source": [
    "### 2. `projection`: 投影"
   ]
  },
  {
   "cell_type": "code",
   "execution_count": 163,
   "metadata": {},
   "outputs": [
    {
     "name": "stdout",
     "output_type": "stream",
     "text": [
      "{'student_name': '张三丰'}\n"
     ]
    }
   ],
   "source": [
    "res = col.find({'student_id': 2015210315}, projection={'student_name':True, '_id':False})  # 查看student集合中student_id为2015210315的文档\n",
    "for r in res:\n",
    "    print(r)"
   ]
  },
  {
   "cell_type": "code",
   "execution_count": 164,
   "metadata": {},
   "outputs": [
    {
     "name": "stdout",
     "output_type": "stream",
     "text": [
      "{'_id': ObjectId('5cd9273cf5d4321faa2849ec'), 'student_name': '张三丰'}\n"
     ]
    }
   ],
   "source": [
    "res = col.find({'student_id': 2015210315}, projection={'student_name':True})  # 查看student集合中student_id为2015210315的文档\n",
    "for r in res:\n",
    "    print(r)"
   ]
  },
  {
   "cell_type": "markdown",
   "metadata": {},
   "source": [
    "- `$slice`"
   ]
  },
  {
   "cell_type": "code",
   "execution_count": 172,
   "metadata": {},
   "outputs": [
    {
     "data": {
      "text/plain": [
       "<pymongo.results.InsertManyResult at 0x106108408>"
      ]
     },
     "execution_count": 172,
     "metadata": {},
     "output_type": "execute_result"
    }
   ],
   "source": [
    "b_list = [\n",
    "    {'student_id': 2015210323, 'student_name': 'Tom', 'gender': '男', 'score': [65, 89, 73, 78, 99]},\n",
    "    {'student_id': 2015210324, 'student_name': 'Shelly', 'gender': '女', 'score': [55, 99, 43, 75, 87]}\n",
    "]\n",
    "col.insert_many(b_list)"
   ]
  },
  {
   "cell_type": "code",
   "execution_count": 184,
   "metadata": {},
   "outputs": [
    {
     "name": "stdout",
     "output_type": "stream",
     "text": [
      "{'_id': ObjectId('5cd9352af5d4321faa2849f1'), 'student_name': 'Steven', 'score': [70, 89]}\n",
      "{'_id': ObjectId('5cd9352af5d4321faa2849f2'), 'student_name': 'Tony', 'score': [65, 89]}\n",
      "{'_id': ObjectId('5cd9928af5d4321faa2849f3'), 'student_name': 'Tom', 'score': [78, 99]}\n",
      "{'_id': ObjectId('5cd9928af5d4321faa2849f4'), 'student_name': 'Shelly', 'score': [75, 87]}\n"
     ]
    }
   ],
   "source": [
    "res = col.find({'score': {'$gte': 70}}, projection={'student_name':True, 'score': {'$slice': -2}})\n",
    "for r in res:\n",
    "    print(r)"
   ]
  },
  {
   "cell_type": "markdown",
   "metadata": {},
   "source": [
    "### 3. `.sort()`: 按照域对文档集合排序"
   ]
  },
  {
   "cell_type": "code",
   "execution_count": 191,
   "metadata": {},
   "outputs": [],
   "source": [
    "from pymongo import ASCENDING, DESCENDING"
   ]
  },
  {
   "cell_type": "code",
   "execution_count": 195,
   "metadata": {},
   "outputs": [
    {
     "name": "stdout",
     "output_type": "stream",
     "text": [
      "{'_id': 2015210317, 'student_name': '郭涛', 'gender': '男'}\n",
      "{'_id': ObjectId('5cd92796f5d4321faa2849ed'), 'student_id': 2015210316, 'student_name': '李想', 'gender': '男'}\n",
      "{'_id': ObjectId('5cd9273cf5d4321faa2849ec'), 'student_id': 2015210315, 'student_name': '张三丰', 'gender': '男'}\n",
      "{'_id': ObjectId('5cd9352af5d4321faa2849f2'), 'student_id': 2015210322, 'student_name': 'Tony', 'gender': '男'}\n",
      "{'_id': ObjectId('5cd9928af5d4321faa2849f3'), 'student_id': 2015210323, 'student_name': 'Tom', 'gender': '男'}\n",
      "{'_id': ObjectId('5cd9352af5d4321faa2849f1'), 'student_id': 2015210321, 'student_name': 'Steven', 'gender': '男'}\n",
      "{'_id': ObjectId('5cd9928af5d4321faa2849f4'), 'student_id': 2015210324, 'student_name': 'Shelly', 'gender': '女'}\n",
      "{'_id': ObjectId('5cd9294af5d4321faa2849f0'), 'student_id': 2015210320, 'student_name': 'Lily', 'gender': '女'}\n",
      "{'_id': ObjectId('5cd9294af5d4321faa2849ef'), 'student_id': 2015210319, 'student_name': 'Kevin', 'gender': '男'}\n",
      "{'_id': ObjectId('5cd9294af5d4321faa2849ee'), 'student_id': 2015210318, 'student_name': 'Joshi', 'gender': '男'}\n"
     ]
    }
   ],
   "source": [
    "res = col.find({}, projection={'score': False}).sort([('student_name', DESCENDING), ('gender', ASCENDING)])\n",
    "for r in res:\n",
    "    print(r)"
   ]
  },
  {
   "cell_type": "markdown",
   "metadata": {},
   "source": [
    "### 4. `.limit()`: 限制返回文档个数"
   ]
  },
  {
   "cell_type": "code",
   "execution_count": 199,
   "metadata": {},
   "outputs": [
    {
     "name": "stdout",
     "output_type": "stream",
     "text": [
      "{'_id': ObjectId('5cd9273cf5d4321faa2849ec'), 'student_id': 2015210315, 'student_name': '张三丰', 'gender': '男'}\n",
      "{'_id': ObjectId('5cd92796f5d4321faa2849ed'), 'student_id': 2015210316, 'student_name': '李想', 'gender': '男'}\n",
      "{'_id': 2015210317, 'student_name': '郭涛', 'gender': '男'}\n",
      "{'_id': ObjectId('5cd9294af5d4321faa2849ee'), 'student_id': 2015210318, 'student_name': 'Joshi', 'gender': '男'}\n",
      "{'_id': ObjectId('5cd9294af5d4321faa2849ef'), 'student_id': 2015210319, 'student_name': 'Kevin', 'gender': '男'}\n"
     ]
    }
   ],
   "source": [
    "res = col.find({}, projection={'score': False}).limit(5)\n",
    "for r in res:\n",
    "    print(r)"
   ]
  },
  {
   "cell_type": "markdown",
   "metadata": {},
   "source": [
    "### 5. `db.collection.distinct(field, query, options)` 去重"
   ]
  },
  {
   "cell_type": "code",
   "execution_count": 207,
   "metadata": {},
   "outputs": [
    {
     "name": "stdout",
     "output_type": "stream",
     "text": [
      "男\n",
      "女\n"
     ]
    }
   ],
   "source": [
    "res = col.distinct('gender', {'student_id': {'$gt': 201521018}})\n",
    "for r in res:\n",
    "    print(r)"
   ]
  },
  {
   "cell_type": "markdown",
   "metadata": {},
   "source": [
    "## 三、聚合简单示例"
   ]
  },
  {
   "cell_type": "markdown",
   "metadata": {},
   "source": [
    "- `$addFields`用于生成计算字段"
   ]
  },
  {
   "cell_type": "code",
   "execution_count": 205,
   "metadata": {},
   "outputs": [
    {
     "name": "stdout",
     "output_type": "stream",
     "text": [
      "{'student_id': 2015210321, 'student_name': 'Steven', 'score': [70, 89], 'avg_score': 79.5}\n",
      "{'student_id': 2015210322, 'student_name': 'Tony', 'score': [65, 89], 'avg_score': 77.0}\n",
      "{'student_id': 2015210323, 'student_name': 'Tom', 'score': [65, 89, 73, 78, 99], 'avg_score': 80.8}\n",
      "{'student_id': 2015210324, 'student_name': 'Shelly', 'score': [55, 99, 43, 75, 87], 'avg_score': 71.8}\n"
     ]
    }
   ],
   "source": [
    "res = col.aggregate([\n",
    "    {'$match': {'score': {'$exists': True}}},\n",
    "    {'$addFields': {'avg_score':{'$avg': '$score'}}},\n",
    "    {'$project': {'student_id': True, 'student_name': True, '_id': False, 'score': True, 'avg_score':True}}\n",
    "])\n",
    "for r in res:\n",
    "    print(r)"
   ]
  },
  {
   "cell_type": "markdown",
   "metadata": {},
   "source": [
    "- `$unwind`用于展开一个array，array中的每一元素与文档中其他域值对构成新的文档"
   ]
  },
  {
   "cell_type": "code",
   "execution_count": 206,
   "metadata": {},
   "outputs": [
    {
     "name": "stdout",
     "output_type": "stream",
     "text": [
      "{'_id': ObjectId('5cd9352af5d4321faa2849f1'), 'student_id': 2015210321, 'student_name': 'Steven', 'gender': '男', 'score': 70}\n",
      "{'_id': ObjectId('5cd9352af5d4321faa2849f1'), 'student_id': 2015210321, 'student_name': 'Steven', 'gender': '男', 'score': 89}\n",
      "{'_id': ObjectId('5cd9352af5d4321faa2849f2'), 'student_id': 2015210322, 'student_name': 'Tony', 'gender': '男', 'score': 65}\n",
      "{'_id': ObjectId('5cd9352af5d4321faa2849f2'), 'student_id': 2015210322, 'student_name': 'Tony', 'gender': '男', 'score': 89}\n",
      "{'_id': ObjectId('5cd9928af5d4321faa2849f3'), 'student_id': 2015210323, 'student_name': 'Tom', 'gender': '男', 'score': 65}\n",
      "{'_id': ObjectId('5cd9928af5d4321faa2849f3'), 'student_id': 2015210323, 'student_name': 'Tom', 'gender': '男', 'score': 89}\n",
      "{'_id': ObjectId('5cd9928af5d4321faa2849f3'), 'student_id': 2015210323, 'student_name': 'Tom', 'gender': '男', 'score': 73}\n",
      "{'_id': ObjectId('5cd9928af5d4321faa2849f3'), 'student_id': 2015210323, 'student_name': 'Tom', 'gender': '男', 'score': 78}\n",
      "{'_id': ObjectId('5cd9928af5d4321faa2849f3'), 'student_id': 2015210323, 'student_name': 'Tom', 'gender': '男', 'score': 99}\n",
      "{'_id': ObjectId('5cd9928af5d4321faa2849f4'), 'student_id': 2015210324, 'student_name': 'Shelly', 'gender': '女', 'score': 55}\n",
      "{'_id': ObjectId('5cd9928af5d4321faa2849f4'), 'student_id': 2015210324, 'student_name': 'Shelly', 'gender': '女', 'score': 99}\n",
      "{'_id': ObjectId('5cd9928af5d4321faa2849f4'), 'student_id': 2015210324, 'student_name': 'Shelly', 'gender': '女', 'score': 43}\n",
      "{'_id': ObjectId('5cd9928af5d4321faa2849f4'), 'student_id': 2015210324, 'student_name': 'Shelly', 'gender': '女', 'score': 75}\n",
      "{'_id': ObjectId('5cd9928af5d4321faa2849f4'), 'student_id': 2015210324, 'student_name': 'Shelly', 'gender': '女', 'score': 87}\n"
     ]
    }
   ],
   "source": [
    "res = col.aggregate([\n",
    "    {'$match': {'score': {'$exists': True}}}\n",
    "    {'$unwind': '$score'}\n",
    "])\n",
    "for r in res:\n",
    "    print(r)"
   ]
  },
  {
   "cell_type": "code",
   "execution_count": null,
   "metadata": {},
   "outputs": [],
   "source": []
  }
 ],
 "metadata": {
  "kernelspec": {
   "display_name": "Python 3",
   "language": "python",
   "name": "python3"
  },
  "language_info": {
   "codemirror_mode": {
    "name": "ipython",
    "version": 3
   },
   "file_extension": ".py",
   "mimetype": "text/x-python",
   "name": "python",
   "nbconvert_exporter": "python",
   "pygments_lexer": "ipython3",
   "version": "3.7.0"
  }
 },
 "nbformat": 4,
 "nbformat_minor": 2
}
