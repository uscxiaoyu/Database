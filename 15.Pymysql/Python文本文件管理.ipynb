{
 "cells": [
  {
   "cell_type": "markdown",
   "id": "bac8208a-36f0-4fb7-b758-3da884db9d6b",
   "metadata": {
    "tags": []
   },
   "source": [
    "## 1. 引例"
   ]
  },
  {
   "cell_type": "code",
   "execution_count": 17,
   "id": "af118c92-4b54-4e8a-b63e-8f2c24ba41e8",
   "metadata": {},
   "outputs": [],
   "source": [
    "f = open(\"a.txt\", 'w')  # 创建一个名称为a.txt的文档\n",
    "f.write(\"计算机辅助设计\\n数据库技术\")  # 写入字符串\n",
    "f.close()  # 关闭文档"
   ]
  },
  {
   "cell_type": "code",
   "execution_count": 18,
   "id": "9a512ca7-c0c9-4e17-98e4-3e0b4022d1e3",
   "metadata": {},
   "outputs": [
    {
     "data": {
      "text/plain": [
       "'计算机辅助设计\\n数据库技术'"
      ]
     },
     "execution_count": 18,
     "metadata": {},
     "output_type": "execute_result"
    }
   ],
   "source": [
    "# 以文本形式打开\n",
    "f = open(\"a.txt\", 'rt')  # 如果没有指定路径下的文件，则报错FileNotFoundError\n",
    "x = f.read()\n",
    "x"
   ]
  },
  {
   "cell_type": "code",
   "execution_count": 19,
   "id": "ade82d69-d43d-41db-9fd0-d0a732383c67",
   "metadata": {},
   "outputs": [
    {
     "data": {
      "text/plain": [
       "13"
      ]
     },
     "execution_count": 19,
     "metadata": {},
     "output_type": "execute_result"
    }
   ],
   "source": [
    "len(x)"
   ]
  },
  {
   "cell_type": "code",
   "execution_count": 20,
   "id": "48952f71-7786-4b65-9fd1-d3e4300fea1c",
   "metadata": {},
   "outputs": [],
   "source": [
    "f.close()"
   ]
  },
  {
   "cell_type": "code",
   "execution_count": 21,
   "id": "9cc99b19-ff0c-411c-922a-ab44ceb46fcc",
   "metadata": {},
   "outputs": [],
   "source": [
    "# 以二进制形式打开\n",
    "f = open(\"a.txt\", 'rb')  # 如果没有指定路径下的文件，则报错FileNotFoundError\n",
    "x = f.read()"
   ]
  },
  {
   "cell_type": "code",
   "execution_count": 22,
   "id": "c5f505ef-79d3-41c1-936c-21463d35a0c0",
   "metadata": {},
   "outputs": [
    {
     "data": {
      "text/plain": [
       "37"
      ]
     },
     "execution_count": 22,
     "metadata": {},
     "output_type": "execute_result"
    }
   ],
   "source": [
    "len(x)"
   ]
  },
  {
   "cell_type": "code",
   "execution_count": 23,
   "id": "54a935f0-0804-4b6d-81bf-d8a1dfc0518e",
   "metadata": {},
   "outputs": [],
   "source": [
    "f.close()"
   ]
  },
  {
   "cell_type": "markdown",
   "id": "2613b7a7-3e73-4d46-917a-0037ed6c79a3",
   "metadata": {
    "jp-MarkdownHeadingCollapsed": true,
    "tags": []
   },
   "source": [
    "## 2. 文件的打开与关闭\n",
    "\n",
    "\n",
    "|打开模式 |含义 |\n",
    "|------|-----|\n",
    "|'r' |只读模式，如果文件不存在，返回异常FileNotFoundError，默认值 |\n",
    "|'w' |覆盖写模式，文件不存在则创建，存在则完全覆盖源文件 |\n",
    "|'x' |创建写模式，文件不存在则创建，存在则返回异常FileExistsError |\n",
    "|'a' |追加写模式，文件不存在则创建，存在则在原文件最后追加内容 |\n",
    "|'b' |二进制文件模式 |\n",
    "|'t' |文本文件模式，默认值 |\n",
    "|'+' |与r/w/x/a一同使用，在原功能基础上增加同时读写功能 |\n",
    "\n",
    "语法形式: `<变量名> = open(<文件路径及文件名>, <打开模式>)`"
   ]
  },
  {
   "cell_type": "code",
   "execution_count": 8,
   "id": "1037591c-7db7-4f0e-b7ee-71c64c465e84",
   "metadata": {},
   "outputs": [
    {
     "name": "stdout",
     "output_type": "stream",
     "text": [
      "计算机辅助设计\n",
      "\n"
     ]
    }
   ],
   "source": [
    "f = open(\"a.txt\", \"r\")\n",
    "print(f.readline())\n",
    "f.close()"
   ]
  },
  {
   "cell_type": "code",
   "execution_count": 9,
   "id": "0e628184-973c-407c-b945-bab7e867ad2b",
   "metadata": {},
   "outputs": [
    {
     "ename": "ValueError",
     "evalue": "I/O operation on closed file.",
     "output_type": "error",
     "traceback": [
      "\u001b[0;31m---------------------------------------------------------------------------\u001b[0m",
      "\u001b[0;31mValueError\u001b[0m                                Traceback (most recent call last)",
      "\u001b[0;32m<ipython-input-9-7ede92726a19>\u001b[0m in \u001b[0;36m<module>\u001b[0;34m\u001b[0m\n\u001b[0;32m----> 1\u001b[0;31m \u001b[0mprint\u001b[0m\u001b[0;34m(\u001b[0m\u001b[0mf\u001b[0m\u001b[0;34m.\u001b[0m\u001b[0mreadline\u001b[0m\u001b[0;34m(\u001b[0m\u001b[0;34m)\u001b[0m\u001b[0;34m)\u001b[0m\u001b[0;34m\u001b[0m\u001b[0;34m\u001b[0m\u001b[0m\n\u001b[0m",
      "\u001b[0;31mValueError\u001b[0m: I/O operation on closed file."
     ]
    }
   ],
   "source": [
    "print(f.readline())"
   ]
  },
  {
   "cell_type": "markdown",
   "id": "8294a7ec-019b-4330-96e3-8fc38fe06962",
   "metadata": {},
   "source": [
    "## 3.文件的读取与指针移动\n",
    "\n",
    "|方法 |含义 |\n",
    "|------|-------|\n",
    "|f.read(size=-1) |从文件中读入整个文件内容。参数可选，如果给出，读入前size长度的字符串或字节流 |\n",
    "|f.readline(size = -1) | 从文件中读入一行内容。参数可选，如果给出，读入该行 前size长度的字符串或字节流 |\n",
    "|f.readlines(hint=-1) | 从文件中读入所有行，以每行为元素形成一个列表。参数可选，如果给出，读入hint行 |\n",
    "|f.seek(offset) | 改变当前文件操作指针的位置，offset的值: 0:文件开头; 2: 文件结尾 |"
   ]
  },
  {
   "cell_type": "code",
   "execution_count": 24,
   "id": "208dc21d-9888-4187-96e2-0c45295812fb",
   "metadata": {},
   "outputs": [
    {
     "name": "stdout",
     "output_type": "stream",
     "text": [
      "计算机辅助设计\n",
      "数据库技术\n"
     ]
    },
    {
     "data": {
      "text/plain": [
       "True"
      ]
     },
     "execution_count": 24,
     "metadata": {},
     "output_type": "execute_result"
    }
   ],
   "source": [
    "f = open(\"a.txt\", \"r\")\n",
    "s = f.read()\n",
    "print(s)\n",
    "f.close()\n",
    "f.closed"
   ]
  },
  {
   "cell_type": "code",
   "execution_count": 25,
   "id": "250759d8-e59d-4b28-b0f8-0ca0cd700f8d",
   "metadata": {},
   "outputs": [
    {
     "name": "stdout",
     "output_type": "stream",
     "text": [
      "[]\n"
     ]
    }
   ],
   "source": [
    "# 一边读取，一遍移动光标\n",
    "f = open(\"a.txt\", \"r\")\n",
    "s = f.readlines()  # 已经把文件中的数据读取完\n",
    "\n",
    "print(f.readlines())  # 后面的读取内容为空"
   ]
  },
  {
   "cell_type": "code",
   "execution_count": 26,
   "id": "1d04e4a9-dc45-4fa7-9c76-9f71631fc7e5",
   "metadata": {},
   "outputs": [
    {
     "name": "stdout",
     "output_type": "stream",
     "text": [
      "计算机辅助设计\n",
      "数据库技术\n"
     ]
    }
   ],
   "source": [
    "f.seek(0)  # 将指针移动到开头\n",
    "print(f.read())"
   ]
  },
  {
   "cell_type": "code",
   "execution_count": 27,
   "id": "a559db64-2480-4497-80f7-a7bf61d7a442",
   "metadata": {},
   "outputs": [],
   "source": [
    "f.close()  # 关闭文件对象"
   ]
  },
  {
   "cell_type": "markdown",
   "id": "21f3dc8f-a123-445c-af61-254424e59223",
   "metadata": {},
   "source": [
    "- 文本文件可以看成是由行组成的组合类型， 因此，可以使用遍历循环逐行遍历文件，使用方法如下:\n",
    "\n",
    "```python\n",
    "f = open(<文件路径及名称>, \"r\")\n",
    "for line in f:\n",
    "    <语句块>\n",
    "\n",
    "f.close()\n",
    "```"
   ]
  },
  {
   "cell_type": "code",
   "execution_count": 28,
   "id": "826ffd01-68ff-41e6-a484-326946c3f1d6",
   "metadata": {},
   "outputs": [
    {
     "name": "stdout",
     "output_type": "stream",
     "text": [
      "计算机辅助设计\n",
      "\n",
      "数据库技术\n"
     ]
    }
   ],
   "source": [
    "f = open(\"a.txt\", \"r\")\n",
    "for line in f:\n",
    "    print(line)\n",
    "\n",
    "f.close()"
   ]
  },
  {
   "cell_type": "markdown",
   "id": "c34173e0-8464-40ba-94a1-3a57842558dc",
   "metadata": {},
   "source": [
    "## 4.文件的写入\n",
    "\n",
    "| 方法 | 含义 |\n",
    "|-----|-----|\n",
    "| f.write(s) | 向文件写入一个字符串或字节流 |\n",
    "| f.writelines(lines) | 将一个元素为字符串的列表写入文件 |"
   ]
  },
  {
   "cell_type": "code",
   "execution_count": 29,
   "id": "212a5592-23ac-4ed8-befd-3374170eebbe",
   "metadata": {},
   "outputs": [],
   "source": [
    "f = open(\"b.txt\", \"w\")\n",
    "f.write(\"法学\\n\")\n",
    "f.write(\"管理学\\n\")\n",
    "f.write(\"医学\\n\")\n",
    "f.close()"
   ]
  },
  {
   "cell_type": "code",
   "execution_count": 30,
   "id": "71c3ab32-119b-4c25-ba6d-8061c1553889",
   "metadata": {},
   "outputs": [
    {
     "data": {
      "text/plain": [
       "'法学\\n管理学\\n医学\\n'"
      ]
     },
     "execution_count": 30,
     "metadata": {},
     "output_type": "execute_result"
    }
   ],
   "source": [
    "f = open(\"b.txt\", \"r\")\n",
    "f.read()"
   ]
  },
  {
   "cell_type": "code",
   "execution_count": 31,
   "id": "6c805cbc-93c5-4837-864b-6c2668b8a5a4",
   "metadata": {},
   "outputs": [],
   "source": [
    "f.close()"
   ]
  },
  {
   "cell_type": "code",
   "execution_count": 32,
   "id": "31c6fbfb-9016-41ab-89bb-52cb8abc2527",
   "metadata": {},
   "outputs": [],
   "source": [
    "c_list = [\"法学\\n\", \"管理学\\n\", \"医学\\n\"]\n",
    "f = open(\"c.txt\", \"w\")\n",
    "f.writelines(c_list)\n",
    "f.close()"
   ]
  },
  {
   "cell_type": "code",
   "execution_count": 33,
   "id": "0a1e0053-87c7-4427-865b-56d373de875c",
   "metadata": {},
   "outputs": [
    {
     "data": {
      "text/plain": [
       "'法学\\n管理学\\n医学\\n'"
      ]
     },
     "execution_count": 33,
     "metadata": {},
     "output_type": "execute_result"
    }
   ],
   "source": [
    "f = open(\"c.txt\", \"r\")\n",
    "f.read()"
   ]
  },
  {
   "cell_type": "code",
   "execution_count": 34,
   "id": "503709f4-24e4-4436-8fec-acbedd8d1b87",
   "metadata": {},
   "outputs": [],
   "source": [
    "f.close()"
   ]
  },
  {
   "cell_type": "markdown",
   "id": "bf6e931e-d9b1-4ccd-9056-1e32e5587b8f",
   "metadata": {},
   "source": [
    "## 5.一维数据的存储"
   ]
  },
  {
   "cell_type": "code",
   "execution_count": 35,
   "id": "90206468-3c1a-4be8-8415-b2f0bdf73419",
   "metadata": {},
   "outputs": [],
   "source": [
    "ls = ['北京', '上海', '天津', '重庆'] \n",
    "f = open(\"city.csv\", \"w\")\n",
    "f.write(\",\".join(ls) + \"\\n\")\n",
    "f.close()"
   ]
  },
  {
   "cell_type": "code",
   "execution_count": 36,
   "id": "526f5de8-56a4-4366-946a-cd0ff58ebb59",
   "metadata": {},
   "outputs": [
    {
     "name": "stdout",
     "output_type": "stream",
     "text": [
      "['北京', '上海', '天津', '重庆']\n"
     ]
    }
   ],
   "source": [
    "f = open(\"city.csv\", \"r\")\n",
    "ls = f.read().strip('\\n').split(\",\") \n",
    "f.close()\n",
    "print(ls)"
   ]
  },
  {
   "cell_type": "markdown",
   "id": "1de3bb82-d2a9-4c78-89f2-723a57317743",
   "metadata": {},
   "source": [
    "## 6.二维数据"
   ]
  },
  {
   "cell_type": "code",
   "execution_count": 37,
   "id": "a6a09076-d238-436f-8d09-fb684b95acd1",
   "metadata": {},
   "outputs": [],
   "source": [
    "ls = [\n",
    "['指标', '2014年', '2015年', '2016年'],\n",
    "['居民消费价格指数', '102', '101.4', '102'],\n",
    "['食品', '103.1', '102.3', '104.6'],\n",
    "['烟酒及用品', '994', '102.1', '101.5'],\n",
    "['衣着', '102.4', '102.7', '101.4'],\n",
    "['家庭设备用品', '101.2', '101', '100.5'],\n",
    "['医疗保健和个人用品', '101.3', '102', '101.1'],\n",
    "['交通和通信', '99.9', '98.3', '98.7'],\n",
    "['娱乐教育文化', '101.9', '101.4', '101.6'],\n",
    "['居住', '102', '100.7', '101.6'], \n",
    "]"
   ]
  },
  {
   "cell_type": "code",
   "execution_count": 38,
   "id": "78a368df-64c1-40ae-bd75-1f8fc4d2d4f9",
   "metadata": {},
   "outputs": [
    {
     "data": {
      "text/plain": [
       "[['指标', '2014年', '2015年', '2016年'],\n",
       " ['居民消费价格指数', '102', '101.4', '102'],\n",
       " ['食品', '103.1', '102.3', '104.6'],\n",
       " ['烟酒及用品', '994', '102.1', '101.5'],\n",
       " ['衣着', '102.4', '102.7', '101.4'],\n",
       " ['家庭设备用品', '101.2', '101', '100.5'],\n",
       " ['医疗保健和个人用品', '101.3', '102', '101.1'],\n",
       " ['交通和通信', '99.9', '98.3', '98.7'],\n",
       " ['娱乐教育文化', '101.9', '101.4', '101.6'],\n",
       " ['居住', '102', '100.7', '101.6']]"
      ]
     },
     "execution_count": 38,
     "metadata": {},
     "output_type": "execute_result"
    }
   ],
   "source": [
    "ls"
   ]
  },
  {
   "cell_type": "code",
   "execution_count": 39,
   "id": "92185b1d-ad6a-4ebe-a198-3377fcfa6b21",
   "metadata": {},
   "outputs": [],
   "source": [
    "# ls代表二维列表，此处省略 \n",
    "f = open(\"cpi.csv\", \"w\") \n",
    "for row in ls:\n",
    "    f.write(\",\".join(row)+ \"\\n\")\n",
    "    \n",
    "f.close()"
   ]
  },
  {
   "cell_type": "code",
   "execution_count": 40,
   "id": "7cca9044-6471-4004-a698-e18a1c682bd4",
   "metadata": {},
   "outputs": [
    {
     "name": "stdout",
     "output_type": "stream",
     "text": [
      "[['指标', '2014年', '2015年', '2016年'], ['居民消费价格指数', '102', '101.4', '102'], ['食品', '103.1', '102.3', '104.6'], ['烟酒及用品', '994', '102.1', '101.5'], ['衣着', '102.4', '102.7', '101.4'], ['家庭设备用品', '101.2', '101', '100.5'], ['医疗保健和个人用品', '101.3', '102', '101.1'], ['交通和通信', '99.9', '98.3', '98.7'], ['娱乐教育文化', '101.9', '101.4', '101.6'], ['居住', '102', '100.7', '101.6']]\n"
     ]
    }
   ],
   "source": [
    "f = open(\"cpi.csv\", \"r\")\n",
    "ls = []\n",
    "for line in f:\n",
    "    ls.append(line.strip('\\n').split(\",\"))\n",
    "f.close()\n",
    "print(ls)"
   ]
  },
  {
   "cell_type": "code",
   "execution_count": 41,
   "id": "4a8a180e-2261-490b-8797-660f3dd102fb",
   "metadata": {},
   "outputs": [
    {
     "name": "stdout",
     "output_type": "stream",
     "text": [
      "指标                            2014年                         2015年                         2016年                         \n",
      "居民消费价格指数                      102                           101.4                         102                           \n",
      "食品                            103.1                         102.3                         104.6                         \n",
      "烟酒及用品                         994                           102.1                         101.5                         \n",
      "衣着                            102.4                         102.7                         101.4                         \n",
      "家庭设备用品                        101.2                         101                           100.5                         \n",
      "医疗保健和个人用品                     101.3                         102                           101.1                         \n",
      "交通和通信                         99.9                          98.3                          98.7                          \n",
      "娱乐教育文化                        101.9                         101.4                         101.6                         \n",
      "居住                            102                           100.7                         101.6                         \n"
     ]
    }
   ],
   "source": [
    "for row in ls:\n",
    "    line = \"\"\n",
    "    for item in row:\n",
    "        line += \"{:30}\".format(item)\n",
    "        \n",
    "    print(line)"
   ]
  },
  {
   "cell_type": "markdown",
   "id": "6b29ab51-92f5-4f13-bde6-b78825a6b269",
   "metadata": {},
   "source": [
    "## 7. 案例\n",
    "\n",
    "$y_t=a\\cdot x_t + b + \\epsilon$, $\\epsilon \\sim N(0,\\delta)$<br>\n",
    "\n",
    "优化目标: $Min\\ \\sum_{i=1}^n[y-\\hat y]^2$，$\\hat y_t=\\hat{a} \\cdot x_t +\\hat{b}$<br>\n",
    "\n",
    "分别对$\\hat{a}$和$\\hat{b}$求导: $\\frac{d(\\cdot)}{d(\\hat{a})}=0, \\frac{d(\\cdot)}{d(\\hat{b})}=0$，可得到:<br>\n",
    "\n",
    "$\\hat{a}=\\frac{E(xy)-E(x)E(y)}{E(x^2)-E^2(x)}$，$\\hat{b}=E(y)-E(x)\\cdot \\hat{a}$\n",
    "\n",
    "\n"
   ]
  },
  {
   "cell_type": "markdown",
   "id": "0b562c55-b6c7-48c4-9dc1-d20629e690f2",
   "metadata": {},
   "source": [
    "- 生成finance.csv文件"
   ]
  },
  {
   "cell_type": "code",
   "execution_count": 42,
   "id": "cda9da99-c6e9-4252-9b7e-00f1da88b07b",
   "metadata": {},
   "outputs": [],
   "source": [
    "finance_list = [\n",
    "                [\"指标\", \"2000年\", \"2015年\", \"2016年\"],\n",
    "                [\"全部收入\",  13395.2, 152269.2, 159605],\n",
    "                [\"中央收入\", 6989.2, 69267.2, 72365.6],\n",
    "                [\"地方收入\", 6406.1, 83002, 87239.4],\n",
    "                [\"全部支出\", 15996.5, 175877.8, 187755.2],\n",
    "                [\"中央支出\", 5519.9, 25542.2, 27403.9],\n",
    "                [\"地方支出\", 10366.7, 150335.6, 160351.4],\n",
    "                    ]"
   ]
  },
  {
   "cell_type": "code",
   "execution_count": 43,
   "id": "a26ccb69-d920-484b-8fc2-e6cca94510e8",
   "metadata": {},
   "outputs": [],
   "source": [
    "f = open(\"finance.csv\", 'w')\n",
    "for x in finance_list:\n",
    "    for item in x:\n",
    "        f.write(\"{:},\".format(item))\n",
    "    f.write(\"\\n\")\n",
    "    \n",
    "f.close()"
   ]
  },
  {
   "cell_type": "markdown",
   "id": "e2d309d3-8878-4e20-83f8-55ee5064599f",
   "metadata": {},
   "source": [
    "- 读取数据"
   ]
  },
  {
   "cell_type": "code",
   "execution_count": 44,
   "id": "91844fcf-0ac0-4933-a09e-e1f20a4a0b11",
   "metadata": {},
   "outputs": [],
   "source": [
    "def read_data(filename):\n",
    "    f = open(filename, 'r')\n",
    "    data = f.readlines()\n",
    "    d_dict = {}\n",
    "    for i, x in enumerate(data):\n",
    "        item = x.split(',')\n",
    "        a_list = []  # 或则用 a_list = [int(a[:-1]) if i == 1 else float(a) for a in item[1 : -1] ] 替代for循环\n",
    "        for a in item[1 : -1]:\n",
    "            if i == 0:\n",
    "                a_list.append(int(a[:-1]))\n",
    "            else:\n",
    "                a_list.append(float(a))\n",
    "                \n",
    "        d_dict[item[0]] = a_list\n",
    "    \n",
    "    return d_dict"
   ]
  },
  {
   "cell_type": "code",
   "execution_count": 45,
   "id": "0f0c1ccc-7d9c-4664-8eb1-3ab8e910b985",
   "metadata": {},
   "outputs": [],
   "source": [
    "def cal_avg(x):  # 计算均值\n",
    "    sum_x = 0\n",
    "    for i in x:\n",
    "        sum_x += i\n",
    "    return sum_x / len(x)\n",
    "\n",
    "def est_params(x, y):  # 计算a和b\n",
    "    # 计算E(xy)\n",
    "    E_xy = cal_avg([i*j for i, j in zip(x, y)])\n",
    "\n",
    "    # 计算E(x)和E(x^2)\n",
    "    E_x = cal_avg(x)\n",
    "    E_x2 = cal_avg([i**2 for i in x])\n",
    "    \n",
    "    # 计算E(y)\n",
    "    E_y = cal_avg(y)\n",
    "    \n",
    "    # 计算hat_a和hat_b\n",
    "    hat_a = (E_xy - E_x*E_y) / (E_x2 - E_x**2)\n",
    "    hat_b = E_y - E_x*hat_a\n",
    "    return hat_a, hat_b\n",
    "        \n",
    "def LinearRegrs(train_data):  # 估计参数\n",
    "    x = train_data['指标']\n",
    "    est_dict = {}\n",
    "    for key in train_data:\n",
    "        if key != '指标':\n",
    "            y = train_data[key]\n",
    "            est_a, est_b = est_params(x, y)\n",
    "            est_dict[key] = [est_a, est_b]\n",
    "            \n",
    "    return est_dict\n",
    "\n",
    "def predict(newyears, est_dict):\n",
    "    pred_data = {\"指标\": newyears}\n",
    "    for key in est_dict:\n",
    "        a, b = est_dict[key]\n",
    "        pred_data[key] = [(a * x + b) for x in newyears]\n",
    "    \n",
    "    return pred_data"
   ]
  },
  {
   "cell_type": "code",
   "execution_count": 46,
   "id": "7861c740-e030-4ce7-8433-d1f8170046ec",
   "metadata": {},
   "outputs": [],
   "source": [
    "def showResults(train_data, newyears):\n",
    "    est_dict = LinearRegrs(train_data)\n",
    "    pred_data = predict(newyears, est_dict)\n",
    "    \n",
    "    df = {} # 合并训练集和预测集\n",
    "    for key in train_data:\n",
    "        df[key] = train_data[key] + pred_data[key]  # 列表合并\n",
    "    \n",
    "    print('{:^60}'.format('国家财政收支线性估计'))\n",
    "    print('============='*len(df[\"指标\"]))\n",
    "    \n",
    "    for key in df:\n",
    "        if key == \"指标\":\n",
    "            titles = [\"{:<15}\".format(str(x)+\"年\") for x in (df[\"指标\"])]  # 为了对齐，都设置为10个字节宽度\n",
    "            print(''.join(titles))  # 打印输出标题行\n",
    "        else:\n",
    "            data = [\"{:<15.1f}\".format(x) for x in df[key]]\n",
    "            print(''.join(data))  # 打印数据"
   ]
  },
  {
   "cell_type": "markdown",
   "id": "70ebdd4f-fd83-4ab1-a5fd-848c98b1afe1",
   "metadata": {},
   "source": [
    "- 运行程序"
   ]
  },
  {
   "cell_type": "code",
   "execution_count": 47,
   "id": "345b5447-bb27-4612-86ac-8140a16fe329",
   "metadata": {},
   "outputs": [],
   "source": [
    "train_data = read_data(\"finance.csv\")\n",
    "newyears = [2016, 2017]"
   ]
  },
  {
   "cell_type": "code",
   "execution_count": 48,
   "id": "0884be9f-5f4d-4560-b073-ff6a41f8714b",
   "metadata": {},
   "outputs": [
    {
     "data": {
      "text/plain": [
       "{'指标': [2000, 2015, 2016],\n",
       " '全部收入': [13395.2, 152269.2, 159605.0],\n",
       " '中央收入': [6989.2, 69267.2, 72365.6],\n",
       " '地方收入': [6406.1, 83002.0, 87239.4],\n",
       " '全部支出': [15996.5, 175877.8, 187755.2],\n",
       " '中央支出': [5519.9, 25542.2, 27403.9],\n",
       " '地方支出': [10366.7, 150335.6, 160351.4]}"
      ]
     },
     "execution_count": 48,
     "metadata": {},
     "output_type": "execute_result"
    }
   ],
   "source": [
    "train_data"
   ]
  },
  {
   "cell_type": "code",
   "execution_count": 49,
   "id": "8ff65a71-f7d0-4aee-9b99-742c0625d9be",
   "metadata": {},
   "outputs": [
    {
     "name": "stdout",
     "output_type": "stream",
     "text": [
      "                         国家财政收支线性估计                         \n",
      "=================================================================\n",
      "2000年          2015年          2016年          2016年          2017年          \n",
      "13395.2        152269.2       159605.0       160502.4       169692.9       \n",
      "6989.2         69267.2        72365.6        72857.4        76972.1        \n",
      "6406.1         83002.0        87239.4        87645.1        92720.8        \n",
      "15996.5        175877.8       187755.2       187186.3       197888.1       \n",
      "5519.9         25542.2        27403.9        27157.9        28511.4        \n",
      "10366.7        150335.6       160351.4       160031.9       169387.3       \n"
     ]
    }
   ],
   "source": [
    "showResults(train_data, newyears)"
   ]
  },
  {
   "cell_type": "markdown",
   "id": "80a2b2b3-dff9-46cd-9f59-483d0209f26c",
   "metadata": {},
   "source": [
    "## pandas"
   ]
  },
  {
   "cell_type": "code",
   "execution_count": 12,
   "id": "d67df743-c6b4-4cdb-bc74-6bcbf1656773",
   "metadata": {},
   "outputs": [],
   "source": [
    "import pandas as pd"
   ]
  },
  {
   "cell_type": "code",
   "execution_count": null,
   "id": "56e81078-b5e7-40c1-9285-50daa3861ae0",
   "metadata": {},
   "outputs": [],
   "source": []
  },
  {
   "cell_type": "code",
   "execution_count": 1,
   "id": "ca6ba854-597c-4c11-afe3-b70121b368d7",
   "metadata": {},
   "outputs": [],
   "source": [
    "%matplotlib inline"
   ]
  },
  {
   "cell_type": "markdown",
   "id": "3e585ed8-a3c0-4f48-bb09-a6f1b1679f9a",
   "metadata": {},
   "source": [
    "## 1. 人工管理"
   ]
  },
  {
   "cell_type": "code",
   "execution_count": 2,
   "id": "58a46637-0a8b-4e69-bdb6-daaa3ff1b089",
   "metadata": {
    "tags": []
   },
   "outputs": [
    {
     "data": {
      "text/plain": [
       "[<matplotlib.lines.Line2D at 0x7fa296885d90>]"
      ]
     },
     "execution_count": 2,
     "metadata": {},
     "output_type": "execute_result"
    },
    {
     "data": {
      "image/png": "[encoded data removed]",
      "text/plain": [
       "<Figure size 432x288 with 1 Axes>"
      ]
     },
     "metadata": {
      "needs_background": "light"
     },
     "output_type": "display_data"
    }
   ],
   "source": [
    "import matplotlib.pyplot as plt\n",
    "# 数据准备\n",
    "x_data = [1, 2, 3, 4, 5, 6, 7, 8, 9, 10]\n",
    "y_data = [x**2 for x in x_data]\n",
    "# 工作流\n",
    "plt.plot(x_data, y_data)"
   ]
  },
  {
   "cell_type": "markdown",
   "id": "630f70c8-0531-4f67-bf48-b1e8e660c048",
   "metadata": {},
   "source": [
    "## 2. 基于文件的数据管理"
   ]
  },
  {
   "cell_type": "code",
   "execution_count": null,
   "id": "02d8e8ee-9d4a-4483-b379-00ebdc9d423e",
   "metadata": {},
   "outputs": [],
   "source": [
    "import matplotlib.pyplot as plt\n",
    "\n",
    "# 数据准备\n",
    "f = open('external_file.csv', 'r')\n",
    "x_data = [float(x) for x in f.readline().strip('\\n')]\n",
    "y_data = [float(y) for y in f.readline().strip('\\n')]\n",
    "# 工作流\n",
    "plt.plot(x_data, y_data)"
   ]
  },
  {
   "cell_type": "markdown",
   "id": "576f9dc4-32c3-4b95-8a97-0e46c8c06ea7",
   "metadata": {},
   "source": [
    "## 3. 基于数据库的数据管理"
   ]
  },
  {
   "cell_type": "code",
   "execution_count": 4,
   "id": "8c1ebe7e-ea6e-4212-a4cc-0d567b0e9128",
   "metadata": {},
   "outputs": [],
   "source": [
    "import pymysql as msql\n",
    "import matplotlib.pyplot as plt\n",
    "# 数据库连接\n",
    "configs = {'host': '127.0.0.1',\n",
    "           'port': 3306,\n",
    "           'user': 'root',\n",
    "           'password': '111111',\n",
    "           'database': 'test'\n",
    "           'cursorclass': msql.cursors.DictCursor}\n",
    "conn = msql.connect(**configs)\n",
    "cursor = conn.cousor()\n",
    "# 查询数据\n",
    "cursor.execute('select x_data, y_data from test_table')\n",
    "x_data, y_data = [], []\n",
    "for res in cursor:\n",
    "    x_data.append(float(res['x_data']))\n",
    "    y_data.append(float(res['y_data'])) \n",
    "    \n",
    "# 工作流\n",
    "plt.plot(x_data, y_data)"
   ]
  },
  {
   "cell_type": "code",
   "execution_count": 5,
   "id": "266372a7-7103-45bc-bd94-14b9035bfe68",
   "metadata": {},
   "outputs": [
    {
     "data": {
      "text/plain": [
       "'1234bdsfsf\\n'"
      ]
     },
     "execution_count": 5,
     "metadata": {},
     "output_type": "execute_result"
    }
   ],
   "source": [
    "f.readline()"
   ]
  },
  {
   "cell_type": "code",
   "execution_count": null,
   "id": "53abbe85-894c-410e-8cae-9201c8a13e86",
   "metadata": {},
   "outputs": [],
   "source": []
  }
 ],
 "metadata": {
  "kernelspec": {
   "display_name": "Python 3",
   "language": "python",
   "name": "python3"
  },
  "language_info": {
   "codemirror_mode": {
    "name": "ipython",
    "version": 3
   },
   "file_extension": ".py",
   "mimetype": "text/x-python",
   "name": "python",
   "nbconvert_exporter": "python",
   "pygments_lexer": "ipython3",
   "version": "3.9.2"
  }
 },
 "nbformat": 4,
 "nbformat_minor": 5
}
