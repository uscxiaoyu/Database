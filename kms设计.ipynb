{
 "nbformat": 4,
 "nbformat_minor": 2,
 "metadata": {
  "language_info": {
   "name": "python",
   "codemirror_mode": {
    "name": "ipython",
    "version": 3
   },
   "version": "3.7.0-final"
  },
  "orig_nbformat": 2,
  "file_extension": ".py",
  "mimetype": "text/x-python",
  "name": "python",
  "npconvert_exporter": "python",
  "pygments_lexer": "ipython3",
  "version": 3,
  "kernelspec": {
   "name": "python37",
   "display_name": "python37"
  }
 },
 "cells": [
  {
   "cell_type": "code",
   "execution_count": 1,
   "metadata": {},
   "outputs": [],
   "source": [
    "import pymysql as msql\n",
    "import re"
   ]
  },
  {
   "cell_type": "code",
   "execution_count": 2,
   "metadata": {},
   "outputs": [],
   "source": [
    "configs = {'host': '127.0.0.1',\n",
    "           'port': 3306,\n",
    "           'user': 'root',\n",
    "           'password': 'xiaoyu1986',\n",
    "           'db': 'znkfzl', \n",
    "           'charset': \"utf8\"}"
   ]
  },
  {
   "cell_type": "code",
   "execution_count": 3,
   "metadata": {},
   "outputs": [],
   "source": [
    "conn = msql.connect(**configs)"
   ]
  },
  {
   "cell_type": "markdown",
   "metadata": {},
   "source": [
    "# 1. `serviceorproductinfo`和`infotemp`的处理"
   ]
  },
  {
   "cell_type": "code",
   "execution_count": 10,
   "metadata": {},
   "outputs": [],
   "source": [
    "with conn.cursor() as cursor:\n",
    "    cursor.execute(\"show create table serviceorproductinfo\")\n",
    "    res = cursor.fetchall()"
   ]
  },
  {
   "cell_type": "code",
   "execution_count": 12,
   "metadata": {},
   "outputs": [
    {
     "name": "stdout",
     "output_type": "stream",
     "text": "CREATE TABLE `serviceorproductinfo` (\n  `SERVICEORPRODUCTINFOID` decimal(22,0) DEFAULT NULL,\n  `SERVICEID` decimal(22,0) DEFAULT NULL,\n  `ATTR1` text CHARACTER SET utf8 COLLATE utf8_bin,\n  `ATTR2` text CHARACTER SET utf8 COLLATE utf8_bin,\n  `ATTR3` text CHARACTER SET utf8 COLLATE utf8_bin,\n  `ATTR4` text CHARACTER SET utf8 COLLATE utf8_bin,\n  `ATTR5` text CHARACTER SET utf8 COLLATE utf8_bin,\n  `ATTR6` text CHARACTER SET utf8 COLLATE utf8_bin,\n  `ATTR7` text CHARACTER SET utf8 COLLATE utf8_bin,\n  `ATTR8` text CHARACTER SET utf8 COLLATE utf8_bin,\n  `ATTR9` text CHARACTER SET utf8 COLLATE utf8_bin,\n  `ATTR10` text CHARACTER SET utf8 COLLATE utf8_bin,\n  `ATTR11` text CHARACTER SET utf8 COLLATE utf8_bin,\n  `ATTR12` text CHARACTER SET utf8 COLLATE utf8_bin,\n  `ATTR13` text CHARACTER SET utf8 COLLATE utf8_bin,\n  `ATTR14` text CHARACTER SET utf8 COLLATE utf8_bin,\n  `ATTR15` text CHARACTER SET utf8 COLLATE utf8_bin,\n  `STATUS` decimal(22,0) DEFAULT NULL,\n  `SERVICE` varchar(200) CHARACTER SET utf8 COLLATE utf8_bin DEFAULT NULL,\n  `ATTR16` text CHARACTER SET utf8 COLLATE utf8_bin,\n  `ATTR17` text CHARACTER SET utf8 COLLATE utf8_bin,\n  `ATTR18` text CHARACTER SET utf8 COLLATE utf8_bin,\n  `ATTR19` text CHARACTER SET utf8 COLLATE utf8_bin,\n  `ATTR20` text CHARACTER SET utf8 COLLATE utf8_bin,\n  `ATTR21` text CHARACTER SET utf8 COLLATE utf8_bin,\n  `ATTR22` text CHARACTER SET utf8 COLLATE utf8_bin,\n  `ATTR23` text CHARACTER SET utf8 COLLATE utf8_bin,\n  `ATTR24` text CHARACTER SET utf8 COLLATE utf8_bin,\n  `ATTR25` text CHARACTER SET utf8 COLLATE utf8_bin,\n  `ATTR26` text CHARACTER SET utf8 COLLATE utf8_bin,\n  `ATTR27` text CHARACTER SET utf8 COLLATE utf8_bin,\n  `ATTR28` text CHARACTER SET utf8 COLLATE utf8_bin,\n  `ATTR29` text CHARACTER SET utf8 COLLATE utf8_bin,\n  `ATTR30` text CHARACTER SET utf8 COLLATE utf8_bin,\n  `ATTR31` text CHARACTER SET utf8 COLLATE utf8_bin,\n  `ATTR32` text CHARACTER SET utf8 COLLATE utf8_bin,\n  `ATTR33` text CHARACTER SET utf8 COLLATE utf8_bin,\n  `ATTR34` text CHARACTER SET utf8 COLLATE utf8_bin,\n  `ATTR35` text CHARACTER SET utf8 COLLATE utf8_bin,\n  `ATTR36` text CHARACTER SET utf8 COLLATE utf8_bin,\n  `ATTR37` text CHARACTER SET utf8 COLLATE utf8_bin,\n  `ATTR38` text CHARACTER SET utf8 COLLATE utf8_bin,\n  `ATTR39` text CHARACTER SET utf8 COLLATE utf8_bin,\n  `ATTR40` text CHARACTER SET utf8 COLLATE utf8_bin,\n  `ATTR41` text CHARACTER SET utf8 COLLATE utf8_bin,\n  `ATTR42` text CHARACTER SET utf8 COLLATE utf8_bin,\n  `ATTR43` text CHARACTER SET utf8 COLLATE utf8_bin,\n  `ATTR44` text CHARACTER SET utf8 COLLATE utf8_bin,\n  `ATTR45` text CHARACTER SET utf8 COLLATE utf8_bin,\n  `ATTR46` text CHARACTER SET utf8 COLLATE utf8_bin,\n  `ATTR47` text CHARACTER SET utf8 COLLATE utf8_bin,\n  `ATTR48` text CHARACTER SET utf8 COLLATE utf8_bin,\n  `ATTR49` text CHARACTER SET utf8 COLLATE utf8_bin,\n  `ATTR50` text CHARACTER SET utf8 COLLATE utf8_bin,\n  `ATTR51` text CHARACTER SET utf8 COLLATE utf8_bin,\n  `ATTR52` text CHARACTER SET utf8 COLLATE utf8_bin,\n  `ATTR53` text CHARACTER SET utf8 COLLATE utf8_bin,\n  `ATTR54` text CHARACTER SET utf8 COLLATE utf8_bin,\n  `ATTR55` text CHARACTER SET utf8 COLLATE utf8_bin,\n  `ATTR56` text CHARACTER SET utf8 COLLATE utf8_bin,\n  `ATTR57` text CHARACTER SET utf8 COLLATE utf8_bin,\n  `ATTR58` text CHARACTER SET utf8 COLLATE utf8_bin,\n  `ATTR59` text CHARACTER SET utf8 COLLATE utf8_bin,\n  `ATTR60` text CHARACTER SET utf8 COLLATE utf8_bin,\n  `ABSTRACTID` varchar(200) CHARACTER SET utf8 COLLATE utf8_bin DEFAULT NULL,\n  `INSERTTIME` datetime DEFAULT NULL,\n  `ATTR61` text CHARACTER SET utf8 COLLATE utf8_bin,\n  `ATTR62` text CHARACTER SET utf8 COLLATE utf8_bin,\n  `ATTR63` text CHARACTER SET utf8 COLLATE utf8_bin,\n  `ATTR64` text CHARACTER SET utf8 COLLATE utf8_bin,\n  `ATTR65` text CHARACTER SET utf8 COLLATE utf8_bin,\n  `ATTR66` text CHARACTER SET utf8 COLLATE utf8_bin,\n  `ATTR67` text CHARACTER SET utf8 COLLATE utf8_bin,\n  `ATTR68` text CHARACTER SET utf8 COLLATE utf8_bin,\n  `ATTR69` text CHARACTER SET utf8 COLLATE utf8_bin,\n  `ATTR70` text CHARACTER SET utf8 COLLATE utf8_bin,\n  `ATTR71` text CHARACTER SET utf8 COLLATE utf8_bin,\n  `ATTR72` text CHARACTER SET utf8 COLLATE utf8_bin,\n  `ATTR73` text CHARACTER SET utf8 COLLATE utf8_bin,\n  `ATTR74` text CHARACTER SET utf8 COLLATE utf8_bin,\n  `ATTR75` text CHARACTER SET utf8 COLLATE utf8_bin,\n  `ATTR76` text CHARACTER SET utf8 COLLATE utf8_bin,\n  `ATTR77` text CHARACTER SET utf8 COLLATE utf8_bin,\n  `ATTR78` text CHARACTER SET utf8 COLLATE utf8_bin,\n  `ATTR79` text CHARACTER SET utf8 COLLATE utf8_bin,\n  `ATTR80` text CHARACTER SET utf8 COLLATE utf8_bin,\n  `ATTR81` text CHARACTER SET utf8 COLLATE utf8_bin,\n  `ATTR82` text CHARACTER SET utf8 COLLATE utf8_bin,\n  `ATTR83` text CHARACTER SET utf8 COLLATE utf8_bin,\n  `ATTR84` text CHARACTER SET utf8 COLLATE utf8_bin,\n  `ATTR85` text CHARACTER SET utf8 COLLATE utf8_bin,\n  `ATTR86` text CHARACTER SET utf8 COLLATE utf8_bin,\n  `ATTR87` text CHARACTER SET utf8 COLLATE utf8_bin,\n  `ATTR88` text CHARACTER SET utf8 COLLATE utf8_bin,\n  `ATTR89` text CHARACTER SET utf8 COLLATE utf8_bin,\n  `ATTR90` text CHARACTER SET utf8 COLLATE utf8_bin,\n  `ATTR91` text CHARACTER SET utf8 COLLATE utf8_bin,\n  `ATTR92` text CHARACTER SET utf8 COLLATE utf8_bin,\n  `ATTR93` text CHARACTER SET utf8 COLLATE utf8_bin,\n  `ATTR94` text CHARACTER SET utf8 COLLATE utf8_bin,\n  `ATTR95` text CHARACTER SET utf8 COLLATE utf8_bin,\n  `ATTR96` text CHARACTER SET utf8 COLLATE utf8_bin,\n  `ATTR97` text CHARACTER SET utf8 COLLATE utf8_bin,\n  `ATTR98` text CHARACTER SET utf8 COLLATE utf8_bin,\n  `ATTR99` text CHARACTER SET utf8 COLLATE utf8_bin,\n  `ATTR100` text CHARACTER SET utf8 COLLATE utf8_bin,\n  `ATTR101` text CHARACTER SET utf8 COLLATE utf8_bin,\n  `ATTR102` text CHARACTER SET utf8 COLLATE utf8_bin,\n  `ATTR103` text CHARACTER SET utf8 COLLATE utf8_bin,\n  `ATTR104` text CHARACTER SET utf8 COLLATE utf8_bin,\n  `ATTR105` text CHARACTER SET utf8 COLLATE utf8_bin,\n  `ATTR106` text CHARACTER SET utf8 COLLATE utf8_bin,\n  `ATTR107` text CHARACTER SET utf8 COLLATE utf8_bin,\n  `ATTR108` text CHARACTER SET utf8 COLLATE utf8_bin,\n  `ATTR109` text CHARACTER SET utf8 COLLATE utf8_bin,\n  `ATTR110` text CHARACTER SET utf8 COLLATE utf8_bin,\n  `ATTR111` text CHARACTER SET utf8 COLLATE utf8_bin,\n  `ATTR112` text CHARACTER SET utf8 COLLATE utf8_bin,\n  `ATTR113` text CHARACTER SET utf8 COLLATE utf8_bin,\n  `ATTR114` text CHARACTER SET utf8 COLLATE utf8_bin,\n  `ATTR115` text CHARACTER SET utf8 COLLATE utf8_bin,\n  `ATTR116` text CHARACTER SET utf8 COLLATE utf8_bin,\n  `ATTR117` text CHARACTER SET utf8 COLLATE utf8_bin,\n  `ATTR118` text CHARACTER SET utf8 COLLATE utf8_bin,\n  `ATTR119` text CHARACTER SET utf8 COLLATE utf8_bin,\n  `ATTR120` text CHARACTER SET utf8 COLLATE utf8_bin,\n  `ATTR121` text CHARACTER SET utf8 COLLATE utf8_bin,\n  `ATTR122` text CHARACTER SET utf8 COLLATE utf8_bin,\n  `ATTR123` text CHARACTER SET utf8 COLLATE utf8_bin,\n  `ATTR124` text CHARACTER SET utf8 COLLATE utf8_bin,\n  `ATTR125` text CHARACTER SET utf8 COLLATE utf8_bin,\n  `ATTR126` text CHARACTER SET utf8 COLLATE utf8_bin,\n  `ATTR127` text CHARACTER SET utf8 COLLATE utf8_bin,\n  `ATTR128` text CHARACTER SET utf8 COLLATE utf8_bin,\n  `ATTR129` text CHARACTER SET utf8 COLLATE utf8_bin,\n  `ATTR130` text CHARACTER SET utf8 COLLATE utf8_bin,\n  `ATTR131` text CHARACTER SET utf8 COLLATE utf8_bin,\n  `ATTR132` text CHARACTER SET utf8 COLLATE utf8_bin,\n  `ATTR133` text CHARACTER SET utf8 COLLATE utf8_bin,\n  `ATTR134` text CHARACTER SET utf8 COLLATE utf8_bin,\n  `ATTR135` text CHARACTER SET utf8 COLLATE utf8_bin,\n  `ATTR136` text CHARACTER SET utf8 COLLATE utf8_bin,\n  `ATTR137` text CHARACTER SET utf8 COLLATE utf8_bin,\n  `ATTR138` text CHARACTER SET utf8 COLLATE utf8_bin,\n  `ATTR139` text CHARACTER SET utf8 COLLATE utf8_bin,\n  `ATTR140` text CHARACTER SET utf8 COLLATE utf8_bin,\n  `ATTR141` text CHARACTER SET utf8 COLLATE utf8_bin,\n  `ATTR142` text CHARACTER SET utf8 COLLATE utf8_bin,\n  `ATTR143` text CHARACTER SET utf8 COLLATE utf8_bin,\n  `ATTR144` text CHARACTER SET utf8 COLLATE utf8_bin,\n  `ATTR145` text CHARACTER SET utf8 COLLATE utf8_bin,\n  `ATTR146` text CHARACTER SET utf8 COLLATE utf8_bin,\n  `ATTR147` text CHARACTER SET utf8 COLLATE utf8_bin,\n  `ATTR148` text CHARACTER SET utf8 COLLATE utf8_bin,\n  `ATTR149` text CHARACTER SET utf8 COLLATE utf8_bin,\n  `ATTR150` text CHARACTER SET utf8 COLLATE utf8_bin,\n  `ATTR151` text CHARACTER SET utf8 COLLATE utf8_bin,\n  `ATTR152` text CHARACTER SET utf8 COLLATE utf8_bin,\n  `ATTR153` text CHARACTER SET utf8 COLLATE utf8_bin,\n  `ATTR154` text CHARACTER SET utf8 COLLATE utf8_bin,\n  `ATTR155` text CHARACTER SET utf8 COLLATE utf8_bin,\n  `ATTR156` text CHARACTER SET utf8 COLLATE utf8_bin,\n  `ATTR157` text CHARACTER SET utf8 COLLATE utf8_bin,\n  `ATTR158` text CHARACTER SET utf8 COLLATE utf8_bin,\n  `ATTR159` text CHARACTER SET utf8 COLLATE utf8_bin,\n  `ATTR160` text CHARACTER SET utf8 COLLATE utf8_bin,\n  `ATTR161` text CHARACTER SET utf8 COLLATE utf8_bin,\n  `ATTR162` text CHARACTER SET utf8 COLLATE utf8_bin,\n  `ATTR163` text CHARACTER SET utf8 COLLATE utf8_bin,\n  `ATTR164` text CHARACTER SET utf8 COLLATE utf8_bin,\n  `ATTR165` text CHARACTER SET utf8 COLLATE utf8_bin,\n  `ATTR166` text CHARACTER SET utf8 COLLATE utf8_bin,\n  `ATTR167` text CHARACTER SET utf8 COLLATE utf8_bin,\n  `ATTR168` text CHARACTER SET utf8 COLLATE utf8_bin,\n  `ATTR169` text CHARACTER SET utf8 COLLATE utf8_bin,\n  `ATTR170` text CHARACTER SET utf8 COLLATE utf8_bin,\n  `ATTR171` text CHARACTER SET utf8 COLLATE utf8_bin,\n  `ATTR172` text CHARACTER SET utf8 COLLATE utf8_bin,\n  `ATTR173` text CHARACTER SET utf8 COLLATE utf8_bin,\n  `ATTR174` text CHARACTER SET utf8 COLLATE utf8_bin,\n  `ATTR175` text CHARACTER SET utf8 COLLATE utf8_bin,\n  `ATTR176` text CHARACTER SET utf8 COLLATE utf8_bin,\n  `ATTR177` text CHARACTER SET utf8 COLLATE utf8_bin,\n  `ATTR178` text CHARACTER SET utf8 COLLATE utf8_bin,\n  `ATTR179` text CHARACTER SET utf8 COLLATE utf8_bin,\n  `ATTR180` text CHARACTER SET utf8 COLLATE utf8_bin,\n  `ATTR181` text CHARACTER SET utf8 COLLATE utf8_bin,\n  `ATTR182` text CHARACTER SET utf8 COLLATE utf8_bin,\n  `ATTR183` text CHARACTER SET utf8 COLLATE utf8_bin,\n  `ATTR184` text CHARACTER SET utf8 COLLATE utf8_bin,\n  `ATTR185` text CHARACTER SET utf8 COLLATE utf8_bin,\n  `ATTR186` text CHARACTER SET utf8 COLLATE utf8_bin,\n  `ATTR187` text CHARACTER SET utf8 COLLATE utf8_bin,\n  `ATTR188` text CHARACTER SET utf8 COLLATE utf8_bin,\n  `ATTR189` text CHARACTER SET utf8 COLLATE utf8_bin,\n  `ATTR190` text CHARACTER SET utf8 COLLATE utf8_bin,\n  `ATTR191` text CHARACTER SET utf8 COLLATE utf8_bin,\n  `ATTR192` text CHARACTER SET utf8 COLLATE utf8_bin,\n  `ATTR193` text CHARACTER SET utf8 COLLATE utf8_bin,\n  `ATTR194` text CHARACTER SET utf8 COLLATE utf8_bin,\n  `ATTR195` text CHARACTER SET utf8 COLLATE utf8_bin,\n  `ATTR196` text CHARACTER SET utf8 COLLATE utf8_bin,\n  `ATTR197` text CHARACTER SET utf8 COLLATE utf8_bin,\n  `ATTR198` text CHARACTER SET utf8 COLLATE utf8_bin,\n  `ATTR199` text CHARACTER SET utf8 COLLATE utf8_bin,\n  `ATTR200` text CHARACTER SET utf8 COLLATE utf8_bin,\n  `ATTR201` text CHARACTER SET utf8 COLLATE utf8_bin,\n  `ATTR202` text CHARACTER SET utf8 COLLATE utf8_bin,\n  `ATTR203` text CHARACTER SET utf8 COLLATE utf8_bin,\n  `ATTR204` text CHARACTER SET utf8 COLLATE utf8_bin,\n  `ATTR205` text CHARACTER SET utf8 COLLATE utf8_bin,\n  `ATTR206` text CHARACTER SET utf8 COLLATE utf8_bin,\n  `ATTR207` text CHARACTER SET utf8 COLLATE utf8_bin,\n  `ATTR208` text CHARACTER SET utf8 COLLATE utf8_bin,\n  `ATTR209` text CHARACTER SET utf8 COLLATE utf8_bin,\n  `ATTR210` text CHARACTER SET utf8 COLLATE utf8_bin,\n  `ATTR211` text CHARACTER SET utf8 COLLATE utf8_bin,\n  `ATTR212` text CHARACTER SET utf8 COLLATE utf8_bin,\n  `ATTR213` text CHARACTER SET utf8 COLLATE utf8_bin,\n  `ATTR214` text CHARACTER SET utf8 COLLATE utf8_bin,\n  `ATTR215` text CHARACTER SET utf8 COLLATE utf8_bin,\n  `ATTR216` text CHARACTER SET utf8 COLLATE utf8_bin,\n  `ATTR217` text CHARACTER SET utf8 COLLATE utf8_bin,\n  `ATTR218` text CHARACTER SET utf8 COLLATE utf8_bin,\n  `ATTR219` text CHARACTER SET utf8 COLLATE utf8_bin,\n  `ATTR220` text CHARACTER SET utf8 COLLATE utf8_bin,\n  `ATTR221` text CHARACTER SET utf8 COLLATE utf8_bin,\n  `ATTR222` text CHARACTER SET utf8 COLLATE utf8_bin,\n  `ATTR223` text CHARACTER SET utf8 COLLATE utf8_bin,\n  `ATTR224` text CHARACTER SET utf8 COLLATE utf8_bin,\n  `ATTR225` text CHARACTER SET utf8 COLLATE utf8_bin,\n  `ATTR226` text CHARACTER SET utf8 COLLATE utf8_bin,\n  `ATTR227` text CHARACTER SET utf8 COLLATE utf8_bin,\n  `ATTR228` text CHARACTER SET utf8 COLLATE utf8_bin,\n  `ATTR229` text CHARACTER SET utf8 COLLATE utf8_bin,\n  `ATTR230` text CHARACTER SET utf8 COLLATE utf8_bin,\n  `ATTR231` text CHARACTER SET utf8 COLLATE utf8_bin,\n  `ATTR232` text CHARACTER SET utf8 COLLATE utf8_bin,\n  `ATTR233` text CHARACTER SET utf8 COLLATE utf8_bin,\n  `ATTR234` text CHARACTER SET utf8 COLLATE utf8_bin,\n  `ATTR235` text CHARACTER SET utf8 COLLATE utf8_bin,\n  `ATTR236` text CHARACTER SET utf8 COLLATE utf8_bin,\n  `ATTR237` text CHARACTER SET utf8 COLLATE utf8_bin,\n  `ATTR238` text CHARACTER SET utf8 COLLATE utf8_bin,\n  `ATTR239` text CHARACTER SET utf8 COLLATE utf8_bin,\n  `ATTR240` text CHARACTER SET utf8 COLLATE utf8_bin,\n  `ATTR241` text CHARACTER SET utf8 COLLATE utf8_bin,\n  `ATTR242` text CHARACTER SET utf8 COLLATE utf8_bin,\n  `ATTR243` text CHARACTER SET utf8 COLLATE utf8_bin,\n  `ATTR244` text CHARACTER SET utf8 COLLATE utf8_bin,\n  `ATTR245` text CHARACTER SET utf8 COLLATE utf8_bin,\n  `ATTR246` text CHARACTER SET utf8 COLLATE utf8_bin,\n  `ATTR247` text CHARACTER SET utf8 COLLATE utf8_bin,\n  `ATTR248` text CHARACTER SET utf8 COLLATE utf8_bin,\n  `ATTR249` text CHARACTER SET utf8 COLLATE utf8_bin,\n  `ATTR250` text CHARACTER SET utf8 COLLATE utf8_bin,\n  `ATTR251` text CHARACTER SET utf8 COLLATE utf8_bin,\n  `ATTR252` text CHARACTER SET utf8 COLLATE utf8_bin,\n  `ATTR253` text CHARACTER SET utf8 COLLATE utf8_bin,\n  `ATTR254` text CHARACTER SET utf8 COLLATE utf8_bin,\n  `ATTR255` text CHARACTER SET utf8 COLLATE utf8_bin,\n  `ATTR256` text CHARACTER SET utf8 COLLATE utf8_bin,\n  `ATTR257` text CHARACTER SET utf8 COLLATE utf8_bin,\n  `ATTR258` text CHARACTER SET utf8 COLLATE utf8_bin,\n  `ATTR259` text CHARACTER SET utf8 COLLATE utf8_bin,\n  `ATTR260` text CHARACTER SET utf8 COLLATE utf8_bin,\n  `ATTR261` text CHARACTER SET utf8 COLLATE utf8_bin,\n  `ATTR262` text CHARACTER SET utf8 COLLATE utf8_bin,\n  `ATTR263` text CHARACTER SET utf8 COLLATE utf8_bin,\n  `ATTR264` text CHARACTER SET utf8 COLLATE utf8_bin,\n  `ATTR265` text CHARACTER SET utf8 COLLATE utf8_bin,\n  `ATTR266` text CHARACTER SET utf8 COLLATE utf8_bin,\n  `ATTR267` text CHARACTER SET utf8 COLLATE utf8_bin,\n  `ATTR268` text CHARACTER SET utf8 COLLATE utf8_bin,\n  `ATTR269` text CHARACTER SET utf8 COLLATE utf8_bin,\n  `ATTR270` text CHARACTER SET utf8 COLLATE utf8_bin,\n  `ATTR271` text CHARACTER SET utf8 COLLATE utf8_bin,\n  `ATTR272` text CHARACTER SET utf8 COLLATE utf8_bin,\n  `ATTR273` text CHARACTER SET utf8 COLLATE utf8_bin,\n  `ATTR274` text CHARACTER SET utf8 COLLATE utf8_bin,\n  `ATTR275` text CHARACTER SET utf8 COLLATE utf8_bin,\n  `ATTR276` text CHARACTER SET utf8 COLLATE utf8_bin,\n  `ATTR277` text CHARACTER SET utf8 COLLATE utf8_bin,\n  `ATTR278` text CHARACTER SET utf8 COLLATE utf8_bin,\n  `ATTR279` text CHARACTER SET utf8 COLLATE utf8_bin,\n  `ATTR280` text CHARACTER SET utf8 COLLATE utf8_bin,\n  `ATTR281` text CHARACTER SET utf8 COLLATE utf8_bin,\n  `ATTR282` text CHARACTER SET utf8 COLLATE utf8_bin,\n  `ATTR283` text CHARACTER SET utf8 COLLATE utf8_bin,\n  `ATTR284` text CHARACTER SET utf8 COLLATE utf8_bin,\n  `ATTR285` text CHARACTER SET utf8 COLLATE utf8_bin,\n  `ATTR286` text CHARACTER SET utf8 COLLATE utf8_bin,\n  `ATTR287` text CHARACTER SET utf8 COLLATE utf8_bin,\n  `ATTR288` text CHARACTER SET utf8 COLLATE utf8_bin,\n  `ATTR289` text CHARACTER SET utf8 COLLATE utf8_bin,\n  `ATTR290` text CHARACTER SET utf8 COLLATE utf8_bin,\n  `ATTR291` text CHARACTER SET utf8 COLLATE utf8_bin,\n  `ATTR292` text CHARACTER SET utf8 COLLATE utf8_bin,\n  `ATTR293` text CHARACTER SET utf8 COLLATE utf8_bin,\n  `ATTR294` text CHARACTER SET utf8 COLLATE utf8_bin,\n  `ATTR295` text CHARACTER SET utf8 COLLATE utf8_bin,\n  `ATTR296` text CHARACTER SET utf8 COLLATE utf8_bin,\n  `ATTR297` text CHARACTER SET utf8 COLLATE utf8_bin,\n  `ATTR298` text CHARACTER SET utf8 COLLATE utf8_bin,\n  `ATTR299` text CHARACTER SET utf8 COLLATE utf8_bin,\n  `ATTR300` text CHARACTER SET utf8 COLLATE utf8_bin,\n  `DOCVERSION` decimal(22,0) DEFAULT '0',\n  `UPDATETIME` datetime DEFAULT NULL,\n  `UPDATEAUTHORID` varchar(40) CHARACTER SET utf8 COLLATE utf8_bin DEFAULT NULL,\n  `FOREIGNFLAGPATHS` text CHARACTER SET utf8 COLLATE utf8_bin,\n  `TEMPLATEID` decimal(22,0) DEFAULT NULL,\n  `DANGWEIID` decimal(22,0) DEFAULT NULL,\n  `DANGWEIENABLE` decimal(22,0) DEFAULT NULL,\n  `RELTIME` datetime DEFAULT NULL,\n  `EXPERTREMINDS` text CHARACTER SET utf8 COLLATE utf8_bin,\n  `RICHEDIT` text CHARACTER SET utf8 COLLATE utf8_bin,\n  `DOCID` varchar(50) CHARACTER SET utf8 COLLATE utf8_bin DEFAULT NULL,\n  `SERVICECLASSID` decimal(22,0) DEFAULT NULL,\n  `WEIGHT` decimal(22,0) DEFAULT NULL,\n  `WEIGHTATTENTION` varchar(100) CHARACTER SET utf8 COLLATE utf8_bin DEFAULT NULL,\n  `WEIGHTTOP` varchar(100) CHARACTER SET utf8 COLLATE utf8_bin DEFAULT NULL,\n  `FORMALVERSION` decimal(22,0) DEFAULT NULL,\n  `UNIVERSAL` decimal(22,0) DEFAULT NULL,\n  `DOCNOTEDETAILS` text CHARACTER SET utf8 COLLATE utf8_bin\n) ENGINE=InnoDB DEFAULT CHARSET=utf8\n"
    }
   ],
   "source": [
    "print(res[0][1])"
   ]
  },
  {
   "cell_type": "code",
   "execution_count": 13,
   "metadata": {},
   "outputs": [],
   "source": [
    "sql = res[0][1]"
   ]
  },
  {
   "cell_type": "code",
   "execution_count": 17,
   "metadata": {},
   "outputs": [
    {
     "name": "stdout",
     "output_type": "stream",
     "text": "CREATE TABLE `serviceorproductinfo` (\n  `SERVICEORPRODUCTINFOID` decimal(22,0) DEFAULT NULL,\n  `SERVICEID` decimal(22,0) DEFAULT NULL,\n  `STATUS` decimal(22,0) DEFAULT NULL,\n  `SERVICE` varchar(200) CHARACTER SET utf8 COLLATE utf8_bin DEFAULT NULL,\n  `ABSTRACTID` varchar(200) CHARACTER SET utf8 COLLATE utf8_bin DEFAULT NULL,\n  `INSERTTIME` datetime DEFAULT NULL,\n  `DOCVERSION` decimal(22,0) DEFAULT '0',\n  `UPDATETIME` datetime DEFAULT NULL,\n  `UPDATEAUTHORID` varchar(40) CHARACTER SET utf8 COLLATE utf8_bin DEFAULT NULL,\n  `FOREIGNFLAGPATHS` text CHARACTER SET utf8 COLLATE utf8_bin,\n  `TEMPLATEID` decimal(22,0) DEFAULT NULL,\n  `DANGWEIID` decimal(22,0) DEFAULT NULL,\n  `DANGWEIENABLE` decimal(22,0) DEFAULT NULL,\n  `RELTIME` datetime DEFAULT NULL,\n  `EXPERTREMINDS` text CHARACTER SET utf8 COLLATE utf8_bin,\n  `RICHEDIT` text CHARACTER SET utf8 COLLATE utf8_bin,\n  `DOCID` varchar(50) CHARACTER SET utf8 COLLATE utf8_bin DEFAULT NULL,\n  `SERVICECLASSID` decimal(22,0) DEFAULT NULL,\n  `WEIGHT` decimal(22,0) DEFAULT NULL,\n  `WEIGHTATTENTION` varchar(100) CHARACTER SET utf8 COLLATE utf8_bin DEFAULT NULL,\n  `WEIGHTTOP` varchar(100) CHARACTER SET utf8 COLLATE utf8_bin DEFAULT NULL,\n  `FORMALVERSION` decimal(22,0) DEFAULT NULL,\n  `UNIVERSAL` decimal(22,0) DEFAULT NULL,\n  `DOCNOTEDETAILS` text CHARACTER SET utf8 COLLATE utf8_bin\n) ENGINE=InnoDB DEFAULT CHARSET=utf8\n"
    }
   ],
   "source": [
    "print(','.join([x for x in sql.split(',') if not re.findall('ATTR\\d+', x, flags=re.I)]))"
   ]
  },
  {
   "cell_type": "code",
   "execution_count": 19,
   "metadata": {},
   "outputs": [],
   "source": [
    "new_sql = \"\"\"\n",
    "CREATE TABLE kms.`serviceorproductinfo` (\n",
    "  `SERVICEORPRODUCTINFOID` decimal(22,0) DEFAULT NULL,\n",
    "  `SERVICEID` decimal(22,0) DEFAULT NULL,\n",
    "  `STATUS` decimal(22,0) DEFAULT NULL,\n",
    "  `SERVICE` varchar(200) CHARACTER SET utf8 COLLATE utf8_bin DEFAULT NULL,\n",
    "  `ABSTRACTID` varchar(200) CHARACTER SET utf8 COLLATE utf8_bin DEFAULT NULL,\n",
    "  `INSERTTIME` datetime DEFAULT NULL,\n",
    "  `DOCVERSION` decimal(22,0) DEFAULT '0',\n",
    "  `UPDATETIME` datetime DEFAULT NULL,\n",
    "  `UPDATEAUTHORID` varchar(40) CHARACTER SET utf8 COLLATE utf8_bin DEFAULT NULL,\n",
    "  `FOREIGNFLAGPATHS` text CHARACTER SET utf8 COLLATE utf8_bin,\n",
    "  `TEMPLATEID` decimal(22,0) DEFAULT NULL,\n",
    "  `DANGWEIID` decimal(22,0) DEFAULT NULL,\n",
    "  `DANGWEIENABLE` decimal(22,0) DEFAULT NULL,\n",
    "  `RELTIME` datetime DEFAULT NULL,\n",
    "  `EXPERTREMINDS` text CHARACTER SET utf8 COLLATE utf8_bin,\n",
    "  `RICHEDIT` text CHARACTER SET utf8 COLLATE utf8_bin,\n",
    "  `DOCID` varchar(50) CHARACTER SET utf8 COLLATE utf8_bin DEFAULT NULL,\n",
    "  `SERVICECLASSID` decimal(22,0) DEFAULT NULL,\n",
    "  `WEIGHT` decimal(22,0) DEFAULT NULL,\n",
    "  `WEIGHTATTENTION` varchar(100) CHARACTER SET utf8 COLLATE utf8_bin DEFAULT NULL,\n",
    "  `WEIGHTTOP` varchar(100) CHARACTER SET utf8 COLLATE utf8_bin DEFAULT NULL,\n",
    "  `FORMALVERSION` decimal(22,0) DEFAULT NULL,\n",
    "  `UNIVERSAL` decimal(22,0) DEFAULT NULL,\n",
    "  `DOCNOTEDETAILS` text CHARACTER SET utf8 COLLATE utf8_bin\n",
    ") ENGINE=InnoDB DEFAULT CHARSET=utf8\n",
    "\"\"\""
   ]
  },
  {
   "cell_type": "code",
   "execution_count": 20,
   "metadata": {},
   "outputs": [],
   "source": [
    "with conn.cursor() as cursor:\n",
    "    cursor.execute(new_sql)\n",
    "    conn.commit()"
   ]
  },
  {
   "cell_type": "code",
   "execution_count": 21,
   "metadata": {},
   "outputs": [],
   "source": [
    "with conn.cursor() as cursor:\n",
    "    cursor.execute('alter table kms.serviceorproductinfo add EXATTRS JSON')\n",
    "    conn.commit()"
   ]
  },
  {
   "cell_type": "markdown",
   "metadata": {},
   "source": [
    "## 将原serviceorproduct表中的数据转为新表"
   ]
  },
  {
   "cell_type": "code",
   "execution_count": 27,
   "metadata": {},
   "outputs": [
    {
     "name": "stdout",
     "output_type": "stream",
     "text": "((Decimal('1878124'),), (Decimal('1831460'),), (Decimal('1831463'),), (Decimal('1878126'),))\n"
    }
   ],
   "source": [
    "with conn.cursor() as cursor:\n",
    "    # 获取表中的所有serviceid\n",
    "    service_column = {}\n",
    "    cursor.execute('select distinct serviceid from serviceorproductinfo')\n",
    "    res1 = cursor.fetchall()\n",
    "    print(res1)\n",
    "    for x in res1:\n",
    "        cursor.execute(\"\"\"SELECT COLUMNNUM, `NAME`\n",
    "            FROM serviceattrname2colnum\n",
    "            WHERE SERVICEID=%s\"\"\", (x,))\n",
    "        res2 = cursor.fetchall()\n",
    "        service_column[x[0]] = {\"ATTR%d\"%item[0]: item[1] for item in res2}"
   ]
  },
  {
   "cell_type": "code",
   "execution_count": 28,
   "metadata": {},
   "outputs": [
    {
     "name": "stdout",
     "output_type": "stream",
     "text": "{'ATTR1': 'GroupNum', 'ATTR2': 'cityId', 'ATTR3': 'cityName', 'ATTR4': 'docId', 'ATTR5': 'docName', 'ATTR6': 'foreign', 'ATTR7': 'foreignFlag', 'ATTR8': 'modifytime', 'ATTR9': 'validtime', 'ATTR217': 'FAQ.文档名', 'ATTR218': 'FAQ.用户问题', 'ATTR219': 'FAQ.有效时间', 'ATTR220': 'FAQ.在线', 'ATTR221': 'FAQ.坐席', 'ATTR222': 'FAQ.IVR'}\n"
    }
   ],
   "source": [
    "print(service_column[1878126])"
   ]
  },
  {
   "cell_type": "code",
   "execution_count": 34,
   "metadata": {},
   "outputs": [
    {
     "data": {
      "text/plain": "['ATTR1',\n 'ATTR2',\n 'ATTR3',\n 'ATTR4',\n 'ATTR5',\n 'ATTR6',\n 'ATTR7',\n 'ATTR8',\n 'ATTR9',\n 'ATTR217',\n 'ATTR218',\n 'ATTR219',\n 'ATTR220',\n 'ATTR221',\n 'ATTR222']"
     },
     "execution_count": 34,
     "metadata": {},
     "output_type": "execute_result"
    }
   ],
   "source": [
    "list(service_column[1878126].keys())"
   ]
  },
  {
   "cell_type": "code",
   "execution_count": 32,
   "metadata": {},
   "outputs": [],
   "source": [
    "with conn.cursor() as cursor:\n",
    "    cursor.execute('desc serviceorproductinfo')\n",
    "    res = cursor.fetchall()\n",
    "    common_props = ','.join([x[0] for x in res if not re.findall('^ATTR\\d+$', x[0], flags=re.I)])"
   ]
  },
  {
   "cell_type": "code",
   "execution_count": 47,
   "metadata": {},
   "outputs": [
    {
     "data": {
      "text/plain": "24"
     },
     "execution_count": 47,
     "metadata": {},
     "output_type": "execute_result"
    }
   ],
   "source": [
    "len(common_props.split(','))"
   ]
  },
  {
   "cell_type": "code",
   "execution_count": 49,
   "metadata": {},
   "outputs": [],
   "source": [
    "import json"
   ]
  },
  {
   "cell_type": "code",
   "execution_count": 62,
   "metadata": {},
   "outputs": [
    {
     "name": "stdout",
     "output_type": "stream",
     "text": "1b4bf6b2c74007be8daf1e\n1146 cdaf5427f92a491bb6438152b1144061\n1147 72abb2781e974d82aaec032e2facf216\n1148 753a7ace2e8544ef888c278818d2e93a\n1149 a2fa2e54187742e49e569520806e1cb4\n1150 cf7c2002c6ec407fa23b56b0fb62bf12\n1151 88f1a6a38ce447ada2601655414e1328\n1152 6cc714cc93f7405a97c5a40c83811149\n1153 01c7b7caac694dcabbe64334a84f9422\n1154 517f7886746b4a93b3cc6515ef565575\n1155 95ef815f8fd0437abb28e03b9caa5bd6\n1156 6c24c16a4e724f89a307c17a9c4f5db1\n1157 6f4f206149c14513b6a1826e0690fd44\n1158 b29b54a523484f1d91fd5a69bb69d400\n1159 6aed9b3ee8704d998fb753f33e27a204\n1160 c47de6bbb7eb4f9eabd053405f55e23c\n1161 87e8962a2ce341ee8cd96589de9d64d1\n1162 83e10aec79f048c3a4c3febb6dde8ae3\n1163 b40d1fbd6275416eb772227122034b98\n1164 e1713cffdaeb4364bae88c9bb19ae0ab\n1165 bc9160c130aa45499c191ed2355e51d1\n1166 7fb57933bad145098910e854ebb14142\n1167 30a54330321d49b48678dbb7264688db\n1168 295e634937154bb39dff9bd8a2b00522\n1169 b40cd81d49584a03aa6a9427b58ed0b2\n1170 c6358f2d84224568b7674048eb2bf962\n1171 73392d195dea48c2ad944b2cae5eb690\n1172 c1234749ad1548d5b8c997689754d70b\n1173 1e9409a44d1f4f0aabd0c34d16d90f16\n1174 98c0c0fc21534467b262f364ce4d85bc\n1175 39b8c2aa67c046e1b20e2f21c934662f\n1176 5dfdf4f500064b9fa56aa50258fef09e\n1177 ebc246faa1364d0494d60b006ddd1d75\n1178 f9dfbe217b804268a86bf83270444b83\n1179 9dddf66dd5bb4ff4a9f87ead970af846\n1180 a0a2c3a5a2d94019a280aebd1bbaf592\n1181 15e644a10b88422ca0b7ce51989d92bd\n1182 79178341da9f4be8957947c10448d7b6\n1183 5ed61239a4de41e19a937df151af248b\n1184 7b7341437ffb4e85822c7922ed449d91\n1185 f390dc1173b34f9a93442967d8900e77\n1186 307be9688eaa4e0880533cabea89aa34\n1187 89934e37b94e419891d6a17835a43807\n1188 9dd93ce622f74267a0377d798ac910a6\n1189 719e5e4cda7046649c3f794acd76e94c\n1190 ec211c2c54e74d1194478cb5198a9fcd\n1191 64f70eb904f24e14b5b4efdb24dfb2b6\n1192 d3e3a13986574206999265c53613774c\n1193 4d7784791aee4259a3cfd0095315bc35\n1194 fe4872e806e94058838ca9ecbf969bdd\n1195 365bfa2bc42243999381ac2ebf544988\n1196 2cd0bba3cf3946d6aa178c69388c44ed\n1197 fb183bcd9b5248bab49abc2af3836717\n1198 98520f95a4534d3582bb3830e477c661\n1199 4bd57c27faa3400b83b2be2a1a4b5237\n1200 69052337bf6d493cbeb3172b714f1ec8\n1201 b022a4f9135a44f597b48d386b2ba3f5\n1202 45ae5e2947644dd1a9542ed66f504dbc\n1203 1c5d1523024d4a799d6dcee3da408121\n1204 77956c97d24645aca352abf5499d5ee5\n1205 5ee9869a347143c88803623dfe2d6166\n1206 e3aceefe232a49498df4be8e0ff3d5d1\n1207 6818fb4c4ffd496fa6e23e4bcf87e1ed\n1208 97b2ff49d0b74df795ac1920ac91e255\n1209 3955e0024b024a5790ebbbb8352ca9a4\n1210 a86d9adb455b4045a2bb2a327d54e3c7\n1211 4e6d176e80914c5ba94f1040376f67bd\n1212 57cbf52bf4be435ea9c9f50bc1c36b5b\n1213 81428cb9d4da4a72a1610c45de1d6711\n1214 e24602eeb67343b59dd390274e6b7476\n1215 ad7bc888f60d49ab8ab8b380baccf8bb\n1216 49cbb54d5abf480e81138c2f7da0b55b\n1217 e593d9db00e84646a5b10242aa5427f4\n1218 ca0dba0c1c8e4be3be1561a1a6fea914\n1219 38a25f4fb61346aeb78706e4b5124242\n1220 17d56b64a78c4b24acbdb6dac3bfcb5a\n1221 8e3980be9e9142f99bb8be5f324a18ff\n1222 ffc140d727c840d6a5ffed12cbfa8aa2\n1223 af4f9ed8bfab4eeb87f6caefd5ea84a9\n1224 8dc94cd1734f4db2b57c383000f9b7b4\n1225 eeea4d15da294af3a9f38fa22ec933de\n1226 d3478ee5d08e47608bff76758f55ead7\n1227 d7f5faa2a2534d92b509d8d1b5fe9de5\n1228 762a0e406f89489f8a8d70cb67e26664\n1229 2dca39d1934a4c989ab36284f59a2597\n1230 7d26b4053d974616b4a13d07afc3e9e4\n1231 609d3ac69ca647e3899d2233fc373168\n1232 d2a7362b67054506ba9e908e603e8253\n1233 bf5529c0722e4f21ac5a5ee9370b1f8c\n1234 bc27f04da3fd45a7a54782b092461294\n1235 5135439ca1d64bb6a38eef45ab797961\n1236 5f7a26edbba844b0a0350e540e6b188f\n1237 27c130373d7f46c58acae649da687764\n1238 db18a060235c483380903e79778e51e4\n1239 754e9db67f6c44afbf7ea0a511c95306\n1240 a6783b6d8bc54d579e9c0e11ab20a71a\n1241 75068fc53f54454a8e23bbddf9b4fe99\n1242 14fd340f4fad4427af31e0b4d687433b\n1243 13a7714c26344819b87dd33b0776c34f\n1244 ba2d2aedcb4a4d5c894597262bdb2fee\n1245 b645fd7a9d25465b862f6f6081802481\n1246 a0a4cd7728ba4c5c92f64df241f258ad\n1247 aeff91bd60e24bc8b4465ab2a73b58b5\n1248 56d6bea298ba425e9612a28edb287f59\n1249 2a77d3523c3244f58ad5b24ce6c1975e\n1250 b1cd89a2aa0a4ae28cc8f353d41f7253\n1251 7dcb25cc01364c78ba2a1c7d0f4eb36f\n1252 af24669d05d448a092baed29fd8d9410\n1253 dcf3da6873394bc49b2c0aaf5849a05f\n1254 4bcf3840ba8a441184b52e4ab2ace2c5\n1255 a3cd0c53a93f49b3a55e6c449a97586d\n1256 f7ef2bf9296b4df2bb9ba2617667373e\n1257 cdac40e77df04d23941b2652db20de33\n1258 f19f010fc55b438bb63c1387f40159ca\n1259 9721a42492da4b768bb317af6e764a62\n1260 29718c79d52d42828de763be067653a8\n1261 649bf10f8a994a3b9fe1d05006364de8\n1262 86d8f34a4e9a40c280e9991965258989\n1263 a8815d300dc64b2a879495d9eddac2d3\n1264 f900e91269d0452fbfa9ca4293fbd087\n1265 9641ce2a06a94f9e9dd179ad2e6a4ec5\n1266 8921483858724465b41c72e132b8c805\n1267 0eb1935186a84720ada54bdbe9af1dd3\n1268 5298ae69cab54249a252f0fcaa71ff7a\n1269 c303711b899b4648b8a27199512447f3\n1270 54160c9d0c8c4be3a9ca089187167187\n1271 49482e883299477cafc080fda6483eac\n1272 7a35d36c863a4bbfbe9e1115b84c3af2\n1273 45e0cf343f294f23b75df211d1b6a3f3\n1274 520872a85fff48809c551cfc31a773fe\n1275 c47090aad2084032b513d68bf83a920f\n1276 7a0f82de6c5049c2b587668b5054a40b\n1277 e9d919e20e254972aab723ee11eb0877\n1278 a85064f3b6ac4aafac6da5cfc2ffd92e\n1279 4545e0d03f9e464f838ce0ae6ffc35d6\n1280 4c4a3982a06846bfb94da55304d5bc88\n1281 e77a50391bf44d7ab6e2f11c96f366e8\n1282 0570e95a6ce24953b8bb44ba835f77df\n1283 6a31b7ff8701444d924a317f6a15877e\n1284 17cc296b318f4380b87a7cde0c951bf7\n1285 a77ee2e083054b18a91b82aae1a344fd\n1286 052d5b8567be485f8f8ecf9b7ce03f35\n1287 725eb69174734072bec7379298b3a375\n1288 20ba86f2c4c14ece8b58ede87afbfddf\n1289 07d3f7cce8fa4323bb35bedb0de14c5d\n1290 a040585a5da14d2a9681b0478a5c7153\n1291 1ac27c302ee9427ba8e61e5d94acb8fd\n1292 ece7d2520aeb45ed9d47499db71f91d6\n1293 184178918739429daae70dad86c58531\n1294 5af47d165a0b46569adb3157179a1669\n1295 b5ac78673cbe4322b4babb8d2b733632\n1296 f49dd7f9d04d42c197fbff2597fd2895\n1297 068068e3e3284d23ba82224d3b579379\n1298 584216accd304007976c2c3872539584\n1299 69e1708b96cf47b89a1a9f12e07aa8ee\n1300 bba3de8f43514ecebe312c1280e92831\n1301 c669e3958e5840c68295c4b335c6b5b5\n1302 be81899d03e04ecd9c1def4be730c66f\n1303 6904d0054f4a474e92bc0ea3c8cea1e4\n1304 9a1d183992e044c59d8c847608c7a878\n1305 2dafa310c9ba4b2c84e89b9e1dd9898b\n1306 d20d47f6f6e44de29281e458dc824b1d\n1307 b3599a8ba0794a62bb62dc573ced9b8a\n1308 322e6fcf58aa400c9f5fa099de7296c7\n1309 4ef7844a1a894747ae8a3a140d75e303\n1310 f058bf9f30e9408487f84a13e3308ec5\n1311 66c501a34a1c4feaabeb2b8fce5c3b35\n1312 4286dbe6c4a64f94a62d835d17dd477e\n1313 292f92f85b1c48e098a0ba8d21eb3176\n1314 d65fd77182c24f64a41c14b575f03f11\n1315 1990fdb6e8874a5e9d5970411613d2d7\n1316 ced06901bcc844788c6600776f74e65e\n1317 00846971d4db48af9cb51c78092da3f9\n1318 af25c91b206e411db313cabbce4a26b1\n1319 aa04df16c1654dc5bd300678ec2c9ffe\n1320 268970745b624094b4774c6db0be21ff\n1321 f0cc4394b56746e78bded9bfea8272c5\n1322 8f89026f7f1e4789932fe74429cf34c0\n1323 6e391fd00ff0429192bb93ad9451cd34\n1324 2a3664abaf2248768bedd65f0b7dfb89\n1325 d336e00b1a1e443ebbe9e4e21aa44af3\n1326 0f9cc40eee544801a0095f935d760614\n1327 f7977bfc181e42c7b773d967970fa699\n1328 02c42a463be645e9ac69355e758f9b76\n1329 c16c5da5423f4107b3be259de22053e0\n1330 1acc015a656444beb4c054106ec5e368\n1331 fc41d49a61024ac8989264e44dc2f576\n1332 5a9af33b931947b1ad41a8e0820f9ff6\n1333 23bd5e1597204255a06e0dbaf7864a41\n1334 7e9981003ea04152bfd7b554d7d3733e\n1335 11e7e91d753e41ab8945edc4796a8152\n1336 b721542961ae42a4ba1d9087ffbe0d1d\n1337 2ba0d1e8a0bb492dad479b3b4beda137\n1338 f9ab579d8bd04da8b74ac5402ec338cb\n1339 50bd913432da47849c4027967cef2fa0\n1340 6304e9e966c248928685a8afc575b569\n1341 4d3671f7a46b4d65bd7f2dbc19999c55\n1342 fd830c3d26e54425babd196d2c0113be\n1343 7bee18744eea4eed9c7e8b1d7d059771\n1344 0273ed7686344d2782196d141db26496\n1345 65f8ea267a014230a329b685e0d5a791\n1346 b0becf6b66d743bda33863d49ce0700a\n1347 4b09fe5bc9484226968fd363c7fea290\n1348 320f3dfd0824472c92c19c0cc44f717f\n1349 1f92b195f64f43779bb82815cc1e279b\n1350 d01d1fc609b14a26b24872e38e059b9d\n1351 74859142f9144a1fb77182a16b36d746\n1352 4a81e81152d543e9b9932d231f7655cf\n1353 91b038a487084bac8d69a088b3cb6abb\n1354 624e082fe93941a4820e03e778880dbb\n1355 ac21d740569f42c68052dafd5b17a126\n1356 306f9051f3da4d2ab594db8e27268430\n1357 d294f848f1e648898e6ef098d83d3dfe\n1358 886d1422520942d7be614d568fc6a1c8\n1359 33cdf445825c4bbb9ce7db3fc43b497c\n1360 e1f4b39c4d054859a3a4b50c7f7653b5\n1361 c08e36de41de4a6b9e9b91fb9ec3d197\n1362 cfd96b9c48ec408e94c89e6f9b769e0e\n1363 bbe4cfe6ae0d477fa74d5f1e38249eff\n1364 00b14d6e8dd140c99b1d14f523c8d724\n1365 f1aa8190844042678170e0cc24d3bc2b\n1366 7656c049ea604ecd9da141e0e6ec7a71\n1367 baf301f13963446abbbc8549f5035413\n1368 58f974d1015a42beb87202939474bf0d\n1369 3700210398fc42e7a1046d7037a8fba0\n1370 8db2b9b79f324b6481f06e28b8648086\n1371 b3825f8fc49f488ba8d41d100f5eed19\n1372 e3e5fa5490bc474990c64414ff9e8e56\n1373 368127a127324cc89266598edd55f8d2\n1374 eea1b198e4da488e8a71ea69a1ae1136\n1375 9259516e6fc948e08b6c4666c2e9eccc\n1376 57d052eb85584e1ca8c93b6f29da0b1f\n1377 f154ae8ab2e14430b504e76fa602a9de\n1378 2556e946f7cd4c949396b0a763d3a6be\n1379 d2b154e5ecd8442a8d75aaf99e688c49\n1380 4ed597c881cd42d3898037d66073182c\n1381 54df8cd6787f463f8adbb18e96f8c112\n1382 841ca77b5a4a459eaf21d301bf662e59\n1383 ab57dcd90d774a25ae1f5c29e9129d6d\n1384 36b9381b572f4c6ab16fd26a35849151\n1385 9105f30387704322a55e556e92dda983\n1386 16d2de90b38a41a48eb194055023ab31\n1387 951aa19b3f964c80bb843ae2175bb767\n1388 2c9c129ac9314d22b0a3afbad9615017\n1389 a883ab21927f4f22a51fe12d0280a398\n1390 7fc9ba16dfb64d6b9d4235005ddeb03a\n1391 c2c1dd957a90454b80a967f916adaf3c\n1392 9c7bb5117e1e4811b8c1a4be7053f1ac\n1393 6cba4c7b9981446793135b33bc893b62\n1394 6a5bd50fe0d2434ba306cb8d433d1890\n1395 6668de633f264b52b15997b7bf5b0f2c\n1396 a521f3a43cba44fda3260c0318c337ff\n1397 90272b7a3d8245dfaf51d37f9b300de1\n1398 27c85293c41c429d84d483ef795fcc9c\n1399 324c6b8ced9f451cb2f393eab18bc4c8\n1400 cfae4f6f75d4420eab5b30ecf7396ccd\n1401 09607e670a674cceab21b8509038fa11\n1402 b82b65138f2845d88acda462411e394d\n1403 2a60097d38b5431facf796bce4c4ee1e\n1404 57388fc637ed496aae5873e2981170cd\n1405 f3b6cdf682794768b2a9bb55e46d7dcd\n1406 1389c3744abb4796a460f9b31c25c045\n1407 d6361fd53cff4bd1a1e28c8bf1459a8f\n1408 c48e603c551440a3a86b17021cf526f8\n1409 f92f9c74a8494d36aa118f8bb73080e2\n1410 d208a3ae0b434049b72e826af62c0898\n1411 36cff84c3bc141db97338351a78f804f\n1412 6b3d541a213b49fda6185ad2d7cd0f0d\n1413 acb6dc8347694627b1510cb6c398e3c9\n1414 64f16c6451814e0fbb48aac193f28cc6\n1415 b18f84a892ba4ad7b066129aeda13f9f\n1416 20717ca7616e4f979acb4908832b4603\n1417 f49538e332a04584b7034e0732bba34a\n1418 f06ac160080149eca7099400e5af6a59\n1419 197ff37b78c142118eb8b4cdddc8c41d\n1420 f830711deb9d4f8b850ccd277136d313\n1421 471bf1fb090743fdbdc21fc4da486288\n1422 eaa96feafe074485b27a00ce97edc317\n1423 4e84053e379f46fa809e89bfa7c06b2e\n1424 698e2980815d4b3da2b2a9082231c80c\n1425 6e75d501c3a9464bbd051fe55187dfc6\n1426 2660ab0ee74244fb8d68cae35407d735\n1427 b9393ae077cb451e923d6145b3b5fbf2\n1428 09687a097ebf48da815fad55deb7f544\n1429 b3e18c297da44ab89aa6ecdc7047933b\n1430 43704430859e435db37a560a631037f8\n1431 d5d77fb7d0944819ac4d52341119c5ed\n1432 01c9772632e74957bfda32c55edd895b\n1433 f52e178cc6a74fac9d69f3ec3458f127\n1434 9979c55801074d37b1f79574d177eb30\n1435 eea5229baffb4cafa955d834024e451f\n1436 c7a8af7f48974eaca0d8462cfde63173\n1437 403f3917e32f4466b51f197e2f0a9656\n1438 b6f19cc91cdb44bb9d9fcd5adf42702c\n1439 47c4a0729b444ea4909b58e3d0da9dde\n1440 79fb9e522bac41509b258ece41cbefcb\n1441 3e6273e080dd4a14946e378353d3e79c\n1442 07d077688dd44dfebd4d4363b9f5a7bb\n1443 df7a99194c9a4fac8f062740c02e871c\n1444 33a3eed82fea46f0af3f2d5eeb8e7b60\n1445 ef0d35fa7b5045318fd9b463932e7cad\n1446 9ce5a2cf604d4ed6af5de524cb11de3b\n1447 7dd48c26b9e0430dbaef80939bb0c756\n1448 32cc83d8212548c99c3c0b3709eea926\n1449 5354c37e3d0541459aeadd5d336bf49c\n1450 bbdbeabe75b341cabfe4c0408ab6404c\n1451 48630311105c474abf05e5ac7d3dc716\n1452 7b9b5ca1f31f4f419c68f5aa65a220d4\n1453 13a3bf2959d7442abf3f523b2853124d\n1454 9130da83e1654eed95d9922772070b3b\n1455 0473d1a821e34d7586617017fea5a1cf\n1456 a44c2382d9774ec2bba961484f42ee0f\n1457 5b6097113a054ed888db1abd18e93c66\n1458 e48d36f62fef4f94a2c24a6decb3cdaf\n1459 42802e59f37545ed9aaf93cb8143c9db\n1460 f1d3eecd1d4448ac98ec5acdf566939b\n1461 58ef5dbd6065474cbc3112938e8b36a0\n1462 730c2e9a0d3f43928febdc1fb9f4cdc8\n1463 ff236c68012b498bb283d9cc4bb49c81\n1464 2b48a9677f5c4b1691d5a3ac7dbb3aae\n1465 9c5fa8f2e9f2413499769c28a098100e\n1466 07e5eb6b69824b028e7407ca3e854768\n1467 1a6ef70e4f2f49509aef7116972bf665\n1468 1978765e17c0421b94bd976ac2053fd6\n1469 c4a6f19b6c024cdc9a44e6f2ed2164e5\n1470 8df9f2f12caa4c1abd0dc6821e255968\n1471 f3ea6dcc0ec84e759b230c33c2f67f92\n1472 45f3ab10053e4a299e1d0a63057bf049\n1473 86b06944c74b417388d41ec499c672e4\n1474 2163d2677d2e4e39b4a1f6baf9cecc4a\n1475 1df317e56b054191ac3f90a0c335d127\n1476 7c1af9def61546ab9f0bc14aabcfd7a6\n1477 b389420372b94c89832f75d03a53aff7\n1478 159d7bbe3f33441ba3f1818848805bb1\n1479 d5c7de702a874a60803fe4cb4c9264d8\n1480 41ec427f3ffa44008930aece9a89c98b\n1481 b0925188d8554ef0b45a4adc762f1fa4\n1482 658981503be2406ea8928560bb96d04d\n1483 c23e05532fc449d89309fce46a1a7f6d\n1484 5e19084f8666446fa7be9a41ed139b5b\n1485 a44494bd843a4414881b47fad5e48530\n1486 bfeb460b35d74f6487e1faa7ec344766\n1487 a5e96f4cc6d843d788c597c65aed3ce5\n1488 92313451b281416fa78901dbab788ced\n1489 c32d2a4c7885497e9d3892226f0295dc\n1490 47fabfb148ec49f59bc8f9f98ae87f0e\n1491 4f536528dd98453d99c9c3af5439d534\n1492 f177d3c5cf6643a988aa5d9c75d2dec2\n1493 85d94561a4a34d808711643b538a9a48\n1494 cd6c9ff0485b49d49da65d77cedf5552\n1495 94e10df1802f42d2bc99120a93348217\n1496 8736fe66854144eaa5784d9bb704d297\n1497 47e3bc4c034e4e24a71a420229420616\n1498 dd02b084224145da812329714db2b183\n1499 f4ee5c6f8d064062b8299b893dbc849b\n1500 c4b70d285103403d9da76a73d93ec543\n1501 ab86dad5dcd34d599aba60206cf43230\n1502 ac755fe3694a48cf96ae77cd36eb68a1\n1503 ce15fb67ef4047a5ab7b651a76a06362\n1504 dbbd1e7839004225af0c677b5537d21a\n1505 a8a282c18c164fe4b54f86334cf50ef7\n1506 2e8fb20c556b48dda8b99dc566cceb6e\n1507 0b57b6998a16477bb4a11a529a6a46ac\n1508 7606e32c863643068a08f47b26995c7c\n1509 7afc6469478f46dea6771bb19ca441a3\n1510 86ee8eb6ff91493b901e67fe563b7c44\n1511 7990dc73d1564f809640f0cfdb9ff52a\n1512 eb93bc08b14748059256fe2eaf0f5657\n1513 de872a6b3daf49f1a3fb9bae8eccfc49\n1514 f3641df28b4045baaf9d538b093dae26\n1515 6b2746922d5b4130985cdda90250f63b\n1516 4bdece03ec434fabb6640ea3fdad3dca\n1517 4f820eab2cf54af89b6915af3dcb63e3\n1518 81a989fd864145679873cdfe6748e56d\n1519 05be1d88e72b4667a9ae8299a7499b05\n1520 5a9a1f9f5d3e4be886f1e1a0d97b6b85\n1521 c6621fa06c794138a92f1ea110612b6e\n1522 17f72b2ef20c4106a98984e57f4d74d1\n1523 ed34390502b34ac5ace724ddd994fa79\n1524 461a4d286f184c74a9007fcad0839233\n1525 fb92d8eae7104e429b16576f4e1118a7\n1526 95432f47fecd4d61837869d040efe8ab\n1527 b4fecb03c7254c3eb12facdf44ba91ed\n1528 fcbcc8be9a084348b2d20776be7615b3\n1529 84790a70643f4a3e8d9eaf1675793b93\n1530 3de8fe235a5b48699b6aaca4be9b8f1e\n1531 d2efe673ff924ab1997fe1631c072b45\n1532 131ef10b432240c3a173fbbf95a152a3\n1533 0aac8fb9a04248759c576a8a7461dbdb\n1534 1a084631cbdd4a24acf1e34d6f0ed0d7\n1535 117146b30e6b4e9bb3c51ec3fd1178ba\n1536 7b3b7bacff08478a94ce0ed6677a4ddb\n1537 a58de42516584fc7b2bf79ef7f8ba031\n1538 4e8eaadea7b246748c71683ef8908782\n1539 df953837a54e4a81a26bf93a258a0fef\n1540 63c108da5c574ecb8dffa7c3e6dbb500\n1541 1c0305ff8a23412e97e7bbc308829459\n1542 9dfde43368794f988695789a2f07aeaa\n1543 d0eb123945954fc480e821b9394c5b7a\n1544 f32e3ec010c844f986b2194286b9395a\n1545 b443ad721e164b6299fa15279a3bb4b0\n1546 e42d043acc2148a48b8a8367654d9073\n1547 46050cba39a74062b0c941c0910b3250\n1548 8d85ddd9f3e545f0bea96d60d2198ec9\n1549 523725d462e342a48b28e39b6f6eba9e\n1550 8c1dcf9445bc45689a62ffd7c4c8b469\n1551 cdd264d96ac34c24b4d1279de575c6cc\n1552 9af6672919304237908e1e0cfaa6636d\n1553 08f35e50ba02411dbe8ea27162e0d47b\n1554 b477cad060bb42ecb59c07174b3342b9\n1555 8f23b07da5c94270bebf10f4f7f17acb\n1556 1dbcc4e27ac14ae4a7c01e56d7da145e\n1557 dd0eb6ac15eb46938439685bb3b688a1\n1558 d16ec1878f0c481e9eff9f744a0aafd5\n1559 6c055aee1e294a9c80658d6757322e53\n1560 4725b1ea5f134d66bb9e5e4c783fd10d\n1561 bd0dcfc0351f4a86becd312d6d56b9fd\n1562 eae0d5d2e0f04b5d929ec71e7c124344\n1563 58b27eba4ccf4738946cde88792cd6eb\n1564 f247349234c24d3d9498cb971926ddbe\n1565 bd694166c3114b2aba07e00ce094712f\n1566 f5e8e6505b2d4aeea543200a66e712f0\n1567 c14f5aa8fccb43f89f1d3eb3ddf1d1ef\n1568 becd988c04ac40f6b95abc37c722a540\n1569 050e03a7a496486e9b969ee8ada26f75\n1570 baccf0768be346f38d33dfcadf024e10\n1571 1846ae30758544f89f50b0546fc35272\n1572 e0b2b042d7904dfa9eee355e009910d8\n1573 272b645a327141f9822303a3315bd00a\n1574 7cd80c49c1464d0fae4e753a6a805306\n1575 d9be75bd631d43e09984c1f0980ba17a\n1576 f9f1138a9c154eedbc3470890c4b9f9c\n1577 48e525a9a1ac4455b6528505c7ded255\n1578 961ad4009d4a45aaa64a33e878f0facf\n1579 1152fef97ec340dda78d080af687af0a\n1580 673e73522cbe401d81e9710042c96059\n1581 eae1b90d91104633aafc7ebe398089d8\n1582 73e6a0f079af44acbf049233b879b244\n1583 c64fb1b8b7674bd8a4caf4353ae4336b\n1584 c19c2b5c95a84ad0a9f3314a570fe0e3\n1585 de4b66fcf3174ea39b7c6dd4457261ba\n1586 02451ff75bf34f9b996523dbe703532d\n1587 dfb93039dee343ca9ed5e7bf31fa20bd\n1588 f00ea891028a43fc943578599f476577\n1589 f80709972f9244de95207d97c06b9986\n1590 328efad251ce4db58cec9839da3c1734\n1591 88eb066d27934829935fd440b36621a6\n1592 6e3d7581e9c9487886661feba17a30a7\n1593 ea8ec3aa353f4457a49684e1bfc666ee\n1594 49dfb8ab529a4b9a9d89c03974ba65bd\n1595 bf14537e3bf9444983a734d79400c4f5\n1596 788b8e380acf49ea84b22b560c795f84\n1597 beec0c01df7244c2a845060a4b647653\n1598 2d07138bbb2c418d8083ce37918eb6c1\n1599 0a6138bd52de4a5fb1152ea0f656e3ce\n1600 88bf918643b14b08b6d9f4bace471cb6\n1601 572f14e41442468ba0afff8dccad0ee3\n1602 02a733648bcc43e586541702f63773f8\n1603 8c474f1672864e1b9ba37788bde446e0\n1604 878e64f424c84a4f92c993b0385c740b\n1605 e1e4e20d34fe4dbcb21e072c2beeae9e\n1606 6d8d9b93884645cdb14c9db2eecd1e18\n1607 2daf9200ce8c49c68501c73a5685238f\n1608 fc279f614d5545ae8f3eea499c0902cf\n1609 dcbe695658164675b5598dc2cdf49c49\n1610 8d8704722194482e94c4a02320effff3\n1611 627c52244b4d4ca29c3575eff15958d4\n1612 199df654e0764122acbd13956a253dd2\n1613 f24831a2553349f389b0b0110794a358\n1614 081ab4a25d0e4c41a287874aebdece0a\n1615 9ae4a80c45044b7892756e41e4798c10\n1616 360d2fe5652c4c408c4492d30a9363c2\n1617 0fac4318842d49f3b1431eb052f8dccf\n1618 1f32591ca2084e039bd99ed3201f56d9\n1619 16985e62cdb44e9690004351c1d3dc03\n1620 9bbc92a898e64f92ac5f7be6c3bf91ee\n1621 d40271982a3c45859e7753b7b4335a83\n1622 02325e0e61eb4dfbbcec281b73270f29\n1623 7daaddb6907343deace31704e3fc5107\n1624 68a24b85a0ab4e91ae1b386b2280455d\n1625 7ab168d61dc2404898f7ab88cd276f52\n1626 a9082e06d70244a3801c84e1ff0adb6b\n1627 3fd305a0962546d593b7b20b918f6184\n1628 1f1273550fb0402880d4ba9fabd5d83a\n1629 42f261a4d3194dbbb569b246c2c0cad6\n1630 1d0a13b86c884e64b5a22de12c306042\n1631 279aa32131564dd69dc264e12213875a\n1632 bae68ba6f4ad49d784f9f4229f72c381\n1633 71be2e9cf9e84de39250a1bcee772209\n1634 cd87c2f1a2f342d5b2afbe37b51bfa53\n1635 a6df2266b2b946e6af4a849c119705a1\n1636 3a193d07f34f4c13bc27834e4ff4edcd\n1637 11-881a927d-ddce-4602-bd41-da551be02d7b\n1638 11-881a927d-ddce-4602-bd41-da551be02d7a\n1639 11-881a927d-ddce-4602-bd41-da551be02d7b1\n1640 1111-881a927d-ddce-4602-bd41-da551be02d7b1\n1641 1111-881a927d-ddce-4602-bd41-da551be02d7a1\n1642 1221-881a927d-ddce-4602-bd41-da551be02d7b1\n1643 1w111\n1644 1wwwww\n1645 11881a927dddce4602bd41da551be02d7a1\n1646 21881a927dddce4602bd41da551be02d7a1\n1647 2211881a927dddce4602bd41da551be02d7b1\n1648 8de3cdbc3e8d4eda991ef4006eebb0d0\n1649 5cb4c32d07b24a408d7cd94214e2fa7f\n1650 28ed61eb608e49118aa8cb70578ce64e\n1651 a3d84a9e510f4cd8861b2b9f08ca9ad3\n1652 0b5f17a2ec5a41178ee1d9848675b2cb\n1653 81cc6a2ecb124972be50c0722ee82fd4\n1654 3bab738be9c54bf6a89f8a5c697bceb7\n1655 e51c84cfc55e4ff5a622ca88835b6dec\n1656 d76b0900e2c64eea9eb2bea8e369e837\n1657 14250750dc2645328db5d32ad26dc82c\n1658 0bd5013fe8194b15887594dbe6f7acaf\n1659 5841922e8ff64d8cb87f55656af0eabe\n1660 99a87480b2d040bf9f42bc53b9f4356a\n1661 2211881a927dddce4602bd41da551be02d7a1\n1662 21211881a927dddce4602bd41da551be02d7a1\n1663 21211881a927dddce4602bd41da551be02d7b1\n1664 2da21f3af27b4616a22c57d6964a166d\n1665 0ba92d409b8e423f8c0a1c0b1bec7fc6\n1666 7877e72be7694bbbb94909af4677533d\n1667 a14b354b6ffd472791e91d3dd2947ee4\n1668 bfef8c97f54746bc94b194528bc826d8\n1669 5de858e8cb5c481d98483c02acaacc6b\n1670 b1b75059b8e94b5880fe0fdaf2e8e6a0\n"
    }
   ],
   "source": [
    "with conn.cursor() as cursor:\n",
    "    cursor.execute('select distinct docid, serviceid from serviceorproductinfo')\n",
    "    res = cursor.fetchall()\n",
    "    print(len(res))\n",
    "    i = 1\n",
    "    for docid, serviceid in res:\n",
    "        print(i, docid)\n",
    "        colmap = service_column[int(serviceid)]\n",
    "        exclusive_cols = list(colmap.keys())\n",
    "        exclusive_props = ','.join(colmap.keys())\n",
    "        cursor.execute('select ' + common_props + ',' + exclusive_props + ' from serviceorproductinfo where docid=%s', (docid,))\n",
    "        a = cursor.fetchone()\n",
    "        comm = a[:24]\n",
    "        excl = a[24:]\n",
    "        json_excl = {colmap[x]: excl[i] for i, x in enumerate(exclusive_cols)}\n",
    "        inserted = comm + (json.dumps(json_excl), )\n",
    "        cursor.execute('insert into kms.serviceorproductinfo('+ common_props + ', exattrs)' + 'values(' + ','.join(['%s']*25) + ')', inserted)\n",
    "        conn.commit()\n",
    "        i += 1"
   ]
  },
  {
   "cell_type": "code",
   "execution_count": 36,
   "metadata": {},
   "outputs": [
    {
     "data": {
      "text/plain": "'ATTR1,ATTR2,ATTR3,ATTR4,ATTR5,ATTR6,ATTR7,ATTR8,ATTR9,ATTR217,ATTR218,ATTR219,ATTR220,ATTR221,ATTR222'"
     },
     "execution_count": 36,
     "metadata": {},
     "output_type": "execute_result"
    }
   ],
   "source": [
    "','.join(service_column[1878126].keys())"
   ]
  },
  {
   "cell_type": "code",
   "execution_count": 58,
   "metadata": {},
   "outputs": [],
   "source": [
    "with conn.cursor() as cursor:\n",
    "    docid = 'a169774a8ddb4be38aa9b6ab7a1fef33'\n",
    "    colmap = service_column[int(serviceid)]\n",
    "    exclusive_cols = list(colmap.keys())\n",
    "    exclusive_props = ','.join(colmap.keys())\n",
    "    cursor.execute('select ' + common_props + ',' + exclusive_props + ' from serviceorproductinfo where docid=%s', (docid,))\n",
    "    a = cursor.fetchone()\n",
    "    comm = a[:24]\n",
    "    excl = a[24:]\n",
    "    json_excl = {colmap[x]: excl[i] for i, x in enumerate(exclusive_cols)}\n",
    "    inserted = comm + (json.dumps(json_excl), )\n",
    "    cursor.execute('insert into kms.serviceorproductinfo('+ common_props + ', exattrs)' + 'values(' + ','.join(['%s']*25) + ')', inserted)"
   ]
  },
  {
   "cell_type": "code",
   "execution_count": 59,
   "metadata": {},
   "outputs": [],
   "source": [
    "conn.commit()"
   ]
  },
  {
   "cell_type": "code",
   "execution_count": 70,
   "metadata": {},
   "outputs": [],
   "source": [
    "with conn.cursor() as cursor:\n",
    "    cursor.execute(\"select * from kms.serviceorproductinfo where serviceid=1878126 limit 1\")\n",
    "    res = cursor.fetchone()"
   ]
  },
  {
   "cell_type": "code",
   "execution_count": 71,
   "metadata": {},
   "outputs": [
    {
     "data": {
      "text/plain": "{'docId': 'a169774a8ddb4be38aa9b6ab7a1fef33',\n 'cityId': '010000',\n 'FAQ.IVR': '您好，ETC储值卡采用实名制发行，在卡内预存通行费后，车辆通过高速公路收费站时，系统将从卡内直接扣除当次通行费。',\n 'docName': '什么是储值卡',\n 'foreign': '对内',\n 'GroupNum': '0',\n 'cityName': '部中心',\n 'validtime': '2119-09-22 23:59:59',\n 'FAQ.在线': '您好，ETC储值卡采用实名制发行，在卡内预存通行费后，车辆通过高速公路收费站时，系统将从卡内直接扣除当次通行费。',\n 'FAQ.坐席': '您好，ETC储值卡采用实名制发行，在卡内预存通行费后，车辆通过高速公路收费站时，系统将从卡内直接扣除当次通行费。',\n 'modifytime': '2019-09-22',\n 'foreignFlag': '1',\n 'FAQ.文档名': '什么是储值卡',\n 'FAQ.有效时间': None,\n 'FAQ.用户问题': '什么是储值卡'}"
     },
     "execution_count": 71,
     "metadata": {},
     "output_type": "execute_result"
    }
   ],
   "source": [
    "json.loads(res[-1])"
   ]
  },
  {
   "cell_type": "code",
   "execution_count": 77,
   "metadata": {},
   "outputs": [],
   "source": [
    "with conn.cursor(cursor=msql.cursors.DictCursor) as cursor:\n",
    "    cursor.execute(\"select * from kmsdocument limit 1\")\n",
    "    res = cursor.fetchone()"
   ]
  },
  {
   "cell_type": "code",
   "execution_count": 78,
   "metadata": {},
   "outputs": [
    {
     "name": "stdout",
     "output_type": "stream",
     "text": "{'DOCCHANNEL': Decimal('10000365'), 'DOCVERSION': Decimal('0'), 'DOCTYPE': None, 'DOCTITLE': '首次办理普通护照', 'DOCSOURCE': None, 'DOCSECURITY': None, 'DOCSTATUS': Decimal('-1'), 'DOCKIND': None, 'DOCABSTRACT': None, 'DOCKEYWORDS': None, 'DOCRELWORDS': None, 'DOCPEOPLE': None, 'DOCPLACE': None, 'DOCAUTHOR': '北京采编', 'DOCEDITOR': '北京采编', 'DOCAUDITOR': None, 'DOCOUTUPID': None, 'DOCVALID': datetime.datetime(2119, 8, 31, 23, 59, 59), 'DOCPUBURL': None, 'DOCPUBTIME': None, 'DOCRELTIME': datetime.datetime(2019, 8, 6, 9, 0), 'CRUSER': '201728', 'CRTIME': datetime.datetime(2019, 8, 6, 10, 4, 50), 'DOCWORDSCOUNT': Decimal('0'), 'DOCPRO': None, 'RIGHTDEFINED': Decimal('0'), 'TITLECOLOR': None, 'TEMPLATEID': Decimal('731'), 'SCHEDULE': None, 'DOCNO': None, 'DOCFLAG': Decimal('0'), 'EDITOR': None, 'ATTRIBUTE': None, 'HITSCOUNT': Decimal('0'), 'SUBDOCTITLE': None, 'ATTACHPIC': None, 'DOCLINK': None, 'DOCFILENAME': None, 'DOCFROMVERSION': None, 'DOCPARENTID': None, 'REPLYFLAG': None, 'REPLYCOUNT': None, 'OPERUSER': '201728', 'OPERTIME': datetime.datetime(2019, 8, 6, 10, 15, 49), 'RANDOMSERIAL': None, 'BLOGID': None, 'AUTHORNAME': None, 'ALLOWEDREFERING': None, 'ALLOWEDCOMMENTING': None, 'COMMENTNUM': None, 'CATEGORYID': None, 'REFERERNUM': None, 'REFERER': None, 'VIEWINGNUM': None, 'AUTODEFAULT': None, 'AUTOABSTRACT': None, 'ISQUOTED': None, 'TOPTOALL': Decimal('0'), 'AUDITED': None, 'POSTUSER': '0', 'DOCSOURCENAME': None, 'FLOWOPERATIONMARK': None, 'FLOWPREOPERATIONMARK': None, 'FLOWOPERATIONMASKENUM': None, 'LASTMEMOID': None, 'LIFESTATUS': Decimal('-10'), 'CITYIDS': '110000', 'BRANDIDS': 'BRANDIDS', 'TARGETCUSTOMIDS': 'TARGETCUSTOMIDS', 'SHOWTYPE': Decimal('0'), 'JIFENSHENQING': None, 'KUOZHANZIDUAN': None, 'DOCLEVEL': Decimal('0'), 'KUOZHANZIDUANCESHI': None, 'RESITEMID': Decimal('0'), 'PORTALCATALOG': None, 'DOCCHANNELPATH_ID': None, 'DOCCHANNELPATH_NAME': None, 'HOTDOCTYPE': None, 'COMMENDDOCTYPE': None, 'SITEID': None, 'SERIALNO': None, 'WFSTATUS': Decimal('500'), 'PREACTID': None, 'WFFLAG': None, 'OPERTTIMEDESC': Decimal('0'), 'PARENTPATH': None, 'FILEEXTNAME': None, 'APPENDIXFLAG': None, 'CALLREASONFLAG': None, 'RELUSERGROUP': None, 'CRUSER_DEPT': None, 'FLOW_STATUS': '400', 'ISTOHISTORYDB': None, 'MARKTOTITLE': None, 'WFPASSTIME': None, 'ISEDITED_AFTER_PUB': None, 'WTFB': None, 'KHZB': None, 'DOCPROCESSCITYIDS': None, 'FTPFILETITLE': None, 'ISIMPORT': None, 'DOCORDER': None, 'JQRFB': None, 'VISIBLE': None, 'ISEMULTERMINAL': None, 'EMULTERMINALPATH': None, 'FBQD': None, 'CPJB': None, 'ZSLY': None, 'SYKH': None, 'SYCP': None, 'JZLB': '110000', 'CKWJ': None, 'YYLB': None, 'WANGTINGPATH': None, 'MESSAGEID': None, 'SECRECYDATE': None, 'BUSINESSSTATUS': None, 'DOCHTMLCONSTR': None, 'TC_FINISH_TIME': None, 'TC_END_TIME': None, 'TC_START_TIME': None, 'DOC_CODE': None, 'SERVICECLASSID': None, 'DOCDEPT': None, 'DOCCRUSER': None, 'DOCKEYWORDSS': None, 'FBCITYIDS': None, 'DOCID': '14e6ec7cdd6c4f42a292e338188e7e30', 'EDITORCITYID': '110000', 'TOPTIME': None, 'KMSENSURE': '0', 'ISSUECITYID': '110000', 'NOTICESWITCH': Decimal('0'), 'APPROVALPROCESS': '1', 'DOCATTENTIONSWITCH': '0', 'DOCVAILDSTATUS': None, 'CRCITYID': '110000', 'STQCITYIDS': None, 'INSERTTIME': datetime.datetime(2019, 8, 6, 10, 4, 50), 'PUREINTERNAL': Decimal('0'), 'DELETEAUDITSTATUS': Decimal('400'), 'ROBOTVISIBLE': Decimal('1'), 'CLASSIFY': None, 'CANBACKVERSION': None, 'USUALMESSAGE': Decimal('0')}\n"
    }
   ],
   "source": [
    "print(res)"
   ]
  },
  {
   "cell_type": "code",
   "execution_count": null,
   "metadata": {},
   "outputs": [],
   "source": []
  }
 ]
}