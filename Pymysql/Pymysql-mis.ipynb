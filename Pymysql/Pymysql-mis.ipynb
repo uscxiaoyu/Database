{
 "cells": [
  {
   "cell_type": "code",
   "execution_count": 1,
   "metadata": {},
   "outputs": [],
   "source": [
    "import pymysql as msql"
   ]
  },
  {
   "cell_type": "code",
   "execution_count": 2,
   "metadata": {},
   "outputs": [],
   "source": [
    "configs = {'host': 'localhost',\n",
    "           'port': 3306,\n",
    "           'user': 'root',\n",
    "           'password': 'xiaoyu1986',\n",
    "           'db': 'mis',\n",
    "           'autocommit': False\n",
    "           'use_unicode': True, \n",
    "           'charset': \"utf8\"}\n",
    "\n",
    "conn = msql.connect(**configs)"
   ]
  },
  {
   "cell_type": "code",
   "execution_count": 25,
   "metadata": {},
   "outputs": [],
   "source": [
    "cursor = conn.cursor()"
   ]
  },
  {
   "cell_type": "markdown",
   "metadata": {},
   "source": [
    "### 创建表"
   ]
  },
  {
   "cell_type": "code",
   "execution_count": 15,
   "metadata": {},
   "outputs": [],
   "source": [
    "def create_table(tb_name, columns, char_set):\n",
    "    sql = 'CREATE TABLE `%s`(' % tb_name\n",
    "    for c in columns[:-1]:\n",
    "        col_name, dtype = c\n",
    "        txt = '`%s` %s CHARACTER SET %s,' % (col_name, dtype, char_set)\n",
    "        sql = sql + txt\n",
    "        \n",
    "    col_name, dtype = columns[-1]\n",
    "    txt = '`%s` %s CHARACTER SET %s) DEFAULT CHARACTER SET=%s' % (col_name, dtype, char_set, char_set)\n",
    "    sql = sql + txt\n",
    "    cursor.execute(sql)\n",
    "    conn.commit()"
   ]
  },
  {
   "cell_type": "code",
   "execution_count": 13,
   "metadata": {},
   "outputs": [],
   "source": [
    "tb_name = '学生表'\n",
    "columns = [('学号', 'char(7)'), ('姓名', 'varchar(7)'), ('性别', 'enum(\"男\", \"女\")'),\n",
    "          ('生日', 'date'), ('专业', 'varchar(10)'), ('奖学金', 'int()')]"
   ]
  },
  {
   "cell_type": "code",
   "execution_count": 16,
   "metadata": {},
   "outputs": [],
   "source": [
    "create_table('student', columns, 'utf8')"
   ]
  },
  {
   "cell_type": "code",
   "execution_count": 4,
   "metadata": {},
   "outputs": [
    {
     "output_type": "stream",
     "name": "stdout",
     "text": "/Users/xiaoyu/PycharmProjects/Database/Pymysql\n"
    }
   ],
   "source": [
    "!pwd"
   ]
  },
  {
   "cell_type": "code",
   "execution_count": 8,
   "metadata": {},
   "outputs": [],
   "source": [
    "f = open('/Users/xiaoyu/Desktop/专业表.txt', encoding='gbk')\n",
    "rows = [x.split(',') for x in f.read().split('\\n')]"
   ]
  },
  {
   "cell_type": "code",
   "execution_count": 9,
   "metadata": {},
   "outputs": [
    {
     "output_type": "execute_result",
     "data": {
      "text/plain": "[['01', '国际经济与贸易'],\n ['02', '工商管理'],\n ['03', '市场营销'],\n ['04', '电子商务'],\n ['05', '金融学'],\n ['06', '经济学'],\n ['07', '财务管理'],\n ['08', '商法'],\n ['09', '国际经济法'],\n ['10', '英语'],\n ['11', '法语'],\n ['12', '日语'],\n ['13', '旅游管理'],\n ['14', '国际企业管理'],\n ['15', '会计学'],\n ['16', '第二学位班'],\n ['']]"
     },
     "metadata": {},
     "execution_count": 9
    }
   ],
   "source": [
    "rows"
   ]
  },
  {
   "cell_type": "code",
   "execution_count": 13,
   "metadata": {},
   "outputs": [
    {
     "output_type": "stream",
     "name": "stdout",
     "text": "['01', '国际经济与贸易']\n['02', '工商管理']\n['03', '市场营销']\n['04', '电子商务']\n['05', '金融学']\n['06', '经济学']\n['07', '财务管理']\n['08', '商法']\n['09', '国际经济法']\n['10', '英语']\n['11', '法语']\n['12', '日语']\n['13', '旅游管理']\n['14', '国际企业管理']\n['15', '会计学']\n['16', '第二学位班']\n"
    }
   ],
   "source": [
    "sql = 'insert into 专业表(专业编号, 专业名称) values (%s, %s)'\n",
    "for row in rows[:-1]:\n",
    "    print(row)\n",
    "    cursor.execute(sql, tuple(row))"
   ]
  },
  {
   "cell_type": "code",
   "execution_count": 12,
   "metadata": {},
   "outputs": [
    {
     "output_type": "stream",
     "name": "stdout",
     "text": "Help on method execute in module pymysql.cursors:\n\nexecute(query, args=None) method of pymysql.cursors.Cursor instance\n    Execute a query\n    \n    :param str query: Query to execute.\n    \n    :param args: parameters used with query. (optional)\n    :type args: tuple, list or dict\n    \n    :return: Number of affected rows\n    :rtype: int\n    \n    If args is a list or tuple, %s can be used as a placeholder in the query.\n    If args is a dict, %(name)s can be used as a placeholder in the query.\n\n"
    }
   ],
   "source": [
    "help(cursor.execute)"
   ]
  },
  {
   "cell_type": "code",
   "execution_count": 14,
   "metadata": {},
   "outputs": [],
   "source": [
    "conn.commit()"
   ]
  },
  {
   "cell_type": "code",
   "execution_count": 17,
   "metadata": {},
   "outputs": [],
   "source": [
    "cursor.execute('show tables')\n",
    "tbs = [x[0] for x in cursor]"
   ]
  },
  {
   "cell_type": "code",
   "execution_count": 18,
   "metadata": {},
   "outputs": [
    {
     "output_type": "execute_result",
     "data": {
      "text/plain": "['专业表', '学生表', '成绩表', '课程表']"
     },
     "metadata": {},
     "execution_count": 18
    }
   ],
   "source": [
    "tbs"
   ]
  },
  {
   "cell_type": "code",
   "execution_count": 26,
   "metadata": {},
   "outputs": [
    {
     "output_type": "stream",
     "name": "stdout",
     "text": "CREATE TABLE `学生表` (\n  `学号` char(7) CHARACTER SET utf8 NOT NULL,\n  `姓名` varchar(7) CHARACTER SET utf8 DEFAULT NULL,\n  `性别` enum('男','女') CHARACTER SET utf8 DEFAULT NULL,\n  `生日` date DEFAULT NULL,\n  `专业` varchar(7) CHARACTER SET utf8 DEFAULT NULL,\n  `奖学金` float DEFAULT NULL,\n  `党员` enum('是','否') CHARACTER SET utf8 DEFAULT NULL,\n  `备注` varchar(255) CHARACTER SET utf8 DEFAULT NULL,\n  PRIMARY KEY (`学号`)\n) ENGINE=InnoDB DEFAULT CHARSET=utf8mb4 COLLATE=utf8mb4_0900_ai_ci\n"
    }
   ],
   "source": [
    "cursor.execute('show create table 学生表')\n",
    "a = cursor.fetchall()\n",
    "print(a[0][1])"
   ]
  },
  {
   "cell_type": "code",
   "execution_count": 24,
   "metadata": {},
   "outputs": [],
   "source": [
    "cursor.close() "
   ]
  },
  {
   "cell_type": "code",
   "execution_count": null,
   "metadata": {},
   "outputs": [],
   "source": []
  }
 ],
 "metadata": {
  "kernelspec": {
   "display_name": "Python 3",
   "language": "python",
   "name": "python3"
  },
  "language_info": {
   "codemirror_mode": {
    "name": "ipython",
    "version": 3
   },
   "file_extension": ".py",
   "mimetype": "text/x-python",
   "name": "python",
   "nbconvert_exporter": "python",
   "pygments_lexer": "ipython3",
   "version": "3.7.0-final"
  }
 },
 "nbformat": 4,
 "nbformat_minor": 2
}