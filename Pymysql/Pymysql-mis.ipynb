{
 "cells": [
  {
   "cell_type": "code",
   "execution_count": 1,
   "metadata": {},
   "outputs": [],
   "source": [
    "import pymysql as msql"
   ]
  },
  {
   "cell_type": "code",
   "execution_count": 3,
   "metadata": {},
   "outputs": [],
   "source": [
    "configs = {'host': 'localhost',\n",
    "           'port': 3306,\n",
    "           'user': 'root',\n",
    "           'password': 'xiaoyu1986',\n",
    "           'db': 'mis',\n",
    "           'use_unicode': True, \n",
    "           'charset': \"utf8\"}\n",
    "\n",
    "conn = msql.connect(**configs)"
   ]
  },
  {
   "cell_type": "code",
   "execution_count": 8,
   "metadata": {},
   "outputs": [],
   "source": [
    "cursor = conn.cursor()"
   ]
  },
  {
   "cell_type": "markdown",
   "metadata": {},
   "source": [
    "### 创建表"
   ]
  },
  {
   "cell_type": "code",
   "execution_count": 15,
   "metadata": {},
   "outputs": [],
   "source": [
    "def create_table(tb_name, columns, char_set):\n",
    "    sql = 'CREATE TABLE `%s`(' % tb_name\n",
    "    for c in columns[:-1]:\n",
    "        col_name, dtype = c\n",
    "        txt = '`%s` %s CHARACTER SET %s,' % (col_name, dtype, char_set)\n",
    "        sql = sql + txt\n",
    "        \n",
    "    col_name, dtype = columns[-1]\n",
    "    txt = '`%s` %s CHARACTER SET %s) DEFAULT CHARACTER SET=%s' % (col_name, dtype, char_set, char_set)\n",
    "    sql = sql + txt\n",
    "    cursor.execute(sql)\n",
    "    conn.commit()"
   ]
  },
  {
   "cell_type": "code",
   "execution_count": 13,
   "metadata": {},
   "outputs": [],
   "source": [
    "tb_name = '学生表'\n",
    "columns = [('学号', 'char(7)'), ('姓名', 'varchar(7)'), ('性别', 'enum(\"男\", \"女\")'),\n",
    "          ('生日', 'date'), ('专业', 'varchar(10)'), ('奖学金', 'int()')]"
   ]
  },
  {
   "cell_type": "code",
   "execution_count": 16,
   "metadata": {},
   "outputs": [],
   "source": [
    "create_table('student', columns, 'utf8')"
   ]
  },
  {
   "cell_type": "code",
   "execution_count": null,
   "metadata": {},
   "outputs": [],
   "source": []
  },
  {
   "cell_type": "code",
   "execution_count": null,
   "metadata": {},
   "outputs": [],
   "source": []
  }
 ],
 "metadata": {
  "kernelspec": {
   "display_name": "Python 3",
   "language": "python",
   "name": "python3"
  },
  "language_info": {
   "codemirror_mode": {
    "name": "ipython",
    "version": 3
   },
   "file_extension": ".py",
   "mimetype": "text/x-python",
   "name": "python",
   "nbconvert_exporter": "python",
   "pygments_lexer": "ipython3",
   "version": "3.7.0"
  }
 },
 "nbformat": 4,
 "nbformat_minor": 2
}
