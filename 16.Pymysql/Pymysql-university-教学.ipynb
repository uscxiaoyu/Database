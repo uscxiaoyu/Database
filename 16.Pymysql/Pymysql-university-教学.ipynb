{
 "cells": [
  {
   "cell_type": "markdown",
   "metadata": {},
   "source": [
    "在python编程环境中，对一些需长期保存与处理的数据，可将其存储至mysql数据库。借用mysql数据库管理系统，可以方便地管理实验或过程数据。第三方模块[pymysql](https://pypi.org/project/PyMySQL/)提供了python与mysql交互的接口。下面的内容主要介绍该模块一些主要的方法和属性。"
   ]
  },
  {
   "cell_type": "markdown",
   "metadata": {},
   "source": [
    "## 前提条件"
   ]
  },
  {
   "cell_type": "markdown",
   "metadata": {},
   "source": [
    "- 安装`pymysql`\n",
    "\n",
    "```bash\n",
    "> pip install pymysql\n",
    "-- 或者\n",
    "> python -m pip install pymysql\n",
    "-- 如果安装了ananconda\n",
    "> conda install pymysql\n",
    "```"
   ]
  },
  {
   "cell_type": "markdown",
   "metadata": {},
   "source": [
    "- 安装`mysql`\n",
    "\n",
    "具体请参考[文章](https://zhuanlan.zhihu.com/p/188416607)"
   ]
  },
  {
   "cell_type": "code",
   "execution_count": 1,
   "metadata": {},
   "outputs": [],
   "source": [
    "import pymysql as msql"
   ]
  },
  {
   "cell_type": "markdown",
   "metadata": {},
   "source": [
    "## 一、基本方法介绍"
   ]
  },
  {
   "cell_type": "markdown",
   "metadata": {
    "tags": []
   },
   "source": [
    "### pymysql库通过connect()方法连接MySQL数据库<br> \n",
    "以下是一些主要的参数，使用该方法将得到一个connect对象\n",
    "- host: 数据库服务所在的主机（默认为localhost）\n",
    "- user: 用户名\n",
    "- password (passwd): 密码\n",
    "- database (db): 数据库\n",
    "- port: MySQL端口 (默认3306)\n",
    "- bind_address – When the client has multiple network interfaces, specify the interface from which to connect to the host. Argument can be a hostname or an IP address.\n",
    "- charset: 字符集\n",
    "- sql_mode: 默认SQL模式\n",
    "- use_unicode – Whether or not to default to unicode strings. This option defaults to true for Py3k.\n",
    "- cursorclass: 游标类型(list或者DictCusor)\n",
    "- connect_timeout: 抛出连接异常的时间限定i. (default: 10, min: 1, max: 31536000)\n",
    "- read_default_group – Group to read from in the configuration file.\n",
    "- autocommit: 自动提交模式(默认为False，True为自动提交), 若设置为True，则每执行一次，提交一次执行结果；若为False，则需显式执行提交`conn.commit()`\n",
    "- local_infile:  – Boolean to enable the use of LOAD DATA LOCAL command. (default: False)\n",
    "- max_allowed_packet: 发往服务器的最大包大小(default: 16MB), Only used to limit size of “LOAD LOCAL INFILE” data packet smaller than default (16KB).\n",
    "- defer_connect – Don’t explicitly connect on contruction - wait for connect call. (default: False)"
   ]
  },
  {
   "cell_type": "code",
   "execution_count": 2,
   "metadata": {},
   "outputs": [],
   "source": [
    "configs = {'host': '127.0.0.1',\n",
    "        'port': 3306,\n",
    "        'user': 'root',  # 账户名\n",
    "        'password': '',  # 密码\n",
    "        'cursorclass': msql.cursors.DictCursor}  # cusorclass参数可不提供，此时返回列表查询结果 "
   ]
  },
  {
   "cell_type": "code",
   "execution_count": 3,
   "metadata": {},
   "outputs": [],
   "source": [
    "conn = msql.connect(**configs)   # 等价于 msql.connect('localhost', 'root', '<密码>', 3306)"
   ]
  },
  {
   "cell_type": "code",
   "execution_count": 4,
   "metadata": {},
   "outputs": [
    {
     "data": {
      "text/plain": [
       "False"
      ]
     },
     "execution_count": 4,
     "metadata": {},
     "output_type": "execute_result"
    }
   ],
   "source": [
    "conn.autocommit_mode  # 查看是否为自动提交模式，如果为False，则不为自动提交"
   ]
  },
  {
   "cell_type": "markdown",
   "metadata": {
    "tags": []
   },
   "source": [
    "### connect对象的方法\n",
    "\n",
    "- autocommit_mode = `None`. 自动提交模式: specified autocommit mode. None means use server default.\n",
    "\n",
    "- begin(). Begin transaction. 开始事务\n",
    "\n",
    "- rollback(). Roll back the current transaction. 回滚事务.\n",
    "\n",
    "- close().Send the quit message and close the socket. 结束连接\n",
    "\n",
    "- commit(). Commit changes to stable storage. 提交更新至数据库\n",
    "\n",
    "- cursor(cursor=None). Create a new cursor to execute queries with. 创建游标，如果指定参数`cursor=msql.cursors.DictCursor`，则为返回字典结果\n",
    "\n",
    "- ping(reconnect=True). Check if the server is alive. 查看服务器是否alive\n",
    "\n",
    "- select_db(db). 选择数据库. Set current db\n",
    "\n",
    "- show_warnings(). 显示警告"
   ]
  },
  {
   "cell_type": "markdown",
   "metadata": {},
   "source": [
    "创建示例数据库`temp_db`"
   ]
  },
  {
   "cell_type": "code",
   "execution_count": 8,
   "metadata": {
    "tags": []
   },
   "outputs": [],
   "source": [
    "with conn.cursor() as cursor:  # 上下文管理器\n",
    "    cursor.execute(\"drop database if exists temp_db\")\n",
    "    cursor.execute(\"create database temp_db\")\n",
    "\n",
    "# cursor = conn.cursor() "
   ]
  },
  {
   "cell_type": "markdown",
   "metadata": {},
   "source": [
    "- 等价于"
   ]
  },
  {
   "cell_type": "code",
   "execution_count": 11,
   "metadata": {},
   "outputs": [
    {
     "name": "stdout",
     "output_type": "stream",
     "text": [
      "(1007, \"Can't create database 'temp_db'; database exists\")\n"
     ]
    }
   ],
   "source": [
    "try:\n",
    "    cursor = conn.cursor()\n",
    "    cursor.execute(\"create database temp_db\")\n",
    "except Exception as e:\n",
    "    print(e)\n",
    "    cursor.close()\n",
    "finally:\n",
    "    cursor.close()"
   ]
  },
  {
   "cell_type": "markdown",
   "metadata": {},
   "source": [
    "选定数据库"
   ]
  },
  {
   "cell_type": "code",
   "execution_count": 12,
   "metadata": {},
   "outputs": [],
   "source": [
    "conn.select_db('temp_db')  # 变更当前数据库\n",
    "# 或者\n",
    "# cursor.execute('use temp_db')"
   ]
  },
  {
   "cell_type": "code",
   "execution_count": 13,
   "metadata": {},
   "outputs": [
    {
     "data": {
      "text/plain": [
       "(('Error', 1007, \"Can't create database 'temp_db'; database exists\"),)"
      ]
     },
     "execution_count": 13,
     "metadata": {},
     "output_type": "execute_result"
    }
   ],
   "source": [
    "conn.show_warnings()  # 提示信息"
   ]
  },
  {
   "cell_type": "markdown",
   "metadata": {},
   "source": [
    "### pymysql利用cursor对象操作数据库\n",
    "cursor对象:\n",
    "\n",
    "- callproc(procname, args=()).\n",
    "    - Execute stored procedure procname with args  执行存储过程\n",
    "    - procname – string, name of procedure to execute on server  存储过程名称\n",
    "    - args – Sequence of parameters to use with procedure  传递给存储过程的参数\n",
    "    - Returns the original args.  \n",
    "\n",
    "- close()\n",
    "    - Closing a cursor just exhausts all remaining data.  关闭游标\n",
    " \n",
    "- execute(query, args=None) 执行一个查询\n",
    "    - Execute a query  \n",
    "    - Parameters:\n",
    "        - query (str) – Query to execute.\n",
    "        - args (tuple, list or dict) – parameters used with query. (optional)  参数(tuple, list或者dict)\n",
    "    - Returns: Number of affected rows  (返回涉及到的行数)\n",
    "    - Return type: int\n",
    "    - If args is a list or tuple, %s can be used as a placeholder in the query. If args is a dict, %(name)s can be used as a placeholder in the query.\n",
    "    \n",
    "- executemany(query, args)  执行多个查询\n",
    "    - Run several data against one query\n",
    "    - Parameters:\n",
    "        - query – query to execute on server\n",
    "        - args – Sequence of sequences or mappings. It is used as parameter.\n",
    "    - Returns:\n",
    "        - Number of rows affected, if any.   \n",
    "    - This method improves performance on multiple-row INSERT and REPLACE. Otherwise it is equivalent to looping over args with execute().   \n",
    "- fetchall()  取出所有行\n",
    "    - Fetch all the rows\n",
    "- fetchmany(size=None)  取出size行\n",
    "    - Fetch several rows\n",
    "- fetchone() 取出一行\n",
    "    - Fetch the next row\n",
    "- max_stmt_length = 1024000  最大行\n",
    "    - Max statement size which executemany() generates.\n",
    "    - Max size of allowed statement is max_allowed_packet - packet_header_size. Default value of max_allowed_packet is 1048576."
   ]
  },
  {
   "cell_type": "code",
   "execution_count": 9,
   "metadata": {},
   "outputs": [],
   "source": [
    "cursor = conn.cursor()  # 通过connect对象创建一个cursor对象"
   ]
  },
  {
   "cell_type": "markdown",
   "metadata": {},
   "source": [
    "### 1. 数据库操作"
   ]
  },
  {
   "cell_type": "code",
   "execution_count": 10,
   "metadata": {},
   "outputs": [
    {
     "data": {
      "text/plain": [
       "[{'database()': 'temp_db'}]"
      ]
     },
     "execution_count": 10,
     "metadata": {},
     "output_type": "execute_result"
    }
   ],
   "source": [
    "# 查询当前数据库\n",
    "cursor.execute('select database()')\n",
    "cursor.scroll(0, mode='absolute')\n",
    "list(cursor) # 或者 cursor.fetchall()"
   ]
  },
  {
   "cell_type": "code",
   "execution_count": 11,
   "metadata": {},
   "outputs": [
    {
     "name": "stdout",
     "output_type": "stream",
     "text": [
      "information_schema\n",
      "mis\n",
      "mysql\n",
      "performance_schema\n",
      "sakila\n",
      "sys\n",
      "temp_db\n",
      "university\n",
      "world\n"
     ]
    }
   ],
   "source": [
    "# 查询当前账户下的所有数据库\n",
    "cursor.execute('show databases')\n",
    "cursor.scroll(0, mode='absolute')  # 将游标移到查询结果开头位置\n",
    "for x in list(cursor):\n",
    "    print(x['Database'])"
   ]
  },
  {
   "cell_type": "code",
   "execution_count": 13,
   "metadata": {},
   "outputs": [
    {
     "data": {
      "text/plain": [
       "11"
      ]
     },
     "execution_count": 13,
     "metadata": {},
     "output_type": "execute_result"
    }
   ],
   "source": [
    "cursor.execute('drop database university')"
   ]
  },
  {
   "cell_type": "code",
   "execution_count": 14,
   "metadata": {},
   "outputs": [
    {
     "data": {
      "text/plain": [
       "1"
      ]
     },
     "execution_count": 14,
     "metadata": {},
     "output_type": "execute_result"
    }
   ],
   "source": [
    "# 创建数据库\n",
    "cursor.execute('create database university')"
   ]
  },
  {
   "cell_type": "code",
   "execution_count": 15,
   "metadata": {},
   "outputs": [
    {
     "name": "stdout",
     "output_type": "stream",
     "text": [
      "{'database()': 'university'}\n"
     ]
    }
   ],
   "source": [
    "# 选定数据库\n",
    "cursor.execute(\"use university\")\n",
    "cursor.execute(\"select database()\")\n",
    "print(cursor.fetchone())"
   ]
  },
  {
   "cell_type": "code",
   "execution_count": 16,
   "metadata": {},
   "outputs": [],
   "source": [
    "# 关闭游标\n",
    "cursor.close()"
   ]
  },
  {
   "cell_type": "markdown",
   "metadata": {},
   "source": [
    "### 2. 在`temp_db`中创建表\n",
    "\n",
    "表名: t1\n",
    "\n",
    "|列名 | 属性 | 约束|\n",
    "|----:|----:|----:|\n",
    "|id | int(5) | primary key|\n",
    "|name | varchar(20) | |"
   ]
  },
  {
   "cell_type": "code",
   "execution_count": 53,
   "metadata": {},
   "outputs": [
    {
     "data": {
      "text/plain": [
       "0"
      ]
     },
     "execution_count": 53,
     "metadata": {},
     "output_type": "execute_result"
    }
   ],
   "source": [
    "cursor = conn.cursor(cursor=msql.cursors.DictCursor)  # 可以在括号里加上cursor=msql.cursors.DictCursor以指定字典游标\n",
    "cursor.execute(\"use temp_db\")"
   ]
  },
  {
   "cell_type": "code",
   "execution_count": 18,
   "metadata": {},
   "outputs": [
    {
     "data": {
      "text/plain": [
       "(('Warning',\n",
       "  1681,\n",
       "  'Integer display width is deprecated and will be removed in a future release.'),)"
      ]
     },
     "execution_count": 18,
     "metadata": {},
     "output_type": "execute_result"
    }
   ],
   "source": [
    "cursor.execute('drop table if exists t1')\n",
    "cursor.execute(\"CREATE TABLE t1 (id int(5) primary key, name varchar(20))\")  # 创建t1表\n",
    "conn.show_warnings()"
   ]
  },
  {
   "cell_type": "markdown",
   "metadata": {},
   "source": [
    "### 3. 修改表\n",
    "- 增加两个属性 gender, depart_no"
   ]
  },
  {
   "cell_type": "code",
   "execution_count": 19,
   "metadata": {},
   "outputs": [
    {
     "data": {
      "text/plain": [
       "2"
      ]
     },
     "execution_count": 19,
     "metadata": {},
     "output_type": "execute_result"
    }
   ],
   "source": [
    "cursor.execute(\"show columns from t1\") # cursor.execute(\"desc t1\")"
   ]
  },
  {
   "cell_type": "code",
   "execution_count": 20,
   "metadata": {},
   "outputs": [
    {
     "name": "stdout",
     "output_type": "stream",
     "text": [
      "[{'Field': 'id', 'Type': 'int', 'Null': 'NO', 'Key': 'PRI', 'Default': None, 'Extra': ''}, {'Field': 'name', 'Type': 'varchar(20)', 'Null': 'YES', 'Key': '', 'Default': None, 'Extra': ''}]\n"
     ]
    }
   ],
   "source": [
    "print(cursor.fetchall())"
   ]
  },
  {
   "cell_type": "code",
   "execution_count": 21,
   "metadata": {},
   "outputs": [
    {
     "name": "stdout",
     "output_type": "stream",
     "text": [
      "('id', 'int', 'PRI')\n",
      "('name', 'varchar(20)', '')\n"
     ]
    }
   ],
   "source": [
    "cursor.scroll(0, mode='absolute')\n",
    "for x in cursor.fetchall():\n",
    "    print((x['Field'], x['Type'], x['Key']))"
   ]
  },
  {
   "cell_type": "code",
   "execution_count": 22,
   "metadata": {},
   "outputs": [
    {
     "data": {
      "text/plain": [
       "0"
      ]
     },
     "execution_count": 22,
     "metadata": {},
     "output_type": "execute_result"
    }
   ],
   "source": [
    "cursor.execute(\"ALTER TABLE t1 ADD gender char(1), ADD depart_no char(5)\")"
   ]
  },
  {
   "cell_type": "code",
   "execution_count": 39,
   "metadata": {},
   "outputs": [
    {
     "data": {
      "text/plain": [
       "0"
      ]
     },
     "execution_count": 39,
     "metadata": {},
     "output_type": "execute_result"
    }
   ],
   "source": [
    "cursor.execute(\"TRUNCATE t1\")"
   ]
  },
  {
   "cell_type": "markdown",
   "metadata": {},
   "source": [
    "### 4. 往表中插入单行`.execute()`"
   ]
  },
  {
   "cell_type": "code",
   "execution_count": 40,
   "metadata": {},
   "outputs": [
    {
     "data": {
      "text/plain": [
       "1"
      ]
     },
     "execution_count": 40,
     "metadata": {},
     "output_type": "execute_result"
    }
   ],
   "source": [
    "# 方法1\n",
    "sql = \"INSERT INTO t1 (id, name) values (%s, %s)\"\n",
    "cursor.execute(sql, (1, 'HH'))  # 参数化查询, 尽量使用参数化形式，这样不用将值转换为字符串格式\n",
    "cursor.execute(sql, ('2', 'LC'))  # 类型自动转换\n",
    "cursor.execute(sql % (3, \"'LL'\"))  # 字符串拼接 sql%('1', 'HH'), 注意最后拼接成的字符串与mysql中的语法一致"
   ]
  },
  {
   "cell_type": "code",
   "execution_count": 41,
   "metadata": {},
   "outputs": [
    {
     "data": {
      "text/plain": [
       "1"
      ]
     },
     "execution_count": 41,
     "metadata": {},
     "output_type": "execute_result"
    }
   ],
   "source": [
    "# 方法2\n",
    "sql_1 = \"INSERT INTO `t1`(`id`, `name`) values (:0, :1)\"  # 参数化查询：占位符的另一种写法\n",
    "cursor.execute(sql, (4, 'HX'))"
   ]
  },
  {
   "cell_type": "code",
   "execution_count": 42,
   "metadata": {},
   "outputs": [
    {
     "data": {
      "text/plain": [
       "1"
      ]
     },
     "execution_count": 42,
     "metadata": {},
     "output_type": "execute_result"
    }
   ],
   "source": [
    "# 方法3\n",
    "sql_2 = \"INSERT INTO `t1`(`id`, `name`) values ({0}, {1})\"  # 新型字符串格式化1\n",
    "cursor.execute(sql_2.format(repr(5), repr('DC')))  # 利用repr可以得到一个对象的值得字符串形式"
   ]
  },
  {
   "cell_type": "code",
   "execution_count": 43,
   "metadata": {},
   "outputs": [
    {
     "data": {
      "text/plain": [
       "1"
      ]
     },
     "execution_count": 43,
     "metadata": {},
     "output_type": "execute_result"
    }
   ],
   "source": [
    "# 方法4\n",
    "sql_3 = \"INSERT INTO `t1`(`id`, `name`) values ({id}, {name})\" # 新型字符串格式化2\n",
    "cursor.execute(sql_3.format(id=repr(6), name=repr('LL')))"
   ]
  },
  {
   "cell_type": "code",
   "execution_count": 44,
   "metadata": {},
   "outputs": [
    {
     "data": {
      "text/plain": [
       "1"
      ]
     },
     "execution_count": 44,
     "metadata": {},
     "output_type": "execute_result"
    }
   ],
   "source": [
    "# 方法5\n",
    "s_id, s_name = repr(7), repr('ZQ')\n",
    "sql_4 = f\"INSERT INTO `t1`(`id`, `name`) values ({s_id}, {s_name})\"  # f格式字符串\n",
    "cursor.execute(sql_4)"
   ]
  },
  {
   "cell_type": "markdown",
   "metadata": {},
   "source": [
    "- 查询数据"
   ]
  },
  {
   "cell_type": "code",
   "execution_count": 45,
   "metadata": {},
   "outputs": [
    {
     "name": "stdout",
     "output_type": "stream",
     "text": [
      "1. 获取1行:\n",
      "{'id': 1, 'name': 'HH', 'gender': None, 'depart_no': None}\n",
      "2. 获取多行:\n",
      "{'id': 2, 'name': 'LC', 'gender': None, 'depart_no': None}\n",
      "{'id': 3, 'name': 'LL', 'gender': None, 'depart_no': None}\n",
      "3. 获取所有行:\n",
      "{'id': 4, 'name': 'HX', 'gender': None, 'depart_no': None}\n",
      "{'id': 5, 'name': 'DC', 'gender': None, 'depart_no': None}\n",
      "{'id': 6, 'name': 'LL', 'gender': None, 'depart_no': None}\n",
      "{'id': 7, 'name': 'ZQ', 'gender': None, 'depart_no': None}\n"
     ]
    }
   ],
   "source": [
    "cursor.execute(\"select * from t1\")\n",
    "print('1. 获取1行:', cursor.fetchone(), sep='\\n')\n",
    "print('2. 获取多行:', *cursor.fetchmany(2), sep='\\n')\n",
    "print('3. 获取所有行:', *cursor.fetchall(), sep='\\n')"
   ]
  },
  {
   "cell_type": "markdown",
   "metadata": {},
   "source": [
    "- 回滚数据"
   ]
  },
  {
   "cell_type": "code",
   "execution_count": 46,
   "metadata": {},
   "outputs": [
    {
     "data": {
      "text/plain": [
       "[{'id': 1, 'name': 'HH', 'gender': None, 'depart_no': None},\n",
       " {'id': 2, 'name': 'LC', 'gender': None, 'depart_no': None},\n",
       " {'id': 3, 'name': 'LL', 'gender': None, 'depart_no': None},\n",
       " {'id': 4, 'name': 'HX', 'gender': None, 'depart_no': None},\n",
       " {'id': 5, 'name': 'DC', 'gender': None, 'depart_no': None},\n",
       " {'id': 6, 'name': 'LL', 'gender': None, 'depart_no': None},\n",
       " {'id': 7, 'name': 'ZQ', 'gender': None, 'depart_no': None}]"
      ]
     },
     "execution_count": 46,
     "metadata": {},
     "output_type": "execute_result"
    }
   ],
   "source": [
    "cursor.execute(\"select * from t1\")\n",
    "cursor.fetchall()  # 此时前面的插入操作全部撤销"
   ]
  },
  {
   "cell_type": "code",
   "execution_count": 30,
   "metadata": {},
   "outputs": [
    {
     "data": {
      "text/plain": [
       "()"
      ]
     },
     "execution_count": 30,
     "metadata": {},
     "output_type": "execute_result"
    }
   ],
   "source": [
    "conn.rollback()  # 回滚\n",
    "cursor.execute(\"select * from t1\")\n",
    "cursor.fetchall()"
   ]
  },
  {
   "cell_type": "markdown",
   "metadata": {},
   "source": [
    "### 5. 往表中插入多行 `.executemany()`"
   ]
  },
  {
   "cell_type": "code",
   "execution_count": 47,
   "metadata": {},
   "outputs": [
    {
     "data": {
      "text/plain": [
       "2"
      ]
     },
     "execution_count": 47,
     "metadata": {},
     "output_type": "execute_result"
    }
   ],
   "source": [
    "ins_list = [(8, 'GC'), (9, 'XX')]\n",
    "cursor.executemany(sql, ins_list)"
   ]
  },
  {
   "cell_type": "code",
   "execution_count": 48,
   "metadata": {},
   "outputs": [
    {
     "data": {
      "text/plain": [
       "[{'id': 1, 'name': 'HH', 'gender': None, 'depart_no': None},\n",
       " {'id': 2, 'name': 'LC', 'gender': None, 'depart_no': None},\n",
       " {'id': 3, 'name': 'LL', 'gender': None, 'depart_no': None},\n",
       " {'id': 4, 'name': 'HX', 'gender': None, 'depart_no': None},\n",
       " {'id': 5, 'name': 'DC', 'gender': None, 'depart_no': None},\n",
       " {'id': 6, 'name': 'LL', 'gender': None, 'depart_no': None},\n",
       " {'id': 7, 'name': 'ZQ', 'gender': None, 'depart_no': None},\n",
       " {'id': 8, 'name': 'GC', 'gender': None, 'depart_no': None},\n",
       " {'id': 9, 'name': 'XX', 'gender': None, 'depart_no': None}]"
      ]
     },
     "execution_count": 48,
     "metadata": {},
     "output_type": "execute_result"
    }
   ],
   "source": [
    "cursor.execute(\"select * from t1\")\n",
    "cursor.fetchall()"
   ]
  },
  {
   "cell_type": "code",
   "execution_count": 49,
   "metadata": {},
   "outputs": [
    {
     "name": "stdout",
     "output_type": "stream",
     "text": [
      "9\n"
     ]
    }
   ],
   "source": [
    "# 返回execute()方法影响的行数\n",
    "print(cursor.rowcount)  "
   ]
  },
  {
   "cell_type": "code",
   "execution_count": 50,
   "metadata": {},
   "outputs": [],
   "source": [
    "conn.commit()  # 提交事务\n",
    "#cursor.close()  # 关闭游标"
   ]
  },
  {
   "cell_type": "markdown",
   "metadata": {},
   "source": [
    "#### 移动游标cursor.scroll()\n",
    "- cursor.scroll(-1, mode='relative') # 相对当前位置移动\n",
    "- cursor.scroll(1, mode='absolute') # 相对绝对位置移动\n",
    "> 注意：只有`DictCursor`类型的游标才能滚动"
   ]
  },
  {
   "cell_type": "code",
   "execution_count": 51,
   "metadata": {},
   "outputs": [
    {
     "name": "stdout",
     "output_type": "stream",
     "text": [
      "0 {'id': 1, 'name': 'HH', 'gender': None, 'depart_no': None}\n",
      "1 {'id': 2, 'name': 'LC', 'gender': None, 'depart_no': None}\n",
      "2 {'id': 3, 'name': 'LL', 'gender': None, 'depart_no': None}\n",
      "3 {'id': 4, 'name': 'HX', 'gender': None, 'depart_no': None}\n",
      "4 {'id': 5, 'name': 'DC', 'gender': None, 'depart_no': None}\n",
      "5 {'id': 6, 'name': 'LL', 'gender': None, 'depart_no': None}\n",
      "6 {'id': 7, 'name': 'ZQ', 'gender': None, 'depart_no': None}\n",
      "7 {'id': 8, 'name': 'GC', 'gender': None, 'depart_no': None}\n",
      "8 {'id': 9, 'name': 'XX', 'gender': None, 'depart_no': None}\n"
     ]
    }
   ],
   "source": [
    "cursor.scroll(0, mode='absolute')  # 相对绝对位置移动, 初始位置为0\n",
    "for i, x in enumerate(cursor.fetchall()):\n",
    "    print(i, x)"
   ]
  },
  {
   "cell_type": "markdown",
   "metadata": {},
   "source": [
    "### 6. 更新表"
   ]
  },
  {
   "cell_type": "code",
   "execution_count": 55,
   "metadata": {},
   "outputs": [
    {
     "data": {
      "text/plain": [
       "0"
      ]
     },
     "execution_count": 55,
     "metadata": {},
     "output_type": "execute_result"
    }
   ],
   "source": [
    "sql = \"\"\"UPDATE t1\n",
    "         SET gender='1', depart_no='10001'\n",
    "         WHERE id=%s\n",
    "      \"\"\"\n",
    "cursor.execute(sql, (7,))"
   ]
  },
  {
   "cell_type": "code",
   "execution_count": 56,
   "metadata": {},
   "outputs": [
    {
     "data": {
      "text/plain": [
       "1"
      ]
     },
     "execution_count": 56,
     "metadata": {},
     "output_type": "execute_result"
    }
   ],
   "source": [
    "cursor.execute(\"SELECT id, name, gender FROM t1 WHERE id=7\")"
   ]
  },
  {
   "cell_type": "code",
   "execution_count": 57,
   "metadata": {},
   "outputs": [
    {
     "data": {
      "text/plain": [
       "{'id': 7, 'name': 'ZQ', 'gender': '1'}"
      ]
     },
     "execution_count": 57,
     "metadata": {},
     "output_type": "execute_result"
    }
   ],
   "source": [
    "cursor.fetchone()"
   ]
  },
  {
   "cell_type": "markdown",
   "metadata": {},
   "source": [
    "- cursor.description获取查询结果字段信息"
   ]
  },
  {
   "cell_type": "code",
   "execution_count": 58,
   "metadata": {},
   "outputs": [
    {
     "data": {
      "text/plain": [
       "(('id', 3, None, 5, 5, 0, False),\n",
       " ('name', 253, None, 80, 80, 0, True),\n",
       " ('gender', 254, None, 4, 4, 0, True))"
      ]
     },
     "execution_count": 58,
     "metadata": {},
     "output_type": "execute_result"
    }
   ],
   "source": [
    "cursor.description"
   ]
  },
  {
   "cell_type": "markdown",
   "metadata": {},
   "source": [
    "### 7. 删除表"
   ]
  },
  {
   "cell_type": "code",
   "execution_count": null,
   "metadata": {},
   "outputs": [],
   "source": [
    "cursor.execute(\"DROP TABLE `t1`\")"
   ]
  },
  {
   "cell_type": "code",
   "execution_count": null,
   "metadata": {},
   "outputs": [],
   "source": [
    "cursor.close()  # 关闭游标"
   ]
  },
  {
   "cell_type": "markdown",
   "metadata": {},
   "source": [
    "# 二、案例：构建university数据库中的表结构，并输入实例数据"
   ]
  },
  {
   "cell_type": "code",
   "execution_count": 53,
   "metadata": {},
   "outputs": [],
   "source": [
    "conn.select_db('university')  # cursor.execute('use university')"
   ]
  },
  {
   "cell_type": "code",
   "execution_count": 54,
   "metadata": {},
   "outputs": [],
   "source": [
    "def table_struc(sql, conn=conn):\n",
    "    with conn.cursor() as cursor:\n",
    "        cursor.execute(sql)\n",
    "        conn.commit()"
   ]
  },
  {
   "cell_type": "code",
   "execution_count": 55,
   "metadata": {},
   "outputs": [],
   "source": [
    "def insert_data(sql, data, conn=conn):\n",
    "    try:\n",
    "        with conn.cursor() as cursor:\n",
    "            cursor.executemany(sql, data)\n",
    "            conn.commit()\n",
    "    except Exception as e:\n",
    "        print(e)\n",
    "        conn.rollback()"
   ]
  },
  {
   "cell_type": "markdown",
   "metadata": {},
   "source": [
    "### 1. classroom表"
   ]
  },
  {
   "cell_type": "code",
   "execution_count": 56,
   "metadata": {},
   "outputs": [],
   "source": [
    "sql = \"\"\"create table `classroom`(\n",
    "                           `building` varchar(15),\n",
    "                           `room_number` varchar(7),\n",
    "                           `capacity` decimal(4, 0),\n",
    "                            primary key (`building`, `room_number`))\n",
    "          \"\"\"\n",
    "table_struc(sql)"
   ]
  },
  {
   "cell_type": "code",
   "execution_count": 57,
   "metadata": {},
   "outputs": [],
   "source": [
    "sql = \"INSERT INTO `classroom` (`building`, `room_number`, `capacity`) VALUES (%s, %s, %s)\"\n",
    "data = [('Packard', '101', '500'),\n",
    "       ('Painter', '514', '10'),\n",
    "       ('Taylor', '3128', '70'),\n",
    "       ('Watson', '100', '30'),\n",
    "       ('Watson', '120', '50')]\n",
    "insert_data(sql, data)"
   ]
  },
  {
   "cell_type": "markdown",
   "metadata": {},
   "source": [
    "### 2. department表"
   ]
  },
  {
   "cell_type": "code",
   "execution_count": 58,
   "metadata": {},
   "outputs": [],
   "source": [
    "sql = \"\"\"create table `department`(\n",
    "                                `dept_name` varchar(20) primary key,\n",
    "                                `building` varchar(15),\n",
    "                                `budget` decimal(12, 2))\"\"\"\n",
    "\n",
    "table_struc(sql)"
   ]
  },
  {
   "cell_type": "code",
   "execution_count": 59,
   "metadata": {},
   "outputs": [],
   "source": [
    "data = [('Biology', 'Watson', '90000'), \n",
    "        ('Comp. Sci.', 'Taylor', '100000'),\n",
    "        ('Elec. Eng.', 'Taylor', '85000'), \n",
    "        ('Finance', 'Painter', '120000'),\n",
    "        ('History', 'Painter', '50000'), \n",
    "        ('Music', 'Packward', '80000'),\n",
    "        ('Physics', 'Watson', '70000')]\n",
    "\n",
    "sql = \"INSERT INTO `department` (`dept_name`, `building`, `budget`) VALUES (%s, %s, %s)\"\n",
    "insert_data(sql, data)"
   ]
  },
  {
   "cell_type": "markdown",
   "metadata": {},
   "source": [
    "### 3. instructor表"
   ]
  },
  {
   "cell_type": "code",
   "execution_count": 60,
   "metadata": {},
   "outputs": [],
   "source": [
    "sql = \"\"\"create table `instructor`(\n",
    "                            `ID` varchar(5) primary key,\n",
    "                            `name` varchar(20),\n",
    "                            `dept_name` varchar(20),\n",
    "                            `salary` decimal(8,2),\n",
    "                             foreign key (dept_name) references department (dept_name));\n",
    "      \"\"\"\n",
    "\n",
    "table_struc(sql)"
   ]
  },
  {
   "cell_type": "code",
   "execution_count": 61,
   "metadata": {},
   "outputs": [],
   "source": [
    "data = [('10101', 'Srinivasan', 'Comp. Sci.', '65000'),\n",
    "       ('12121', 'Wu', 'Finance', '90000'),\n",
    "       ('15151', 'Mozart', 'Music', '40000'),\n",
    "       ('22222', 'Einstein', 'Physics', '95000'),\n",
    "       ('32343', 'EI Said', 'History', '60000'),\n",
    "       ('33456', 'Gold', 'Physics', '87000'),\n",
    "       ('45565', 'Katz', 'Comp. Sci.', '75000'),\n",
    "       ('58583', 'Califieri', 'History', '62000'),\n",
    "       ('76766', 'Crick', 'Biology', '72000'),\n",
    "       ('76543', 'Singh', 'Finance', '80000'),\n",
    "       ('83821', 'Brandt', 'Comp. Sci.', '92000'),\n",
    "       ('98345', 'Kim', 'Elec. Eng.', '80000')]\n",
    "\n",
    "sql = \"INSERT INTO `instructor` (`ID`, `name`, `dept_name`, `salary`) VALUES (%s, %s, %s, %s)\"\n",
    "insert_data(sql, data)"
   ]
  },
  {
   "cell_type": "markdown",
   "metadata": {},
   "source": [
    "### 4. course表"
   ]
  },
  {
   "cell_type": "code",
   "execution_count": 62,
   "metadata": {},
   "outputs": [],
   "source": [
    "sql = \"\"\"create table `course`(\n",
    "                        `course_id` varchar(7) primary key,\n",
    "                        `title` varchar(50),\n",
    "                        `dept_name` varchar(20),\n",
    "                        `credits` decimal(2,0),\n",
    "                        foreign key (`dept_name`) references `department`(`dept_name`))\"\"\"\n",
    "\n",
    "table_struc(sql)"
   ]
  },
  {
   "cell_type": "code",
   "execution_count": 63,
   "metadata": {},
   "outputs": [],
   "source": [
    "data = [('BIO-101', 'Intro. to Biology', 'Biology', '4'),\n",
    "       ('BIO-301', 'Genetics', 'Biology', '4'),\n",
    "       ('BIO-399', 'Computational Biology', 'Biology', '3'),\n",
    "       ('CS-101', 'Intro. to Computer Science', 'Comp. Sci.', '4'),\n",
    "       ('CS-190', 'Game Design', 'Comp. Sci.', '4'),\n",
    "       ('CS-315', 'Robotics', 'Comp. Sci.', '3'),\n",
    "       ('CS-319', 'Image Processing', 'Comp. Sci.', '3'),\n",
    "       ('CS-347', 'Database System Concepts', 'Comp. Sci.', '3'),\n",
    "       ('EE-181', 'Intro. to Digital Systems', 'Elec. Eng.', '3'),\n",
    "       ('FIN-201', 'Investment Banking', 'Finance', '3'),\n",
    "       ('HIS-351', 'World History', 'History', '3'),\n",
    "       ('MU-199', 'Music Video Production', 'Music', '3'),\n",
    "       ('PHY-101', 'Physical Principles', 'Physics', '4')]\n",
    "\n",
    "sql = \"INSERT INTO `course` (`course_id`, `title`, `dept_name`, `credits`) VALUES (%s, %s, %s, %s)\"\n",
    "insert_data(sql, data)"
   ]
  },
  {
   "cell_type": "markdown",
   "metadata": {},
   "source": [
    "### 5. section表"
   ]
  },
  {
   "cell_type": "code",
   "execution_count": 64,
   "metadata": {},
   "outputs": [],
   "source": [
    "sql = \"\"\"create table `section`(\n",
    "                         `course_id` varchar(7),\n",
    "                         `sec_id` varchar(8),\n",
    "                         `semester` varchar(6),\n",
    "                         `year` decimal(4,0),\n",
    "                         `building` varchar(15),\n",
    "                         `room_number` varchar(7),\n",
    "                         `time_slot_id` varchar(4),\n",
    "                         primary key (`course_id`, `sec_id`, `semester`, `year`),\n",
    "                         foreign key (`course_id`) references `course`(`course_id`))\n",
    "       \"\"\"\n",
    "\n",
    "table_struc(sql)"
   ]
  },
  {
   "cell_type": "code",
   "execution_count": 65,
   "metadata": {},
   "outputs": [],
   "source": [
    "data = [('BIO-101', '1', 'Summer', '2009', 'Painter', '514', 'B'),\n",
    "       ('BIO-301', '1', 'Summer', '2010', 'Painter', '514', 'A'),\n",
    "       ('CS-101', '1', 'Fall', '2009', 'Packard', '101', 'H'),\n",
    "       ('CS-101', '1', 'Spring', '2010', 'Packard', '101', 'F'),\n",
    "       ('CS-190', '1', 'Spring', '2009', 'Taylor', '3128', 'E'),\n",
    "       ('CS-190', '2', 'Spring', '2009', 'Taylor', '3128', 'A'),\n",
    "       ('CS-315', '1', 'Spring', '2010', 'Watson', '120', 'D'),\n",
    "       ('CS-319', '1', 'Spring', '2010', 'Watson', '100', 'B'),\n",
    "       ('CS-319', '2', 'Spring', '2010', 'Taylor', '3128', 'C'),\n",
    "       ('CS-347', '1', 'Fall', '2009', 'Taylor', '3128', 'A'),\n",
    "       ('EE-181', '1', 'Spring', '2009', 'Taylor', '3128', 'C'),\n",
    "       ('FIN-201', '1', 'Spring', '2010', 'Packard', '101', 'B'),\n",
    "       ('HIS-351', '1', 'Spring', '2010', 'Painter', '514', 'C'),\n",
    "       ('MU-199', '1', 'Spring', '2010', 'Packard', '101', 'D'),\n",
    "       ('PHY-101', '1', 'Fall', '2009', 'Watson', '100', 'A')\n",
    "       ]\n",
    "\n",
    "sql = \"\"\"INSERT INTO `section` (`course_id`, `sec_id`, `semester`, `year`, `building`, `room_number`, `time_slot_id`) \n",
    "                    VALUES (%s, %s, %s, %s, %s, %s, %s)\"\"\"\n",
    "\n",
    "insert_data(sql, data)"
   ]
  },
  {
   "cell_type": "markdown",
   "metadata": {},
   "source": [
    "### 6. teaches表"
   ]
  },
  {
   "cell_type": "code",
   "execution_count": 66,
   "metadata": {},
   "outputs": [],
   "source": [
    "sql = \"\"\"create table `teaches`(\n",
    "                         `ID` varchar(5),\n",
    "                         `course_id` varchar(7),\n",
    "                         `sec_id` varchar(8),\n",
    "                         `semester` varchar(6),\n",
    "                         `year` decimal(4,0),\n",
    "                         primary key (`ID`, `course_id`, `sec_id`, `semester`, `year`),\n",
    "                         foreign key (`ID`) references `instructor`(`ID`),\n",
    "                         foreign key (`course_id`, `sec_id`, `semester`, `year`) references \n",
    "                                         `section`(`course_id`, `sec_id`, `semester`, `year`))\n",
    "                         \"\"\"\n",
    "\n",
    "table_struc(sql)"
   ]
  },
  {
   "cell_type": "code",
   "execution_count": 67,
   "metadata": {},
   "outputs": [],
   "source": [
    "data = [('10101', 'CS-101', '1', 'Fall', '2009'),\n",
    "        ('10101', 'CS-315', '1', 'Spring', '2010'),\n",
    "        ('10101', 'CS-347', '1', 'Fall', '2009'),\n",
    "        ('12121', 'FIN-201', '1', 'Spring', '2010'),\n",
    "        ('15151', 'MU-199', '1', 'Spring', '2010'),\n",
    "        ('22222', 'PHY-101', '1', 'Fall', '2009'),\n",
    "        ('32343', 'HIS-351', '1', 'Spring', '2010'),\n",
    "        ('45565', 'CS-101', '1', 'Spring', '2010'),\n",
    "        ('45565', 'CS-319', '1', 'Spring', '2010'),\n",
    "        ('76766', 'BIO-101', '1', 'Summer', '2009'),\n",
    "        ('76766', 'BIO-301', '1', 'Summer', '2010'),\n",
    "        ('83821', 'CS-190', '1', 'Spring', '2009'),\n",
    "        ('83821', 'CS-190', '2', 'Spring', '2009'),\n",
    "        ('83821', 'CS-319', '2', 'Spring', '2010'),\n",
    "        ('98345', 'EE-181', '1', 'Spring', '2009')\n",
    "       ]\n",
    "\n",
    "sql = \"\"\"INSERT INTO `teaches` (`ID`, `course_id`, `sec_id`, `semester`, `year`) \n",
    "                    VALUES (%s, %s, %s, %s, %s)\"\"\"\n",
    "\n",
    "insert_data(sql, data)"
   ]
  },
  {
   "cell_type": "markdown",
   "metadata": {},
   "source": [
    "### 7. prereq表"
   ]
  },
  {
   "cell_type": "code",
   "execution_count": 68,
   "metadata": {},
   "outputs": [],
   "source": [
    "sql = \"\"\"create table `prereq`(\n",
    "                        `course_id` varchar(7) primary key,\n",
    "                        `prereq_id` varchar(7),\n",
    "                        foreign key (`prereq_id`) references `course`(`course_id`))\n",
    "          \"\"\"\n",
    "\n",
    "table_struc(sql)"
   ]
  },
  {
   "cell_type": "code",
   "execution_count": 69,
   "metadata": {},
   "outputs": [],
   "source": [
    "data = [('BIO-301', 'BIO-101'),\n",
    "       ('BIO-399', 'BIO-101'),\n",
    "       ('CS-190', 'CS-101'),\n",
    "       ('CS-315', 'CS-101'),\n",
    "       ('CS-319', 'CS-101'),\n",
    "       ('CS-347', 'CS-101'),\n",
    "       ('EE-181', 'PHY-101')]\n",
    "\n",
    "sql = \"INSERT INTO `prereq` (`course_id`, `prereq_id`) VALUES (%s, %s)\"\n",
    "insert_data(sql, data)"
   ]
  },
  {
   "cell_type": "markdown",
   "metadata": {},
   "source": [
    "### 8. student表"
   ]
  },
  {
   "cell_type": "code",
   "execution_count": 70,
   "metadata": {},
   "outputs": [],
   "source": [
    "sql = \"\"\"create table `student`(\n",
    "                         `ID` varchar(5) primary key,\n",
    "                         `name` varchar(20) not null,\n",
    "                         `dept_name` varchar(20),\n",
    "                         `tot_cred` decimal(3, 0) check (tot_cred >= 0),\n",
    "                         foreign key (`dept_name`) references `department` (`dept_name`) on delete set null)\n",
    "                         \"\"\"\n",
    "table_struc(sql)"
   ]
  },
  {
   "cell_type": "code",
   "execution_count": 71,
   "metadata": {},
   "outputs": [],
   "source": [
    "data = [('00128', 'Zhang', 'Comp. Sci.', '102'),\n",
    "       ('12345', 'Shankar', 'Comp. Sci.', '32'),\n",
    "       ('19991', 'Brandt', 'History', '80'),\n",
    "       ('23121', 'Chavez', 'Finance', '110'),\n",
    "       ('44553', 'Peltier', 'Physics', '56'),\n",
    "       ('45678', 'Levy', 'Physics', '46'),\n",
    "       ('54321', 'Williams', 'Comp. Sci.', '54'),\n",
    "       ('55739', 'Sanchez', 'Music', '38'),\n",
    "       ('70557', 'Snow', 'Physics', '0'),\n",
    "       ('76543', 'Brown', 'Comp. Sci.', '58'),\n",
    "       ('76653', 'Aoi', 'Elec. Eng.', '60'),\n",
    "       ('98765', 'Bourikas', 'Elec. Eng.', '98'),\n",
    "       ('98988', 'Tanaka', 'Biology', '120')]\n",
    "\n",
    "sql = \"INSERT INTO `student` (`ID`, `name`, `dept_name`, `tot_cred`) VALUES (%s, %s, %s, %s)\"\n",
    "insert_data(sql, data)"
   ]
  },
  {
   "cell_type": "markdown",
   "metadata": {},
   "source": [
    "### 9. takes表"
   ]
  },
  {
   "cell_type": "code",
   "execution_count": 72,
   "metadata": {},
   "outputs": [],
   "source": [
    "sql = \"\"\"create table `takes`(\n",
    "                   `ID` varchar(5),\n",
    "                   `course_id` varchar(7),\n",
    "                   `sec_id` varchar(8),\n",
    "                   `semester` varchar(6),\n",
    "                   `year` decimal(4, 0),\n",
    "                   `grade` varchar(2),\n",
    "                   primary key (`ID`, `course_id`, `sec_id`, `semester`, `year`),\n",
    "                   foreign key (`course_id`, `sec_id`, `semester`, `year`) references \n",
    "                                  `section`(`course_id`, `sec_id`, `semester`, `year`) on delete cascade,\n",
    "                   foreign key (`ID`) references `student`(`ID`) on delete cascade)\n",
    "      \"\"\"\n",
    "\n",
    "table_struc(sql)"
   ]
  },
  {
   "cell_type": "code",
   "execution_count": 73,
   "metadata": {},
   "outputs": [],
   "source": [
    "data = [('00128','CS-101','1','Fall','2009','A'),\n",
    "        ('00128','CS-347','1','Fall','2009','A-'),\n",
    "        ('12345','CS-101','1','Fall','2009','C'),\n",
    "        ('12345','CS-190','2','Spring','2009','A'),\n",
    "        ('12345','CS-315','1','Spring','2010','A'),\n",
    "        ('12345','CS-347','1','Fall','2009','A'),\n",
    "        ('19991','HIS-351','1','Spring','2010','B'),\n",
    "        ('23121','FIN-201','1','Spring','2010','C+'),\n",
    "        ('44553','PHY-101','1','Fall','2009','B-'),\n",
    "        ('45678','CS-101','1','Fall','2009','F'),\n",
    "        ('45678','CS-101','1','Spring','2010','B+'),\n",
    "        ('45678','CS-319','1','Spring','2010','B'),\n",
    "        ('54321','CS-101','1','Fall','2009','A-'),\n",
    "        ('54321','CS-190','2','Spring','2009','B+'),\n",
    "        ('55739','MU-199','1','Spring','2010','A-'),\n",
    "        ('76543','CS-101','1','Fall','2009','A'),\n",
    "        ('76543','CS-319','2','Spring','2010','A'),\n",
    "        ('76653','EE-181','1','Spring','2009','C'),\n",
    "        ('98765','CS-101','1','Fall','2009','C-'),\n",
    "        ('98765','CS-315','1','Spring','2010','B'),\n",
    "        ('98988','BIO-101','1','Summer','2009','A'),\n",
    "        ('98988','BIO-301','1','Summer','2010',None)]\n",
    "\n",
    "sql = \"INSERT INTO `takes` (`ID`, `course_id`, `sec_id`, `semester`, `year`, `grade`) VALUES (%s, %s, %s, %s, %s, %s)\"\n",
    "insert_data(sql, data)"
   ]
  },
  {
   "cell_type": "markdown",
   "metadata": {},
   "source": [
    "### 10. advisor表"
   ]
  },
  {
   "cell_type": "code",
   "execution_count": 74,
   "metadata": {},
   "outputs": [],
   "source": [
    "sql = \"\"\"create table `advisor`(\n",
    "                     `s_ID` varchar(5) primary key,\n",
    "                     `i_ID` varchar(5),\n",
    "                     foreign key (`i_ID`) references `instructor`(`ID`) on delete set null,\n",
    "                     foreign key (`s_ID`) references `student`(`ID`) on delete cascade)\n",
    "      \"\"\"\n",
    "\n",
    "table_struc(sql)"
   ]
  },
  {
   "cell_type": "code",
   "execution_count": 75,
   "metadata": {},
   "outputs": [],
   "source": [
    "data = [('00128','45565'),\n",
    "       ('12345','10101'),\n",
    "       ('23121','76543'),\n",
    "       ('44553','22222'),\n",
    "       ('45678','22222'),\n",
    "       ('76543','45565'),\n",
    "       ('76653','98345'),\n",
    "       ('98765','98345'),\n",
    "       ('98988','76766')]\n",
    "\n",
    "sql = \"INSERT INTO `advisor` (`s_ID`, `i_ID`) VALUES (%s, %s)\"\n",
    "insert_data(sql, data)"
   ]
  },
  {
   "cell_type": "markdown",
   "metadata": {},
   "source": [
    "### timeslot表"
   ]
  },
  {
   "cell_type": "code",
   "execution_count": 76,
   "metadata": {},
   "outputs": [],
   "source": [
    "sql = \"\"\"create table `timeslot`(\n",
    "                      `time_slot_id` varchar(4),\n",
    "                      `day` varchar(4) check (day in ('M', 'T', 'W', 'R', 'F', 'S', 'U')),\n",
    "                      `start_time` time,\n",
    "                      `end_time` time,\n",
    "                      primary key (`time_slot_id`, `day`, `start_time`))\n",
    "      \"\"\"\n",
    "\n",
    "table_struc(sql)"
   ]
  },
  {
   "cell_type": "code",
   "execution_count": 77,
   "metadata": {},
   "outputs": [],
   "source": [
    "data = [('A','M','8:00','8:50'),\n",
    "       ('A','W','8:00','8:50'),\n",
    "       ('A','F','8:00','8:50'),\n",
    "       ('B','M','9:00','9:50'),\n",
    "       ('B','W','9:00','9:50'),\n",
    "       ('B','F','9:00','9:50'),\n",
    "       ('C','M','11:00','11:50'),\n",
    "       ('C','W','11:00','11:50'),\n",
    "       ('C','F','11:00','11:50'),\n",
    "       ('D','M','13:00','13:50'),\n",
    "       ('D','W','13:00','13:50'),\n",
    "       ('D','F','13:00','13:50'),\n",
    "       ('E','T','10:30','11:45'),\n",
    "       ('E','R','10:30','11:45'),\n",
    "       ('F','T','14:30','15:45'),\n",
    "       ('F','R','14:30','15:45'),\n",
    "       ('G','M','16:00','16:50'),\n",
    "       ('G','W','16:00','16:50'),\n",
    "       ('G','F','16:00','16:50'),\n",
    "       ('H','W','10:00','12:30')]\n",
    "\n",
    "sql = \"INSERT INTO `timeslot` (`time_slot_id`, `day`, `start_time`, `end_time`) VALUES (%s, %s, %s, %s)\"\n",
    "insert_data(sql, data)"
   ]
  },
  {
   "cell_type": "markdown",
   "metadata": {},
   "source": [
    "# 四、定义和调用存储过程"
   ]
  },
  {
   "cell_type": "markdown",
   "metadata": {},
   "source": [
    "## 1.定义存储过程"
   ]
  },
  {
   "cell_type": "code",
   "execution_count": 48,
   "metadata": {},
   "outputs": [],
   "source": [
    "cursor = conn.cursor()"
   ]
  },
  {
   "cell_type": "code",
   "execution_count": 79,
   "metadata": {},
   "outputs": [],
   "source": [
    "cursor.execute('''\n",
    "    create procedure get_num_ins_stu_proc(in v_dept_name varchar(20), out v_num_student int, out v_num_instructor int)\n",
    "    reads sql data\n",
    "    begin\n",
    "        select count(*) into v_num_instructor \n",
    "        from instructor\n",
    "        where dept_name = v_dept_name;\n",
    "\n",
    "        select count(*) into v_num_student\n",
    "        from student\n",
    "        where dept_name = v_dept_name;\n",
    "    end;\n",
    "''')\n",
    "conn.commit()"
   ]
  },
  {
   "cell_type": "markdown",
   "metadata": {},
   "source": [
    "## 2.调用存储过程"
   ]
  },
  {
   "cell_type": "markdown",
   "metadata": {},
   "source": [
    "- 通过`cursor.callproc()`调用"
   ]
  },
  {
   "cell_type": "code",
   "execution_count": 105,
   "metadata": {},
   "outputs": [
    {
     "data": {
      "text/plain": [
       "[{'@_get_num_ins_stu_proc_1': 4, '@_get_num_ins_stu_proc_2': 3}]"
      ]
     },
     "execution_count": 105,
     "metadata": {},
     "output_type": "execute_result"
    }
   ],
   "source": [
    "cursor.callproc('get_num_ins_stu_proc', args=('Comp. Sci.', 1, 1))\n",
    "cursor.fetchall()\n",
    "cursor.execute('select @_get_num_ins_stu_proc_1, @_get_num_ins_stu_proc_2')\n",
    "cursor.fetchall()"
   ]
  },
  {
   "cell_type": "markdown",
   "metadata": {},
   "source": [
    "- 通过`curosr.execute`调用"
   ]
  },
  {
   "cell_type": "code",
   "execution_count": 107,
   "metadata": {},
   "outputs": [
    {
     "data": {
      "text/plain": [
       "[{'@v1': 4, '@v2': 3}]"
      ]
     },
     "execution_count": 107,
     "metadata": {},
     "output_type": "execute_result"
    }
   ],
   "source": [
    "cursor.execute(\"call get_num_ins_stu_proc('Comp. Sci.', @v1, @v2)\")\n",
    "cursor.execute('select @v1, @v2')\n",
    "cursor.fetchall()"
   ]
  },
  {
   "cell_type": "code",
   "execution_count": null,
   "metadata": {},
   "outputs": [],
   "source": []
  }
 ],
 "metadata": {
  "anaconda-cloud": {},
  "kernelspec": {
   "display_name": "Python 3 (ipykernel)",
   "language": "python",
   "name": "python3"
  },
  "language_info": {
   "codemirror_mode": {
    "name": "ipython",
    "version": 3
   },
   "file_extension": ".py",
   "mimetype": "text/x-python",
   "name": "python",
   "nbconvert_exporter": "python",
   "pygments_lexer": "ipython3",
   "version": "3.9.18"
  }
 },
 "nbformat": 4,
 "nbformat_minor": 4
}
