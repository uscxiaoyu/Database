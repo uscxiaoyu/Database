{
 "cells": [
  {
   "cell_type": "code",
   "execution_count": 1,
   "metadata": {},
   "outputs": [],
   "source": [
    "import pymysql as msql\n",
    "import re"
   ]
  },
  {
   "cell_type": "code",
   "execution_count": 4,
   "metadata": {},
   "outputs": [],
   "source": [
    "configs = {'host': '47.92.142.65',\n",
    "           'port': 3456,\n",
    "           'user': 'kms',\n",
    "           'password': 'nkipwd',\n",
    "           'db': 'znkfzl2',\n",
    "           'use_unicode': True, \n",
    "           'charset': \"utf8\"}"
   ]
  },
  {
   "cell_type": "code",
   "execution_count": 5,
   "metadata": {},
   "outputs": [],
   "source": [
    "conn = msql.connect(**configs)"
   ]
  },
  {
   "cell_type": "markdown",
   "metadata": {},
   "source": [
    "## 获取数据库中的表"
   ]
  },
  {
   "cell_type": "code",
   "execution_count": 6,
   "metadata": {},
   "outputs": [
    {
     "name": "stdout",
     "output_type": "stream",
     "text": "(('act_evt_log',), ('act_ge_bytearray',), ('act_ge_property',), ('act_hi_actinst',), ('act_hi_attachment',), ('act_hi_comment',), ('act_hi_detail',), ('act_hi_identitylink',), ('act_hi_procinst',), ('act_hi_taskinst',), ('act_hi_varinst',), ('act_id_group',), ('act_id_info',), ('act_id_membership',), ('act_id_user',), ('act_procdef_info',), ('act_re_deployment',), ('act_re_model',), ('act_re_procdef',), ('act_ru_deadletter_job',), ('act_ru_event_subscr',), ('act_ru_execution',), ('act_ru_identitylink',), ('act_ru_job',), ('act_ru_suspended_job',), ('act_ru_task',), ('act_ru_timer_job',), ('act_ru_variable',), ('associateddoc',), ('attrvalueinfo',), ('caibianadd',), ('clobiddetail',), ('clobiddetailloss',), ('comment',), ('conversioncount',), ('conversionfailuredoc',), ('distribute_task_default',), ('docattention',), ('docclassify',), ('docediting',), ('docmentrevalid',), ('edithistorylog',), ('elementhitcount',), ('entrypermission',), ('entrypermissionforinfo',), ('infotemp',), ('kms_logs',), ('kmsattachment',), ('kmschannel',), ('kmscity',), ('kmscitystandard',), ('kmsdatabaseensure',), ('kmsdepartmenttree',), ('kmsdoccommon',), ('kmsdochitlog',), ('kmsdochotcount',), ('kmsdocread',), ('kmsdocument',), ('kmsdocument_valid',), ('kmsfavoritetree',), ('kmsopinioninquiry',), ('kmssearchhotcount',), ('kmstemplate',), ('kmstemplate_stq',), ('kmsversion_manager',), ('knowledge_activity_record',), ('knowledge_faq',), ('knowledge_relevance_material',), ('knowledge_relevance_material_temp',), ('log_articleerror',), ('log_docrelorvalid',), ('log_synchronizedetail',), ('material_library_attrname',), ('material_library_info',), ('material_library_service',), ('material_library_tree',), ('member',), ('member_backup',), ('message',), ('notification',), ('permissiontree',), ('personaldocinfo',), ('propertyhistory',), ('propertynametotype',), ('resourceattrname2fieldcolnum',), ('role',), ('role_menu',), ('role_permission',), ('role_resource',), ('role_rule',), ('sequence',), ('service',), ('serviceattrname2colnum',), ('serviceorproductinfo',), ('serviceorproductinfo_clob',), ('serviceorproductinfo_clob2',), ('sysnchronize_servicemenu',), ('sysnchronize_topcityname',), ('sysnchronizekbdata',), ('sysnchronizeservice',), ('sysnchronizeservice_base',), ('systemconfig',), ('t00_operatelog',), ('temp',), ('template2service',), ('tm_businesstype',), ('tm_businesstype_stq',), ('tm_businesstype_to_element',), ('tm_businesstype_to_element_stq',), ('tm_element',), ('tm_element_stq',), ('tm_kmschannel',), ('tm_kmstemplate_to_businesstype',), ('tm_static_data',), ('tm_tree_element',), ('tm_tree_element_stq',), ('tm_tree_element_tmp',), ('tmkmstemplatetobusinesstypestq',), ('user_message',), ('view_infotemp',), ('worker',), ('worker_backup',), ('workerrolerel',), ('workerrolerel_backup',), ('ztreefororder',))\n"
    }
   ],
   "source": [
    "with conn.cursor() as cursor:\n",
    "    cursor.execute(\"show tables\")\n",
    "    res = cursor.fetchall()\n",
    "print(res)"
   ]
  },
  {
   "cell_type": "code",
   "execution_count": 7,
   "metadata": {},
   "outputs": [],
   "source": [
    "table_list = [x[0] for x in res]"
   ]
  },
  {
   "cell_type": "code",
   "execution_count": 8,
   "metadata": {},
   "outputs": [
    {
     "data": {
      "text/plain": "['act_evt_log',\n 'act_ge_bytearray',\n 'act_ge_property',\n 'act_hi_actinst',\n 'act_hi_attachment',\n 'act_hi_comment',\n 'act_hi_detail',\n 'act_hi_identitylink',\n 'act_hi_procinst',\n 'act_hi_taskinst',\n 'act_hi_varinst',\n 'act_id_group',\n 'act_id_info',\n 'act_id_membership',\n 'act_id_user',\n 'act_procdef_info',\n 'act_re_deployment',\n 'act_re_model',\n 'act_re_procdef',\n 'act_ru_deadletter_job',\n 'act_ru_event_subscr',\n 'act_ru_execution',\n 'act_ru_identitylink',\n 'act_ru_job',\n 'act_ru_suspended_job',\n 'act_ru_task',\n 'act_ru_timer_job',\n 'act_ru_variable',\n 'associateddoc',\n 'attrvalueinfo',\n 'caibianadd',\n 'clobiddetail',\n 'clobiddetailloss',\n 'comment',\n 'conversioncount',\n 'conversionfailuredoc',\n 'distribute_task_default',\n 'docattention',\n 'docclassify',\n 'docediting',\n 'docmentrevalid',\n 'edithistorylog',\n 'elementhitcount',\n 'entrypermission',\n 'entrypermissionforinfo',\n 'infotemp',\n 'kms_logs',\n 'kmsattachment',\n 'kmschannel',\n 'kmscity',\n 'kmscitystandard',\n 'kmsdatabaseensure',\n 'kmsdepartmenttree',\n 'kmsdoccommon',\n 'kmsdochitlog',\n 'kmsdochotcount',\n 'kmsdocread',\n 'kmsdocument',\n 'kmsdocument_valid',\n 'kmsfavoritetree',\n 'kmsopinioninquiry',\n 'kmssearchhotcount',\n 'kmstemplate',\n 'kmstemplate_stq',\n 'kmsversion_manager',\n 'knowledge_activity_record',\n 'knowledge_faq',\n 'knowledge_relevance_material',\n 'knowledge_relevance_material_temp',\n 'log_articleerror',\n 'log_docrelorvalid',\n 'log_synchronizedetail',\n 'material_library_attrname',\n 'material_library_info',\n 'material_library_service',\n 'material_library_tree',\n 'member',\n 'member_backup',\n 'message',\n 'notification',\n 'permissiontree',\n 'personaldocinfo',\n 'propertyhistory',\n 'propertynametotype',\n 'resourceattrname2fieldcolnum',\n 'role',\n 'role_menu',\n 'role_permission',\n 'role_resource',\n 'role_rule',\n 'sequence',\n 'service',\n 'serviceattrname2colnum',\n 'serviceorproductinfo',\n 'serviceorproductinfo_clob',\n 'serviceorproductinfo_clob2',\n 'sysnchronize_servicemenu',\n 'sysnchronize_topcityname',\n 'sysnchronizekbdata',\n 'sysnchronizeservice',\n 'sysnchronizeservice_base',\n 'systemconfig',\n 't00_operatelog',\n 'temp',\n 'template2service',\n 'tm_businesstype',\n 'tm_businesstype_stq',\n 'tm_businesstype_to_element',\n 'tm_businesstype_to_element_stq',\n 'tm_element',\n 'tm_element_stq',\n 'tm_kmschannel',\n 'tm_kmstemplate_to_businesstype',\n 'tm_static_data',\n 'tm_tree_element',\n 'tm_tree_element_stq',\n 'tm_tree_element_tmp',\n 'tmkmstemplatetobusinesstypestq',\n 'user_message',\n 'view_infotemp',\n 'worker',\n 'worker_backup',\n 'workerrolerel',\n 'workerrolerel_backup',\n 'ztreefororder']"
     },
     "execution_count": 8,
     "metadata": {},
     "output_type": "execute_result"
    }
   ],
   "source": [
    "table_list"
   ]
  },
  {
   "cell_type": "markdown",
   "metadata": {},
   "source": [
    "#### table_list"
   ]
  },
  {
   "cell_type": "markdown",
   "metadata": {},
   "source": [
    "### 表名大写"
   ]
  },
  {
   "cell_type": "code",
   "execution_count": null,
   "metadata": {},
   "outputs": [],
   "source": [
    "with conn.cursor() as cursor:\n",
    "    for i, table in enumerate(table_list):\n",
    "        try:\n",
    "            cursor.execute"
   ]
  },
  {
   "cell_type": "markdown",
   "metadata": {},
   "source": [
    "## 将所有字段名改为大写"
   ]
  },
  {
   "cell_type": "code",
   "execution_count": 19,
   "metadata": {
    "collapsed": true,
    "jupyter": {
     "outputs_hidden": true
    }
   },
   "outputs": [
    {
     "name": "stdout",
     "output_type": "stream",
     "text": [
      "0 abs2condition (1064, \"You have an error in your SQL syntax; check the manual that corresponds to your MySQL server version for the right syntax to use near 'PRIMARY PRIMARY KEY (`id`) USING BTREE' at line 1\")\n",
      "1 act_evt_log (1064, \"You have an error in your SQL syntax; check the manual that corresponds to your MySQL server version for the right syntax to use near 'PRIMARY PRIMARY KEY (`LOG_NR_`) USING BTREE' at line 1\")\n",
      "2 act_ge_bytearray (1064, \"You have an error in your SQL syntax; check the manual that corresponds to your MySQL server version for the right syntax to use near 'PRIMARY PRIMARY KEY (`ID_`) USING BTREE' at line 1\")\n",
      "3 act_ge_property (1064, \"You have an error in your SQL syntax; check the manual that corresponds to your MySQL server version for the right syntax to use near 'PRIMARY PRIMARY KEY (`NAME_`) USING BTREE' at line 1\")\n",
      "4 act_hi_actinst (1064, \"You have an error in your SQL syntax; check the manual that corresponds to your MySQL server version for the right syntax to use near 'PRIMARY PRIMARY KEY (`ID_`) USING BTREE' at line 1\")\n",
      "5 act_hi_attachment (1064, \"You have an error in your SQL syntax; check the manual that corresponds to your MySQL server version for the right syntax to use near 'PRIMARY PRIMARY KEY (`ID_`) USING BTREE' at line 1\")\n",
      "6 act_hi_comment (1064, \"You have an error in your SQL syntax; check the manual that corresponds to your MySQL server version for the right syntax to use near 'PRIMARY PRIMARY KEY (`ID_`) USING BTREE' at line 1\")\n",
      "7 act_hi_detail (1064, \"You have an error in your SQL syntax; check the manual that corresponds to your MySQL server version for the right syntax to use near 'PRIMARY PRIMARY KEY (`ID_`) USING BTREE' at line 1\")\n",
      "8 act_hi_identitylink (1064, \"You have an error in your SQL syntax; check the manual that corresponds to your MySQL server version for the right syntax to use near 'PRIMARY PRIMARY KEY (`ID_`) USING BTREE' at line 1\")\n",
      "9 act_hi_procinst (1064, \"You have an error in your SQL syntax; check the manual that corresponds to your MySQL server version for the right syntax to use near 'PRIMARY PRIMARY KEY (`ID_`) USING BTREE' at line 1\")\n",
      "10 act_hi_taskinst (1064, \"You have an error in your SQL syntax; check the manual that corresponds to your MySQL server version for the right syntax to use near 'PRIMARY PRIMARY KEY (`ID_`) USING BTREE' at line 1\")\n",
      "11 act_hi_varinst (1064, \"You have an error in your SQL syntax; check the manual that corresponds to your MySQL server version for the right syntax to use near 'PRIMARY PRIMARY KEY (`ID_`) USING BTREE' at line 1\")\n",
      "12 act_id_group (1064, \"You have an error in your SQL syntax; check the manual that corresponds to your MySQL server version for the right syntax to use near 'PRIMARY PRIMARY KEY (`ID_`) USING BTREE' at line 1\")\n",
      "13 act_id_info (1064, \"You have an error in your SQL syntax; check the manual that corresponds to your MySQL server version for the right syntax to use near 'PRIMARY PRIMARY KEY (`ID_`) USING BTREE' at line 1\")\n",
      "14 act_id_membership (1064, \"You have an error in your SQL syntax; check the manual that corresponds to your MySQL server version for the right syntax to use near 'PRIMARY PRIMARY KEY (`USER_ID_`,`GROUP_ID_`) USING BTREE' at line 1\")\n",
      "15 act_id_user (1064, \"You have an error in your SQL syntax; check the manual that corresponds to your MySQL server version for the right syntax to use near 'PRIMARY PRIMARY KEY (`ID_`) USING BTREE' at line 1\")\n",
      "16 act_procdef_info (1064, \"You have an error in your SQL syntax; check the manual that corresponds to your MySQL server version for the right syntax to use near 'PRIMARY PRIMARY KEY (`ID_`) USING BTREE' at line 1\")\n",
      "17 act_re_deployment (1064, \"You have an error in your SQL syntax; check the manual that corresponds to your MySQL server version for the right syntax to use near 'PRIMARY PRIMARY KEY (`ID_`) USING BTREE' at line 1\")\n",
      "18 act_re_model (1064, \"You have an error in your SQL syntax; check the manual that corresponds to your MySQL server version for the right syntax to use near 'PRIMARY PRIMARY KEY (`ID_`) USING BTREE' at line 1\")\n",
      "19 act_re_procdef (1064, \"You have an error in your SQL syntax; check the manual that corresponds to your MySQL server version for the right syntax to use near 'PRIMARY PRIMARY KEY (`ID_`) USING BTREE' at line 1\")\n",
      "20 act_ru_deadletter_job (1064, \"You have an error in your SQL syntax; check the manual that corresponds to your MySQL server version for the right syntax to use near 'PRIMARY PRIMARY KEY (`ID_`) USING BTREE' at line 1\")\n",
      "21 act_ru_event_subscr (1064, \"You have an error in your SQL syntax; check the manual that corresponds to your MySQL server version for the right syntax to use near 'PRIMARY PRIMARY KEY (`ID_`) USING BTREE' at line 1\")\n",
      "22 act_ru_execution (1064, \"You have an error in your SQL syntax; check the manual that corresponds to your MySQL server version for the right syntax to use near 'PRIMARY PRIMARY KEY (`ID_`) USING BTREE' at line 1\")\n",
      "23 act_ru_identitylink (1064, \"You have an error in your SQL syntax; check the manual that corresponds to your MySQL server version for the right syntax to use near 'PRIMARY PRIMARY KEY (`ID_`) USING BTREE' at line 1\")\n",
      "24 act_ru_job (1064, \"You have an error in your SQL syntax; check the manual that corresponds to your MySQL server version for the right syntax to use near 'PRIMARY PRIMARY KEY (`ID_`) USING BTREE' at line 1\")\n",
      "25 act_ru_suspended_job (1064, \"You have an error in your SQL syntax; check the manual that corresponds to your MySQL server version for the right syntax to use near 'PRIMARY PRIMARY KEY (`ID_`) USING BTREE' at line 1\")\n",
      "26 act_ru_task (1064, \"You have an error in your SQL syntax; check the manual that corresponds to your MySQL server version for the right syntax to use near 'PRIMARY PRIMARY KEY (`ID_`) USING BTREE' at line 1\")\n",
      "27 act_ru_timer_job (1064, \"You have an error in your SQL syntax; check the manual that corresponds to your MySQL server version for the right syntax to use near 'PRIMARY PRIMARY KEY (`ID_`) USING BTREE' at line 1\")\n",
      "28 act_ru_variable (1064, \"You have an error in your SQL syntax; check the manual that corresponds to your MySQL server version for the right syntax to use near 'PRIMARY PRIMARY KEY (`ID_`) USING BTREE' at line 1\")\n",
      "29 address (1064, \"You have an error in your SQL syntax; check the manual that corresponds to your MySQL server version for the right syntax to use near 'PRIMARY PRIMARY KEY (`addressid`) USING BTREE' at line 1\")\n",
      "30 attrinfo (1064, \"You have an error in your SQL syntax; check the manual that corresponds to your MySQL server version for the right syntax to use near 'PRIMARY PRIMARY KEY (`id`) USING BTREE' at line 1\")\n",
      "31 attrvalueinfo (1064, \"You have an error in your SQL syntax; check the manual that corresponds to your MySQL server version for the right syntax to use near 'PRIMARY PRIMARY KEY (`id`) USING BTREE' at line 1\")\n",
      "32 autoreplyswitchval (1064, \"You have an error in your SQL syntax; check the manual that corresponds to your MySQL server version for the right syntax to use near 'PRIMARY PRIMARY KEY (`id`) USING BTREE' at line 1\")\n",
      "33 batchtesttasks4nlpwarn (1064, \"You have an error in your SQL syntax; check the manual that corresponds to your MySQL server version for the right syntax to use near 'PRIMARY PRIMARY KEY (`id`) USING BTREE' at line 1\")\n",
      "34 bst_joke (1064, \"You have an error in your SQL syntax; check the manual that corresponds to your MySQL server version for the right syntax to use near 'PRIMARY PRIMARY KEY (`id`) USING BTREE' at line 1\")\n",
      "35 channel (1064, \"You have an error in your SQL syntax; check the manual that corresponds to your MySQL server version for the right syntax to use near 'PRIMARY PRIMARY KEY (`contentid`) USING BTREE' at line 1\")\n",
      "36 city (1064, \"You have an error in your SQL syntax; check the manual that corresponds to your MySQL server version for the right syntax to use near 'PRIMARY PRIMARY KEY (`id`) USING BTREE' at line 1\")\n",
      "37 code_library (1064, \"You have an error in your SQL syntax; check the manual that corresponds to your MySQL server version for the right syntax to use near 'PRIMARY PRIMARY KEY (`clid`) USING BTREE' at line 1\")\n",
      "38 code_library_info (1064, \"You have an error in your SQL syntax; check the manual that corresponds to your MySQL server version for the right syntax to use near 'PRIMARY PRIMARY KEY (`cliid`) USING BTREE' at line 1\")\n",
      "39 columnstatisticinfo (1064, \"You have an error in your SQL syntax; check the manual that corresponds to your MySQL server version for the right syntax to use near 'PRIMARY PRIMARY KEY (`ID`) USING BTREE' at line 1\")\n",
      "40 companyinfo (1064, \"You have an error in your SQL syntax; check the manual that corresponds to your MySQL server version for the right syntax to use near 'PRIMARY PRIMARY KEY (`id`) USING BTREE' at line 1\")\n",
      "41 conditionanswers (1064, \"You have an error in your SQL syntax; check the manual that corresponds to your MySQL server version for the right syntax to use near 'PRIMARY PRIMARY KEY (`id`) USING BTREE' at line 1\")\n",
      "42 conditioncombtoreturntxt (1064, \"You have an error in your SQL syntax; check the manual that corresponds to your MySQL server version for the right syntax to use near 'PRIMARY PRIMARY KEY (`combitionid`) USING BTREE' at line 1\")\n",
      "43 csruserrecord (1064, \"You have an error in your SQL syntax; check the manual that corresponds to your MySQL server version for the right syntax to use near 'PRIMARY PRIMARY KEY (`id`) USING BTREE' at line 1\")\n",
      "44 customer (1064, \"You have an error in your SQL syntax; check the manual that corresponds to your MySQL server version for the right syntax to use near 'PRIMARY PRIMARY KEY (`cid`) USING BTREE' at line 1\")\n",
      "45 customerinfo4bst (1064, \"You have an error in your SQL syntax; check the manual that corresponds to your MySQL server version for the right syntax to use near 'PRIMARY PRIMARY KEY (`id`) USING BTREE' at line 1\")\n",
      "46 customertype (1064, \"You have an error in your SQL syntax; check the manual that corresponds to your MySQL server version for the right syntax to use near 'PRIMARY PRIMARY KEY (`id`) USING BTREE' at line 1\")\n",
      "47 datainc (1064, \"You have an error in your SQL syntax; check the manual that corresponds to your MySQL server version for the right syntax to use near 'PRIMARY PRIMARY KEY (`id`) USING BTREE' at line 1\")\n",
      "48 datasyn (1064, \"You have an error in your SQL syntax; check the manual that corresponds to your MySQL server version for the right syntax to use near 'PRIMARY PRIMARY KEY (`id`) USING BTREE' at line 1\")\n",
      "49 datasyn_copy (1064, \"You have an error in your SQL syntax; check the manual that corresponds to your MySQL server version for the right syntax to use near 'PRIMARY PRIMARY KEY (`id`) USING BTREE' at line 1\")\n",
      "50 datetime (1064, \"You have an error in your SQL syntax; check the manual that corresponds to your MySQL server version for the right syntax to use near 'PRIMARY PRIMARY KEY (`id`) USING BTREE' at line 1\")\n",
      "51 departmentinfo4bst (1064, \"You have an error in your SQL syntax; check the manual that corresponds to your MySQL server version for the right syntax to use near 'PRIMARY PRIMARY KEY (`id`) USING BTREE' at line 1\")\n",
      "52 distribute_task_default (1064, \"You have an error in your SQL syntax; check the manual that corresponds to your MySQL server version for the right syntax to use near 'PRIMARY PRIMARY KEY (`id`) USING BTREE' at line 1\")\n",
      "53 elementhitcount (1064, \"You have an error in your SQL syntax; check the manual that corresponds to your MySQL server version for the right syntax to use near 'PRIMARY PRIMARY KEY (`id`) USING BTREE' at line 1\")\n",
      "54 exesqlfile (1064, \"You have an error in your SQL syntax; check the manual that corresponds to your MySQL server version for the right syntax to use near 'PRIMARY PRIMARY KEY (`ID`) USING BTREE' at line 1\")\n",
      "55 fastreply (1064, \"You have an error in your SQL syntax; check the manual that corresponds to your MySQL server version for the right syntax to use near 'PRIMARY PRIMARY KEY (`fid`) USING BTREE' at line 1\")\n",
      "56 fbl_inputchooseidinfo (1064, \"You have an error in your SQL syntax; check the manual that corresponds to your MySQL server version for the right syntax to use near 'PRIMARY PRIMARY KEY (`inputchooseidinfoid`) USING BTREE' at line 1\")\n",
      "57 fbl_matchrelation (1064, \"You have an error in your SQL syntax; check the manual that corresponds to your MySQL server version for the right syntax to use near 'PRIMARY PRIMARY KEY (`matchrelationid`) USING BTREE' at line 1\")\n",
      "58 fblresult (1064, \"You have an error in your SQL syntax; check the manual that corresponds to your MySQL server version for the right syntax to use near 'PRIMARY PRIMARY KEY (`id`) USING BTREE' at line 1\")\n",
      "59 feedbacklearn (1064, \"You have an error in your SQL syntax; check the manual that corresponds to your MySQL server version for the right syntax to use near 'PRIMARY PRIMARY KEY (`id`) USING BTREE' at line 1\")\n",
      "60 feedbacklearnres (1064, \"You have an error in your SQL syntax; check the manual that corresponds to your MySQL server version for the right syntax to use near 'PRIMARY PRIMARY KEY (`id`) USING BTREE' at line 1\")\n",
      "61 filterrule (1064, \"You have an error in your SQL syntax; check the manual that corresponds to your MySQL server version for the right syntax to use near 'PRIMARY PRIMARY KEY (`id`) USING BTREE' at line 1\")\n",
      "62 flowchart (1064, \"You have an error in your SQL syntax; check the manual that corresponds to your MySQL server version for the right syntax to use near 'PRIMARY PRIMARY KEY (`fid`) USING BTREE' at line 1\")\n",
      "63 ghj_sequence (1064, \"You have an error in your SQL syntax; check the manual that corresponds to your MySQL server version for the right syntax to use near 'PRIMARY PRIMARY KEY (`name`) USING BTREE' at line 1\")\n",
      "64 globlevalue (1064, \"You have an error in your SQL syntax; check the manual that corresponds to your MySQL server version for the right syntax to use near 'PRIMARY PRIMARY KEY (`id`) USING BTREE' at line 1\")\n",
      "65 hothitratestatistic (1064, \"You have an error in your SQL syntax; check the manual that corresponds to your MySQL server version for the right syntax to use near 'PRIMARY PRIMARY KEY (`id`) USING BTREE' at line 1\")\n",
      "66 hotquestion (1064, \"You have an error in your SQL syntax; check the manual that corresponds to your MySQL server version for the right syntax to use near 'PRIMARY PRIMARY KEY (`hotquestionid`) USING BTREE' at line 1\")\n",
      "67 impwordclassrecord (1064, \"You have an error in your SQL syntax; check the manual that corresponds to your MySQL server version for the right syntax to use near 'PRIMARY PRIMARY KEY (`wordclassrecordid`) USING BTREE' at line 1\")\n",
      "68 iptvmetarecord (1064, \"You have an error in your SQL syntax; check the manual that corresponds to your MySQL server version for the right syntax to use near 'PRIMARY PRIMARY KEY (`id`) USING BTREE' at line 1\")\n",
      "69 iptvmscinc (1064, \"You have an error in your SQL syntax; check the manual that corresponds to your MySQL server version for the right syntax to use near 'PRIMARY PRIMARY KEY (`id`) USING BTREE' at line 1\")\n",
      "70 judgerule (1064, \"You have an error in your SQL syntax; check the manual that corresponds to your MySQL server version for the right syntax to use near 'PRIMARY PRIMARY KEY (`id`) USING BTREE' at line 1\")\n",
      "71 kbanspak (1064, \"You have an error in your SQL syntax; check the manual that corresponds to your MySQL server version for the right syntax to use near 'PRIMARY PRIMARY KEY (`kbanspakid`) USING BTREE' at line 1\")\n",
      "72 kbansqryins (1064, \"You have an error in your SQL syntax; check the manual that corresponds to your MySQL server version for the right syntax to use near 'PRIMARY PRIMARY KEY (`kbansqryinsid`) USING BTREE' at line 1\")\n",
      "73 kbansvaliddate (1064, \"You have an error in your SQL syntax; check the manual that corresponds to your MySQL server version for the right syntax to use near 'PRIMARY PRIMARY KEY (`kbansvaliddateid`) USING BTREE' at line 1\")\n",
      "74 kbanswer (1064, \"You have an error in your SQL syntax; check the manual that corresponds to your MySQL server version for the right syntax to use near 'PRIMARY PRIMARY KEY (`kbanswerid`) USING BTREE' at line 1\")\n",
      "75 kbcontent (1064, \"You have an error in your SQL syntax; check the manual that corresponds to your MySQL server version for the right syntax to use near 'PRIMARY PRIMARY KEY (`kbcontentid`) USING BTREE' at line 1\")\n",
      "76 kbdata (1064, \"You have an error in your SQL syntax; check the manual that corresponds to your MySQL server version for the right syntax to use near 'PRIMARY PRIMARY KEY (`kbdataid`) USING BTREE' at line 1\")\n",
      "77 kbdatacode (1064, \"You have an error in your SQL syntax; check the manual that corresponds to your MySQL server version for the right syntax to use near 'PRIMARY PRIMARY KEY (`id`) USING BTREE' at line 1\")\n",
      "78 kbdatainc (1064, \"You have an error in your SQL syntax; check the manual that corresponds to your MySQL server version for the right syntax to use near 'PRIMARY PRIMARY KEY (`id`) USING BTREE' at line 1\")\n",
      "79 km_buffer (1064, \"You have an error in your SQL syntax; check the manual that corresponds to your MySQL server version for the right syntax to use near 'PRIMARY PRIMARY KEY (`id`) USING BTREE' at line 1\")\n",
      "80 km_dataitemstatistic (1064, \"You have an error in your SQL syntax; check the manual that corresponds to your MySQL server version for the right syntax to use near 'PRIMARY PRIMARY KEY (`dataitemstatisticid`) USING BTREE' at line 1\")\n",
      "81 km_dataitemstatisticres (1064, \"You have an error in your SQL syntax; check the manual that corresponds to your MySQL server version for the right syntax to use near 'PRIMARY PRIMARY KEY (`dataitemstatisticresid`) USING BTREE' at line 1\")\n",
      "82 km_dataitemvalstatistic (1064, \"You have an error in your SQL syntax; check the manual that corresponds to your MySQL server version for the right syntax to use near 'PRIMARY PRIMARY KEY (`dataitemvalstatisticid`) USING BTREE' at line 1\")\n",
      "83 km_dataitemvalstatisticdata (1064, \"You have an error in your SQL syntax; check the manual that corresponds to your MySQL server version for the right syntax to use near 'PRIMARY PRIMARY KEY (`id`) USING BTREE' at line 1\")\n",
      "84 km_dataitemvalstatisticres (1064, \"You have an error in your SQL syntax; check the manual that corresponds to your MySQL server version for the right syntax to use near 'PRIMARY PRIMARY KEY (`dataitemvalstatisticresid`) USING BTREE' at line 1\")\n",
      "85 km_doc_knowledge (1064, \"You have an error in your SQL syntax; check the manual that corresponds to your MySQL server version for the right syntax to use near 'PRIMARY PRIMARY KEY (`id`) USING BTREE' at line 1\")\n",
      "86 km_doc_template (1064, \"You have an error in your SQL syntax; check the manual that corresponds to your MySQL server version for the right syntax to use near 'PRIMARY PRIMARY KEY (`id`) USING BTREE' at line 1\")\n",
      "87 km_indorgapp (1064, \"You have an error in your SQL syntax; check the manual that corresponds to your MySQL server version for the right syntax to use near 'PRIMARY PRIMARY KEY (`indorgappid`) USING BTREE' at line 1\")\n",
      "88 km_plantask (1064, \"You have an error in your SQL syntax; check the manual that corresponds to your MySQL server version for the right syntax to use near 'PRIMARY PRIMARY KEY (`id`) USING BTREE' at line 1\")\n",
      "89 km_record (1064, \"You have an error in your SQL syntax; check the manual that corresponds to your MySQL server version for the right syntax to use near 'PRIMARY PRIMARY KEY (`id`) USING BTREE' at line 1\")\n",
      "90 km_regresstest (1064, \"You have an error in your SQL syntax; check the manual that corresponds to your MySQL server version for the right syntax to use near 'PRIMARY PRIMARY KEY (`regressqueryid`) USING BTREE' at line 1\")\n",
      "91 km_schdulejob (1064, \"You have an error in your SQL syntax; check the manual that corresponds to your MySQL server version for the right syntax to use near 'PRIMARY PRIMARY KEY (`id`) USING BTREE' at line 1\")\n",
      "92 km_taskdata (1064, \"You have an error in your SQL syntax; check the manual that corresponds to your MySQL server version for the right syntax to use near 'PRIMARY PRIMARY KEY (`id`) USING BTREE' at line 1\")\n",
      "93 km_taskfollow (1064, \"You have an error in your SQL syntax; check the manual that corresponds to your MySQL server version for the right syntax to use near 'PRIMARY PRIMARY KEY (`id`) USING BTREE' at line 1\")\n",
      "94 km_taskoutputmatch (1064, \"You have an error in your SQL syntax; check the manual that corresponds to your MySQL server version for the right syntax to use near 'PRIMARY PRIMARY KEY (`id`) USING BTREE' at line 1\")\n",
      "95 km_taskresult (1064, \"You have an error in your SQL syntax; check the manual that corresponds to your MySQL server version for the right syntax to use near 'PRIMARY PRIMARY KEY (`id`) USING BTREE' at line 1\")\n",
      "96 km_timdata (1064, \"You have an error in your SQL syntax; check the manual that corresponds to your MySQL server version for the right syntax to use near 'PRIMARY PRIMARY KEY (`id`) USING BTREE' at line 1\")\n",
      "97 km_timdatares (1064, \"You have an error in your SQL syntax; check the manual that corresponds to your MySQL server version for the right syntax to use near 'PRIMARY PRIMARY KEY (`id`) USING BTREE' at line 1\")\n",
      "98 kms_doc_updrec (1064, \"You have an error in your SQL syntax; check the manual that corresponds to your MySQL server version for the right syntax to use near 'PRIMARY PRIMARY KEY (`id`) USING BTREE' at line 1\")\n",
      "99 kmsdocread (1064, \"You have an error in your SQL syntax; check the manual that corresponds to your MySQL server version for the right syntax to use near 'PRIMARY PRIMARY KEY (`Id`) USING BTREE' at line 1\")\n",
      "100 knowledge_activity_record (1064, \"You have an error in your SQL syntax; check the manual that corresponds to your MySQL server version for the right syntax to use near 'PRIMARY PRIMARY KEY (`id`) USING BTREE' at line 1\")\n",
      "101 m_industry_text (1064, \"You have an error in your SQL syntax; check the manual that corresponds to your MySQL server version for the right syntax to use near 'PRIMARY PRIMARY KEY (`id`) USING BTREE' at line 1\")\n",
      "102 m_industryapplication2services (1064, \"You have an error in your SQL syntax; check the manual that corresponds to your MySQL server version for the right syntax to use near 'PRIMARY PRIMARY KEY (`id`) USING BTREE' at line 1\")\n",
      "103 m_morpheme (1064, \"You have an error in your SQL syntax; check the manual that corresponds to your MySQL server version for the right syntax to use near 'PRIMARY PRIMARY KEY (`id`) USING BTREE' at line 1\")\n",
      "104 mailfolder (1064, \"You have an error in your SQL syntax; check the manual that corresponds to your MySQL server version for the right syntax to use near 'PRIMARY PRIMARY KEY (`mailid`) USING BTREE' at line 1\")\n",
      "105 matchrelation (1064, \"You have an error in your SQL syntax; check the manual that corresponds to your MySQL server version for the right syntax to use near 'PRIMARY PRIMARY KEY (`id`) USING BTREE' at line 1\")\n",
      "106 member (1064, \"You have an error in your SQL syntax; check the manual that corresponds to your MySQL server version for the right syntax to use near 'PRIMARY PRIMARY KEY (`id`) USING BTREE' at line 1\")\n",
      "107 message 成功\n",
      "108 metafield (1064, \"You have an error in your SQL syntax; check the manual that corresponds to your MySQL server version for the right syntax to use near 'PRIMARY PRIMARY KEY (`metafieldid`) USING BTREE' at line 1\")\n",
      "109 metafield_copy (1064, \"You have an error in your SQL syntax; check the manual that corresponds to your MySQL server version for the right syntax to use near 'PRIMARY PRIMARY KEY (`metafieldid`) USING BTREE' at line 1\")\n",
      "110 metafieldmapping (1064, \"You have an error in your SQL syntax; check the manual that corresponds to your MySQL server version for the right syntax to use near 'PRIMARY PRIMARY KEY (`metafieldmappingid`) USING BTREE' at line 1\")\n",
      "111 metafieldmapping_copy (1064, \"You have an error in your SQL syntax; check the manual that corresponds to your MySQL server version for the right syntax to use near 'PRIMARY PRIMARY KEY (`metafieldmappingid`) USING BTREE' at line 1\")\n",
      "112 newsqt (1064, \"You have an error in your SQL syntax; check the manual that corresponds to your MySQL server version for the right syntax to use near 'PRIMARY PRIMARY KEY (`id`) USING BTREE' at line 1\")\n",
      "113 nlphistory (1064, \"You have an error in your SQL syntax; check the manual that corresponds to your MySQL server version for the right syntax to use near 'PRIMARY PRIMARY KEY (`queryid`) USING BTREE' at line 1\")\n",
      "114 nlpresult (1064, \"You have an error in your SQL syntax; check the manual that corresponds to your MySQL server version for the right syntax to use near 'PRIMARY PRIMARY KEY (`nlpresultid`) USING BTREE' at line 1\")\n",
      "115 nlpresultanswer (1064, \"You have an error in your SQL syntax; check the manual that corresponds to your MySQL server version for the right syntax to use near 'PRIMARY PRIMARY KEY (`nlpresultid`) USING BTREE' at line 1\")\n",
      "116 nlpserver (1064, \"You have an error in your SQL syntax; check the manual that corresponds to your MySQL server version for the right syntax to use near 'PRIMARY PRIMARY KEY (`nip`) USING BTREE' at line 1\")\n",
      "117 online_chatmsgrecord (1064, \"You have an error in your SQL syntax; check the manual that corresponds to your MySQL server version for the right syntax to use near 'PRIMARY PRIMARY KEY (`id`) USING BTREE' at line 1\")\n",
      "118 online_csr2skillgroup (1064, \"You have an error in your SQL syntax; check the manual that corresponds to your MySQL server version for the right syntax to use near 'PRIMARY PRIMARY KEY (`id`) USING BTREE' at line 1\")\n",
      "119 online_csrruninfo_sd (1064, \"You have an error in your SQL syntax; check the manual that corresponds to your MySQL server version for the right syntax to use near 'PRIMARY PRIMARY KEY (`ocsid`) USING BTREE' at line 1\")\n",
      "120 online_skillgroup (1064, \"You have an error in your SQL syntax; check the manual that corresponds to your MySQL server version for the right syntax to use near 'PRIMARY PRIMARY KEY (`id`) USING BTREE' at line 1\")\n",
      "121 online_skillgroupdetail (1064, \"You have an error in your SQL syntax; check the manual that corresponds to your MySQL server version for the right syntax to use near 'PRIMARY PRIMARY KEY (`id`) USING BTREE' at line 1\")\n",
      "122 onversation_stats (1064, \"You have an error in your SQL syntax; check the manual that corresponds to your MySQL server version for the right syntax to use near 'PRIMARY PRIMARY KEY (`id`) USING BTREE' at line 1\")\n",
      "123 operationlog (1064, \"You have an error in your SQL syntax; check the manual that corresponds to your MySQL server version for the right syntax to use near 'PRIMARY PRIMARY KEY (`id`) USING BTREE' at line 1\")\n",
      "124 parameter (1064, \"You have an error in your SQL syntax; check the manual that corresponds to your MySQL server version for the right syntax to use near 'PRIMARY PRIMARY KEY (`account`) USING BTREE' at line 1\")\n",
      "125 patternkey (1064, \"You have an error in your SQL syntax; check the manual that corresponds to your MySQL server version for the right syntax to use near 'PRIMARY PRIMARY KEY (`keyid`) USING BTREE' at line 1\")\n",
      "126 phoneheadercitybrand (1064, \"You have an error in your SQL syntax; check the manual that corresponds to your MySQL server version for the right syntax to use near 'PRIMARY PRIMARY KEY (`phoneheader`) USING BTREE' at line 1\")\n",
      "127 predicate (1064, \"You have an error in your SQL syntax; check the manual that corresponds to your MySQL server version for the right syntax to use near 'PRIMARY PRIMARY KEY (`id`) USING BTREE' at line 1\")\n",
      "128 preposition (1064, \"You have an error in your SQL syntax; check the manual that corresponds to your MySQL server version for the right syntax to use near 'PRIMARY PRIMARY KEY (`prepositionid`) USING BTREE' at line 1\")\n",
      "129 prepositionexample (1064, \"You have an error in your SQL syntax; check the manual that corresponds to your MySQL server version for the right syntax to use near 'PRIMARY PRIMARY KEY (`prepositionexampleid`) USING BTREE' at line 1\")\n",
      "130 productservicerecommend (1064, \"You have an error in your SQL syntax; check the manual that corresponds to your MySQL server version for the right syntax to use near 'PRIMARY PRIMARY KEY (`id`) USING BTREE' at line 1\")\n",
      "131 program (1064, \"You have an error in your SQL syntax; check the manual that corresponds to your MySQL server version for the right syntax to use near 'PRIMARY PRIMARY KEY (`id`) USING BTREE' at line 1\")\n",
      "132 purchaselist (1064, \"You have an error in your SQL syntax; check the manual that corresponds to your MySQL server version for the right syntax to use near 'PRIMARY PRIMARY KEY (`id`) USING BTREE' at line 1\")\n",
      "133 querydata (1064, \"You have an error in your SQL syntax; check the manual that corresponds to your MySQL server version for the right syntax to use near 'PRIMARY PRIMARY KEY (`queryid`) USING BTREE' at line 1\")\n",
      "134 queryelement (1064, \"You have an error in your SQL syntax; check the manual that corresponds to your MySQL server version for the right syntax to use near 'PRIMARY PRIMARY KEY (`queryelementid`) USING BTREE' at line 1\")\n",
      "135 queryelementvalue (1064, \"You have an error in your SQL syntax; check the manual that corresponds to your MySQL server version for the right syntax to use near 'PRIMARY PRIMARY KEY (`queryelementvalueid`) USING BTREE' at line 1\")\n",
      "136 queryhistory (1064, \"You have an error in your SQL syntax; check the manual that corresponds to your MySQL server version for the right syntax to use near 'PRIMARY PRIMARY KEY (`id`) USING BTREE' at line 1\")\n",
      "137 queryhistorylog (1064, \"You have an error in your SQL syntax; check the manual that corresponds to your MySQL server version for the right syntax to use near 'PRIMARY PRIMARY KEY (`id`) USING BTREE' at line 1\")\n",
      "138 queryhistorylogsplit (1064, \"You have an error in your SQL syntax; check the manual that corresponds to your MySQL server version for the right syntax to use near 'PRIMARY PRIMARY KEY (`id`) USING BTREE' at line 1\")\n",
      "139 querymanage (1064, \"You have an error in your SQL syntax; check the manual that corresponds to your MySQL server version for the right syntax to use near 'PRIMARY PRIMARY KEY (`id`) USING BTREE' at line 1\")\n",
      "140 queryprocesshistory (1064, \"You have an error in your SQL syntax; check the manual that corresponds to your MySQL server version for the right syntax to use near 'PRIMARY PRIMARY KEY (`id`) USING BTREE' at line 1\")\n",
      "141 querysessionlog (1067, \"Invalid default value for 'COLUMN8'\")\n",
      "142 record_msg_info (1064, \"You have an error in your SQL syntax; check the manual that corresponds to your MySQL server version for the right syntax to use near 'PRIMARY PRIMARY KEY (`msg_id`) USING BTREE' at line 1\")\n",
      "143 record_msg_info_copy (1064, \"You have an error in your SQL syntax; check the manual that corresponds to your MySQL server version for the right syntax to use near 'PRIMARY PRIMARY KEY (`msg_id`) USING BTREE' at line 1\")\n",
      "144 record_session_info (1064, \"You have an error in your SQL syntax; check the manual that corresponds to your MySQL server version for the right syntax to use near 'PRIMARY PRIMARY KEY (`session_id`) USING BTREE' at line 1\")\n",
      "145 record_transartific_info (1064, \"You have an error in your SQL syntax; check the manual that corresponds to your MySQL server version for the right syntax to use near 'PRIMARY PRIMARY KEY (`transartific_id`) USING BTREE' at line 1\")\n",
      "146 regressquery (1064, \"You have an error in your SQL syntax; check the manual that corresponds to your MySQL server version for the right syntax to use near 'PRIMARY PRIMARY KEY (`id`) USING BTREE' at line 1\")\n",
      "147 regressqueryresult (1064, \"You have an error in your SQL syntax; check the manual that corresponds to your MySQL server version for the right syntax to use near 'PRIMARY PRIMARY KEY (`id`) USING BTREE' at line 1\")\n",
      "148 relatequery (1064, \"You have an error in your SQL syntax; check the manual that corresponds to your MySQL server version for the right syntax to use near 'PRIMARY PRIMARY KEY (`ID`) USING BTREE' at line 1\")\n",
      "149 relationmapping (1064, \"You have an error in your SQL syntax; check the manual that corresponds to your MySQL server version for the right syntax to use near 'PRIMARY PRIMARY KEY (`id`) USING BTREE' at line 1\")\n",
      "150 reportcfg (1064, \"You have an error in your SQL syntax; check the manual that corresponds to your MySQL server version for the right syntax to use near 'PRIMARY PRIMARY KEY (`ID`) USING BTREE' at line 1\")\n",
      "151 resourceacessmanager (1064, \"You have an error in your SQL syntax; check the manual that corresponds to your MySQL server version for the right syntax to use near 'PRIMARY PRIMARY KEY (`id`) USING BTREE' at line 1\")\n",
      "152 resourceacessmanagerinfo (1064, \"You have an error in your SQL syntax; check the manual that corresponds to your MySQL server version for the right syntax to use near 'PRIMARY PRIMARY KEY (`id`) USING BTREE' at line 1\")\n",
      "153 resourceattrname2fieldcolnum (1064, \"You have an error in your SQL syntax; check the manual that corresponds to your MySQL server version for the right syntax to use near 'PRIMARY PRIMARY KEY (`id`) USING BTREE' at line 1\")\n",
      "154 role (1064, \"You have an error in your SQL syntax; check the manual that corresponds to your MySQL server version for the right syntax to use near 'PRIMARY PRIMARY KEY (`roleid`) USING BTREE' at line 1\")\n",
      "155 role_menu (1064, \"You have an error in your SQL syntax; check the manual that corresponds to your MySQL server version for the right syntax to use near 'PRIMARY PRIMARY KEY (`id`) USING BTREE' at line 1\")\n",
      "156 role_resource (1064, \"You have an error in your SQL syntax; check the manual that corresponds to your MySQL server version for the right syntax to use near 'PRIMARY PRIMARY KEY (`id`) USING BTREE' at line 1\")\n",
      "157 role_rule (1064, \"You have an error in your SQL syntax; check the manual that corresponds to your MySQL server version for the right syntax to use near 'PRIMARY PRIMARY KEY (`id`) USING BTREE' at line 1\")\n",
      "158 roleservicerel (1064, \"You have an error in your SQL syntax; check the manual that corresponds to your MySQL server version for the right syntax to use near 'PRIMARY PRIMARY KEY (`id`) USING BTREE' at line 1\")\n",
      "159 scenarios2kbdata (1064, \"You have an error in your SQL syntax; check the manual that corresponds to your MySQL server version for the right syntax to use near 'PRIMARY PRIMARY KEY (`SCENARIOS2KBDATAID`) USING BTREE' at line 1\")\n",
      "160 scenarioselement (1064, \"You have an error in your SQL syntax; check the manual that corresponds to your MySQL server version for the right syntax to use near 'PRIMARY PRIMARY KEY (`SCENARIOSELEMENTID`) USING BTREE' at line 1\")\n",
      "161 scenariosrules (1064, \"You have an error in your SQL syntax; check the manual that corresponds to your MySQL server version for the right syntax to use near 'PRIMARY PRIMARY KEY (`RULEID`) USING BTREE' at line 1\")\n",
      "162 scenariosrules_online (1064, \"You have an error in your SQL syntax; check the manual that corresponds to your MySQL server version for the right syntax to use near 'PRIMARY PRIMARY KEY (`RULEID`) USING BTREE' at line 1\")\n",
      "163 sceneanswermissingpath (1064, \"You have an error in your SQL syntax; check the manual that corresponds to your MySQL server version for the right syntax to use near 'PRIMARY PRIMARY KEY (`PATHID`) USING BTREE' at line 1\")\n",
      "164 scenerules (1064, \"You have an error in your SQL syntax; check the manual that corresponds to your MySQL server version for the right syntax to use near 'PRIMARY PRIMARY KEY (`id`) USING BTREE' at line 1\")\n",
      "165 sdcount (1064, \"You have an error in your SQL syntax; check the manual that corresponds to your MySQL server version for the right syntax to use near 'PRIMARY PRIMARY KEY (`id`) USING BTREE' at line 1\")\n",
      "166 self_learning_statement (1064, \"You have an error in your SQL syntax; check the manual that corresponds to your MySQL server version for the right syntax to use near 'PRIMARY PRIMARY KEY (`id`) USING BTREE' at line 1\")\n",
      "167 sequence (1064, \"You have an error in your SQL syntax; check the manual that corresponds to your MySQL server version for the right syntax to use near 'PRIMARY PRIMARY KEY (`name`) USING BTREE' at line 1\")\n",
      "168 service (1064, \"You have an error in your SQL syntax; check the manual that corresponds to your MySQL server version for the right syntax to use near 'PRIMARY PRIMARY KEY (`serviceid`) USING BTREE' at line 1\")\n",
      "169 serviceattrname2colnum (1064, \"You have an error in your SQL syntax; check the manual that corresponds to your MySQL server version for the right syntax to use near 'PRIMARY PRIMARY KEY (`serviceattrname2colnumid`) USING BTREE' at line 1\")\n",
      "170 serviceattrstdvalue (1064, \"You have an error in your SQL syntax; check the manual that corresponds to your MySQL server version for the right syntax to use near 'PRIMARY PRIMARY KEY (`serviceattrstdvalueid`) USING BTREE' at line 1\")\n",
      "171 servicecode (1064, \"You have an error in your SQL syntax; check the manual that corresponds to your MySQL server version for the right syntax to use near 'PRIMARY PRIMARY KEY (`id`) USING BTREE' at line 1\")\n",
      "172 serviceinc (1064, \"You have an error in your SQL syntax; check the manual that corresponds to your MySQL server version for the right syntax to use near 'PRIMARY PRIMARY KEY (`id`) USING BTREE' at line 1\")\n",
      "173 serviceorproductinfo (1064, \"You have an error in your SQL syntax; check the manual that corresponds to your MySQL server version for the right syntax to use near 'PRIMARY PRIMARY KEY (`serviceorproductinfoid`) USING BTREE' at line 1\")\n",
      "174 serviceorproductinfo_clob (1064, \"You have an error in your SQL syntax; check the manual that corresponds to your MySQL server version for the right syntax to use near 'PRIMARY PRIMARY KEY (`id`) USING BTREE' at line 1\")\n",
      "175 servicesyn (1064, \"You have an error in your SQL syntax; check the manual that corresponds to your MySQL server version for the right syntax to use near 'PRIMARY PRIMARY KEY (`id`) USING BTREE' at line 1\")\n",
      "176 similarquestion (1064, \"You have an error in your SQL syntax; check the manual that corresponds to your MySQL server version for the right syntax to use near 'PRIMARY PRIMARY KEY (`questionid`) USING BTREE' at line 1\")\n",
      "177 similarquestioninc (1064, \"You have an error in your SQL syntax; check the manual that corresponds to your MySQL server version for the right syntax to use near 'PRIMARY PRIMARY KEY (`id`) USING BTREE' at line 1\")\n",
      "178 soapopera (1064, \"You have an error in your SQL syntax; check the manual that corresponds to your MySQL server version for the right syntax to use near 'PRIMARY PRIMARY KEY (`soapoperaid`) USING BTREE' at line 1\")\n",
      "179 soapoperaserial (1064, \"You have an error in your SQL syntax; check the manual that corresponds to your MySQL server version for the right syntax to use near 'PRIMARY PRIMARY KEY (`soapoperaserialid`) USING BTREE' at line 1\")\n",
      "180 sqllog (1064, \"You have an error in your SQL syntax; check the manual that corresponds to your MySQL server version for the right syntax to use near 'PRIMARY PRIMARY KEY (`id`) USING BTREE' at line 1\")\n",
      "181 sqt (1064, \"You have an error in your SQL syntax; check the manual that corresponds to your MySQL server version for the right syntax to use near 'PRIMARY PRIMARY KEY (`queryid`) USING BTREE' at line 1\")\n",
      "182 sys_temp_fbt (1064, \"You have an error in your SQL syntax; check the manual that corresponds to your MySQL server version for the right syntax to use near 'PRIMARY PRIMARY KEY (`id`) USING BTREE' at line 1\")\n",
      "183 t00_operatelog (1064, \"You have an error in your SQL syntax; check the manual that corresponds to your MySQL server version for the right syntax to use near 'PRIMARY PRIMARY KEY (`id`) USING BTREE' at line 1\")\n",
      "184 t_brand (1064, \"You have an error in your SQL syntax; check the manual that corresponds to your MySQL server version for the right syntax to use near 'PRIMARY PRIMARY KEY (`id`) USING BTREE' at line 1\")\n",
      "185 t_channel (1064, \"You have an error in your SQL syntax; check the manual that corresponds to your MySQL server version for the right syntax to use near 'PRIMARY PRIMARY KEY (`id`) USING BTREE' at line 1\")\n",
      "186 t_customertype (1064, \"You have an error in your SQL syntax; check the manual that corresponds to your MySQL server version for the right syntax to use near 'PRIMARY PRIMARY KEY (`id`) USING BTREE' at line 1\")\n",
      "187 t_errorinfos (1064, \"You have an error in your SQL syntax; check the manual that corresponds to your MySQL server version for the right syntax to use near 'PRIMARY PRIMARY KEY (`id`) USING BTREE' at line 1\")\n",
      "188 t_faqfileformat (1064, \"You have an error in your SQL syntax; check the manual that corresponds to your MySQL server version for the right syntax to use near 'PRIMARY PRIMARY KEY (`id`) USING BTREE' at line 1\")\n",
      "189 t_industry (1064, \"You have an error in your SQL syntax; check the manual that corresponds to your MySQL server version for the right syntax to use near 'PRIMARY PRIMARY KEY (`id`) USING BTREE' at line 1\")\n",
      "190 t_instructionsource (1064, \"You have an error in your SQL syntax; check the manual that corresponds to your MySQL server version for the right syntax to use near 'PRIMARY PRIMARY KEY (`inssource`) USING BTREE' at line 1\")\n",
      "191 t_menu (1064, \"You have an error in your SQL syntax; check the manual that corresponds to your MySQL server version for the right syntax to use near 'PRIMARY PRIMARY KEY (`menuid`) USING BTREE' at line 1\")\n",
      "192 t_menuhx (1064, \"You have an error in your SQL syntax; check the manual that corresponds to your MySQL server version for the right syntax to use near 'PRIMARY PRIMARY KEY (`menuid`) USING BTREE' at line 1\")\n",
      "193 t_operationlog (1064, \"You have an error in your SQL syntax; check the manual that corresponds to your MySQL server version for the right syntax to use near 'PRIMARY PRIMARY KEY (`id`) USING BTREE' at line 1\")\n",
      "194 t_organization (1064, \"You have an error in your SQL syntax; check the manual that corresponds to your MySQL server version for the right syntax to use near 'PRIMARY PRIMARY KEY (`id`) USING BTREE' at line 1\")\n",
      "195 t_permission (1064, \"You have an error in your SQL syntax; check the manual that corresponds to your MySQL server version for the right syntax to use near 'PRIMARY PRIMARY KEY (`id`) USING BTREE' at line 1\")\n",
      "196 t_prosetquestion (1064, \"You have an error in your SQL syntax; check the manual that corresponds to your MySQL server version for the right syntax to use near 'PRIMARY PRIMARY KEY (`tpid`) USING BTREE' at line 1\")\n",
      "197 t_role (1064, \"You have an error in your SQL syntax; check the manual that corresponds to your MySQL server version for the right syntax to use near 'PRIMARY PRIMARY KEY (`roleid`) USING BTREE' at line 1\")\n",
      "198 t_staff (1064, \"You have an error in your SQL syntax; check the manual that corresponds to your MySQL server version for the right syntax to use near 'PRIMARY PRIMARY KEY (`id`) USING BTREE' at line 1\")\n",
      "199 t_updrec (1064, \"You have an error in your SQL syntax; check the manual that corresponds to your MySQL server version for the right syntax to use near 'PRIMARY PRIMARY KEY (`tuid`) USING BTREE' at line 1\")\n",
      "200 t_user (1064, \"You have an error in your SQL syntax; check the manual that corresponds to your MySQL server version for the right syntax to use near 'PRIMARY PRIMARY KEY (`userid`) USING BTREE' at line 1\")\n",
      "201 t_userrole (1064, \"You have an error in your SQL syntax; check the manual that corresponds to your MySQL server version for the right syntax to use near 'PRIMARY PRIMARY KEY (`userroleid`) USING BTREE' at line 1\")\n",
      "202 tablemenu (1064, \"You have an error in your SQL syntax; check the manual that corresponds to your MySQL server version for the right syntax to use near 'PRIMARY PRIMARY KEY (`id`) USING BTREE' at line 1\")\n",
      "203 telecombusinessofficesinfo (1064, \"You have an error in your SQL syntax; check the manual that corresponds to your MySQL server version for the right syntax to use near 'PRIMARY PRIMARY KEY (`id`) USING BTREE' at line 1\")\n",
      "204 test (1064, \"You have an error in your SQL syntax; check the manual that corresponds to your MySQL server version for the right syntax to use near 'PRIMARY PRIMARY KEY (`id`) USING BTREE' at line 1\")\n",
      "205 testsum (1064, \"You have an error in your SQL syntax; check the manual that corresponds to your MySQL server version for the right syntax to use near 'PRIMARY PRIMARY KEY (`id`) USING BTREE' at line 1\")\n",
      "206 tmp_country_list (1064, \"You have an error in your SQL syntax; check the manual that corresponds to your MySQL server version for the right syntax to use near 'PRIMARY PRIMARY KEY (`id`) USING BTREE' at line 1\")\n",
      "207 topic (1064, \"You have an error in your SQL syntax; check the manual that corresponds to your MySQL server version for the right syntax to use near 'PRIMARY PRIMARY KEY (`topicid`) USING BTREE' at line 1\")\n",
      "208 tttt2 (1064, \"You have an error in your SQL syntax; check the manual that corresponds to your MySQL server version for the right syntax to use near 'PRIMARY PRIMARY KEY (`id`) USING BTREE' at line 1\")\n",
      "209 tvinfo (1064, \"You have an error in your SQL syntax; check the manual that corresponds to your MySQL server version for the right syntax to use near 'PRIMARY PRIMARY KEY (`contentid`) USING BTREE' at line 1\")\n",
      "210 userid2iptable (1064, \"You have an error in your SQL syntax; check the manual that corresponds to your MySQL server version for the right syntax to use near 'PRIMARY PRIMARY KEY (`uid`) USING BTREE' at line 1\")\n",
      "211 users (1064, \"You have an error in your SQL syntax; check the manual that corresponds to your MySQL server version for the right syntax to use near 'PRIMARY PRIMARY KEY (`id`) USING BTREE' at line 1\")\n",
      "212 word (1064, \"You have an error in your SQL syntax; check the manual that corresponds to your MySQL server version for the right syntax to use near 'PRIMARY PRIMARY KEY (`wordid`) USING BTREE' at line 1\")\n",
      "213 wordclass (1064, \"You have an error in your SQL syntax; check the manual that corresponds to your MySQL server version for the right syntax to use near 'PRIMARY PRIMARY KEY (`wordclassid`) USING BTREE' at line 1\")\n",
      "214 wordclassinc (1064, \"You have an error in your SQL syntax; check the manual that corresponds to your MySQL server version for the right syntax to use near 'PRIMARY PRIMARY KEY (`id`) USING BTREE' at line 1\")\n",
      "215 wordclassmapping (1064, \"You have an error in your SQL syntax; check the manual that corresponds to your MySQL server version for the right syntax to use near 'PRIMARY PRIMARY KEY (`id`) USING BTREE' at line 1\")\n",
      "216 wordinc (1064, \"You have an error in your SQL syntax; check the manual that corresponds to your MySQL server version for the right syntax to use near 'PRIMARY PRIMARY KEY (`id`) USING BTREE' at line 1\")\n",
      "217 worditem (1064, \"You have an error in your SQL syntax; check the manual that corresponds to your MySQL server version for the right syntax to use near 'PRIMARY PRIMARY KEY (`id`) USING BTREE' at line 1\")\n",
      "218 worditeminc (1064, \"You have an error in your SQL syntax; check the manual that corresponds to your MySQL server version for the right syntax to use near 'PRIMARY PRIMARY KEY (`id`) USING BTREE' at line 1\")\n",
      "219 wordpat (1064, \"You have an error in your SQL syntax; check the manual that corresponds to your MySQL server version for the right syntax to use near 'PRIMARY PRIMARY KEY (`wordpatid`) USING BTREE' at line 1\")\n",
      "220 wordpatdistinct (1064, \"You have an error in your SQL syntax; check the manual that corresponds to your MySQL server version for the right syntax to use near 'PRIMARY PRIMARY KEY (`id`) USING BTREE' at line 1\")\n",
      "221 wordpatinc (1064, \"You have an error in your SQL syntax; check the manual that corresponds to your MySQL server version for the right syntax to use near 'PRIMARY PRIMARY KEY (`id`) USING BTREE' at line 1\")\n",
      "222 wordpatprecision (1064, \"You have an error in your SQL syntax; check the manual that corresponds to your MySQL server version for the right syntax to use near 'PRIMARY PRIMARY KEY (`wordpatid`) USING BTREE' at line 1\")\n",
      "223 worker (1064, \"You have an error in your SQL syntax; check the manual that corresponds to your MySQL server version for the right syntax to use near 'PRIMARY PRIMARY KEY (`workerid`) USING BTREE' at line 1\")\n",
      "224 workerrolerel (1064, \"You have an error in your SQL syntax; check the manual that corresponds to your MySQL server version for the right syntax to use near 'PRIMARY PRIMARY KEY (`id`) USING BTREE' at line 1\")\n",
      "225 xmlcategory (1064, \"You have an error in your SQL syntax; check the manual that corresponds to your MySQL server version for the right syntax to use near 'PRIMARY PRIMARY KEY (`xid`) USING BTREE' at line 1\")\n",
      "226 xmlpicture (1064, \"You have an error in your SQL syntax; check the manual that corresponds to your MySQL server version for the right syntax to use near 'PRIMARY PRIMARY KEY (`xid`) USING BTREE' at line 1\")\n"
     ]
    }
   ],
   "source": [
    "with conn.cursor() as cursor:\n",
    "    for i, table in enumerate(table_list):\n",
    "        try:\n",
    "            cursor.execute(f\"show create table `{table}`\")\n",
    "            a = cursor.fetchall()\n",
    "\n",
    "            b = [x.strip().rstrip(',') for x in a[0][1].split(\"\\n\")]\n",
    "            col_list = b[1:-1]\n",
    "\n",
    "            sql_list = []\n",
    "            for col in col_list:\n",
    "                split_col = col.split()\n",
    "                l_str = f\"ALTER TABLE `{table}` CHANGE \"\n",
    "                m_str = split_col[0] + f' {split_col[0].upper()} '\n",
    "                r_str = ' '.join(split_col[1:])\n",
    "                sql_list.append(l_str+m_str+r_str)\n",
    "\n",
    "            for sql in sql_list:\n",
    "                cursor.execute(sql)\n",
    "            print(i, table, \"成功\")\n",
    "        except Exception as e:\n",
    "            print(i, table, e)"
   ]
  },
  {
   "cell_type": "code",
   "execution_count": 29,
   "metadata": {},
   "outputs": [],
   "source": [
    "with conn.cursor() as cursor:\n",
    "    cursor.execute(f\"desc `infotemp`\")\n",
    "    res = cursor.fetchall()\n",
    "    info_common_attr = [col for col in res if not re.findall('ATTR\\d+', col[0], flags=re.I)]"
   ]
  },
  {
   "cell_type": "code",
   "execution_count": 30,
   "metadata": {},
   "outputs": [
    {
     "name": "stdout",
     "output_type": "stream",
     "text": "('SERVICEORPRODUCTINFOID', 'decimal(22,0)', 'YES', '', None, '')\n('SERVICEID', 'decimal(22,0)', 'YES', '', None, '')\n('STATUS', 'decimal(22,0)', 'YES', '', None, '')\n('SERVICE', 'varchar(200)', 'YES', '', None, '')\n('ABSTRACTID', 'varchar(200)', 'YES', '', None, '')\n('INSERTTIME', 'datetime', 'YES', '', None, '')\n('SERVICECLASSID', 'decimal(22,0)', 'YES', '', None, '')\n('DOCID', 'text', 'YES', '', None, '')\n('DOCVERSION', 'decimal(22,0)', 'YES', '', '0', '')\n('UPDATETIME', 'datetime', 'YES', '', None, '')\n('UPDATEAUTHORID', 'varchar(40)', 'YES', '', None, '')\n('FOREIGNFLAGPATHS', 'text', 'YES', '', None, '')\n('TEMPLATEID', 'decimal(22,0)', 'YES', '', None, '')\n('WEIGHT', 'decimal(22,0)', 'YES', '', None, '')\n('DANGWEIID', 'decimal(22,0)', 'YES', '', None, '')\n('RELTIME', 'datetime', 'YES', '', None, '')\n('EXPERTREMINDS', 'text', 'YES', '', None, '')\n('RICHEDIT', 'text', 'YES', '', None, '')\n('WEIGHTATTENTION', 'varchar(100)', 'YES', '', None, '')\n('WEIGHTTOP', 'varchar(100)', 'YES', '', None, '')\n('FORMALVERSION', 'decimal(22,0)', 'YES', '', None, '')\n('UNIVERSAL', 'decimal(22,0)', 'YES', '', None, '')\n('DOCNOTEDETAILS', 'text', 'YES', '', None, '')\n('DANGWEIENABLE', 'decimal(22,0)', 'YES', '', None, '')\n"
    }
   ],
   "source": [
    "for col in info_common_attr:\n",
    "    print(col)"
   ]
  },
  {
   "cell_type": "code",
   "execution_count": 37,
   "metadata": {},
   "outputs": [
    {
     "name": "stdout",
     "output_type": "stream",
     "text": "docchannel decimal(22,0) YES\ndocversion decimal(22,0) YES\ndoctype decimal(22,0) YES\ndoctitle text YES\ndocsource decimal(22,0) YES\ndocsecurity decimal(22,0) YES\ndocstatus decimal(22,0) YES\ndockind decimal(22,0) YES\ndocabstract text YES\ndockeywords varchar(400) YES\ndocrelwords text YES\ndocpeople varchar(400) YES\ndocplace varchar(400) YES\ndocauthor varchar(400) YES\ndoceditor varchar(100) YES\ndocauditor varchar(100) YES\ndocoutupid decimal(22,0) YES\ndocvalid datetime YES\ndocpuburl varchar(800) YES\ndocpubtime datetime YES\ndocreltime datetime YES\ncruser varchar(100) YES\ncrtime datetime YES\ndocwordscount decimal(22,0) YES\ndocpro decimal(22,0) YES\nrightdefined decimal(22,0) YES\ntitlecolor varchar(40) YES\ntemplateid decimal(22,0) YES\nschedule decimal(22,0) YES\ndocno text YES\ndocflag decimal(22,0) YES\neditor varchar(200) YES\nhitscount decimal(22,0) YES\nsubdoctitle varchar(1000) YES\nattachpic decimal(22,0) YES\ndoclink varchar(200) YES\ndocfilename varchar(100) YES\ndocfromversion decimal(22,0) YES\ndocparentid varchar(50) YES\nreplyflag decimal(22,0) YES\nreplycount decimal(22,0) YES\noperuser varchar(100) YES\nopertime datetime YES\nrandomserial varchar(200) YES\nblogid decimal(22,0) YES\nauthorname varchar(300) YES\nallowedrefering decimal(22,0) YES\nallowedcommenting decimal(22,0) YES\ncommentnum decimal(22,0) YES\ncategoryid decimal(22,0) YES\nreferernum decimal(22,0) YES\nreferer text YES\nviewingnum decimal(22,0) YES\nautodefault decimal(22,0) YES\nautoabstract decimal(22,0) YES\nisquoted decimal(22,0) YES\ntoptoall decimal(22,0) YES\naudited int(1) YES\npostuser varchar(50) YES\ndocsourcename varchar(100) YES\nflowoperationmark varchar(200) YES\nflowpreoperationmark varchar(200) YES\nflowoperationmaskenum text YES\nlastmemoid decimal(22,0) YES\nlifestatus decimal(22,0) YES\ncityids varchar(500) YES\nbrandids varchar(400) YES\ntargetcustomids varchar(400) YES\nshowtype decimal(22,0) YES\njifenshenqing text YES\nkuozhanziduan decimal(38,0) YES\ndoclevel decimal(22,0) YES\nkuozhanziduanceshi decimal(38,0) YES\nresitemid decimal(22,0) YES\nportalcatalog decimal(38,0) YES\ndocchannelpath_id varchar(400) YES\ndocchannelpath_name varchar(400) YES\nhotdoctype decimal(22,0) YES\ncommenddoctype decimal(22,0) YES\nsiteid decimal(22,0) YES\nserialno decimal(22,0) YES\nwfstatus decimal(22,0) YES\npreactid decimal(22,0) YES\nwfflag decimal(22,0) YES\noperttimedesc decimal(22,0) YES\nparentpath text YES\nfileextname varchar(400) YES\nappendixflag decimal(22,0) YES\ncallreasonflag decimal(22,0) YES\nrelusergroup text YES\ncruser_dept varchar(100) YES\nflow_status varchar(50) YES\nistohistorydb decimal(22,0) YES\nmarktotitle varchar(50) YES\nwfpasstime datetime YES\nisedited_after_pub decimal(22,0) YES\nwtfb decimal(22,0) YES\nkhzb varchar(100) YES\ndocprocesscityids varchar(500) YES\nftpfiletitle varchar(500) YES\nisimport decimal(22,0) YES\ndocorder decimal(22,0) YES\njqrfb decimal(22,0) YES\nvisible decimal(22,0) YES\nisemulterminal decimal(22,0) YES\nemulterminalpath varchar(300) YES\nfbqd varchar(100) YES\ncpjb varchar(100) YES\nzsly varchar(100) YES\nsykh varchar(100) YES\nsycp varchar(100) YES\njzlb varchar(100) YES\nckwj varchar(500) YES\nyylb varchar(100) YES\nwangtingpath varchar(400) YES\nmessageid varchar(100) YES\nsecrecydate datetime YES\nbusinessstatus decimal(22,0) YES\ndochtmlconstr longtext YES\ntc_finish_time datetime YES\ntc_end_time datetime YES\ntc_start_time datetime YES\ndoc_code varchar(500) YES\nserviceclassid decimal(22,0) YES\ndocdept varchar(400) YES\ndoccruser varchar(400) YES\ndockeywordss varchar(400) YES\nfbcityids varchar(1000) YES\ndocid varchar(100) YES\neditorcityid varchar(20) YES\ntoptime datetime YES\nkmsensure varchar(10) YES\nissuecityid varchar(20) YES\nnoticeswitch decimal(22,0) YES\napprovalprocess varchar(100) YES\ndocattentionswitch varchar(5) YES\ndocvaildstatus decimal(22,0) YES\ncrcityid varchar(20) YES\nstqcityids varchar(500) YES\ninserttime datetime YES\npureinternal decimal(22,0) YES\ndeleteauditstatus decimal(22,0) YES\nrobotvisible decimal(22,0) YES\nclassify decimal(22,0) YES\ncanbackversion decimal(22,0) YES\nusualmessage decimal(22,0) YES\n"
    }
   ],
   "source": [
    "with conn.cursor() as cursor:\n",
    "    cursor.execute(f\"desc `kmsdocument`\")\n",
    "    res = cursor.fetchall()\n",
    "    doc_common_attr = [col for col in res if 'ATTR' not in col[0]]\n",
    "\n",
    "for col in doc_common_attr:\n",
    "    print(col[0].lower(), col[1], col[2])"
   ]
  },
  {
   "cell_type": "code",
   "execution_count": 19,
   "metadata": {},
   "outputs": [
    {
     "name": "stdout",
     "output_type": "stream",
     "text": "Help on function findall in module re:\n\nfindall(pattern, string, flags=0)\n    Return a list of all non-overlapping matches in the string.\n    \n    If one or more capturing groups are present in the pattern, return\n    a list of groups; this will be a list of tuples if the pattern\n    has more than one group.\n    \n    Empty matches are included in the result.\n\n"
    }
   ],
   "source": [
    "help(re.findall)\n"
   ]
  },
  {
   "cell_type": "code",
   "execution_count": 36,
   "metadata": {},
   "outputs": [
    {
     "data": {
      "text/plain": "['attr12313']"
     },
     "execution_count": 36,
     "metadata": {},
     "output_type": "execute_result"
    }
   ],
   "source": [
    "re.findall('^ATTR\\d+$', 'attr12313', flags=re.I)"
   ]
  },
  {
   "cell_type": "code",
   "execution_count": 2,
   "metadata": {},
   "outputs": [],
   "source": [
    "html = \"\"\"<p class=\"MsoNormal\" style=\"margin:0cm 0cm 0.0001pt;text-align:justify;font-size:10.5pt;font-family:&quot;Times New Roman&quot;, serif;white-space:normal;text-indent:24pt;line-height:21px;\">\n",
    "\t<span lang=\"EN-US\" style=\"font-size:12pt;line-height:24px;font-family:&quot;Microsoft YaHei UI&quot;, sans-serif;\">21</span><span style=\"font-size:12pt;line-height:24px;font-family:&quot;Microsoft YaHei UI&quot;, sans-serif;\">世纪是一个以网络计算为核心的信息时代，数字化、网络化与信息化是其主要特征。生活的方方面面中都渗透着网络和信息技术，其中由计算机实现的信息管理系统尤为突出。目前，信息管理系统主要采用客户机<span lang=\"EN-US\">/</span>服务器结构（<span lang=\"EN-US\">C/S</span>）。<span lang=\"EN-US\">C/S</span>结构软件分为两层：客户端和服务器端。数据处理和数据存储是客户端的基本能力，经由计算机计算后将应用软件的各种数据分散储存在服务器和客户端，能够一定程度上减轻服务端的计算压力以及避免多余的网络流量。但这种结构只适用于少量用户的网络，因为其服务器连接数和数据流量较小，不能承担大量的用户交互。<span lang=\"EN-US\"><o:p></o:p></span></span>\n",
    "</p>\"\"\"\n",
    "\n",
    "x = re.sub('<[^<]+?>', '', html)"
   ]
  },
  {
   "cell_type": "code",
   "execution_count": 4,
   "metadata": {},
   "outputs": [
    {
     "name": "stdout",
     "output_type": "stream",
     "text": "\n\t21世纪是一个以网络计算为核心的信息时代，数字化、网络化与信息化是其主要特征。生活的方方面面中都渗透着网络和信息技术，其中由计算机实现的信息管理系统尤为突出。目前，信息管理系统主要采用客户机/服务器结构（C/S）。C/S结构软件分为两层：客户端和服务器端。数据处理和数据存储是客户端的基本能力，经由计算机计算后将应用软件的各种数据分散储存在服务器和客户端，能够一定程度上减轻服务端的计算压力以及避免多余的网络流量。但这种结构只适用于少量用户的网络，因为其服务器连接数和数据流量较小，不能承担大量的用户交互。\n\n"
    }
   ],
   "source": [
    "print(x)"
   ]
  },
  {
   "cell_type": "code",
   "execution_count": null,
   "metadata": {},
   "outputs": [],
   "source": []
  }
 ],
 "metadata": {
  "kernelspec": {
   "display_name": "python37",
   "language": "python",
   "name": "python37"
  },
  "language_info": {
   "codemirror_mode": {
    "name": "ipython",
    "version": 3
   },
   "file_extension": ".py",
   "mimetype": "text/x-python",
   "name": "python",
   "nbconvert_exporter": "python",
   "pygments_lexer": "ipython3",
   "version": "3.7.0-final"
  }
 },
 "nbformat": 4,
 "nbformat_minor": 4
}